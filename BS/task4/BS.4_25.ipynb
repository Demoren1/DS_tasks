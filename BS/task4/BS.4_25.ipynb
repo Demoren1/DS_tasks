{
  "cells": [
    {
      "cell_type": "markdown",
      "metadata": {
        "id": "1QO1QQ_j-FbS"
      },
      "source": [
        "# Байесовская статистика\n",
        "## Задание BS.4\n",
        "\n",
        "\n",
        "**Правила:**\n",
        "\n",
        "* Дедлайны см. в боте. После дедлайна работы не принимаются кроме случаев наличия уважительной причины.\n",
        "* Выполненную работу нужно отправить телеграм-боту `@miptstats_ds24_bot`. Для начала работы с ботом каждый раз отправляйте `/start`. **Работы, присланные иным способом, не принимаются.**\n",
        "* Дедлайны см. в боте. После дедлайна работы не принимаются кроме случаев наличия уважительной причины.\n",
        "* Прислать нужно **ноутбук в формате `ipynb`**.\n",
        "* Следите за размером файлов. **Бот не может принимать файлы весом более 20 Мб.** Если файл получается больше, заранее разделите его на несколько.\n",
        "* Выполнять задание необходимо полностью самостоятельно. **При обнаружении списывания все участники списывания будут сдавать устный зачет.**\n",
        "* Решения, размещенные на каких-либо интернет-ресурсах, не принимаются. Кроме того, публикация решения в открытом доступе может быть приравнена к предоставлении возможности списать.\n",
        "* Для выполнения задания используйте этот ноутбук в качестве основы, ничего не удаляя из него. Можно добавлять необходимое количество ячеек.\n",
        "* Комментарии к решению пишите в markdown-ячейках.\n",
        "* Выполнение задания (ход решения, выводы и пр.) должно быть осуществлено на русском языке.\n",
        "* Если код будет не понятен проверяющему, оценка может быть снижена.\n",
        "* Никакой код из данного задания при проверке запускаться не будет. *Если код студента не выполнен, недописан и т.д., то он не оценивается.*\n",
        "* В каждой задаче не забывайте делать **пояснения и выводы**.\n",
        "\n",
        "**Правила оформления теоретических задач:**\n",
        "\n",
        "* Решения необходимо прислать одним из следующих способов:\n",
        "  * фотографией в правильной ориентации, где все четко видно, а почерк разборчив,\n",
        "    * отправив ее как файл боту вместе с ноутбуком *или*\n",
        "    * вставив ее в ноутбук посредством `Edit -> Insert Image` (<font color=\"red\">фото, вставленные ссылкой, не принимаются</font>);\n",
        "  * в виде $LaTeX$ в markdown-ячейках.\n",
        "* Решения не проверяются, если какое-то требование не выполнено. Особенно внимательно все проверьте в случае выбора второго пункта (вставки фото в ноутбук). <font color=\"red\"><b>Неправильно вставленные фотографии могут не передаться при отправке.</b></font> Для проверки попробуйте переместить `ipynb` в другую папку и открыть его там.\n",
        "* В решениях поясняйте, чем вы пользуетесь, хотя бы кратко. Например, если пользуетесь независимостью, то достаточно подписи вида \"*X и Y незав.*\"\n",
        "* Решение, в котором есть только ответ, и отсутствуют вычисления, оценивается в 0 баллов.\n",
        "\n",
        "---\n",
        "\n",
        "**Баллы за задание:**\n",
        "\n",
        "* Задача 1 &mdash; 15 баллов\n",
        "* Задача 2 &mdash; 40 баллов\n",
        "* Задача 3 &mdash; 20 баллов\n",
        "* Задача 4 &mdash; 30 баллов\n",
        "* Задача 5 &mdash; 70 баллов\n",
        "---"
      ]
    },
    {
      "cell_type": "code",
      "execution_count": 156,
      "metadata": {
        "id": "hGr4rw6g-Hhr"
      },
      "outputs": [],
      "source": [
        "# Bot check\n",
        "\n",
        "# HW_ID: ds_bs4\n",
        "# Бот проверит этот ID и предупредит, если случайно сдать что-то не то.\n",
        "\n",
        "# Status: not final\n",
        "# Перед отправкой в финальном решении удали \"not\" в строчке выше.\n",
        "# Так бот проверит, что ты отправляешь финальную версию, а не промежуточную.\n",
        "# Никакие значения в этой ячейке не влияют на факт сдачи работы."
      ]
    },
    {
      "attachments": {
        "image.png": {
          "image/png": "[encoded data removed]"
        }
      },
      "cell_type": "markdown",
      "metadata": {},
      "source": [
        "__________________\n",
        "### Задача 1.\n",
        "\n",
        "Рассмотрим равномерное распределение на $A \\subset \\mathbb{R}^2$. Множество $A$ показано на рисунке закрашенными областями. Опишите процесс генерации выборки из этого распределения по схеме Гиббса или покажите, что это невозможно.\n",
        "\n",
        "![image.png](attachment:image.png)"
      ]
    },
    {
      "cell_type": "markdown",
      "metadata": {},
      "source": [
        "**Решение:**\n",
        "\n",
        "$\\square$\n",
        "\n",
        "Пусть $X^1 = (X_1^1, X_2^1)$ -- начальная выборка из A.\n",
        "\n",
        "Обозначим множества в порядке слева направо как $A_1$ и $A_2$.\n",
        "\n",
        "Тогда плотность имеет вид: $p(x) = \\frac{I(x \\in A_1 \\cup A_2)}{\\mu(A_1) + \\mu(A_2)}$\n",
        "\n",
        "Путь $X^1$ лежит в $A_1$.\n",
        "\n",
        "Найдем маргинальную плотность\n",
        "\n",
        "\\begin{aligned}\n",
        "    p(x_2) &= \\frac{1}{\\mu(A_1) + \\mu(A_2)} \\int_{A} I\\left( (x_1, x_2) \\in A_1 \\cup A_2 \\right) \\, dx_1 \\\\\n",
        "    &= \\frac{\\mu(\\{x_1 :  (x_1, x_2) \\in A_1 \\cup A_2\\}) }{\\mu(A_1) + \\mu(A_2)}\n",
        "\\end{aligned}\n",
        "\n",
        "Тогда условная плотность имеет вид:\n",
        "\\begin{aligned}\n",
        "    p(x_1|x_2) = \\frac{p(x_1, x_2)}{p(x_2)} &= \\frac{\\frac{I((x_1, x_2) \\in A_1 \\cup A_2)}{\\mu(A_1) + \\mu(A_2)}}{\\frac{\\mu(\\{x_1 :  (x_1, x_2) \\in A_1 \\cup A_2\\}) }{\\mu(A_1) + \\mu(A_2)}} \\\\\n",
        "    &= \\frac{I((x_1, x_2) \\in A_1 \\cup A_2)}{\\mu(\\{x_1: (x_1, x_2) \\in A_1 \\cup A_2\\})}\n",
        "\\end{aligned}\n",
        "\n",
        "\n",
        "Отсюда видим, что если мы попали в $A_1$, то вероятность попасть в $A_2$ равна нулю, так как их проекции не пересекаются.\n",
        "\n",
        "Значит метод Гиббса будет генерировать элементы только из $A_1$, что не является равномерной выборкой на А.\n",
        "\n",
        "**ОТВЕТ: НЕТ**\n",
        "\n",
        "$\\blacksquare$\n"
      ]
    },
    {
      "cell_type": "code",
      "execution_count": 157,
      "metadata": {},
      "outputs": [
        {
          "name": "stdout",
          "output_type": "stream",
          "text": [
            "PyMC v5.22.0\n"
          ]
        }
      ],
      "source": [
        "import numpy as np\n",
        "import pandas as pd\n",
        "import seaborn as sns\n",
        "import scipy.stats as sps\n",
        "import matplotlib.pyplot as plt\n",
        "\n",
        "import pymc as pm\n",
        "from functools import partial\n",
        "\n",
        "red = '#FF3300'\n",
        "blue = '#0099CC'\n",
        "green = '#00CC66'\n",
        "\n",
        "sns.set(style='darkgrid', font_scale=1.3, palette='Set2')\n",
        "print('PyMC v{}'.format(pm.__version__))\n",
        "\n",
        "from tqdm.notebook import tqdm"
      ]
    },
    {
      "cell_type": "markdown",
      "metadata": {
        "id": "e0V4n0yl_E_L"
      },
      "source": [
        "---\n",
        "### Задача 2.\n",
        "\n",
        "Дано распределение на $\\mathbb{R}^2$ с плотностью\n",
        "$$p(x, y) = c\\:\\frac{\\left|\\sin(x+y)\\right|\\:\\exp\\left(-\\left.|x|\\right/10+\\cos y\\right)}{1+\\left.|xy|\\right/10},$$\n",
        "\n",
        "где $c\\in \\mathbb{R}_+$ &mdash; некоторое число.\n",
        "\n",
        "Сгенерируйте из него выборку размера $n=2000$ с помощью\n",
        "* метода Rejection sampling,\n",
        "* схемы Метрополиса-Хастингса.\n",
        "\n",
        "В каждом случае нарисуйте ядерную оценку плотности полученной выборки и сравните ее с истинной плотностью.\n",
        "\n",
        "<font color=\"red\"><b>Замечания:</b></font>\n",
        "    \n",
        "1. Вместо $\\mathbb{R}^2$ можно рассматривать только квадрат $[-10, 10]^2$.\n",
        "2. Учтите, что схема Метрополиса-Хастингса требует настройки цепи на начальных итерациях, то есть около 1000 первых итераций необходимо отбросить. Кроме того, если требуется сгенерировать именно выборку, в которой элементы независимы, из полученной траектории стоит брать каждый $k$-й элемент, где $k$ хотя бы 10.\n",
        "3. При сравнении методов учтите, что метод Rejection sampling может отвергать точки, в то время как в схеме Метрополиса-Хастингса точка добавляется на каждой итерации (повторяется или берется новая).\n",
        "4. Процедуры семплирования необходимо реализовать самостоятельно.\n",
        "\n",
        "По сгенерированной выборке оцените для данного распределения математическое ожидание и матрицу ковариаций."
      ]
    },
    {
      "cell_type": "code",
      "execution_count": 158,
      "metadata": {},
      "outputs": [],
      "source": [
        "def visualize_distribution(samples, labels, title=\"Распределение выборок\", alpha=0.5):\n",
        "    if len(samples) != len(labels):\n",
        "        raise ValueError(\"Количество выборок должно быть равно количеству меток.\")\n",
        "\n",
        "    plt.figure(figsize=(10, 6))\n",
        "\n",
        "    for sample, label in zip(samples, labels):\n",
        "        x = np.array([s[0] for s in sample])\n",
        "        y = np.array([s[1] for s in sample])\n",
        "        density_values = np.array([s[2] for s in sample])\n",
        "\n",
        "        sns.kdeplot(x=x, y=y, fill=True, alpha=alpha, label=label)\n",
        "\n",
        "        x_grid, y_grid = np.meshgrid(\n",
        "            np.linspace(x.min(), x.max(), int(len(x) ** 0.5)),\n",
        "            np.linspace(y.min(), y.max(), int(len(y) ** 0.5)),\n",
        "        )\n",
        "\n",
        "        z_grid = np.array([density_values[i] for i in range(len(sample))])\n",
        "        z_grid = z_grid.reshape(x_grid.shape)\n",
        "\n",
        "        plt.contourf(y_grid, x_grid, z_grid, levels=10, alpha=alpha)\n",
        "    plt.colorbar()\n",
        "    plt.title(title, fontsize=16)\n",
        "    plt.xlabel(\"x\", fontsize=12)\n",
        "    plt.ylabel(\"y\", fontsize=12)\n",
        "    plt.grid(True)\n",
        "    plt.legend()\n",
        "\n",
        "    plt.show()"
      ]
    },
    {
      "cell_type": "code",
      "execution_count": 159,
      "metadata": {},
      "outputs": [],
      "source": [
        "def plot_2d_density(data, cmap=\"Blues\", thresh=0.1, title=\"Density Plot\"):\n",
        "    if data.shape[1] != 2:\n",
        "        raise ValueError(\"Данные должны быть размерности (n_samples, 2), т.е. пара точек (x, y).\")\n",
        "\n",
        "    sns.kdeplot(x=data[:, 0], y=data[:, 1], cmap=cmap, fill=True, thresh=thresh)\n",
        "\n",
        "    plt.title(title)\n",
        "    plt.xlabel(\"X\")\n",
        "    plt.ylabel(\"Y\")\n",
        "    plt.xlim([-15, 15])\n",
        "    plt.ylim([-15, 15])\n",
        "    plt.show()"
      ]
    },
    {
      "cell_type": "code",
      "execution_count": 160,
      "metadata": {},
      "outputs": [],
      "source": [
        "def task_density(x, y, c):\n",
        "    numerator = c * (np.abs(np.sin(x + y)) * np.exp(-np.abs(x) / 10 + np.cos(y)))\n",
        "    denominator = 1 + np.abs(x * y) / 10\n",
        "\n",
        "    return numerator / denominator\n",
        "\n",
        "def generate_sample(n, c, density=None):\n",
        "    result = []\n",
        "    grid_x = np.linspace(-10, 10, n)\n",
        "    grid_y = np.linspace(-10, 10, n)\n",
        "    for x in tqdm(grid_x):\n",
        "        for y in grid_y:\n",
        "            if density is None:\n",
        "                result.append([x, y, task_density(x, y, c)])\n",
        "            else:\n",
        "                result.append([x, y, density([x, y])])\n",
        "\n",
        "    return np.array(result)"
      ]
    },
    {
      "cell_type": "code",
      "execution_count": 161,
      "metadata": {},
      "outputs": [
        {
          "data": {
            "application/vnd.jupyter.widget-view+json": {
              "model_id": "4bf0de716ac5456a821f52244bac92c4",
              "version_major": 2,
              "version_minor": 0
            },
            "text/plain": [
              "  0%|          | 0/45 [00:00<?, ?it/s]"
            ]
          },
          "metadata": {},
          "output_type": "display_data"
        },
        {
          "data": {
            "text/plain": [
              "2025"
            ]
          },
          "execution_count": 161,
          "metadata": {},
          "output_type": "execute_result"
        }
      ],
      "source": [
        "c = 1\n",
        "n = int(np.sqrt(2048))\n",
        "\n",
        "sample = generate_sample(n, c)\n",
        "len(sample)"
      ]
    },
    {
      "cell_type": "code",
      "execution_count": 162,
      "metadata": {},
      "outputs": [
        {
          "name": "stderr",
          "output_type": "stream",
          "text": [
            "/tmp/ipykernel_34432/1757801492.py:28: UserWarning: No artists with labels found to put in legend.  Note that artists whose label start with an underscore are ignored when legend() is called with no argument.\n",
            "  plt.legend()\n"
          ]
        },
        {
          "data": {
            "image/png": "[encoded data removed]",
            "text/plain": [
              "<Figure size 1000x600 with 2 Axes>"
            ]
          },
          "metadata": {},
          "output_type": "display_data"
        }
      ],
      "source": [
        "visualize_distribution(\n",
        "    [sample],\n",
        "    [\"Оригинальная выборка\"],\n",
        "    title=\"Распределение оригинальной выборки\",\n",
        "    alpha=0.5,\n",
        ")"
      ]
    },
    {
      "cell_type": "code",
      "execution_count": 163,
      "metadata": {},
      "outputs": [
        {
          "name": "stdout",
          "output_type": "stream",
          "text": [
            "Мат ожидание: [ 0. -0.]\n"
          ]
        }
      ],
      "source": [
        "expectation = np.mean(sample[:, 0:2] * sample[:, 2:3], axis=0)\n",
        "print(f\"Мат ожидание: {expectation.round(3)}\")"
      ]
    },
    {
      "cell_type": "code",
      "execution_count": 164,
      "metadata": {},
      "outputs": [
        {
          "name": "stdout",
          "output_type": "stream",
          "text": [
            "Ковариационная матрица:\n",
            " [[18.25457047  0.07550094]\n",
            " [ 0.07550094 21.24858071]]\n"
          ]
        }
      ],
      "source": [
        "def weighted_covariance(X, w):\n",
        "    w = w.reshape(-1, 1)\n",
        "    w_norm = w / np.sum(w)\n",
        "    mean = np.sum(X * w_norm, axis=0, keepdims=True)\n",
        "    X_centered = X - mean\n",
        "    cov_matrix = (w_norm * X_centered).T @ X_centered\n",
        "    return cov_matrix\n",
        "\n",
        "cov = weighted_covariance(sample[:, 0:2], sample[:, 2:3])\n",
        "print(\"Ковариационная матрица:\\n\", cov)"
      ]
    },
    {
      "cell_type": "markdown",
      "metadata": {},
      "source": [
        "1) Rejection sampling"
      ]
    },
    {
      "cell_type": "code",
      "execution_count": null,
      "metadata": {
        "id": "BG4i1XE_-uqK"
      },
      "outputs": [
        {
          "data": {
            "application/vnd.jupyter.widget-view+json": {
              "model_id": "4394b48a031645d7a09addbfd3717d16",
              "version_major": 2,
              "version_minor": 0
            },
            "text/plain": [
              "  0%|          | 0/45 [00:00<?, ?it/s]"
            ]
          },
          "metadata": {},
          "output_type": "display_data"
        }
      ],
      "source": [
        "std = 10\n",
        "rejection_distr = sps.multivariate_normal(mean=[0, 0], cov=[[std, 0], [0, std]])\n",
        "rejection_sample = generate_sample(n, c, rejection_distr.pdf)"
      ]
    },
    {
      "cell_type": "markdown",
      "metadata": {},
      "source": [
        "Проверим выполнение условий"
      ]
    },
    {
      "cell_type": "code",
      "execution_count": 166,
      "metadata": {},
      "outputs": [
        {
          "data": {
            "text/plain": [
              "True"
            ]
          },
          "execution_count": 166,
          "metadata": {},
          "output_type": "execute_result"
        }
      ],
      "source": [
        "np.all(2e4 * rejection_sample[:, 2] > sample[:, 2])"
      ]
    },
    {
      "cell_type": "markdown",
      "metadata": {},
      "source": [
        "Видим, что подходит константа:"
      ]
    },
    {
      "cell_type": "code",
      "execution_count": 167,
      "metadata": {},
      "outputs": [],
      "source": [
        "rej_const = 2e4"
      ]
    },
    {
      "cell_type": "code",
      "execution_count": 168,
      "metadata": {},
      "outputs": [],
      "source": [
        "def rejection_sampling(n, q, p, c, rej_const):\n",
        "    sample = []\n",
        "    M = rej_const\n",
        "    while len(sample) < n**2:\n",
        "        print(f\"sample size: {len(sample)}\", end=\"\\r\")\n",
        "        y = q.rvs(size=1)\n",
        "        if not (-10 < y[0] and y[0] < 10 and -10 < y[1] and y[1] < 10):\n",
        "            continue\n",
        "        q_y = q.pdf(y)\n",
        "        p_y = p(*y, c)\n",
        "        \n",
        "        # Вычисление alpha\n",
        "        alpha = p_y / (M * q_y)\n",
        "        if alpha > 1:\n",
        "            continue\n",
        "\n",
        "        u = np.random.uniform(0, 1)\n",
        "        if u <= alpha:\n",
        "            sample.append([*y])\n",
        "    return np.array(sample)"
      ]
    },
    {
      "cell_type": "code",
      "execution_count": 169,
      "metadata": {},
      "outputs": [
        {
          "name": "stdout",
          "output_type": "stream",
          "text": [
            "sample size: 2024\r"
          ]
        }
      ],
      "source": [
        "rejection_sample = rejection_sampling(n, rejection_distr, task_density, c, rej_const)"
      ]
    },
    {
      "cell_type": "code",
      "execution_count": 170,
      "metadata": {},
      "outputs": [],
      "source": [
        "rej_density = task_density(rejection_sample[:, 0], rejection_sample[:, 1], c)"
      ]
    },
    {
      "cell_type": "code",
      "execution_count": 171,
      "metadata": {},
      "outputs": [
        {
          "name": "stdout",
          "output_type": "stream",
          "text": [
            "Матожидание Rejecting sampling:[-0.033 -0.042]\n",
            "Ковариационная матрица:\n",
            " [[1.1047e+01 1.5000e-02]\n",
            " [1.5000e-02 1.5824e+01]]\n"
          ]
        }
      ],
      "source": [
        "rej_expectation = np.mean(rejection_sample[:, 0:2] * rej_density.reshape(-1, 1), axis=0)\n",
        "print(f\"Матожидание Rejecting sampling:{rej_expectation.round(3)}\")\n",
        "cov = weighted_covariance(rejection_sample[:, 0:2], rej_density.reshape(-1, 1))\n",
        "print(\"Ковариационная матрица:\\n\", cov.round(3))"
      ]
    },
    {
      "cell_type": "code",
      "execution_count": 172,
      "metadata": {},
      "outputs": [
        {
          "data": {
            "image/png": "[encoded data removed]",
            "text/plain": [
              "<Figure size 640x480 with 1 Axes>"
            ]
          },
          "metadata": {},
          "output_type": "display_data"
        }
      ],
      "source": [
        "plot_2d_density(rejection_sample, title=\"Rejecting sampling\")"
      ]
    },
    {
      "cell_type": "markdown",
      "metadata": {},
      "source": [
        "Видим, что ядерная оценка закрышивает промежуток по горизонтали, которого нет в оригинальном распределении."
      ]
    },
    {
      "cell_type": "markdown",
      "metadata": {},
      "source": [
        "2. Метод Метрополиса-Хатчиса."
      ]
    },
    {
      "cell_type": "markdown",
      "metadata": {},
      "source": [
        "В качестве апостериорного возьмем стандартное нормальное многомерное распределение."
      ]
    },
    {
      "cell_type": "code",
      "execution_count": 173,
      "metadata": {},
      "outputs": [],
      "source": [
        "def Metropolis_Hastings(n, p, c):\n",
        "    warm_iterations = 1000\n",
        "    sample = []\n",
        "    counter = 0\n",
        "    x_prev = [0, 0]\n",
        "    cov = [[1, 0], [0, 1]]\n",
        "    while len(sample) < n**2:\n",
        "        print(f\"conuter: {len(sample)} / {n ** 2}\", end=\"\\r\")\n",
        "\n",
        "        y = sps.multivariate_normal(mean=x_prev, cov=cov).rvs(size=1)\n",
        "\n",
        "        numerator = sps.multivariate_normal(mean=y, cov=cov).pdf(x_prev) * p(*y, c)\n",
        "        denominator = (\n",
        "            sps.multivariate_normal(mean=x_prev, cov=cov).pdf(y) * p(*x_prev, c) + 1e-15\n",
        "        )\n",
        "        fraction = numerator / denominator\n",
        "        prob = np.random.binomial(n=1, p=np.min([1, fraction]))\n",
        "        if prob == 1:\n",
        "            x_prev = y\n",
        "        counter += 1\n",
        "\n",
        "        if counter > warm_iterations and np.all(np.abs(x_prev) < 10):\n",
        "            sample.append(x_prev)\n",
        "    return np.array(sample)"
      ]
    },
    {
      "cell_type": "code",
      "execution_count": 174,
      "metadata": {},
      "outputs": [
        {
          "name": "stdout",
          "output_type": "stream",
          "text": [
            "conuter: 8099 / 8100\r"
          ]
        }
      ],
      "source": [
        "MH_sample = Metropolis_Hastings(n*2, task_density, c)"
      ]
    },
    {
      "cell_type": "code",
      "execution_count": 175,
      "metadata": {},
      "outputs": [
        {
          "data": {
            "image/png": "[encoded data removed]",
            "text/plain": [
              "<Figure size 640x480 with 1 Axes>"
            ]
          },
          "metadata": {},
          "output_type": "display_data"
        }
      ],
      "source": [
        "plot_2d_density(MH_sample[::10], title=\"MH sampling\")"
      ]
    },
    {
      "cell_type": "code",
      "execution_count": 176,
      "metadata": {},
      "outputs": [
        {
          "name": "stdout",
          "output_type": "stream",
          "text": [
            "Матожидание MH sampling: [ 0.065 -0.139]\n",
            "Ковариационная матрица:\n",
            " [[ 9.968 -0.292]\n",
            " [-0.292 15.302]]\n"
          ]
        }
      ],
      "source": [
        "MH_density = task_density(MH_sample[:, 0], MH_sample[:, 1], c)\n",
        "\n",
        "MH_expectation = np.mean(MH_sample[:, 0:2] * MH_density.reshape(-1, 1), axis=0)\n",
        "print(f\"Матожидание MH sampling: {MH_expectation.round(3)}\")\n",
        "\n",
        "MH_cov = weighted_covariance(MH_sample[:, 0:2], MH_density.reshape(-1, 1))\n",
        "print(\"Ковариационная матрица:\\n\", MH_cov.round(3))"
      ]
    },
    {
      "cell_type": "markdown",
      "metadata": {},
      "source": [
        "Видим, что распределение почти совпадает с исходным. "
      ]
    },
    {
      "cell_type": "markdown",
      "metadata": {},
      "source": [
        "**Вывод**\n",
        "\n",
        "Нам удалось добиться хорошего совпадения для Rejecting sampling и Метрополиса-Хастингса.\n",
        "\n",
        "Благодоря отвержениям в Rejecting sampling выборка получилась чуть лучше."
      ]
    },
    {
      "cell_type": "markdown",
      "metadata": {
        "id": "51MHsk16_u1A"
      },
      "source": [
        "---\n",
        "### Задача 3.\n",
        "\n",
        "Для описанных ниже задач опишите математическую модель, постройте ее с помощью PyMC и ответьте на вопросы, используя семплирование."
      ]
    },
    {
      "cell_type": "markdown",
      "metadata": {
        "id": "p0ovBPrRAxTc"
      },
      "source": [
        "1. Будем считать, что количество забитых голов некоторой команды в футбольном матче имеет пуассоновское распределение с параметром $\\lambda$. На этот параметр задано априорное распределение $\\Gamma(1.4, 1)$.\n",
        "\n",
        "  За первый матч команде удалось забить 4 гола. Оцените апостериорный параметр $\\lambda$. Какова вероятность того, что в следующем матче голов будет не меньше?"
      ]
    },
    {
      "cell_type": "code",
      "execution_count": 177,
      "metadata": {
        "id": "v08oTVMDBpLt"
      },
      "outputs": [
        {
          "name": "stderr",
          "output_type": "stream",
          "text": [
            "Initializing NUTS using jitter+adapt_diag...\n",
            "Multiprocess sampling (4 chains in 4 jobs)\n",
            "NUTS: [lambda]\n"
          ]
        },
        {
          "data": {
            "application/vnd.jupyter.widget-view+json": {
              "model_id": "b4fdec4248ab42948fa72078ac27dac9",
              "version_major": 2,
              "version_minor": 0
            },
            "text/plain": [
              "Output()"
            ]
          },
          "metadata": {},
          "output_type": "display_data"
        },
        {
          "data": {
            "text/html": [
              "<pre style=\"white-space:pre;overflow-x:auto;line-height:normal;font-family:Menlo,'DejaVu Sans Mono',consolas,'Courier New',monospace\"></pre>\n"
            ],
            "text/plain": []
          },
          "metadata": {},
          "output_type": "display_data"
        },
        {
          "data": {
            "text/html": [
              "<pre style=\"white-space:pre;overflow-x:auto;line-height:normal;font-family:Menlo,'DejaVu Sans Mono',consolas,'Courier New',monospace\">\n",
              "</pre>\n"
            ],
            "text/plain": [
              "\n"
            ]
          },
          "metadata": {},
          "output_type": "display_data"
        },
        {
          "name": "stderr",
          "output_type": "stream",
          "text": [
            "Sampling 4 chains for 500 tune and 1_000 draw iterations (2_000 + 4_000 draws total) took 5 seconds.\n"
          ]
        }
      ],
      "source": [
        "with pm.Model() as model:\n",
        "    lambda_ = pm.Gamma(\"lambda\", alpha=1.4, beta=1)\n",
        "    obs = pm.Poisson(\"goals\", mu=lambda_, observed=4)\n",
        "    \n",
        "    trace = pm.sample(1000, tune=500, cores=4, random_seed=42)"
      ]
    },
    {
      "cell_type": "code",
      "execution_count": 178,
      "metadata": {},
      "outputs": [
        {
          "name": "stdout",
          "output_type": "stream",
          "text": [
            "Вероятность забить не меньше 4 голов: 0.286\n"
          ]
        }
      ],
      "source": [
        "lambda_samples = trace.posterior[\"lambda\"].values.flatten()\n",
        "probs = 1 - sps.poisson.cdf(3, mu=lambda_samples)\n",
        "estimate = probs.mean()\n",
        "print(f\"Вероятность забить не меньше 4 голов: {estimate:.3f}\")"
      ]
    },
    {
      "cell_type": "markdown",
      "metadata": {
        "id": "bS0EvSSkBpps"
      },
      "source": [
        "2. Хотим посчитать количество медведей в лесу. Сначала поймали 23, поставили метку и отпустили. Через какое-то время поймали 19 медведей, из которых с меткой оказалось 4. Какое апостериорное распределение параметра &mdash; числа медведей?\n",
        "\n",
        "  В качестве априорного используйте равномерное распределение на отрезке от 50 до 500\n",
        "\n",
        "*Замечание:* https://en.wikipedia.org/wiki/Hypergeometric_distribution"
      ]
    },
    {
      "cell_type": "code",
      "execution_count": 179,
      "metadata": {},
      "outputs": [
        {
          "name": "stderr",
          "output_type": "stream",
          "text": [
            "Multiprocess sampling (4 chains in 4 jobs)\n",
            "Metropolis: [N]\n"
          ]
        },
        {
          "data": {
            "application/vnd.jupyter.widget-view+json": {
              "model_id": "43350078cfa045299dc2390348959f02",
              "version_major": 2,
              "version_minor": 0
            },
            "text/plain": [
              "Output()"
            ]
          },
          "metadata": {},
          "output_type": "display_data"
        },
        {
          "data": {
            "text/html": [
              "<pre style=\"white-space:pre;overflow-x:auto;line-height:normal;font-family:Menlo,'DejaVu Sans Mono',consolas,'Courier New',monospace\"></pre>\n"
            ],
            "text/plain": []
          },
          "metadata": {},
          "output_type": "display_data"
        },
        {
          "data": {
            "text/html": [
              "<pre style=\"white-space:pre;overflow-x:auto;line-height:normal;font-family:Menlo,'DejaVu Sans Mono',consolas,'Courier New',monospace\">\n",
              "</pre>\n"
            ],
            "text/plain": [
              "\n"
            ]
          },
          "metadata": {},
          "output_type": "display_data"
        },
        {
          "name": "stderr",
          "output_type": "stream",
          "text": [
            "Sampling 4 chains for 500 tune and 1_000 draw iterations (2_000 + 4_000 draws total) took 3 seconds.\n"
          ]
        }
      ],
      "source": [
        "with pm.Model() as second_model:\n",
        "    uniform_aprior = pm.DiscreteUniform(\"N\", lower=50, upper=500)\n",
        "    catched = pm.HyperGeometric(\"Bears\", N=uniform_aprior, k=23, n=19, observed=4)\n",
        "\n",
        "    trace = pm.sample(1000, tune=500, cores=4, random_seed=42)"
      ]
    },
    {
      "cell_type": "code",
      "execution_count": 180,
      "metadata": {},
      "outputs": [
        {
          "name": "stdout",
          "output_type": "stream",
          "text": [
            "Среднее число медведей: 172.27\n",
            "95% доверительный интервал: [69.0, 405.0]\n"
          ]
        }
      ],
      "source": [
        "mean_bears = np.mean(trace.posterior[\"N\"].values)\n",
        "print(f\"Среднее число медведей: {mean_bears:.2f}\")\n",
        "\n",
        "# 95% доверительный интервал (апостериорный)\n",
        "ci_lower, ci_upper = np.percentile(trace.posterior[\"N\"].values, [2.5, 97.5])\n",
        "print(f\"95% доверительный интервал: [{ci_lower}, {ci_upper}]\")"
      ]
    },
    {
      "cell_type": "code",
      "execution_count": 181,
      "metadata": {},
      "outputs": [
        {
          "data": {
            "text/plain": [
              "<Axes: title={'center': 'N'}>"
            ]
          },
          "execution_count": 181,
          "metadata": {},
          "output_type": "execute_result"
        },
        {
          "data": {
            "image/png": "[encoded data removed]",
            "text/plain": [
              "<Figure size 640x480 with 1 Axes>"
            ]
          },
          "metadata": {},
          "output_type": "display_data"
        }
      ],
      "source": [
        "pm.plot_posterior(trace, linewidth=2, hdi_prob=0.95)"
      ]
    },
    {
      "cell_type": "markdown",
      "metadata": {},
      "source": [
        "**Выводы:**\n",
        "\n",
        "При помощи PyMC мы решили задачи, на которые иначе пришлось бы потратить достаточно много времени. Также хочется отметить удобство его использования"
      ]
    },
    {
      "cell_type": "markdown",
      "metadata": {},
      "source": [
        "----\n",
        "\n",
        "### Задача 4.\n",
        "\n",
        "На занятии мы посмотрели на зависимость апостериорной вероятности $\\mathsf{P}(\\theta_1 < \\theta_2\\ |\\ X, Y)$ от истинного эффекта. Исследуйте, как эта вероятность меняется при изменении размера выборки. Начиная с какого размера выборки эта вероятность становится больше 80% при истинном относительном эффекте 5%?"
      ]
    },
    {
      "cell_type": "code",
      "execution_count": 182,
      "metadata": {},
      "outputs": [],
      "source": [
        "def bayesian_testing(\n",
        "    prior_distr,\n",
        "    sample_distr, shift_parameter,\n",
        "    sample_x, sample_y,\n",
        "    trace_size=2000, tune_size=500, cores_count=4,\n",
        "    draw_trace=True, draw_posterior=True,\n",
        "    returns=[]\n",
        "    ):\n",
        "    '''\n",
        "    :param prior_distr: априорное распределение theta, функция со свободным параметром name\n",
        "    :param sample_distr: распределение выборки, функция со свободными параметрами name, observed и параметром сдвига\n",
        "    :param shift_parameter: название параметра сдвига из документации функции распределения (напр., 'mu')\n",
        "    :param sample_x, sample_y: выборки двух групп\n",
        "    :param trace_size, tune_size, cores_count: параметры генерации для PyMC\n",
        "    :param draw_trace, draw_posterior: рисовать ли соответствующие графики\n",
        "    :param returns: какие сгенерированные величины возвращать\n",
        "    '''\n",
        "\n",
        "    with pm.Model() as model:\n",
        "        theta_1 = prior_distr('theta_1')\n",
        "        theta_2 = prior_distr('theta_2')\n",
        "\n",
        "        group1 = sample_distr('x', observed=sample_x, **{shift_parameter: theta_1})\n",
        "        group2 = sample_distr('y', observed=sample_y, **{shift_parameter: theta_2})\n",
        "\n",
        "        diff_of_means = pm.Deterministic('theta_1-theta_2', \n",
        "                                        theta_1 - theta_2)    \n",
        "        real_of_means = pm.Deterministic('(theta_1-theta_2)/theta_2', \n",
        "                                        (theta_1 - theta_2)/theta_2)\n",
        "        prob_h0 = pm.Deterministic('theta_1<theta_2', \n",
        "                                  theta_1<theta_2)\n",
        "\n",
        "        trace = pm.sample(trace_size, tune=tune_size, cores=cores_count, progressbar=False)\n",
        "\n",
        "        if draw_trace:\n",
        "            pm.plot_trace(trace, var_names=['theta_1', 'theta_2']);\n",
        "\n",
        "        if draw_posterior:\n",
        "            pm.plot_posterior(\n",
        "                trace, \n",
        "                var_names=['theta_1','theta_2', 'theta_1-theta_2', '(theta_1-theta_2)/theta_2', 'theta_1<theta_2'],\n",
        "                hdi_prob=0.95,\n",
        "                linewidth=5,\n",
        "                figsize=(10, 5),\n",
        "                textsize=12\n",
        "            );\n",
        "\n",
        "        return [trace.posterior[val].values.mean() for val in returns]\n",
        "\n",
        "def generate_normal(size=1, loc=0, scale=1):\n",
        "    return sps.norm(loc=loc, scale=scale).rvs(size)\n",
        "\n",
        "def generate_student_t(size=1, loc=0, scale=1, df=1):\n",
        "    return sps.t(df, loc=loc, scale=scale).rvs(size)"
      ]
    },
    {
      "cell_type": "code",
      "execution_count": 183,
      "metadata": {},
      "outputs": [],
      "source": [
        "size = 1000\n",
        "scale = 5\n",
        "effect = 0.05\n",
        "loc = 100"
      ]
    },
    {
      "cell_type": "code",
      "execution_count": 184,
      "metadata": {},
      "outputs": [
        {
          "data": {
            "application/vnd.jupyter.widget-view+json": {
              "model_id": "b92c1299a4ff47528fa0a3f8afa83fa0",
              "version_major": 2,
              "version_minor": 0
            },
            "text/plain": [
              "  0%|          | 0/20 [00:00<?, ?it/s]"
            ]
          },
          "metadata": {},
          "output_type": "display_data"
        },
        {
          "name": "stderr",
          "output_type": "stream",
          "text": [
            "Initializing NUTS using jitter+adapt_diag...\n",
            "Multiprocess sampling (4 chains in 4 jobs)\n",
            "NUTS: [theta_1, theta_2]\n",
            "Sampling 4 chains for 500 tune and 2_000 draw iterations (2_000 + 8_000 draws total) took 9 seconds.\n",
            "Initializing NUTS using jitter+adapt_diag...\n",
            "Multiprocess sampling (4 chains in 4 jobs)\n",
            "NUTS: [theta_1, theta_2]\n",
            "Sampling 4 chains for 500 tune and 2_000 draw iterations (2_000 + 8_000 draws total) took 7 seconds.\n",
            "Initializing NUTS using jitter+adapt_diag...\n",
            "Multiprocess sampling (4 chains in 4 jobs)\n",
            "NUTS: [theta_1, theta_2]\n",
            "Sampling 4 chains for 500 tune and 2_000 draw iterations (2_000 + 8_000 draws total) took 7 seconds.\n",
            "Initializing NUTS using jitter+adapt_diag...\n",
            "Multiprocess sampling (4 chains in 4 jobs)\n",
            "NUTS: [theta_1, theta_2]\n",
            "Sampling 4 chains for 500 tune and 2_000 draw iterations (2_000 + 8_000 draws total) took 6 seconds.\n",
            "Initializing NUTS using jitter+adapt_diag...\n",
            "Multiprocess sampling (4 chains in 4 jobs)\n",
            "NUTS: [theta_1, theta_2]\n",
            "Sampling 4 chains for 500 tune and 2_000 draw iterations (2_000 + 8_000 draws total) took 5 seconds.\n",
            "Initializing NUTS using jitter+adapt_diag...\n",
            "Multiprocess sampling (4 chains in 4 jobs)\n",
            "NUTS: [theta_1, theta_2]\n",
            "Sampling 4 chains for 500 tune and 2_000 draw iterations (2_000 + 8_000 draws total) took 10 seconds.\n",
            "Initializing NUTS using jitter+adapt_diag...\n",
            "Multiprocess sampling (4 chains in 4 jobs)\n",
            "NUTS: [theta_1, theta_2]\n",
            "Sampling 4 chains for 500 tune and 2_000 draw iterations (2_000 + 8_000 draws total) took 10 seconds.\n",
            "Initializing NUTS using jitter+adapt_diag...\n",
            "Multiprocess sampling (4 chains in 4 jobs)\n",
            "NUTS: [theta_1, theta_2]\n",
            "Sampling 4 chains for 500 tune and 2_000 draw iterations (2_000 + 8_000 draws total) took 8 seconds.\n",
            "Initializing NUTS using jitter+adapt_diag...\n",
            "Multiprocess sampling (4 chains in 4 jobs)\n",
            "NUTS: [theta_1, theta_2]\n",
            "Sampling 4 chains for 500 tune and 2_000 draw iterations (2_000 + 8_000 draws total) took 6 seconds.\n",
            "Initializing NUTS using jitter+adapt_diag...\n",
            "Multiprocess sampling (4 chains in 4 jobs)\n",
            "NUTS: [theta_1, theta_2]\n",
            "Sampling 4 chains for 500 tune and 2_000 draw iterations (2_000 + 8_000 draws total) took 5 seconds.\n",
            "Initializing NUTS using jitter+adapt_diag...\n",
            "Multiprocess sampling (4 chains in 4 jobs)\n",
            "NUTS: [theta_1, theta_2]\n",
            "Sampling 4 chains for 500 tune and 2_000 draw iterations (2_000 + 8_000 draws total) took 5 seconds.\n",
            "Initializing NUTS using jitter+adapt_diag...\n",
            "Multiprocess sampling (4 chains in 4 jobs)\n",
            "NUTS: [theta_1, theta_2]\n",
            "Sampling 4 chains for 500 tune and 2_000 draw iterations (2_000 + 8_000 draws total) took 6 seconds.\n",
            "Initializing NUTS using jitter+adapt_diag...\n",
            "Multiprocess sampling (4 chains in 4 jobs)\n",
            "NUTS: [theta_1, theta_2]\n",
            "Sampling 4 chains for 500 tune and 2_000 draw iterations (2_000 + 8_000 draws total) took 6 seconds.\n",
            "Initializing NUTS using jitter+adapt_diag...\n",
            "Multiprocess sampling (4 chains in 4 jobs)\n",
            "NUTS: [theta_1, theta_2]\n",
            "Sampling 4 chains for 500 tune and 2_000 draw iterations (2_000 + 8_000 draws total) took 6 seconds.\n",
            "Initializing NUTS using jitter+adapt_diag...\n",
            "Multiprocess sampling (4 chains in 4 jobs)\n",
            "NUTS: [theta_1, theta_2]\n",
            "Sampling 4 chains for 500 tune and 2_000 draw iterations (2_000 + 8_000 draws total) took 6 seconds.\n",
            "Initializing NUTS using jitter+adapt_diag...\n",
            "Multiprocess sampling (4 chains in 4 jobs)\n",
            "NUTS: [theta_1, theta_2]\n",
            "Sampling 4 chains for 500 tune and 2_000 draw iterations (2_000 + 8_000 draws total) took 7 seconds.\n",
            "Initializing NUTS using jitter+adapt_diag...\n",
            "Multiprocess sampling (4 chains in 4 jobs)\n",
            "NUTS: [theta_1, theta_2]\n",
            "Sampling 4 chains for 500 tune and 2_000 draw iterations (2_000 + 8_000 draws total) took 4 seconds.\n",
            "Initializing NUTS using jitter+adapt_diag...\n",
            "Multiprocess sampling (4 chains in 4 jobs)\n",
            "NUTS: [theta_1, theta_2]\n",
            "Sampling 4 chains for 500 tune and 2_000 draw iterations (2_000 + 8_000 draws total) took 4 seconds.\n",
            "Initializing NUTS using jitter+adapt_diag...\n",
            "Multiprocess sampling (4 chains in 4 jobs)\n",
            "NUTS: [theta_1, theta_2]\n",
            "Sampling 4 chains for 500 tune and 2_000 draw iterations (2_000 + 8_000 draws total) took 5 seconds.\n",
            "Initializing NUTS using jitter+adapt_diag...\n",
            "Multiprocess sampling (4 chains in 4 jobs)\n",
            "NUTS: [theta_1, theta_2]\n",
            "Sampling 4 chains for 500 tune and 2_000 draw iterations (2_000 + 8_000 draws total) took 4 seconds.\n"
          ]
        }
      ],
      "source": [
        "presample = generate_normal(size=size, loc=loc, scale=scale)\n",
        "hist_loc = presample.mean()\n",
        "hist_scale = np.sqrt(presample.var())\n",
        "\n",
        "probs = []\n",
        "sizes = np.linspace(1, 20, 20).astype(int)\n",
        "\n",
        "for size in tqdm(sizes):\n",
        "    sample_x = generate_normal(size=size, loc=loc, scale=scale)\n",
        "    sample_y = generate_normal(size=size, loc=loc * (1 + effect), scale=scale)\n",
        "\n",
        "    probs.append(\n",
        "        bayesian_testing(\n",
        "            prior_distr=partial(pm.Normal, mu=hist_loc, sigma=effect * hist_loc),\n",
        "            sample_distr=partial(pm.Normal, sigma=hist_scale),\n",
        "            shift_parameter=\"mu\",\n",
        "            sample_x=sample_x,\n",
        "            sample_y=sample_y,\n",
        "            draw_trace=False,\n",
        "            draw_posterior=False,\n",
        "            returns=[\"theta_1<theta_2\"],\n",
        "        )[0]\n",
        "    )"
      ]
    },
    {
      "cell_type": "code",
      "execution_count": 185,
      "metadata": {},
      "outputs": [],
      "source": [
        "\n",
        "def plot_probability_vs_sample_size(sizes, probs, threshold=0.8, threshold_label=\"80%\", title=\"Зависимость вероятности от размера выборки\"):\n",
        "    plt.plot(sizes, probs, label=\"Вероятность\", color=blue)\n",
        "    plt.axhline(threshold, color=red, linestyle=\"--\", label=threshold_label)\n",
        "\n",
        "    plt.title(title, fontsize=14)\n",
        "    plt.xlabel(\"Размер выборки\", fontsize=12)\n",
        "    plt.ylabel(\"Вероятность\", fontsize=12)\n",
        "    plt.legend()\n",
        "    plt.grid(True)\n",
        "\n",
        "    plt.show()"
      ]
    },
    {
      "cell_type": "code",
      "execution_count": 186,
      "metadata": {},
      "outputs": [
        {
          "data": {
            "image/png": "[encoded data removed]",
            "text/plain": [
              "<Figure size 640x480 with 1 Axes>"
            ]
          },
          "metadata": {},
          "output_type": "display_data"
        }
      ],
      "source": [
        "plot_probability_vs_sample_size(sizes, probs, threshold=0.8, threshold_label=\"80%\", title=\"Зависимость вероятности от размера выборки\")"
      ]
    },
    {
      "cell_type": "markdown",
      "metadata": {},
      "source": [
        "нужно примерно 3-4 элемнта выборки"
      ]
    },
    {
      "cell_type": "markdown",
      "metadata": {},
      "source": [
        "Как меняется требуемый размер выборки если в реализации критерия использовать распределение Стьюдента? Используйте для этого первую реализацию критерия с занятия."
      ]
    },
    {
      "cell_type": "code",
      "execution_count": 187,
      "metadata": {},
      "outputs": [
        {
          "data": {
            "application/vnd.jupyter.widget-view+json": {
              "model_id": "80d353280f4e47e3be756eb47dc3d5f6",
              "version_major": 2,
              "version_minor": 0
            },
            "text/plain": [
              "  0%|          | 0/20 [00:00<?, ?it/s]"
            ]
          },
          "metadata": {},
          "output_type": "display_data"
        },
        {
          "name": "stderr",
          "output_type": "stream",
          "text": [
            "Initializing NUTS using jitter+adapt_diag...\n",
            "Multiprocess sampling (4 chains in 4 jobs)\n",
            "NUTS: [theta_1, theta_2]\n",
            "Sampling 4 chains for 500 tune and 2_000 draw iterations (2_000 + 8_000 draws total) took 5 seconds.\n",
            "Initializing NUTS using jitter+adapt_diag...\n",
            "Multiprocess sampling (4 chains in 4 jobs)\n",
            "NUTS: [theta_1, theta_2]\n",
            "Sampling 4 chains for 500 tune and 2_000 draw iterations (2_000 + 8_000 draws total) took 5 seconds.\n",
            "Initializing NUTS using jitter+adapt_diag...\n",
            "Multiprocess sampling (4 chains in 4 jobs)\n",
            "NUTS: [theta_1, theta_2]\n",
            "Sampling 4 chains for 500 tune and 2_000 draw iterations (2_000 + 8_000 draws total) took 5 seconds.\n",
            "Initializing NUTS using jitter+adapt_diag...\n",
            "Multiprocess sampling (4 chains in 4 jobs)\n",
            "NUTS: [theta_1, theta_2]\n",
            "Sampling 4 chains for 500 tune and 2_000 draw iterations (2_000 + 8_000 draws total) took 4 seconds.\n",
            "Initializing NUTS using jitter+adapt_diag...\n",
            "Multiprocess sampling (4 chains in 4 jobs)\n",
            "NUTS: [theta_1, theta_2]\n",
            "Sampling 4 chains for 500 tune and 2_000 draw iterations (2_000 + 8_000 draws total) took 5 seconds.\n",
            "Initializing NUTS using jitter+adapt_diag...\n",
            "Multiprocess sampling (4 chains in 4 jobs)\n",
            "NUTS: [theta_1, theta_2]\n",
            "Sampling 4 chains for 500 tune and 2_000 draw iterations (2_000 + 8_000 draws total) took 4 seconds.\n",
            "Initializing NUTS using jitter+adapt_diag...\n",
            "Multiprocess sampling (4 chains in 4 jobs)\n",
            "NUTS: [theta_1, theta_2]\n",
            "Sampling 4 chains for 500 tune and 2_000 draw iterations (2_000 + 8_000 draws total) took 4 seconds.\n",
            "Initializing NUTS using jitter+adapt_diag...\n",
            "Multiprocess sampling (4 chains in 4 jobs)\n",
            "NUTS: [theta_1, theta_2]\n",
            "Sampling 4 chains for 500 tune and 2_000 draw iterations (2_000 + 8_000 draws total) took 4 seconds.\n",
            "Initializing NUTS using jitter+adapt_diag...\n",
            "Multiprocess sampling (4 chains in 4 jobs)\n",
            "NUTS: [theta_1, theta_2]\n",
            "Sampling 4 chains for 500 tune and 2_000 draw iterations (2_000 + 8_000 draws total) took 4 seconds.\n",
            "Initializing NUTS using jitter+adapt_diag...\n",
            "Multiprocess sampling (4 chains in 4 jobs)\n",
            "NUTS: [theta_1, theta_2]\n",
            "Sampling 4 chains for 500 tune and 2_000 draw iterations (2_000 + 8_000 draws total) took 5 seconds.\n",
            "Initializing NUTS using jitter+adapt_diag...\n",
            "Multiprocess sampling (4 chains in 4 jobs)\n",
            "NUTS: [theta_1, theta_2]\n",
            "Sampling 4 chains for 500 tune and 2_000 draw iterations (2_000 + 8_000 draws total) took 5 seconds.\n",
            "Initializing NUTS using jitter+adapt_diag...\n",
            "Multiprocess sampling (4 chains in 4 jobs)\n",
            "NUTS: [theta_1, theta_2]\n",
            "Sampling 4 chains for 500 tune and 2_000 draw iterations (2_000 + 8_000 draws total) took 5 seconds.\n",
            "Initializing NUTS using jitter+adapt_diag...\n",
            "Multiprocess sampling (4 chains in 4 jobs)\n",
            "NUTS: [theta_1, theta_2]\n",
            "Sampling 4 chains for 500 tune and 2_000 draw iterations (2_000 + 8_000 draws total) took 4 seconds.\n",
            "Initializing NUTS using jitter+adapt_diag...\n",
            "Multiprocess sampling (4 chains in 4 jobs)\n",
            "NUTS: [theta_1, theta_2]\n",
            "Sampling 4 chains for 500 tune and 2_000 draw iterations (2_000 + 8_000 draws total) took 5 seconds.\n",
            "Initializing NUTS using jitter+adapt_diag...\n",
            "Multiprocess sampling (4 chains in 4 jobs)\n",
            "NUTS: [theta_1, theta_2]\n",
            "Sampling 4 chains for 500 tune and 2_000 draw iterations (2_000 + 8_000 draws total) took 4 seconds.\n",
            "Initializing NUTS using jitter+adapt_diag...\n",
            "Multiprocess sampling (4 chains in 4 jobs)\n",
            "NUTS: [theta_1, theta_2]\n",
            "Sampling 4 chains for 500 tune and 2_000 draw iterations (2_000 + 8_000 draws total) took 5 seconds.\n",
            "Initializing NUTS using jitter+adapt_diag...\n",
            "Multiprocess sampling (4 chains in 4 jobs)\n",
            "NUTS: [theta_1, theta_2]\n",
            "Sampling 4 chains for 500 tune and 2_000 draw iterations (2_000 + 8_000 draws total) took 4 seconds.\n",
            "Initializing NUTS using jitter+adapt_diag...\n",
            "Multiprocess sampling (4 chains in 4 jobs)\n",
            "NUTS: [theta_1, theta_2]\n",
            "Sampling 4 chains for 500 tune and 2_000 draw iterations (2_000 + 8_000 draws total) took 5 seconds.\n",
            "Initializing NUTS using jitter+adapt_diag...\n",
            "Multiprocess sampling (4 chains in 4 jobs)\n",
            "NUTS: [theta_1, theta_2]\n",
            "Sampling 4 chains for 500 tune and 2_000 draw iterations (2_000 + 8_000 draws total) took 4 seconds.\n",
            "Initializing NUTS using jitter+adapt_diag...\n",
            "Multiprocess sampling (4 chains in 4 jobs)\n",
            "NUTS: [theta_1, theta_2]\n",
            "Sampling 4 chains for 500 tune and 2_000 draw iterations (2_000 + 8_000 draws total) took 5 seconds.\n"
          ]
        }
      ],
      "source": [
        "presample = generate_student_t(size=size, loc=loc, scale=scale, df=5)\n",
        "hist_loc = presample.mean()\n",
        "hist_scale = np.sqrt(presample.var())\n",
        "\n",
        "probs = []\n",
        "sizes = np.linspace(1, 20, 20).astype(int)\n",
        "\n",
        "for size in tqdm(sizes):\n",
        "    sample_x = generate_student_t(size=size, loc=loc, scale=scale, df=5)\n",
        "    sample_y = generate_student_t(size=size, loc=loc * (1 + effect), scale=scale, df=5)\n",
        "\n",
        "    probs.append(\n",
        "        bayesian_testing(\n",
        "            prior_distr=partial(pm.Normal, mu=hist_loc, sigma=effect * hist_loc),\n",
        "            sample_distr=partial(pm.StudentT, nu=5, sigma=hist_scale),\n",
        "            shift_parameter=\"mu\",\n",
        "            sample_x=sample_x,\n",
        "            sample_y=sample_y,\n",
        "            draw_trace=False,\n",
        "            draw_posterior=False,\n",
        "            returns=[\"theta_1<theta_2\"],\n",
        "        )[0]\n",
        "    )"
      ]
    },
    {
      "cell_type": "code",
      "execution_count": 188,
      "metadata": {},
      "outputs": [
        {
          "data": {
            "image/png": "[encoded data removed]",
            "text/plain": [
              "<Figure size 640x480 with 1 Axes>"
            ]
          },
          "metadata": {},
          "output_type": "display_data"
        }
      ],
      "source": [
        "plot_probability_vs_sample_size(sizes, probs, title=\"Стьюдент, 5 степеней свободы\")"
      ]
    },
    {
      "cell_type": "markdown",
      "metadata": {},
      "source": [
        "видим, что нужно примерно 4-5 элементов выборки"
      ]
    },
    {
      "cell_type": "markdown",
      "metadata": {},
      "source": [
        "Исследуйте зависимость $\\mathsf{P}(\\theta_1 < \\theta_2\\ |\\ X, Y)$ от истинного эффекта если данные сгенерированны из распределения Стьюдента, а критерий использует нормальное распределение."
      ]
    },
    {
      "cell_type": "code",
      "execution_count": 189,
      "metadata": {},
      "outputs": [
        {
          "data": {
            "application/vnd.jupyter.widget-view+json": {
              "model_id": "105f200a9c2e4b35a03200c27044464a",
              "version_major": 2,
              "version_minor": 0
            },
            "text/plain": [
              "  0%|          | 0/20 [00:00<?, ?it/s]"
            ]
          },
          "metadata": {},
          "output_type": "display_data"
        },
        {
          "name": "stderr",
          "output_type": "stream",
          "text": [
            "Initializing NUTS using jitter+adapt_diag...\n",
            "Multiprocess sampling (4 chains in 4 jobs)\n",
            "NUTS: [theta_1, theta_2]\n",
            "Sampling 4 chains for 500 tune and 2_000 draw iterations (2_000 + 8_000 draws total) took 5 seconds.\n",
            "Initializing NUTS using jitter+adapt_diag...\n",
            "Multiprocess sampling (4 chains in 4 jobs)\n",
            "NUTS: [theta_1, theta_2]\n",
            "Sampling 4 chains for 500 tune and 2_000 draw iterations (2_000 + 8_000 draws total) took 5 seconds.\n",
            "Initializing NUTS using jitter+adapt_diag...\n",
            "Multiprocess sampling (4 chains in 4 jobs)\n",
            "NUTS: [theta_1, theta_2]\n",
            "Sampling 4 chains for 500 tune and 2_000 draw iterations (2_000 + 8_000 draws total) took 5 seconds.\n",
            "Initializing NUTS using jitter+adapt_diag...\n",
            "Multiprocess sampling (4 chains in 4 jobs)\n",
            "NUTS: [theta_1, theta_2]\n",
            "Sampling 4 chains for 500 tune and 2_000 draw iterations (2_000 + 8_000 draws total) took 4 seconds.\n",
            "Initializing NUTS using jitter+adapt_diag...\n",
            "Multiprocess sampling (4 chains in 4 jobs)\n",
            "NUTS: [theta_1, theta_2]\n",
            "Sampling 4 chains for 500 tune and 2_000 draw iterations (2_000 + 8_000 draws total) took 4 seconds.\n",
            "Initializing NUTS using jitter+adapt_diag...\n",
            "Multiprocess sampling (4 chains in 4 jobs)\n",
            "NUTS: [theta_1, theta_2]\n",
            "Sampling 4 chains for 500 tune and 2_000 draw iterations (2_000 + 8_000 draws total) took 5 seconds.\n",
            "Initializing NUTS using jitter+adapt_diag...\n",
            "Multiprocess sampling (4 chains in 4 jobs)\n",
            "NUTS: [theta_1, theta_2]\n",
            "Sampling 4 chains for 500 tune and 2_000 draw iterations (2_000 + 8_000 draws total) took 5 seconds.\n",
            "Initializing NUTS using jitter+adapt_diag...\n",
            "Multiprocess sampling (4 chains in 4 jobs)\n",
            "NUTS: [theta_1, theta_2]\n",
            "Sampling 4 chains for 500 tune and 2_000 draw iterations (2_000 + 8_000 draws total) took 5 seconds.\n",
            "Initializing NUTS using jitter+adapt_diag...\n",
            "Multiprocess sampling (4 chains in 4 jobs)\n",
            "NUTS: [theta_1, theta_2]\n",
            "Sampling 4 chains for 500 tune and 2_000 draw iterations (2_000 + 8_000 draws total) took 4 seconds.\n",
            "Initializing NUTS using jitter+adapt_diag...\n",
            "Multiprocess sampling (4 chains in 4 jobs)\n",
            "NUTS: [theta_1, theta_2]\n",
            "Sampling 4 chains for 500 tune and 2_000 draw iterations (2_000 + 8_000 draws total) took 4 seconds.\n",
            "Initializing NUTS using jitter+adapt_diag...\n",
            "Multiprocess sampling (4 chains in 4 jobs)\n",
            "NUTS: [theta_1, theta_2]\n",
            "Sampling 4 chains for 500 tune and 2_000 draw iterations (2_000 + 8_000 draws total) took 5 seconds.\n",
            "Initializing NUTS using jitter+adapt_diag...\n",
            "Multiprocess sampling (4 chains in 4 jobs)\n",
            "NUTS: [theta_1, theta_2]\n",
            "Sampling 4 chains for 500 tune and 2_000 draw iterations (2_000 + 8_000 draws total) took 4 seconds.\n",
            "Initializing NUTS using jitter+adapt_diag...\n",
            "Multiprocess sampling (4 chains in 4 jobs)\n",
            "NUTS: [theta_1, theta_2]\n",
            "Sampling 4 chains for 500 tune and 2_000 draw iterations (2_000 + 8_000 draws total) took 4 seconds.\n",
            "Initializing NUTS using jitter+adapt_diag...\n",
            "Multiprocess sampling (4 chains in 4 jobs)\n",
            "NUTS: [theta_1, theta_2]\n",
            "Sampling 4 chains for 500 tune and 2_000 draw iterations (2_000 + 8_000 draws total) took 5 seconds.\n",
            "Initializing NUTS using jitter+adapt_diag...\n",
            "Multiprocess sampling (4 chains in 4 jobs)\n",
            "NUTS: [theta_1, theta_2]\n",
            "Sampling 4 chains for 500 tune and 2_000 draw iterations (2_000 + 8_000 draws total) took 5 seconds.\n",
            "Initializing NUTS using jitter+adapt_diag...\n",
            "Multiprocess sampling (4 chains in 4 jobs)\n",
            "NUTS: [theta_1, theta_2]\n",
            "Sampling 4 chains for 500 tune and 2_000 draw iterations (2_000 + 8_000 draws total) took 4 seconds.\n",
            "Initializing NUTS using jitter+adapt_diag...\n",
            "Multiprocess sampling (4 chains in 4 jobs)\n",
            "NUTS: [theta_1, theta_2]\n",
            "Sampling 4 chains for 500 tune and 2_000 draw iterations (2_000 + 8_000 draws total) took 5 seconds.\n",
            "Initializing NUTS using jitter+adapt_diag...\n",
            "Multiprocess sampling (4 chains in 4 jobs)\n",
            "NUTS: [theta_1, theta_2]\n",
            "Sampling 4 chains for 500 tune and 2_000 draw iterations (2_000 + 8_000 draws total) took 5 seconds.\n",
            "Initializing NUTS using jitter+adapt_diag...\n",
            "Multiprocess sampling (4 chains in 4 jobs)\n",
            "NUTS: [theta_1, theta_2]\n",
            "Sampling 4 chains for 500 tune and 2_000 draw iterations (2_000 + 8_000 draws total) took 5 seconds.\n",
            "Initializing NUTS using jitter+adapt_diag...\n",
            "Multiprocess sampling (4 chains in 4 jobs)\n",
            "NUTS: [theta_1, theta_2]\n",
            "Sampling 4 chains for 500 tune and 2_000 draw iterations (2_000 + 8_000 draws total) took 5 seconds.\n"
          ]
        }
      ],
      "source": [
        "grid = np.linspace(-effect, effect, 20)\n",
        "probs = []\n",
        "x_sample = generate_student_t(size=1000, loc=loc, df=5)\n",
        "y_sample = generate_student_t(size=1000, loc=loc, df=5)\n",
        "\n",
        "for real_effect in tqdm(grid):\n",
        "    probs.append(\n",
        "            bayesian_testing(\n",
        "            prior_distr=partial(pm.Normal, mu=hist_loc, sigma=effect*hist_loc),\n",
        "            sample_distr=partial(pm.Normal, sigma=hist_scale),\n",
        "            shift_parameter='mu',\n",
        "            sample_x=sample_x, sample_y=sample_y*(1 + real_effect),\n",
        "            draw_trace=False, draw_posterior=False,\n",
        "            returns=['theta_1<theta_2']\n",
        "        )[0]\n",
        "    )\n"
      ]
    },
    {
      "cell_type": "code",
      "execution_count": 190,
      "metadata": {},
      "outputs": [
        {
          "data": {
            "image/png": "[encoded data removed]",
            "text/plain": [
              "<Figure size 1000x500 with 1 Axes>"
            ]
          },
          "metadata": {},
          "output_type": "display_data"
        }
      ],
      "source": [
        "plt.figure(figsize=(10, 5))\n",
        "plt.title('P(theta1 < theta2 | X, Y)')\n",
        "plt.plot(grid, probs, lw=3)\n",
        "plt.xlabel('Реальный сдвиг Y')\n",
        "plt.show()"
      ]
    },
    {
      "cell_type": "markdown",
      "metadata": {},
      "source": [
        "**Выводы:**\n",
        "\n",
        "Мы успешно исследовали, что замена нормального распределения на распределение Стьюдента делает необходимым увеличение выборки для получения значимого эффекта. А также вероятность отвергнуть гипотезу становится более пологой по сравнению с нормальным случаем."
      ]
    },
    {
      "cell_type": "markdown",
      "metadata": {},
      "source": [
        "---\n",
        "### Задача 5.\n",
        "\n",
        "В Долгопрудном крупная торговая сеть имеет $100$ магазинов и планирует открыть еще $5$ магазинов. \n",
        "\n",
        "Первый этап &mdash; выбор места для открытия нового магазина среди множества потенциальных вариантов. Для этого аналитики компании построили ML-модель, которая на основе существующего множества магазинов предсказывает ожидаемую выручку магазина на основе различных географических факторов: плотность населения в некотором радиусе, величина пешеходного и транспортного потока, наличие рядом торговых центров и иных магазинов. Модель также оценивает степень уверенности в своем прогнозе.\n",
        "\n",
        "Отлично, мы выбрали место для нового магазина, подготовились к окрытию и... открыли! Второй этап &mdash; оценка реальной успешности магазина. Но, поскольку магазин новый, он не сразу показывает ожидаемые значения выручки. В реальности выход магазина к ожидаемым показателям может занимать до 12-14 месяцев. Тем самым, такую оценку можно произвести в лучшем случае через год после открытия.\n",
        "\n",
        "Тем не менее, спустя полгода работы можно прикинуть, достигнет ли магазин ожидаемых показателей. Если есть негативные опасения, то стоит проанализовать работу магазина. Возможно, его недостаточно прорекламировали, а может быть покупателям в нем что-то не понравилось.\n",
        "\n",
        "Для составления прогноза на основе данных за каждый полгода можно спрогнозировать тренд роста выручки, а также можно использовать прогнозы ML-модели в качестве априорной информации. \n",
        "\n",
        "Предполагается, что тренд роста выручки магазина в первый год можно приближенно описать формулой\n",
        "$$y_t = y_{\\infty}\\left[(1 - \\gamma) \\left( 1 - e^{-kt}\\right) + \\gamma\\right] + \\varepsilon_t,$$\n",
        "где $y_{\\infty}$ &mdash; ожидаемая выручка магазина в пределе, $\\gamma \\in (0, 1)$ &mdash; коэффициент выручки с первого месяца работы по отношению к предельному, $k \\in [1/6, 1/4]$ &mdash; параметр формы кривой, $t$ &mdash; номер месяца с момента открытия (нумерация с 1), $\\varepsilon_t$ &mdash; случайный шум. \n",
        "\n",
        "Подберите параметры априорного распределения выручки в пределе так, чтобы его математическое ожидание было равно ожидаемой выручке согласно ML-модели, а дисперсия опредялась степенью уверенности модели. Не берите слишком маленькую дисперсию, даже самое уверенное предсказание имеет погрешность не менее 10%. В качестве априорных распределений $\\gamma$ и $k$ возьмите равномерные на соответствующей области значений. Априорное распределение шума выберите нормальным с нулевым средним и некоторой дисперсией, на которую тоже можно задать априорное распределение.\n",
        "\n",
        "С помощью PyMC для каждого магазина постройте семплы из апостериорных распределений параметров $y_{\\infty}, \\gamma, k$. Далее по формуле тренда роста выручки получите семпл ожидаемой выручки через год после открытия для каждого магазина. Наконец, оцените вероятность того, что через год после открытия магазин достигнет уровня 80%, 90%, 100% от своей ожидаемой выручки."
      ]
    },
    {
      "cell_type": "code",
      "execution_count": 191,
      "metadata": {
        "ExecuteTime": {
          "end_time": "2023-04-17T19:17:46.696363Z",
          "start_time": "2023-04-17T19:17:46.674717Z"
        }
      },
      "outputs": [
        {
          "data": {
            "text/html": [
              "<div>\n",
              "<style scoped>\n",
              "    .dataframe tbody tr th:only-of-type {\n",
              "        vertical-align: middle;\n",
              "    }\n",
              "\n",
              "    .dataframe tbody tr th {\n",
              "        vertical-align: top;\n",
              "    }\n",
              "\n",
              "    .dataframe thead th {\n",
              "        text-align: right;\n",
              "    }\n",
              "</style>\n",
              "<table border=\"1\" class=\"dataframe\">\n",
              "  <thead>\n",
              "    <tr style=\"text-align: right;\">\n",
              "      <th>shops</th>\n",
              "      <th>0</th>\n",
              "      <th>1</th>\n",
              "      <th>2</th>\n",
              "      <th>3</th>\n",
              "      <th>4</th>\n",
              "    </tr>\n",
              "    <tr>\n",
              "      <th>months</th>\n",
              "      <th></th>\n",
              "      <th></th>\n",
              "      <th></th>\n",
              "      <th></th>\n",
              "      <th></th>\n",
              "    </tr>\n",
              "  </thead>\n",
              "  <tbody>\n",
              "    <tr>\n",
              "      <th>0</th>\n",
              "      <td>47580.07</td>\n",
              "      <td>68817.26</td>\n",
              "      <td>61583.18</td>\n",
              "      <td>28341.77</td>\n",
              "      <td>355656.42</td>\n",
              "    </tr>\n",
              "    <tr>\n",
              "      <th>1</th>\n",
              "      <td>59487.94</td>\n",
              "      <td>78042.15</td>\n",
              "      <td>68282.65</td>\n",
              "      <td>29684.57</td>\n",
              "      <td>397649.98</td>\n",
              "    </tr>\n",
              "    <tr>\n",
              "      <th>2</th>\n",
              "      <td>74656.72</td>\n",
              "      <td>105193.11</td>\n",
              "      <td>71588.68</td>\n",
              "      <td>35201.27</td>\n",
              "      <td>399673.09</td>\n",
              "    </tr>\n",
              "    <tr>\n",
              "      <th>3</th>\n",
              "      <td>69145.22</td>\n",
              "      <td>138103.96</td>\n",
              "      <td>69242.53</td>\n",
              "      <td>35444.95</td>\n",
              "      <td>413788.36</td>\n",
              "    </tr>\n",
              "    <tr>\n",
              "      <th>4</th>\n",
              "      <td>73360.78</td>\n",
              "      <td>134696.74</td>\n",
              "      <td>78585.76</td>\n",
              "      <td>34829.87</td>\n",
              "      <td>423585.50</td>\n",
              "    </tr>\n",
              "    <tr>\n",
              "      <th>5</th>\n",
              "      <td>78408.82</td>\n",
              "      <td>152144.24</td>\n",
              "      <td>73533.09</td>\n",
              "      <td>36262.02</td>\n",
              "      <td>452980.44</td>\n",
              "    </tr>\n",
              "  </tbody>\n",
              "</table>\n",
              "</div>"
            ],
            "text/plain": [
              "shops          0          1         2         3          4\n",
              "months                                                    \n",
              "0       47580.07   68817.26  61583.18  28341.77  355656.42\n",
              "1       59487.94   78042.15  68282.65  29684.57  397649.98\n",
              "2       74656.72  105193.11  71588.68  35201.27  399673.09\n",
              "3       69145.22  138103.96  69242.53  35444.95  413788.36\n",
              "4       73360.78  134696.74  78585.76  34829.87  423585.50\n",
              "5       78408.82  152144.24  73533.09  36262.02  452980.44"
            ]
          },
          "execution_count": 191,
          "metadata": {},
          "output_type": "execute_result"
        }
      ],
      "source": [
        "# ожидаемая выручка согласно ML-модели\n",
        "expected = [92700, 212800, 49700, 80000, 462500]\n",
        "# степень уверенности ML-модели\n",
        "confidence = [0.92, 0.96, 0.76, 0.62, 0.48]\n",
        "\n",
        "data = pd.DataFrame(\n",
        "    [[ 47580.07,  68817.26,  61583.18,  28341.77, 355656.42],\n",
        "     [ 59487.94,  78042.15,  68282.65,  29684.57, 397649.98],\n",
        "     [ 74656.72, 105193.11,  71588.68,  35201.27, 399673.09],\n",
        "     [ 69145.22, 138103.96,  69242.53,  35444.95, 413788.36],\n",
        "     [ 73360.78, 134696.74,  78585.76,  34829.87, 423585.50],\n",
        "     [ 78408.82, 152144.24,  73533.09,  36262.02, 452980.44]],\n",
        "    index=range(0, 6)\n",
        ")\n",
        "data.columns.name = 'shops'\n",
        "data.index.name = 'months'\n",
        "months = np.arange(0, 6)\n",
        "\n",
        "data"
      ]
    },
    {
      "cell_type": "code",
      "execution_count": 192,
      "metadata": {},
      "outputs": [],
      "source": [
        "def calculate_probabilities(index, data, expected, confidence, months):\n",
        "    with pm.Model() as model:\n",
        "        gamma_ = pm.Uniform(\"gamma\", lower=0, upper=1)\n",
        "        k_ = pm.Uniform(\"k\", lower=1 / 6, upper=1 / 4)\n",
        "        y_aprior = pm.Normal(\n",
        "            \"aprior\",\n",
        "            mu=expected[index],\n",
        "            sigma=np.max([expected[index] * 0.1, (1 - confidence[index]) * expected[index]])\n",
        "        )\n",
        "        epsilon_t = pm.Normal(\"Noise\", mu=0, sigma=y_aprior * 0.1)\n",
        "\n",
        "        y_t = pm.Normal(\n",
        "            \"y_t\",\n",
        "            mu=y_aprior * ((1 - gamma_) * (1 - np.exp(-k_ * months)) + gamma_),\n",
        "            sigma=epsilon_t,\n",
        "            observed=data.iloc[:, index]\n",
        "        )\n",
        "\n",
        "        trace = pm.sample(cores=4, target_accept=0.8, progressbar=True)\n",
        "\n",
        "    y_inf_poster = trace.posterior[\"aprior\"]\n",
        "    gamma_poster = trace.posterior[\"gamma\"]\n",
        "    k_poster = trace.posterior[\"k\"]\n",
        "    sigma_t = trace.posterior[\"Noise\"]\n",
        "\n",
        "    final_result = y_inf_poster * ((1 - gamma_poster) * (1 - np.exp(-k_poster * 12)) + gamma_poster) + sigma_t\n",
        "\n",
        "    prob_80 = np.mean(final_result > 0.8 * expected[index]).item()\n",
        "    prob_90 = np.mean(final_result > 0.9 * expected[index]).item()\n",
        "    prob_100 = np.mean(final_result > expected[index]).item()\n",
        "\n",
        "    # Calculate statistics\n",
        "    mean_value = final_result.mean().item()\n",
        "    std = np.sqrt(final_result.var().item())\n",
        "    expectation = expected[index]\n",
        "    estimated_std = (1 - confidence[index]) * expectation\n",
        "\n",
        "    return pd.DataFrame({\n",
        "        \"Probability >= 80%\": [round(prob_80, 3)],\n",
        "        \"Probability >= 90%\": [round(prob_90, 3)],\n",
        "        \"Probability >= 100%\": [round(prob_100, 3)],\n",
        "        \"Mean Value\": [round(mean_value, 3)],\n",
        "        \"Variance\": [round(std, 3)],\n",
        "        \"Expectation\": [round(expectation, 3)],\n",
        "        \"Estimated Variance\": [round(estimated_std, 3)]\n",
        "    })\n"
      ]
    },
    {
      "cell_type": "code",
      "execution_count": 193,
      "metadata": {},
      "outputs": [
        {
          "name": "stderr",
          "output_type": "stream",
          "text": [
            "Initializing NUTS using jitter+adapt_diag...\n",
            "Multiprocess sampling (4 chains in 4 jobs)\n",
            "NUTS: [gamma, k, aprior, Noise]\n"
          ]
        },
        {
          "data": {
            "application/vnd.jupyter.widget-view+json": {
              "model_id": "74f8cacc56994c79b9f67fa77ef39aa3",
              "version_major": 2,
              "version_minor": 0
            },
            "text/plain": [
              "Output()"
            ]
          },
          "metadata": {},
          "output_type": "display_data"
        },
        {
          "data": {
            "text/html": [
              "<pre style=\"white-space:pre;overflow-x:auto;line-height:normal;font-family:Menlo,'DejaVu Sans Mono',consolas,'Courier New',monospace\"></pre>\n"
            ],
            "text/plain": []
          },
          "metadata": {},
          "output_type": "display_data"
        },
        {
          "data": {
            "text/html": [
              "<pre style=\"white-space:pre;overflow-x:auto;line-height:normal;font-family:Menlo,'DejaVu Sans Mono',consolas,'Courier New',monospace\">\n",
              "</pre>\n"
            ],
            "text/plain": [
              "\n"
            ]
          },
          "metadata": {},
          "output_type": "display_data"
        },
        {
          "name": "stderr",
          "output_type": "stream",
          "text": [
            "Sampling 4 chains for 1_000 tune and 1_000 draw iterations (4_000 + 4_000 draws total) took 10 seconds.\n",
            "There were 3 divergences after tuning. Increase `target_accept` or reparameterize.\n",
            "Initializing NUTS using jitter+adapt_diag...\n",
            "Multiprocess sampling (4 chains in 4 jobs)\n",
            "NUTS: [gamma, k, aprior, Noise]\n"
          ]
        },
        {
          "data": {
            "application/vnd.jupyter.widget-view+json": {
              "model_id": "7eba53f48b8a46cbaf1756357563feaf",
              "version_major": 2,
              "version_minor": 0
            },
            "text/plain": [
              "Output()"
            ]
          },
          "metadata": {},
          "output_type": "display_data"
        },
        {
          "data": {
            "text/html": [
              "<pre style=\"white-space:pre;overflow-x:auto;line-height:normal;font-family:Menlo,'DejaVu Sans Mono',consolas,'Courier New',monospace\"></pre>\n"
            ],
            "text/plain": []
          },
          "metadata": {},
          "output_type": "display_data"
        },
        {
          "data": {
            "text/html": [
              "<pre style=\"white-space:pre;overflow-x:auto;line-height:normal;font-family:Menlo,'DejaVu Sans Mono',consolas,'Courier New',monospace\">\n",
              "</pre>\n"
            ],
            "text/plain": [
              "\n"
            ]
          },
          "metadata": {},
          "output_type": "display_data"
        },
        {
          "name": "stderr",
          "output_type": "stream",
          "text": [
            "Sampling 4 chains for 1_000 tune and 1_000 draw iterations (4_000 + 4_000 draws total) took 12 seconds.\n",
            "There were 3 divergences after tuning. Increase `target_accept` or reparameterize.\n",
            "Initializing NUTS using jitter+adapt_diag...\n",
            "Multiprocess sampling (4 chains in 4 jobs)\n",
            "NUTS: [gamma, k, aprior, Noise]\n"
          ]
        },
        {
          "data": {
            "application/vnd.jupyter.widget-view+json": {
              "model_id": "bf7bbfbd86cb4770a49541d51b0e30d6",
              "version_major": 2,
              "version_minor": 0
            },
            "text/plain": [
              "Output()"
            ]
          },
          "metadata": {},
          "output_type": "display_data"
        },
        {
          "data": {
            "text/html": [
              "<pre style=\"white-space:pre;overflow-x:auto;line-height:normal;font-family:Menlo,'DejaVu Sans Mono',consolas,'Courier New',monospace\"></pre>\n"
            ],
            "text/plain": []
          },
          "metadata": {},
          "output_type": "display_data"
        },
        {
          "data": {
            "text/html": [
              "<pre style=\"white-space:pre;overflow-x:auto;line-height:normal;font-family:Menlo,'DejaVu Sans Mono',consolas,'Courier New',monospace\">\n",
              "</pre>\n"
            ],
            "text/plain": [
              "\n"
            ]
          },
          "metadata": {},
          "output_type": "display_data"
        },
        {
          "name": "stderr",
          "output_type": "stream",
          "text": [
            "Sampling 4 chains for 1_000 tune and 1_000 draw iterations (4_000 + 4_000 draws total) took 13 seconds.\n",
            "There were 16 divergences after tuning. Increase `target_accept` or reparameterize.\n",
            "Initializing NUTS using jitter+adapt_diag...\n",
            "Multiprocess sampling (4 chains in 4 jobs)\n",
            "NUTS: [gamma, k, aprior, Noise]\n"
          ]
        },
        {
          "data": {
            "application/vnd.jupyter.widget-view+json": {
              "model_id": "c78be5b5ccac4e41861c08d283469b5e",
              "version_major": 2,
              "version_minor": 0
            },
            "text/plain": [
              "Output()"
            ]
          },
          "metadata": {},
          "output_type": "display_data"
        },
        {
          "data": {
            "text/html": [
              "<pre style=\"white-space:pre;overflow-x:auto;line-height:normal;font-family:Menlo,'DejaVu Sans Mono',consolas,'Courier New',monospace\"></pre>\n"
            ],
            "text/plain": []
          },
          "metadata": {},
          "output_type": "display_data"
        },
        {
          "data": {
            "text/html": [
              "<pre style=\"white-space:pre;overflow-x:auto;line-height:normal;font-family:Menlo,'DejaVu Sans Mono',consolas,'Courier New',monospace\">\n",
              "</pre>\n"
            ],
            "text/plain": [
              "\n"
            ]
          },
          "metadata": {},
          "output_type": "display_data"
        },
        {
          "name": "stderr",
          "output_type": "stream",
          "text": [
            "Sampling 4 chains for 1_000 tune and 1_000 draw iterations (4_000 + 4_000 draws total) took 14 seconds.\n",
            "There were 3 divergences after tuning. Increase `target_accept` or reparameterize.\n",
            "Initializing NUTS using jitter+adapt_diag...\n",
            "Multiprocess sampling (4 chains in 4 jobs)\n",
            "NUTS: [gamma, k, aprior, Noise]\n"
          ]
        },
        {
          "data": {
            "application/vnd.jupyter.widget-view+json": {
              "model_id": "8dfca5a3aaa44d6888d995a520c6aed7",
              "version_major": 2,
              "version_minor": 0
            },
            "text/plain": [
              "Output()"
            ]
          },
          "metadata": {},
          "output_type": "display_data"
        },
        {
          "data": {
            "text/html": [
              "<pre style=\"white-space:pre;overflow-x:auto;line-height:normal;font-family:Menlo,'DejaVu Sans Mono',consolas,'Courier New',monospace\"></pre>\n"
            ],
            "text/plain": []
          },
          "metadata": {},
          "output_type": "display_data"
        },
        {
          "data": {
            "text/html": [
              "<pre style=\"white-space:pre;overflow-x:auto;line-height:normal;font-family:Menlo,'DejaVu Sans Mono',consolas,'Courier New',monospace\">\n",
              "</pre>\n"
            ],
            "text/plain": [
              "\n"
            ]
          },
          "metadata": {},
          "output_type": "display_data"
        },
        {
          "name": "stderr",
          "output_type": "stream",
          "text": [
            "Sampling 4 chains for 1_000 tune and 1_000 draw iterations (4_000 + 4_000 draws total) took 14 seconds.\n",
            "There were 3 divergences after tuning. Increase `target_accept` or reparameterize.\n"
          ]
        }
      ],
      "source": [
        "dfs = []\n",
        "for i in range(5):\n",
        "    tmp_df = calculate_probabilities(i, data, expected, confidence, months)\n",
        "    dfs.append(tmp_df)"
      ]
    },
    {
      "cell_type": "code",
      "execution_count": 194,
      "metadata": {},
      "outputs": [
        {
          "data": {
            "text/html": [
              "<div>\n",
              "<style scoped>\n",
              "    .dataframe tbody tr th:only-of-type {\n",
              "        vertical-align: middle;\n",
              "    }\n",
              "\n",
              "    .dataframe tbody tr th {\n",
              "        vertical-align: top;\n",
              "    }\n",
              "\n",
              "    .dataframe thead th {\n",
              "        text-align: right;\n",
              "    }\n",
              "</style>\n",
              "<table border=\"1\" class=\"dataframe\">\n",
              "  <thead>\n",
              "    <tr style=\"text-align: right;\">\n",
              "      <th></th>\n",
              "      <th>Probability &gt;= 80%</th>\n",
              "      <th>Probability &gt;= 90%</th>\n",
              "      <th>Probability &gt;= 100%</th>\n",
              "      <th>Mean Value</th>\n",
              "      <th>Variance</th>\n",
              "      <th>Expectation</th>\n",
              "      <th>Estimated Variance</th>\n",
              "    </tr>\n",
              "    <tr>\n",
              "      <th>shop</th>\n",
              "      <th></th>\n",
              "      <th></th>\n",
              "      <th></th>\n",
              "      <th></th>\n",
              "      <th></th>\n",
              "      <th></th>\n",
              "      <th></th>\n",
              "    </tr>\n",
              "  </thead>\n",
              "  <tbody>\n",
              "    <tr>\n",
              "      <th>1</th>\n",
              "      <td>1.000</td>\n",
              "      <td>0.993</td>\n",
              "      <td>0.718</td>\n",
              "      <td>95970.729</td>\n",
              "      <td>5446.370</td>\n",
              "      <td>92700</td>\n",
              "      <td>7416.0</td>\n",
              "    </tr>\n",
              "    <tr>\n",
              "      <th>2</th>\n",
              "      <td>1.000</td>\n",
              "      <td>0.839</td>\n",
              "      <td>0.191</td>\n",
              "      <td>202826.656</td>\n",
              "      <td>12086.995</td>\n",
              "      <td>212800</td>\n",
              "      <td>8512.0</td>\n",
              "    </tr>\n",
              "    <tr>\n",
              "      <th>3</th>\n",
              "      <td>1.000</td>\n",
              "      <td>1.000</td>\n",
              "      <td>1.000</td>\n",
              "      <td>81307.556</td>\n",
              "      <td>4092.600</td>\n",
              "      <td>49700</td>\n",
              "      <td>11928.0</td>\n",
              "    </tr>\n",
              "    <tr>\n",
              "      <th>4</th>\n",
              "      <td>0.001</td>\n",
              "      <td>0.000</td>\n",
              "      <td>0.000</td>\n",
              "      <td>42461.374</td>\n",
              "      <td>2779.617</td>\n",
              "      <td>80000</td>\n",
              "      <td>30400.0</td>\n",
              "    </tr>\n",
              "    <tr>\n",
              "      <th>5</th>\n",
              "      <td>1.000</td>\n",
              "      <td>1.000</td>\n",
              "      <td>0.959</td>\n",
              "      <td>491571.166</td>\n",
              "      <td>20810.847</td>\n",
              "      <td>462500</td>\n",
              "      <td>240500.0</td>\n",
              "    </tr>\n",
              "  </tbody>\n",
              "</table>\n",
              "</div>"
            ],
            "text/plain": [
              "      Probability >= 80%  Probability >= 90%  Probability >= 100%  Mean Value  \\\n",
              "shop                                                                            \n",
              "1                  1.000               0.993                0.718   95970.729   \n",
              "2                  1.000               0.839                0.191  202826.656   \n",
              "3                  1.000               1.000                1.000   81307.556   \n",
              "4                  0.001               0.000                0.000   42461.374   \n",
              "5                  1.000               1.000                0.959  491571.166   \n",
              "\n",
              "       Variance  Expectation  Estimated Variance  \n",
              "shop                                              \n",
              "1      5446.370        92700              7416.0  \n",
              "2     12086.995       212800              8512.0  \n",
              "3      4092.600        49700             11928.0  \n",
              "4      2779.617        80000             30400.0  \n",
              "5     20810.847       462500            240500.0  "
            ]
          },
          "execution_count": 194,
          "metadata": {},
          "output_type": "execute_result"
        }
      ],
      "source": [
        "result_df = pd.concat(dfs, ignore_index=True)\n",
        "result_df.index = result_df.index + 1\n",
        "result_df.index.name = \"shop\"\n",
        "result_df"
      ]
    },
    {
      "cell_type": "markdown",
      "metadata": {},
      "source": [
        "**Выводы:**\n",
        "\n",
        "Как видим, только 4 магазин скорее всего не выйдет на планируемые показатели. \n",
        "\n",
        "Заметим, что прогнозируемое стандартное отклонение вы выручке не сильно отличается от ожидаемой.\n",
        "\n",
        "Таким образом, нам при помощи PyMC удалось спрогнозировать выручку магазинов."
      ]
    }
  ],
  "metadata": {
    "colab": {
      "provenance": []
    },
    "kernelspec": {
      "display_name": "Python 3",
      "language": "python",
      "name": "python3"
    },
    "language_info": {
      "codemirror_mode": {
        "name": "ipython",
        "version": 3
      },
      "file_extension": ".py",
      "mimetype": "text/x-python",
      "name": "python",
      "nbconvert_exporter": "python",
      "pygments_lexer": "ipython3",
      "version": "3.12.3"
    }
  },
  "nbformat": 4,
  "nbformat_minor": 4
}
