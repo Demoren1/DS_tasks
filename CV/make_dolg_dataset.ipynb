{
 "cells": [
  {
   "cell_type": "markdown",
   "metadata": {},
   "source": [
    "Разбивает на фото"
   ]
  },
  {
   "cell_type": "code",
   "execution_count": 5,
   "metadata": {},
   "outputs": [],
   "source": [
    "import os\n",
    "from PIL import Image\n",
    "\n",
    "# Constants\n",
    "input_image_path = '/home/alexander/DS/CV/dolgoprudny.jpg'\n",
    "output_folder = '/home/alexander/DS/CV/dolgopa'\n",
    "tile_size = 256\n",
    "overlap = 64  # Amount of overlap between tiles"
   ]
  },
  {
   "cell_type": "code",
   "execution_count": null,
   "metadata": {},
   "outputs": [
    {
     "name": "stdout",
     "output_type": "stream",
     "text": [
      "Tiles have been saved successfully.\n"
     ]
    }
   ],
   "source": [
    "# Create output folder if it doesn't exist\n",
    "os.makedirs(output_folder, exist_ok=True)\n",
    "\n",
    "# Open the input image\n",
    "image = Image.open(input_image_path)\n",
    "image_width, image_height = image.size\n",
    "\n",
    "# Calculate the number of tiles in each dimension\n",
    "x_tiles = (image_width - overlap) // (tile_size - overlap)\n",
    "y_tiles = (image_height - overlap) // (tile_size - overlap)\n",
    "\n",
    "# Generate and save the tiles\n",
    "for y in range(y_tiles):\n",
    "    for x in range(x_tiles):\n",
    "        left = x * (tile_size - overlap)\n",
    "        upper = y * (tile_size - overlap)\n",
    "        right = left + tile_size\n",
    "        lower = upper + tile_size\n",
    "\n",
    "        tile = image.crop((left, upper, right, lower))\n",
    "        tile.save(os.path.join(output_folder, f'tile_{x}_{y}.jpg'))\n",
    "\n",
    "print(\"Tiles have been saved successfully.\")"
   ]
  },
  {
   "cell_type": "markdown",
   "metadata": {},
   "source": [
    "Сшивает обратно"
   ]
  },
  {
   "cell_type": "code",
   "execution_count": null,
   "metadata": {},
   "outputs": [
    {
     "name": "stdout",
     "output_type": "stream",
     "text": [
      "The image has been stitched and saved successfully.\n"
     ]
    }
   ],
   "source": [
    "# Get list of tile files\n",
    "tile_files = sorted([f for f in os.listdir(output_folder) if f.endswith('.jpg')])\n",
    "\n",
    "# Calculate the number of tiles in each dimension\n",
    "x_tiles = max(int(f.split('_')[1]) for f in tile_files) + 1\n",
    "y_tiles = max(int(f.split('_')[2].split('.')[0]) for f in tile_files) + 1\n",
    "\n",
    "# Create a new blank image to paste the tiles into\n",
    "stitched_image = Image.new('RGB', (x_tiles * (tile_size - overlap) + overlap, y_tiles * (tile_size - overlap) + overlap))\n",
    "\n",
    "# Paste each tile into the correct position\n",
    "for tile_file in tile_files:\n",
    "    x = int(tile_file.split('_')[1])\n",
    "    y = int(tile_file.split('_')[2].split('.')[0])\n",
    "    tile = Image.open(os.path.join(output_folder, tile_file))\n",
    "    stitched_image.paste(tile, (x * (tile_size - overlap), y * (tile_size - overlap)))\n",
    "\n",
    "# Save the stitched image in the same directory as the input image\n",
    "stitched_image.save(os.path.join(os.path.dirname(input_image_path), 'stitched_dolgopa.jpg'))\n",
    "\n",
    "print(\"The image has been stitched and saved successfully.\")"
   ]
  }
 ],
 "metadata": {
  "kernelspec": {
   "display_name": "usr",
   "language": "python",
   "name": "python3"
  },
  "language_info": {
   "codemirror_mode": {
    "name": "ipython",
    "version": 3
   },
   "file_extension": ".py",
   "mimetype": "text/x-python",
   "name": "python",
   "nbconvert_exporter": "python",
   "pygments_lexer": "ipython3",
   "version": "3.12.3"
  }
 },
 "nbformat": 4,
 "nbformat_minor": 2
}
