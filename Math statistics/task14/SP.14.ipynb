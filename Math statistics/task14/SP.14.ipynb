{
 "cells": [
  {
   "cell_type": "markdown",
   "id": "580f0135",
   "metadata": {},
   "source": [
    "# Статистика, DS-поток\n",
    "## Задание SP.14\n",
    "\n",
    "**Правила:**\n",
    "\n",
    "* Дедлайны см. в боте. После дедлайна работы не принимаются кроме случаев наличия уважительной причины.\n",
    "* Выполненную работу нужно отправить телеграм-боту `@miptstats_ds23_bot`. Для начала работы с ботом каждый раз отправляйте `/start`. Дождитесь подтверждения от бота, что он принял файл. Если подтверждения нет, то что-то не так. **Работы, присланные иным способом, не принимаются.**\n",
    "* Дедлайны см. в боте. После дедлайна работы не принимаются кроме случаев наличия уважительной причины.\n",
    "* Прислать нужно **ноутбук в формате `ipynb`**.\n",
    "* Следите за размером файлов. **Бот не может принимать файлы весом более 20 Мб.** Если файл получается больше, заранее разделите его на несколько.\n",
    "* Выполнять задание необходимо полностью самостоятельно. **При обнаружении списывания все участники списывания получат штраф.**\n",
    "* Решения, размещенные на каких-либо интернет-ресурсах, не принимаются. Кроме того, публикация решения в открытом доступе может быть приравнена к предоставлении возможности списать.\n",
    "* Для выполнения задания используйте этот ноутбук в качестве основы, ничего не удаляя из него. Можно добавлять необходимое количество ячеек.\n",
    "* Комментарии к решению пишите в markdown-ячейках.\n",
    "* Выполнение задания (ход решения, выводы и пр.) должно быть осуществлено на русском языке.\n",
    "* Если код будет не понятен проверяющему, оценка может быть снижена.\n",
    "* Никакой код из данного задания при проверке запускаться не будет. *Если код студента не выполнен, недописан и т.д., то он не оценивается.*\n",
    "* В каждой задаче не забывайте делать **пояснения и выводы**.\n",
    "* **Код из рассказанных на занятиях ноутбуков** можно использовать без ограничений.\n",
    "\n",
    "\n",
    "\n",
    "**Правила оформления теоретических задач:**\n",
    "\n",
    "* Решения необходимо прислать одним из следующих способов:\n",
    "  * фотографией в правильной ориентации, где все четко видно, а почерк разборчив,\n",
    "    * отправив ее как файл боту вместе с ноутбуком *или*\n",
    "    * вставив ее в ноутбук посредством `Edit -> Insert Image` (<font color=\"red\">фото, вставленные ссылкой, не принимаются</font>);\n",
    "  * в виде $\\LaTeX$ в markdown-ячейках.\n",
    "* Решения не проверяются, если какое-то требование не выполнено. Особенно внимательно все проверьте в случае выбора второго пункта (вставки фото в ноутбук). <font color=\"red\"><b>Неправильно вставленные фотографии могут не передаться при отправке.</b></font> Для проверки попробуйте переместить `ipynb` в другую папку и открыть его там.\n",
    "* В решениях поясняйте, чем вы пользуетесь, хотя бы кратко. Например, если пользуетесь независимостью, то достаточно подписи вида \"*X и Y незав.*\"\n",
    "* Решение, в котором есть только ответ, и отсутствуют вычисления, оценивается в 0 баллов.\n",
    "\n",
    "\n",
    "**Баллы за задание.**\n",
    "\n",
    "Практика:\n",
    "* Задача P1 &mdash; 60 баллов;\n",
    "* Задача P2 &mdash; 30 баллов;\n",
    "\n",
    "**Важность задач:**\n",
    "\n",
    "* *высокая:* все задачи :)"
   ]
  },
  {
   "cell_type": "code",
   "execution_count": 437,
   "id": "a191eabb",
   "metadata": {},
   "outputs": [],
   "source": [
    "# Bot check\n",
    "\n",
    "# HW_ID: ds_sp14\n",
    "# Бот проверит этот ID и предупредит, если случайно сдать что-то не то.\n",
    "\n",
    "# Status: not final\n",
    "# Перед отправкой в финальном решении удали \"not\" в строчке выше.\n",
    "# Так бот проверит, что ты отправляешь финальную версию, а не промежуточную.\n",
    "# Никакие значения в этой ячейке не влияют на факт сдачи работы."
   ]
  },
  {
   "cell_type": "code",
   "execution_count": 438,
   "id": "f6863cac",
   "metadata": {},
   "outputs": [],
   "source": [
    "import numpy as np\n",
    "import pandas as pd\n",
    "import scipy.stats as sps\n",
    "from tqdm.notebook import tqdm\n",
    "import warnings\n",
    "warnings.filterwarnings(\"ignore\")\n",
    "\n",
    "from IPython.display import display\n",
    "import matplotlib.pyplot as plt\n",
    "import seaborn as sns\n",
    "sns.set(style='whitegrid', palette='Set2')\n",
    "\n",
    "from sklearn.model_selection import train_test_split\n",
    "\n",
    "from sklearn.preprocessing import StandardScaler\n",
    "import statsmodels.api as sm\n",
    "from sklearn.metrics import accuracy_score, f1_score\n",
    "from sklearn.metrics import mean_squared_error as mse\n",
    "\n",
    "import time\n"
   ]
  },
  {
   "cell_type": "markdown",
   "id": "bb381305",
   "metadata": {},
   "source": [
    "---\n",
    "### Задача P1.\n",
    "\n",
    "Скачайте <a href=\"https://raw.githubusercontent.com/bdemeshev/em301/master/datasets/flats_moscow.txt\">данные</a> о стоимости квартир в Москве.\tОписание данных доступно по <a href=\"https://github.com/bdemeshev/em301/blob/master/datasets/flats_moscow_description.txt\">ccылке</a>.\n",
    "\t\n",
    "Обучите линейную регрессионную модель для предсказания цены квартиры от всех других параметров."
   ]
  },
  {
   "cell_type": "code",
   "execution_count": 439,
   "id": "739fcff3",
   "metadata": {},
   "outputs": [
    {
     "data": {
      "text/html": [
       "<div>\n",
       "<style scoped>\n",
       "    .dataframe tbody tr th:only-of-type {\n",
       "        vertical-align: middle;\n",
       "    }\n",
       "\n",
       "    .dataframe tbody tr th {\n",
       "        vertical-align: top;\n",
       "    }\n",
       "\n",
       "    .dataframe thead th {\n",
       "        text-align: right;\n",
       "    }\n",
       "</style>\n",
       "<table border=\"1\" class=\"dataframe\">\n",
       "  <thead>\n",
       "    <tr style=\"text-align: right;\">\n",
       "      <th></th>\n",
       "      <th>n</th>\n",
       "      <th>price</th>\n",
       "      <th>totsp</th>\n",
       "      <th>livesp</th>\n",
       "      <th>kitsp</th>\n",
       "      <th>dist</th>\n",
       "      <th>metrdist</th>\n",
       "      <th>walk</th>\n",
       "      <th>brick</th>\n",
       "      <th>floor</th>\n",
       "      <th>code</th>\n",
       "    </tr>\n",
       "  </thead>\n",
       "  <tbody>\n",
       "    <tr>\n",
       "      <th>0</th>\n",
       "      <td>1</td>\n",
       "      <td>81</td>\n",
       "      <td>58</td>\n",
       "      <td>40</td>\n",
       "      <td>6.0</td>\n",
       "      <td>12.5</td>\n",
       "      <td>7</td>\n",
       "      <td>1</td>\n",
       "      <td>1</td>\n",
       "      <td>1</td>\n",
       "      <td>3</td>\n",
       "    </tr>\n",
       "    <tr>\n",
       "      <th>1</th>\n",
       "      <td>2</td>\n",
       "      <td>75</td>\n",
       "      <td>44</td>\n",
       "      <td>28</td>\n",
       "      <td>6.0</td>\n",
       "      <td>13.5</td>\n",
       "      <td>7</td>\n",
       "      <td>1</td>\n",
       "      <td>0</td>\n",
       "      <td>1</td>\n",
       "      <td>6</td>\n",
       "    </tr>\n",
       "    <tr>\n",
       "      <th>2</th>\n",
       "      <td>3</td>\n",
       "      <td>128</td>\n",
       "      <td>70</td>\n",
       "      <td>42</td>\n",
       "      <td>6.0</td>\n",
       "      <td>14.5</td>\n",
       "      <td>3</td>\n",
       "      <td>1</td>\n",
       "      <td>1</td>\n",
       "      <td>1</td>\n",
       "      <td>3</td>\n",
       "    </tr>\n",
       "    <tr>\n",
       "      <th>3</th>\n",
       "      <td>4</td>\n",
       "      <td>95</td>\n",
       "      <td>61</td>\n",
       "      <td>37</td>\n",
       "      <td>6.0</td>\n",
       "      <td>13.5</td>\n",
       "      <td>7</td>\n",
       "      <td>1</td>\n",
       "      <td>0</td>\n",
       "      <td>1</td>\n",
       "      <td>1</td>\n",
       "    </tr>\n",
       "    <tr>\n",
       "      <th>4</th>\n",
       "      <td>5</td>\n",
       "      <td>330</td>\n",
       "      <td>104</td>\n",
       "      <td>60</td>\n",
       "      <td>11.0</td>\n",
       "      <td>10.5</td>\n",
       "      <td>7</td>\n",
       "      <td>0</td>\n",
       "      <td>1</td>\n",
       "      <td>1</td>\n",
       "      <td>3</td>\n",
       "    </tr>\n",
       "  </tbody>\n",
       "</table>\n",
       "</div>"
      ],
      "text/plain": [
       "   n  price  totsp  livesp  kitsp  dist  metrdist  walk  brick  floor  code\n",
       "0  1     81     58      40    6.0  12.5         7     1      1      1     3\n",
       "1  2     75     44      28    6.0  13.5         7     1      0      1     6\n",
       "2  3    128     70      42    6.0  14.5         3     1      1      1     3\n",
       "3  4     95     61      37    6.0  13.5         7     1      0      1     1\n",
       "4  5    330    104      60   11.0  10.5         7     0      1      1     3"
      ]
     },
     "execution_count": 439,
     "metadata": {},
     "output_type": "execute_result"
    }
   ],
   "source": [
    "file_path = \"flats_moscow.txt\"\n",
    "df = pd.read_csv(file_path, sep=\"\\t\")\n",
    "\n",
    "X = df.drop(columns=[\"price\"])\n",
    "y = df[\"price\"]\n",
    "\n",
    "df.head()"
   ]
  },
  {
   "cell_type": "code",
   "execution_count": 440,
   "id": "fc22a5aa",
   "metadata": {},
   "outputs": [
    {
     "data": {
      "text/plain": [
       "0        81\n",
       "1        75\n",
       "2       128\n",
       "3        95\n",
       "4       330\n",
       "       ... \n",
       "2035    110\n",
       "2036     95\n",
       "2037     95\n",
       "2038    129\n",
       "2039    103\n",
       "Name: price, Length: 2040, dtype: int64"
      ]
     },
     "execution_count": 440,
     "metadata": {},
     "output_type": "execute_result"
    }
   ],
   "source": [
    "y"
   ]
  },
  {
   "cell_type": "code",
   "execution_count": 441,
   "id": "e60eb0e4",
   "metadata": {},
   "outputs": [],
   "source": [
    "X_train, X_test, y_train, y_test = train_test_split(X, y, test_size=0.25)\n",
    "\n",
    "# scaler = StandardScaler()\n",
    "\n",
    "# X_train = scaler.fit_transform(X_train)\n",
    "# X_test = scaler.transform(X_test)"
   ]
  },
  {
   "cell_type": "code",
   "execution_count": 442,
   "id": "c5fac211",
   "metadata": {},
   "outputs": [],
   "source": [
    "X_train = sm.add_constant(X_train)\n",
    "model = sm.GLM(y_train, X_train, family=sm.families.Gaussian())\n",
    "\n",
    "results = model.fit()"
   ]
  },
  {
   "cell_type": "markdown",
   "id": "e7c985ba",
   "metadata": {},
   "source": [
    "Проверьте гипотезы о незначимости признаков и постройте доверительные интервалы для коэффициентов модели."
   ]
  },
  {
   "cell_type": "markdown",
   "id": "3e22bc27",
   "metadata": {},
   "source": [
    "Посмотрим на summary и оттуда определим значимость признаков"
   ]
  },
  {
   "cell_type": "code",
   "execution_count": 443,
   "id": "03070ad0",
   "metadata": {},
   "outputs": [
    {
     "name": "stdout",
     "output_type": "stream",
     "text": [
      "                 Generalized Linear Model Regression Results                  \n",
      "==============================================================================\n",
      "Dep. Variable:                  price   No. Observations:                 1530\n",
      "Model:                            GLM   Df Residuals:                     1519\n",
      "Model Family:                Gaussian   Df Model:                           10\n",
      "Link Function:               Identity   Scale:                          786.53\n",
      "Method:                          IRLS   Log-Likelihood:                -7266.2\n",
      "Date:                Sun, 15 Dec 2024   Deviance:                   1.1947e+06\n",
      "Time:                        04:57:55   Pearson chi2:                 1.19e+06\n",
      "No. Iterations:                     3   Pseudo R-squ. (CS):             0.8899\n",
      "Covariance Type:            nonrobust                                         \n",
      "==============================================================================\n",
      "                 coef    std err          z      P>|z|      [0.025      0.975]\n",
      "------------------------------------------------------------------------------\n",
      "const        -12.3122      6.497     -1.895      0.058     -25.046       0.422\n",
      "n           7.331e-05      0.001      0.060      0.952      -0.002       0.002\n",
      "totsp          1.6201      0.133     12.185      0.000       1.360       1.881\n",
      "livesp         1.1677      0.199      5.860      0.000       0.777       1.558\n",
      "kitsp          1.6541      0.433      3.821      0.000       0.806       2.502\n",
      "dist          -3.4365      0.247    -13.913      0.000      -3.921      -2.952\n",
      "metrdist      -1.3562      0.191     -7.099      0.000      -1.731      -0.982\n",
      "walk           8.6070      1.595      5.398      0.000       5.482      11.732\n",
      "brick          5.6745      1.761      3.222      0.001       2.223       9.126\n",
      "floor          6.9389      1.788      3.880      0.000       3.434      10.444\n",
      "code          -2.8681      0.340     -8.443      0.000      -3.534      -2.202\n",
      "==============================================================================\n"
     ]
    }
   ],
   "source": [
    "print(results.summary())"
   ]
  },
  {
   "cell_type": "markdown",
   "id": "5c08fb8a",
   "metadata": {},
   "source": [
    "Ожидаемо, номер квартиры (n) оказался не значимым признаком, остальные -- значимым."
   ]
  },
  {
   "cell_type": "code",
   "execution_count": 444,
   "id": "cc2ea9b4",
   "metadata": {},
   "outputs": [],
   "source": [
    "def calculate_mse(X, y, X_test, y_test, add_const=False):\n",
    "    gauss_reg = sm.GLM(y, X, family=sm.families.Gaussian())\n",
    "    results_gauss_reg = gauss_reg.fit()\n",
    "\n",
    "    if add_const:\n",
    "        X_test = sm.add_constant(X_test)\n",
    "    y_pred = results_gauss_reg.predict(X_test)\n",
    "\n",
    "    mse_val = mse(y_test, y_pred)\n",
    "    print(f\"MSE={mse_val:.2f}\")\n",
    "    return mse_val;"
   ]
  },
  {
   "cell_type": "markdown",
   "id": "6264ef7f",
   "metadata": {},
   "source": [
    "Посчитаем, насколько хороша наша модель"
   ]
  },
  {
   "cell_type": "code",
   "execution_count": 445,
   "id": "7a258399",
   "metadata": {},
   "outputs": [
    {
     "name": "stdout",
     "output_type": "stream",
     "text": [
      "MSE=1082.19\n"
     ]
    },
    {
     "data": {
      "text/plain": [
       "np.float64(1082.189027104824)"
      ]
     },
     "execution_count": 445,
     "metadata": {},
     "output_type": "execute_result"
    }
   ],
   "source": [
    "calculate_mse(X_train, y_train, X_test, y_test, add_const=True)"
   ]
  },
  {
   "cell_type": "markdown",
   "id": "e2902729",
   "metadata": {},
   "source": [
    "Определите признаки желаемой для себя квартиры в Москве и постройте предсказательный интервал ее цены."
   ]
  },
  {
   "cell_type": "code",
   "execution_count": 446,
   "id": "b30bc67a",
   "metadata": {},
   "outputs": [
    {
     "name": "stdout",
     "output_type": "stream",
     "text": [
      "Желаемая квартира будет стоить(в $1000) в районе [246, 277]\n",
      "Характеристики желаемой квартиры\n"
     ]
    },
    {
     "data": {
      "text/html": [
       "<div>\n",
       "<style scoped>\n",
       "    .dataframe tbody tr th:only-of-type {\n",
       "        vertical-align: middle;\n",
       "    }\n",
       "\n",
       "    .dataframe tbody tr th {\n",
       "        vertical-align: top;\n",
       "    }\n",
       "\n",
       "    .dataframe thead th {\n",
       "        text-align: right;\n",
       "    }\n",
       "</style>\n",
       "<table border=\"1\" class=\"dataframe\">\n",
       "  <thead>\n",
       "    <tr style=\"text-align: right;\">\n",
       "      <th></th>\n",
       "      <th>n</th>\n",
       "      <th>totsp</th>\n",
       "      <th>livesp</th>\n",
       "      <th>kitsp</th>\n",
       "      <th>dist</th>\n",
       "      <th>metrdist</th>\n",
       "      <th>walk</th>\n",
       "      <th>brick</th>\n",
       "      <th>floor</th>\n",
       "      <th>code</th>\n",
       "    </tr>\n",
       "  </thead>\n",
       "  <tbody>\n",
       "    <tr>\n",
       "      <th>0</th>\n",
       "      <td>1</td>\n",
       "      <td>100</td>\n",
       "      <td>80</td>\n",
       "      <td>25</td>\n",
       "      <td>5</td>\n",
       "      <td>4</td>\n",
       "      <td>1</td>\n",
       "      <td>1</td>\n",
       "      <td>0</td>\n",
       "      <td>5</td>\n",
       "    </tr>\n",
       "  </tbody>\n",
       "</table>\n",
       "</div>"
      ],
      "text/plain": [
       "   n  totsp  livesp  kitsp  dist  metrdist  walk  brick  floor  code\n",
       "0  1    100      80     25     5         4     1      1      0     5"
      ]
     },
     "execution_count": 446,
     "metadata": {},
     "output_type": "execute_result"
    }
   ],
   "source": [
    "wished_flat = pd.DataFrame({\n",
    "    \"const\":[1],\n",
    "    \"n\":[1],\n",
    "    \"totsp\":[100],\n",
    "    \"livesp\":[80],\n",
    "    \"kitsp\":[25],\n",
    "    \"dist\":[5],\n",
    "    \"metrdist\":[4],\n",
    "    \"walk\":[1],\n",
    "    \"brick\":[1],\n",
    "    \"floor\":[0],\n",
    "    \"code\":[5],\n",
    "})\n",
    "\n",
    "prediction = results.get_prediction(wished_flat.iloc[0])\n",
    "predicted_interval = prediction.conf_int()\n",
    "\n",
    "\n",
    "print(f\"Желаемая квартира будет стоить(в $1000) в районе [{int(predicted_interval[0][0])}, {int(predicted_interval[0][1])}]\")\n",
    "\n",
    "print(\"Характеристики желаемой квартиры\")\n",
    "\n",
    "wished_flat = wished_flat.drop(columns=[\"const\"])\n",
    "wished_flat"
   ]
  },
  {
   "cell_type": "code",
   "execution_count": 447,
   "id": "8041093a",
   "metadata": {},
   "outputs": [
    {
     "data": {
      "text/plain": [
       "np.float64(334.6163109143706)"
      ]
     },
     "execution_count": 447,
     "metadata": {},
     "output_type": "execute_result"
    }
   ],
   "source": [
    "params = np.array(results.params)\n",
    "params_prod = params.T @ params\n",
    "params_prod"
   ]
  },
  {
   "cell_type": "code",
   "execution_count": 448,
   "id": "3c8487e1",
   "metadata": {},
   "outputs": [
    {
     "data": {
      "text/plain": [
       "(1530, 11)"
      ]
     },
     "execution_count": 448,
     "metadata": {},
     "output_type": "execute_result"
    }
   ],
   "source": [
    "n, d = X_train.shape\n",
    "n, d"
   ]
  },
  {
   "cell_type": "markdown",
   "id": "040f13d9",
   "metadata": {},
   "source": [
    "Зафиксируйте все параметры, кроме площади квартиры и постройте доверительную ленту для цены квартиры. Также постройте предсказательную ленту."
   ]
  },
  {
   "cell_type": "code",
   "execution_count": 449,
   "id": "c7e1979c",
   "metadata": {},
   "outputs": [
    {
     "data": {
      "text/html": [
       "<div>\n",
       "<style scoped>\n",
       "    .dataframe tbody tr th:only-of-type {\n",
       "        vertical-align: middle;\n",
       "    }\n",
       "\n",
       "    .dataframe tbody tr th {\n",
       "        vertical-align: top;\n",
       "    }\n",
       "\n",
       "    .dataframe thead th {\n",
       "        text-align: right;\n",
       "    }\n",
       "</style>\n",
       "<table border=\"1\" class=\"dataframe\">\n",
       "  <thead>\n",
       "    <tr style=\"text-align: right;\">\n",
       "      <th></th>\n",
       "      <th>totsp</th>\n",
       "      <th>predicted_price</th>\n",
       "      <th>lower_bound</th>\n",
       "      <th>upper_bound</th>\n",
       "      <th>predicted_pred_lower</th>\n",
       "      <th>predicted_pred_upper</th>\n",
       "    </tr>\n",
       "  </thead>\n",
       "  <tbody>\n",
       "    <tr>\n",
       "      <th>0</th>\n",
       "      <td>20</td>\n",
       "      <td>132.2</td>\n",
       "      <td>97.6</td>\n",
       "      <td>166.8</td>\n",
       "      <td>-35.3</td>\n",
       "      <td>299.7</td>\n",
       "    </tr>\n",
       "    <tr>\n",
       "      <th>1</th>\n",
       "      <td>30</td>\n",
       "      <td>148.4</td>\n",
       "      <td>116.3</td>\n",
       "      <td>180.5</td>\n",
       "      <td>-12.0</td>\n",
       "      <td>308.7</td>\n",
       "    </tr>\n",
       "    <tr>\n",
       "      <th>2</th>\n",
       "      <td>40</td>\n",
       "      <td>164.6</td>\n",
       "      <td>135.0</td>\n",
       "      <td>194.2</td>\n",
       "      <td>10.5</td>\n",
       "      <td>318.7</td>\n",
       "    </tr>\n",
       "    <tr>\n",
       "      <th>3</th>\n",
       "      <td>50</td>\n",
       "      <td>180.8</td>\n",
       "      <td>153.6</td>\n",
       "      <td>208.0</td>\n",
       "      <td>32.6</td>\n",
       "      <td>329.0</td>\n",
       "    </tr>\n",
       "    <tr>\n",
       "      <th>4</th>\n",
       "      <td>60</td>\n",
       "      <td>197.0</td>\n",
       "      <td>172.2</td>\n",
       "      <td>221.8</td>\n",
       "      <td>54.7</td>\n",
       "      <td>339.3</td>\n",
       "    </tr>\n",
       "  </tbody>\n",
       "</table>\n",
       "</div>"
      ],
      "text/plain": [
       "   totsp  predicted_price  lower_bound  upper_bound  predicted_pred_lower  \\\n",
       "0     20            132.2         97.6        166.8                 -35.3   \n",
       "1     30            148.4        116.3        180.5                 -12.0   \n",
       "2     40            164.6        135.0        194.2                  10.5   \n",
       "3     50            180.8        153.6        208.0                  32.6   \n",
       "4     60            197.0        172.2        221.8                  54.7   \n",
       "\n",
       "   predicted_pred_upper  \n",
       "0                 299.7  \n",
       "1                 308.7  \n",
       "2                 318.7  \n",
       "3                 329.0  \n",
       "4                 339.3  "
      ]
     },
     "execution_count": 449,
     "metadata": {},
     "output_type": "execute_result"
    }
   ],
   "source": [
    "wished_flat = pd.concat([pd.DataFrame({\"const\": [1] * len(wished_flat)}), wished_flat], axis=1)\n",
    "\n",
    "totsp_values = np.arange(20, 210, 10)\n",
    "flats = pd.concat([\n",
    "    wished_flat.assign(totsp=totsp) for totsp in totsp_values\n",
    "], ignore_index=True)\n",
    "\n",
    "wished_flat = wished_flat.drop(columns=[\"const\"])\n",
    "\n",
    "predictions = []\n",
    "alpha = 0.05\n",
    "z = sps.t.ppf(1 - alpha / 2, n-d) \n",
    "\n",
    "for i, flat in flats.iterrows():\n",
    "    prediction = results.get_prediction(flat)\n",
    "    predicted_conf_interval = prediction.conf_int()\n",
    "    \n",
    "    mean = prediction.predicted_mean[0]\n",
    "    tmp_flat = np.array(flat)\n",
    "    lower_bound = mean - z * prediction.se_mean[0] * np.sqrt(1 + tmp_flat.T @ tmp_flat / params_prod)\n",
    "    upper_bound = mean + z * prediction.se_mean[0] * np.sqrt(1 + tmp_flat.T @ tmp_flat / params_prod)\n",
    "    \n",
    "    predictions.append({\n",
    "        \"totsp\": flat[\"totsp\"],\n",
    "        \"predicted_price\": mean.round(1),\n",
    "        \"lower_bound\": predicted_conf_interval[0, 0].round(1),\n",
    "        \"upper_bound\": predicted_conf_interval[0, 1].round(1),\n",
    "        \"predicted_pred_lower\": lower_bound.round(1),\n",
    "        \"predicted_pred_upper\": upper_bound.round(1)\n",
    "    })\n",
    "\n",
    "predicted_df = pd.DataFrame(predictions)\n",
    "\n",
    "predicted_df.head()"
   ]
  },
  {
   "cell_type": "code",
   "execution_count": 450,
   "id": "1f8bf205",
   "metadata": {},
   "outputs": [
    {
     "data": {
      "image/png": "[encoded data removed]",
      "text/plain": [
       "<Figure size 1000x600 with 1 Axes>"
      ]
     },
     "metadata": {},
     "output_type": "display_data"
    }
   ],
   "source": [
    "mean_pred = predicted_df[\"predicted_price\"]\n",
    "\n",
    "plt.figure(figsize=(10, 6))\n",
    "plt.plot(totsp_values, mean_pred, label=\"Среднее предсказание\", color=\"blue\")\n",
    "plt.fill_between(\n",
    "    totsp_values,\n",
    "    predicted_df[\"lower_bound\"],\n",
    "    predicted_df[\"upper_bound\"],\n",
    "    color=\"blue\",\n",
    "    alpha=0.2,\n",
    "    label=\"Доверительная лента\",\n",
    ")\n",
    "plt.fill_between(\n",
    "    totsp_values,\n",
    "    predicted_df[\"predicted_pred_lower\"],\n",
    "    predicted_df[\"predicted_pred_upper\"],\n",
    "    color=\"green\",\n",
    "    alpha=0.2,\n",
    "    label=\"Предсказательная лента\",\n",
    ")\n",
    "plt.xlabel(\"Площадь квартиры (totsp)\")\n",
    "plt.ylabel(\"Цена квартиры (в $1000)\")\n",
    "plt.title(\"Доверительная и предсказательная ленты(ГЛМ)\")\n",
    "plt.legend()\n",
    "plt.show()"
   ]
  },
  {
   "cell_type": "markdown",
   "id": "f2abd626",
   "metadata": {},
   "source": [
    "Теперь постройте доверительную и предсказательную ленты методом бутстрепа."
   ]
  },
  {
   "cell_type": "code",
   "execution_count": 451,
   "id": "eb700da6",
   "metadata": {},
   "outputs": [],
   "source": [
    "def compute_confidence_interval(sample, model, bootstrap_samples_cnt=10000, alpha=0.95):\n",
    "    rows, cols = sample.shape\n",
    "    bootstrap_samples = []\n",
    "\n",
    "    for _ in range(bootstrap_samples_cnt):\n",
    "        sample_indices = np.random.choice(rows, size=rows, replace=True)\n",
    "\n",
    "        bootstrap_sample = sample[sample_indices]\n",
    "        bootstrap_samples.append(bootstrap_sample)\n",
    "\n",
    "    bootstrap_samples = np.array(bootstrap_samples)\n",
    "\n",
    "    prices = []\n",
    "    for bootstrap_sample in bootstrap_samples:\n",
    "        prices_predictions = model.get_prediction(bootstrap_sample)\n",
    "        prices.append(prices_predictions.predicted_mean)\n",
    "\n",
    "    prices = np.array(prices)\n",
    "    mean = np.mean(model.get_prediction(sample).predicted_mean)\n",
    "\n",
    "    var_est_bootstrap = np.sqrt(prices.mean(axis=1).var(axis=0))\n",
    "\n",
    "    mean_est_bootstrap = prices.mean(axis=1)\n",
    "\n",
    "    z_alpha = sps.norm.ppf((1 + alpha) / 2)\n",
    "    q_plus_alpha = np.percentile(mean_est_bootstrap, (1 + alpha) / 2)\n",
    "    q_minus_alpha = np.percentile(mean_est_bootstrap, (1 - alpha) / 2)\n",
    "\n",
    "    norm_interval = (\n",
    "        mean - z_alpha * var_est_bootstrap,\n",
    "        mean + z_alpha * var_est_bootstrap,\n",
    "    )\n",
    "    central_interval = (2 * mean - q_plus_alpha, 2 * mean - q_minus_alpha)\n",
    "    q_interval = (q_minus_alpha, q_plus_alpha)\n",
    "\n",
    "    return norm_interval, central_interval, q_interval"
   ]
  },
  {
   "cell_type": "code",
   "execution_count": 452,
   "id": "08df106a",
   "metadata": {},
   "outputs": [
    {
     "name": "stdout",
     "output_type": "stream",
     "text": [
      "Доверительный интервал: (258.6, 297.4)\n",
      "Предсказательный интервал: (285.7, 286.0)\n"
     ]
    }
   ],
   "source": [
    "wished_flat_np = np.array(wished_flat).squeeze()\n",
    "tmp_flats = np.array(flats)\n",
    "\n",
    "norm_interval, central_interval, q_interval = compute_confidence_interval(\n",
    "    tmp_flats, results, bootstrap_samples_cnt=3\n",
    ")\n",
    "\n",
    "print(f\"Доверительный интервал: ({norm_interval[0]:.1f}, {norm_interval[1]:.1f})\")\n",
    "print(f\"Предсказательный интервал: ({q_interval[0]:.1f}, {q_interval[1]:.1f})\")\n"
   ]
  },
  {
   "cell_type": "markdown",
   "id": "9ab64451",
   "metadata": {},
   "source": [
    "**Вывод:**\n",
    "\n",
    "Мы в очередной раз исследовали принципы работы ГЛМ. С ее помощью определили значимые признаки, а также построили довертельный и предсказательный интервалы.\n",
    "\n",
    "Также используя метод бутстрепа мы снова нашли доверительный и пресказательный интервалы."
   ]
  },
  {
   "cell_type": "markdown",
   "id": "cd681165",
   "metadata": {},
   "source": [
    "---\n",
    "### Задача P2.\n",
    "\n",
    "Пусть $X_1,\\ldots,X_n$ &mdash; выборка из пуассоновского распределения с параметром $\\theta$. Реализуйте следующие итерационные процедуры поиска оценки максимального правдоподобия параметра $\\theta$:\n",
    "* градиентный спуск, используя обычный градиент;\n",
    "* градиентный спуск, используя натуральный градиент;\n",
    "* метод Ньютона.\n",
    "\n",
    "Сравните данные методы по количеству итераций до сходимости и времени работы процедуры. Считайте, что метод сошелся если отклонение от истинного значения $\\theta$ меньше порога."
   ]
  },
  {
   "cell_type": "markdown",
   "id": "9cf87718",
   "metadata": {},
   "source": [
    "Все формулы приведены в ST.14 №2"
   ]
  },
  {
   "cell_type": "code",
   "execution_count": 464,
   "id": "ea172490",
   "metadata": {},
   "outputs": [],
   "source": [
    "THETA = 5\n",
    "THRESHOLD = 1e-3\n",
    "N = 10000\n",
    "\n",
    "X = sps.poisson(THETA).rvs(size = N)\n",
    "theta = 10"
   ]
  },
  {
   "cell_type": "markdown",
   "id": "6cf51125",
   "metadata": {},
   "source": [
    "GD"
   ]
  },
  {
   "cell_type": "code",
   "execution_count": 465,
   "id": "d06c9a35",
   "metadata": {},
   "outputs": [
    {
     "name": "stdout",
     "output_type": "stream",
     "text": [
      "          GD\n",
      "\n",
      "Количество итераций: 441\n",
      "Конечное значение theta: 5.000965563285802\n",
      "Время выполнения: 0.0020 секунд\n"
     ]
    }
   ],
   "source": [
    "def gradient_decsent(X, theta, lr=1e-5, treshold=THRESHOLD, true_theta=THETA):\n",
    "    n_iter = 0\n",
    "    size = len(X)\n",
    "    mean = np.mean(X)\n",
    "\n",
    "    start_time = time.time()\n",
    "\n",
    "    while np.abs(true_theta - theta) > treshold:\n",
    "        if n_iter > 1e6:\n",
    "            print(\"Метод разошелся\")\n",
    "            break\n",
    "        n_iter += 1\n",
    "        theta += lr * (size * mean / theta - size)\n",
    "\n",
    "    end_time = time.time()\n",
    "\n",
    "    elapsed_time = end_time - start_time\n",
    "\n",
    "    return n_iter, theta, elapsed_time\n",
    "\n",
    "\n",
    "n_iter, final_theta, elapsed_time = gradient_decsent(\n",
    "    X, theta, lr=1e-5, treshold=THRESHOLD, true_theta=THETA\n",
    ")\n",
    "\n",
    "print(\" \" * 10 + \"GD\")\n",
    "print(f\"\\nКоличество итераций: {n_iter}\")\n",
    "print(f\"Конечное значение theta: {final_theta}\")\n",
    "print(f\"Время выполнения: {elapsed_time:.4f} секунд\")"
   ]
  },
  {
   "cell_type": "markdown",
   "id": "e92af3d2",
   "metadata": {},
   "source": [
    "Natural GD"
   ]
  },
  {
   "cell_type": "code",
   "execution_count": 466,
   "id": "faacba5e",
   "metadata": {},
   "outputs": [
    {
     "name": "stdout",
     "output_type": "stream",
     "text": [
      "          natural GD\n",
      "\n",
      "Количество итераций: 75\n",
      "Конечное значение theta: 5.000950275414811\n",
      "Время выполнения: 0.0003 секунд\n"
     ]
    }
   ],
   "source": [
    "def natural_gradient_decsent(X, theta, lr=1e-5, treshold=THRESHOLD, true_theta=THETA):\n",
    "    n_iter = 0\n",
    "    size = len(X)\n",
    "    mean = np.mean(X)\n",
    "\n",
    "    start_time = time.time()\n",
    "\n",
    "    while np.abs(true_theta - theta) > treshold:\n",
    "        if n_iter > 1e6:\n",
    "            print(\"Метод разошелся\")\n",
    "            break\n",
    "        n_iter += 1\n",
    "        theta += lr * (size * mean  - size * theta)\n",
    "\n",
    "    end_time = time.time()\n",
    "\n",
    "    elapsed_time = end_time - start_time\n",
    "\n",
    "    return n_iter, theta, elapsed_time\n",
    "\n",
    "n_iter, final_theta, elapsed_time = natural_gradient_decsent(\n",
    "    X, theta, lr=1e-5, treshold=THRESHOLD, true_theta=THETA\n",
    ")\n",
    "\n",
    "print(\" \" * 10 + \"natural GD\")\n",
    "print(f\"\\nКоличество итераций: {n_iter}\")\n",
    "print(f\"Конечное значение theta: {final_theta}\")\n",
    "print(f\"Время выполнения: {elapsed_time:.4f} секунд\")"
   ]
  },
  {
   "cell_type": "markdown",
   "id": "444eace7",
   "metadata": {},
   "source": [
    "Метод Ньютона"
   ]
  },
  {
   "cell_type": "code",
   "execution_count": 467,
   "id": "7382ad7d",
   "metadata": {},
   "outputs": [
    {
     "name": "stdout",
     "output_type": "stream",
     "text": [
      "          Newton\n",
      "\n",
      "Количество итераций: 68\n",
      "Конечное значение theta: 5.00088724727736\n",
      "Время выполнения: 0.0006 секунд\n"
     ]
    }
   ],
   "source": [
    "def newton_method(X, theta, lr=1e-5, treshold=THRESHOLD, true_theta=THETA):\n",
    "    n_iter = 0\n",
    "    size = len(X)\n",
    "    mean = np.mean(X)\n",
    "\n",
    "    start_time = time.time()\n",
    "\n",
    "    while np.abs(true_theta - theta) > treshold:\n",
    "        if n_iter > 1e6:\n",
    "            print(\"Метод разошелся\")\n",
    "            break\n",
    "        # time.sleep(0.1)\n",
    "        # print(theta, end='\\r')\n",
    "        n_iter += 1\n",
    "        theta += lr * (theta - theta ** 2 / mean)\n",
    "\n",
    "    end_time = time.time()\n",
    "\n",
    "    elapsed_time = end_time - start_time\n",
    "\n",
    "    return n_iter, theta, elapsed_time\n",
    "\n",
    "n_iter, final_theta, elapsed_time = newton_method(\n",
    "    X, theta, lr=1e-1, treshold=THRESHOLD, true_theta=THETA\n",
    ")\n",
    "\n",
    "print(\" \" * 10 + \"Newton\")\n",
    "print(f\"\\nКоличество итераций: {n_iter}\")\n",
    "print(f\"Конечное значение theta: {final_theta}\")\n",
    "print(f\"Время выполнения: {elapsed_time:.4f} секунд\")"
   ]
  },
  {
   "cell_type": "markdown",
   "id": "c840d641",
   "metadata": {},
   "source": [
    "**Вывод:**\n",
    "\n",
    "Как видим, натуральному градиенту нужно значительно меньше времени, чем градиенту.\n",
    "\n",
    "В тоже время, метод Ньютона оказался более эффективным, чем натуральный градиент, но как упоминалось в теории, для метода Ньютона важно откуда мы начинаем, в отличии от обычных градиентных методов."
   ]
  }
 ],
 "metadata": {
  "hide_input": false,
  "kernelspec": {
   "display_name": "usr",
   "language": "python",
   "name": "python3"
  },
  "language_info": {
   "codemirror_mode": {
    "name": "ipython",
    "version": 3
   },
   "file_extension": ".py",
   "mimetype": "text/x-python",
   "name": "python",
   "nbconvert_exporter": "python",
   "pygments_lexer": "ipython3",
   "version": "3.12.3"
  },
  "varInspector": {
   "cols": {
    "lenName": 16,
    "lenType": 16,
    "lenVar": 40
   },
   "kernels_config": {
    "python": {
     "delete_cmd_postfix": "",
     "delete_cmd_prefix": "del ",
     "library": "var_list.py",
     "varRefreshCmd": "print(var_dic_list())"
    },
    "r": {
     "delete_cmd_postfix": ") ",
     "delete_cmd_prefix": "rm(",
     "library": "var_list.r",
     "varRefreshCmd": "cat(var_dic_list()) "
    }
   },
   "types_to_exclude": [
    "module",
    "function",
    "builtin_function_or_method",
    "instance",
    "_Feature"
   ],
   "window_display": false
  }
 },
 "nbformat": 4,
 "nbformat_minor": 5
}
