{
 "cells": [
  {
   "cell_type": "markdown",
   "id": "3988cf50",
   "metadata": {
    "id": "3988cf50"
   },
   "source": [
    "# Статистика, DS-поток\n",
    "## Задание S.12\n",
    "\n",
    "**Правила:**\n",
    "\n",
    "* Дедлайны см. в боте. После дедлайна работы не принимаются кроме случаев наличия уважительной причины.\n",
    "* Выполненную работу нужно отправить телеграм-боту `@miptstats_ds23_bot`. Для начала работы с ботом каждый раз отправляйте `/start`. Дождитесь подтверждения от бота, что он принял файл. Если подтверждения нет, то что-то не так. **Работы, присланные иным способом, не принимаются.**\n",
    "* Дедлайны см. в боте. После дедлайна работы не принимаются кроме случаев наличия уважительной причины.\n",
    "* Прислать нужно **ноутбук в формате `ipynb`**.\n",
    "* Следите за размером файлов. **Бот не может принимать файлы весом более 20 Мб.** Если файл получается больше, заранее разделите его на несколько.\n",
    "* Выполнять задание необходимо полностью самостоятельно. **При обнаружении списывания все участники списывания получат штраф.**\n",
    "* Решения, размещенные на каких-либо интернет-ресурсах, не принимаются. Кроме того, публикация решения в открытом доступе может быть приравнена к предоставлении возможности списать.\n",
    "* Для выполнения задания используйте этот ноутбук в качестве основы, ничего не удаляя из него. Можно добавлять необходимое количество ячеек.\n",
    "* Комментарии к решению пишите в markdown-ячейках.\n",
    "* Выполнение задания (ход решения, выводы и пр.) должно быть осуществлено на русском языке.\n",
    "* Если код будет не понятен проверяющему, оценка может быть снижена.\n",
    "* Никакой код из данного задания при проверке запускаться не будет. *Если код студента не выполнен, недописан и т.д., то он не оценивается.*\n",
    "* В каждой задаче не забывайте делать **пояснения и выводы**.\n",
    "* **Код из рассказанных на занятиях ноутбуков** можно использовать без ограничений.\n",
    "\n",
    "\n",
    "\n",
    "**Правила оформления теоретических задач:**\n",
    "\n",
    "* Решения необходимо прислать одним из следующих способов:\n",
    "  * фотографией в правильной ориентации, где все четко видно, а почерк разборчив,\n",
    "    * отправив ее как файл боту вместе с ноутбуком *или*\n",
    "    * вставив ее в ноутбук посредством `Edit -> Insert Image` (<font color=\"red\">фото, вставленные ссылкой, не принимаются</font>);\n",
    "  * в виде $\\LaTeX$ в markdown-ячейках.\n",
    "* Решения не проверяются, если какое-то требование не выполнено. Особенно внимательно все проверьте в случае выбора второго пункта (вставки фото в ноутбук). <font color=\"red\"><b>Неправильно вставленные фотографии могут не передаться при отправке.</b></font> Для проверки попробуйте переместить `ipynb` в другую папку и открыть его там.\n",
    "* В решениях поясняйте, чем вы пользуетесь, хотя бы кратко. Например, если пользуетесь независимостью, то достаточно подписи вида \"*X и Y незав.*\"\n",
    "* Решение, в котором есть только ответ, и отсутствуют вычисления, оценивается в 0 баллов.\n",
    "\n",
    "\n",
    "**Баллы за задание.**\n",
    "\n",
    "Практика:\n",
    "* Задача P1 &mdash; 50 баллов;\n",
    "* Задача P2 &mdash; 100 баллов.\n",
    "\n",
    "Задачи разных типов учитываются в разных рейтингах.\n",
    "\n",
    "**Важность задач:**\n",
    "\n",
    "* *высокая:* задачи P1, P2;\n",
    "\n",
    "Задачи расставлены в том порядке, в котором их наиболее логично выполнять."
   ]
  },
  {
   "cell_type": "code",
   "execution_count": 257,
   "id": "9f8ff1f0",
   "metadata": {
    "id": "9f8ff1f0"
   },
   "outputs": [],
   "source": [
    "# Bot check\n",
    "\n",
    "# HW_ID: ds_sp11\n",
    "# Бот проверит этот ID и предупредит, если случайно сдать что-то не то.\n",
    "\n",
    "# Status: not final\n",
    "# Перед отправкой в финальном решении удали \"not\" в строчке выше.\n",
    "# Так бот проверит, что ты отправляешь финальную версию, а не промежуточную.\n",
    "# Никакие значения в этой ячейке не влияют на факт сдачи работы."
   ]
  },
  {
   "cell_type": "code",
   "execution_count": 258,
   "id": "7fc4dca9",
   "metadata": {
    "id": "7fc4dca9"
   },
   "outputs": [],
   "source": [
    "import numpy as np\n",
    "import pandas as pd\n",
    "import scipy.stats as sps\n",
    "from tqdm.notebook import tqdm\n",
    "import warnings\n",
    "\n",
    "warnings.filterwarnings(\"ignore\")\n",
    "\n",
    "from IPython.display import display\n",
    "import matplotlib.pyplot as plt\n",
    "import seaborn as sns\n",
    "\n",
    "from sklearn.model_selection import train_test_split\n",
    "from sklearn.preprocessing import OneHotEncoder, StandardScaler\n",
    "from sklearn import metrics\n",
    "\n",
    "sns.set(style=\"whitegrid\", font_scale=1.3, palette=\"Set2\")"
   ]
  },
  {
   "cell_type": "markdown",
   "id": "05131091",
   "metadata": {
    "id": "05131091"
   },
   "source": [
    "---\n",
    "### Задача P1.\n",
    "\n",
    "Напишите класс, реализующий линейную регрессию и ее статистические свойства в условиях гомоскедастичности."
   ]
  },
  {
   "cell_type": "code",
   "execution_count": 259,
   "id": "a18b42aa",
   "metadata": {
    "id": "a18b42aa"
   },
   "outputs": [],
   "source": [
    "class LinearRegression:\n",
    "    \"\"\"\n",
    "    Класс, реализующий линейную регрессию c помощью МНК.\n",
    "    \"\"\"\n",
    "\n",
    "    def __init__(self, fit_intercept=True, alpha=0.05):\n",
    "        \"\"\"\n",
    "        :param fit_intercept: добавлять ли смещение(константный признак)\n",
    "        :param alpha: уровень значимости критерия,\n",
    "                      (1-alpha): уровень доверия дов. интервала\n",
    "        \"\"\"\n",
    "        self.fit_intercept = fit_intercept\n",
    "        self.alpha = alpha\n",
    "\n",
    "    def fit(self, X, Y):\n",
    "        \"\"\"\n",
    "        Функция обучения модели.\n",
    "\n",
    "        Предполагается модель Y = X * theta + epsilon,\n",
    "        где epsilon имеет норм. распр. с параметрами (0, sigma^2 * I_n).\n",
    "\n",
    "        :param X: регрессор (матрица размера n x d),\n",
    "        :param Y: отклик (матрица размера n x 1),\n",
    "        \"\"\"\n",
    "        tmp_X = X.copy()\n",
    "\n",
    "        self.n, self.d = tmp_X.shape\n",
    "\n",
    "        if self.fit_intercept:\n",
    "            tmp_X = np.hstack((np.ones((self.n, 1)), X))\n",
    "            self.d += 1\n",
    "\n",
    "        self.theta = np.linalg.inv(tmp_X.T @ tmp_X) @ tmp_X.T @ Y\n",
    "        self.sigma_sq = (\n",
    "            1\n",
    "            / (self.n - self.d)\n",
    "            * (Y - tmp_X @ self.theta).T\n",
    "            @ (Y - tmp_X @ self.theta)\n",
    "        )\n",
    "\n",
    "        t_quantile = sps.t(self.n - self.d).ppf(1 - self.alpha / 2)\n",
    "        self.conf_int = np.array(\n",
    "            [\n",
    "                self.theta\n",
    "                - np.sqrt(self.sigma_sq * np.linalg.inv(tmp_X.T @ tmp_X).diagonal())\n",
    "                * t_quantile,\n",
    "                self.theta\n",
    "                + np.sqrt(self.sigma_sq * np.linalg.inv(tmp_X.T @ tmp_X).diagonal())\n",
    "                * t_quantile,\n",
    "            ]\n",
    "        )\n",
    "\n",
    "        self.t_stats = self.theta / np.sqrt(\n",
    "            self.sigma_sq * np.linalg.inv(tmp_X.T @ tmp_X).diagonal()\n",
    "        )\n",
    "        self.t_pvalue = 2 * (1 - sps.t(self.n - self.d).cdf(np.abs(self.t_stats)))\n",
    "        self.f_stat = (\n",
    "            (self.n - self.d)\n",
    "            / self.d\n",
    "            * np.linalg.norm(tmp_X @ self.theta) ** 2\n",
    "            / np.linalg.norm(Y - tmp_X @ self.theta) ** 2\n",
    "        )\n",
    "        self.f_pvalue = 1 - sps.f(self.d, self.n - self.d).cdf(self.f_stat)\n",
    "\n",
    "        return self\n",
    "\n",
    "    def summary(self, feature_names=None, fit_intercept=True):\n",
    "        \"\"\"\n",
    "        Выводит таблицу с информацией для каждого коэффициента,\n",
    "        в которой указана его оценка, границы дов. интервала,\n",
    "        статистика критерия и значение p-value.\n",
    "\n",
    "        :param feature_names: список имен признаков (list[str]).\n",
    "        :param fit_intercept: bool, если True, добавить строку для Intercept.\n",
    "        \"\"\"\n",
    "        print(f\"Линейная регрессия на {self.d} признаках и {self.n} объектах\")\n",
    "        print(f\"Sigma: {self.sigma_sq:.6f}\")\n",
    "\n",
    "        # Напечатайте результаты F-теста\n",
    "        f_df = pd.DataFrame(\n",
    "            {\n",
    "                \"F-statistic\": [self.f_stat.round(4)],\n",
    "                \"f-pvalue\": [self.f_pvalue.round(4)],\n",
    "            }\n",
    "        )\n",
    "        display(f_df)\n",
    "\n",
    "        if feature_names is None:\n",
    "            feature_names = [f\"theta{i}\" for i in range(1, len(self.theta))]\n",
    "\n",
    "        if fit_intercept:\n",
    "            feature_names = [\"Intercept\"] + feature_names\n",
    "\n",
    "        result_df = pd.DataFrame(\n",
    "            {\n",
    "                \"Feature\": feature_names,\n",
    "                \"coef\": self.theta.round(4),\n",
    "                \"t\": self.t_stats.round(4),\n",
    "                \"P > |t|\": self.t_pvalue.round(4),\n",
    "                \"[0.025]\": self.conf_int[0, :].round(4),\n",
    "                \"[0.975]\": self.conf_int[1, :].round(4),\n",
    "            }\n",
    "        )\n",
    "        display(result_df)\n",
    "\n",
    "    def predict(self, X, type_interval=None):\n",
    "        \"\"\"\n",
    "        Возвращает предсказание отклика на новых объектах X\n",
    "        и опционально доверительный/предсказательный интервал.\n",
    "\n",
    "        :param X: матрица объектов размера n x d\n",
    "        :param type_interval: тип дов. интервала.\n",
    "            Для этого параметра возможны три варианта:\n",
    "            * None - возвратить только предсказание,\n",
    "                    размер return-a: n;\n",
    "            * 'confidence' - возвратить предсказание и\n",
    "                доверительный интервал для среднего отклика,\n",
    "                размер return-a: n x 3;\n",
    "            * 'prediction' - возвратить предсказание и\n",
    "                предсказательный интервал для новых объектов,\n",
    "                размер return-a: n x 3.\n",
    "\n",
    "        :return y_pred: предсказание/предсказание и дов./предсказ. инт.\n",
    "\n",
    "        \"\"\"\n",
    "        tmp_X = X\n",
    "        n, d = X.shape\n",
    "        if self.fit_intercept:\n",
    "            tmp_X = np.hstack((np.ones((n, 1)), X))\n",
    "            d += 1\n",
    "\n",
    "        pred = tmp_X @ self.theta\n",
    "        margin = 0\n",
    "        t_quantile = sps.t(n - d).ppf(1 - self.alpha / 2)\n",
    "\n",
    "        if type_interval == \"confidence\":\n",
    "            margin = (\n",
    "                t_quantile\n",
    "                * np.sqrt(\n",
    "                    self.sigma_sq * tmp_X @ np.linalg.inv(tmp_X.T @ tmp_X) @ tmp_X.T\n",
    "                ).diagonal()\n",
    "            )\n",
    "\n",
    "        elif type_interval == \"prediction\":\n",
    "            margin = (\n",
    "                t_quantile\n",
    "                * np.sqrt(\n",
    "                    self.sigma_sq\n",
    "                    * (1 + tmp_X @ np.linalg.inv(tmp_X.T @ tmp_X) @ tmp_X.T)\n",
    "                ).diagonal()\n",
    "            )\n",
    "        lower_bound = pred - margin\n",
    "        upper_bound = pred + margin\n",
    "        result = np.column_stack((pred, lower_bound, upper_bound))\n",
    "        return result"
   ]
  },
  {
   "cell_type": "markdown",
   "id": "e45d656d",
   "metadata": {
    "id": "e45d656d"
   },
   "source": [
    "Примените написанный класс для данных из задания 6 курса Введение в анализ данных и напечатайте `summary`. Предварительно разделите данные на обучающую и тестовую части, выполните необходимые преобразования признаков.\n",
    "\n",
    "Проверку применимости критериев в данной задаче выполнять не нужно."
   ]
  },
  {
   "cell_type": "code",
   "execution_count": 260,
   "id": "09c20dc1",
   "metadata": {},
   "outputs": [
    {
     "data": {
      "text/html": [
       "<div>\n",
       "<style scoped>\n",
       "    .dataframe tbody tr th:only-of-type {\n",
       "        vertical-align: middle;\n",
       "    }\n",
       "\n",
       "    .dataframe tbody tr th {\n",
       "        vertical-align: top;\n",
       "    }\n",
       "\n",
       "    .dataframe thead th {\n",
       "        text-align: right;\n",
       "    }\n",
       "</style>\n",
       "<table border=\"1\" class=\"dataframe\">\n",
       "  <thead>\n",
       "    <tr style=\"text-align: right;\">\n",
       "      <th></th>\n",
       "      <th>season</th>\n",
       "      <th>mnth</th>\n",
       "      <th>holiday</th>\n",
       "      <th>weekday</th>\n",
       "      <th>workingday</th>\n",
       "      <th>weathersit</th>\n",
       "      <th>temp</th>\n",
       "      <th>atemp</th>\n",
       "      <th>hum</th>\n",
       "      <th>windspeed</th>\n",
       "      <th>cnt</th>\n",
       "    </tr>\n",
       "  </thead>\n",
       "  <tbody>\n",
       "    <tr>\n",
       "      <th>0</th>\n",
       "      <td>1</td>\n",
       "      <td>1</td>\n",
       "      <td>0</td>\n",
       "      <td>6</td>\n",
       "      <td>0</td>\n",
       "      <td>2</td>\n",
       "      <td>0.344167</td>\n",
       "      <td>0.363625</td>\n",
       "      <td>0.805833</td>\n",
       "      <td>0.160446</td>\n",
       "      <td>985</td>\n",
       "    </tr>\n",
       "    <tr>\n",
       "      <th>1</th>\n",
       "      <td>1</td>\n",
       "      <td>1</td>\n",
       "      <td>0</td>\n",
       "      <td>0</td>\n",
       "      <td>0</td>\n",
       "      <td>2</td>\n",
       "      <td>0.363478</td>\n",
       "      <td>0.353739</td>\n",
       "      <td>0.696087</td>\n",
       "      <td>0.248539</td>\n",
       "      <td>801</td>\n",
       "    </tr>\n",
       "    <tr>\n",
       "      <th>2</th>\n",
       "      <td>1</td>\n",
       "      <td>1</td>\n",
       "      <td>0</td>\n",
       "      <td>1</td>\n",
       "      <td>1</td>\n",
       "      <td>1</td>\n",
       "      <td>0.196364</td>\n",
       "      <td>0.189405</td>\n",
       "      <td>0.437273</td>\n",
       "      <td>0.248309</td>\n",
       "      <td>1349</td>\n",
       "    </tr>\n",
       "    <tr>\n",
       "      <th>3</th>\n",
       "      <td>1</td>\n",
       "      <td>1</td>\n",
       "      <td>0</td>\n",
       "      <td>2</td>\n",
       "      <td>1</td>\n",
       "      <td>1</td>\n",
       "      <td>0.200000</td>\n",
       "      <td>0.212122</td>\n",
       "      <td>0.590435</td>\n",
       "      <td>0.160296</td>\n",
       "      <td>1562</td>\n",
       "    </tr>\n",
       "    <tr>\n",
       "      <th>4</th>\n",
       "      <td>1</td>\n",
       "      <td>1</td>\n",
       "      <td>0</td>\n",
       "      <td>3</td>\n",
       "      <td>1</td>\n",
       "      <td>1</td>\n",
       "      <td>0.226957</td>\n",
       "      <td>0.229270</td>\n",
       "      <td>0.436957</td>\n",
       "      <td>0.186900</td>\n",
       "      <td>1600</td>\n",
       "    </tr>\n",
       "  </tbody>\n",
       "</table>\n",
       "</div>"
      ],
      "text/plain": [
       "   season  mnth  holiday  weekday  workingday  weathersit      temp     atemp  \\\n",
       "0       1     1        0        6           0           2  0.344167  0.363625   \n",
       "1       1     1        0        0           0           2  0.363478  0.353739   \n",
       "2       1     1        0        1           1           1  0.196364  0.189405   \n",
       "3       1     1        0        2           1           1  0.200000  0.212122   \n",
       "4       1     1        0        3           1           1  0.226957  0.229270   \n",
       "\n",
       "        hum  windspeed   cnt  \n",
       "0  0.805833   0.160446   985  \n",
       "1  0.696087   0.248539   801  \n",
       "2  0.437273   0.248309  1349  \n",
       "3  0.590435   0.160296  1562  \n",
       "4  0.436957   0.186900  1600  "
      ]
     },
     "execution_count": 260,
     "metadata": {},
     "output_type": "execute_result"
    }
   ],
   "source": [
    "data = pd.read_csv('day.csv')[[\n",
    "    'season', 'mnth', 'holiday', 'weekday', 'workingday', \n",
    "    'weathersit', 'temp', 'atemp', 'hum', 'windspeed', 'cnt'\n",
    "]]\n",
    "\n",
    "train, test = train_test_split(data, test_size=0.2, random_state=42)\n",
    "\n",
    "categorial_features = [\n",
    "    'season', 'mnth', 'holiday', \n",
    "    'weekday', 'workingday', 'weathersit'\n",
    "]\n",
    "real_features = ['temp', 'atemp', 'hum', 'windspeed']\n",
    "target_feature = 'cnt'\n",
    "\n",
    "encoder = OneHotEncoder(drop='first', sparse_output=False)\n",
    "train_cat = encoder.fit_transform(train[categorial_features])\n",
    "test_cat = encoder.transform(test[categorial_features])\n",
    "\n",
    "scaler = StandardScaler()\n",
    "train_real = scaler.fit_transform(train[real_features])\n",
    "test_real = scaler.transform(test[real_features])\n",
    "\n",
    "X_train = np.hstack([train_real, train_cat])\n",
    "y_train = train[target_feature].values\n",
    "\n",
    "X_test = np.hstack([test_real, test_cat])\n",
    "y_test = test[target_feature].values\n",
    "\n",
    "data.head()"
   ]
  },
  {
   "cell_type": "markdown",
   "id": "7274ecaf",
   "metadata": {
    "id": "7274ecaf"
   },
   "source": [
    "Для объектов из тестовой части постройте\n",
    "* точечные предсказания,\n",
    "* доверительный интервал для среднего таргета,\n",
    "* предсказательный интервал для таргета.\n",
    "\n",
    "Посчитайте, насколько часто истинное значение таргета попадает в построенные интервалы. Можно ли как-то проинтерпретировать это число?"
   ]
  },
  {
   "cell_type": "markdown",
   "id": "08a122cb",
   "metadata": {},
   "source": [
    "Выведем точечные предсказания"
   ]
  },
  {
   "cell_type": "code",
   "execution_count": 262,
   "id": "f580cbfd",
   "metadata": {
    "id": "f580cbfd"
   },
   "outputs": [
    {
     "name": "stdout",
     "output_type": "stream",
     "text": [
      "Линейная регрессия на 29 признаках и 584 объектах\n",
      "Sigma: 6836542.191332\n"
     ]
    },
    {
     "data": {
      "text/html": [
       "<div>\n",
       "<style scoped>\n",
       "    .dataframe tbody tr th:only-of-type {\n",
       "        vertical-align: middle;\n",
       "    }\n",
       "\n",
       "    .dataframe tbody tr th {\n",
       "        vertical-align: top;\n",
       "    }\n",
       "\n",
       "    .dataframe thead th {\n",
       "        text-align: right;\n",
       "    }\n",
       "</style>\n",
       "<table border=\"1\" class=\"dataframe\">\n",
       "  <thead>\n",
       "    <tr style=\"text-align: right;\">\n",
       "      <th></th>\n",
       "      <th>F-statistic</th>\n",
       "      <th>f-pvalue</th>\n",
       "    </tr>\n",
       "  </thead>\n",
       "  <tbody>\n",
       "    <tr>\n",
       "      <th>0</th>\n",
       "      <td>64.199</td>\n",
       "      <td>0.0</td>\n",
       "    </tr>\n",
       "  </tbody>\n",
       "</table>\n",
       "</div>"
      ],
      "text/plain": [
       "   F-statistic  f-pvalue\n",
       "0       64.199       0.0"
      ]
     },
     "metadata": {},
     "output_type": "display_data"
    },
    {
     "data": {
      "text/html": [
       "<div>\n",
       "<style scoped>\n",
       "    .dataframe tbody tr th:only-of-type {\n",
       "        vertical-align: middle;\n",
       "    }\n",
       "\n",
       "    .dataframe tbody tr th {\n",
       "        vertical-align: top;\n",
       "    }\n",
       "\n",
       "    .dataframe thead th {\n",
       "        text-align: right;\n",
       "    }\n",
       "</style>\n",
       "<table border=\"1\" class=\"dataframe\">\n",
       "  <thead>\n",
       "    <tr style=\"text-align: right;\">\n",
       "      <th></th>\n",
       "      <th>Feature</th>\n",
       "      <th>coef</th>\n",
       "      <th>t</th>\n",
       "      <th>P &gt; |t|</th>\n",
       "      <th>[0.025]</th>\n",
       "      <th>[0.975]</th>\n",
       "    </tr>\n",
       "  </thead>\n",
       "  <tbody>\n",
       "    <tr>\n",
       "      <th>0</th>\n",
       "      <td>Intercept</td>\n",
       "      <td>4088.2638</td>\n",
       "      <td>6.8814</td>\n",
       "      <td>0.0000</td>\n",
       "      <td>2.921295e+03</td>\n",
       "      <td>5.255233e+03</td>\n",
       "    </tr>\n",
       "    <tr>\n",
       "      <th>1</th>\n",
       "      <td>theta1</td>\n",
       "      <td>3986.6323</td>\n",
       "      <td>4.4282</td>\n",
       "      <td>0.0000</td>\n",
       "      <td>2.218237e+03</td>\n",
       "      <td>5.755027e+03</td>\n",
       "    </tr>\n",
       "    <tr>\n",
       "      <th>2</th>\n",
       "      <td>theta2</td>\n",
       "      <td>-3389.8191</td>\n",
       "      <td>-4.0523</td>\n",
       "      <td>0.0001</td>\n",
       "      <td>-5.032966e+03</td>\n",
       "      <td>-1.746673e+03</td>\n",
       "    </tr>\n",
       "    <tr>\n",
       "      <th>3</th>\n",
       "      <td>theta3</td>\n",
       "      <td>-214.0669</td>\n",
       "      <td>-1.3860</td>\n",
       "      <td>0.1663</td>\n",
       "      <td>-5.174392e+02</td>\n",
       "      <td>8.930540e+01</td>\n",
       "    </tr>\n",
       "    <tr>\n",
       "      <th>4</th>\n",
       "      <td>theta4</td>\n",
       "      <td>-317.9329</td>\n",
       "      <td>-2.6133</td>\n",
       "      <td>0.0092</td>\n",
       "      <td>-5.569067e+02</td>\n",
       "      <td>-7.895900e+01</td>\n",
       "    </tr>\n",
       "    <tr>\n",
       "      <th>5</th>\n",
       "      <td>theta5</td>\n",
       "      <td>1473.5716</td>\n",
       "      <td>1.9989</td>\n",
       "      <td>0.0461</td>\n",
       "      <td>2.552740e+01</td>\n",
       "      <td>2.921616e+03</td>\n",
       "    </tr>\n",
       "    <tr>\n",
       "      <th>6</th>\n",
       "      <td>theta6</td>\n",
       "      <td>414.1882</td>\n",
       "      <td>0.4900</td>\n",
       "      <td>0.6243</td>\n",
       "      <td>-1.246071e+03</td>\n",
       "      <td>2.074448e+03</td>\n",
       "    </tr>\n",
       "    <tr>\n",
       "      <th>7</th>\n",
       "      <td>theta7</td>\n",
       "      <td>1935.9123</td>\n",
       "      <td>2.6279</td>\n",
       "      <td>0.0088</td>\n",
       "      <td>4.888890e+02</td>\n",
       "      <td>3.382936e+03</td>\n",
       "    </tr>\n",
       "    <tr>\n",
       "      <th>8</th>\n",
       "      <td>theta8</td>\n",
       "      <td>168.7543</td>\n",
       "      <td>0.3180</td>\n",
       "      <td>0.7506</td>\n",
       "      <td>-8.736663e+02</td>\n",
       "      <td>1.211175e+03</td>\n",
       "    </tr>\n",
       "    <tr>\n",
       "      <th>9</th>\n",
       "      <td>theta9</td>\n",
       "      <td>314.5627</td>\n",
       "      <td>0.4764</td>\n",
       "      <td>0.6340</td>\n",
       "      <td>-9.825180e+02</td>\n",
       "      <td>1.611643e+03</td>\n",
       "    </tr>\n",
       "    <tr>\n",
       "      <th>10</th>\n",
       "      <td>theta10</td>\n",
       "      <td>-836.5316</td>\n",
       "      <td>-0.8553</td>\n",
       "      <td>0.3928</td>\n",
       "      <td>-2.757662e+03</td>\n",
       "      <td>1.084599e+03</td>\n",
       "    </tr>\n",
       "    <tr>\n",
       "      <th>11</th>\n",
       "      <td>theta11</td>\n",
       "      <td>-137.3415</td>\n",
       "      <td>-0.1314</td>\n",
       "      <td>0.8955</td>\n",
       "      <td>-2.190134e+03</td>\n",
       "      <td>1.915451e+03</td>\n",
       "    </tr>\n",
       "    <tr>\n",
       "      <th>12</th>\n",
       "      <td>theta12</td>\n",
       "      <td>-380.8158</td>\n",
       "      <td>-0.3491</td>\n",
       "      <td>0.7271</td>\n",
       "      <td>-2.523320e+03</td>\n",
       "      <td>1.761688e+03</td>\n",
       "    </tr>\n",
       "    <tr>\n",
       "      <th>13</th>\n",
       "      <td>theta13</td>\n",
       "      <td>-585.0379</td>\n",
       "      <td>-0.4853</td>\n",
       "      <td>0.6277</td>\n",
       "      <td>-2.953024e+03</td>\n",
       "      <td>1.782948e+03</td>\n",
       "    </tr>\n",
       "    <tr>\n",
       "      <th>14</th>\n",
       "      <td>theta14</td>\n",
       "      <td>-495.4510</td>\n",
       "      <td>-0.4235</td>\n",
       "      <td>0.6721</td>\n",
       "      <td>-2.793258e+03</td>\n",
       "      <td>1.802356e+03</td>\n",
       "    </tr>\n",
       "    <tr>\n",
       "      <th>15</th>\n",
       "      <td>theta15</td>\n",
       "      <td>348.9741</td>\n",
       "      <td>0.3389</td>\n",
       "      <td>0.7348</td>\n",
       "      <td>-1.673833e+03</td>\n",
       "      <td>2.371782e+03</td>\n",
       "    </tr>\n",
       "    <tr>\n",
       "      <th>16</th>\n",
       "      <td>theta16</td>\n",
       "      <td>66.1520</td>\n",
       "      <td>0.0704</td>\n",
       "      <td>0.9439</td>\n",
       "      <td>-1.779626e+03</td>\n",
       "      <td>1.911930e+03</td>\n",
       "    </tr>\n",
       "    <tr>\n",
       "      <th>17</th>\n",
       "      <td>theta17</td>\n",
       "      <td>-903.0555</td>\n",
       "      <td>-0.9958</td>\n",
       "      <td>0.3198</td>\n",
       "      <td>-2.684441e+03</td>\n",
       "      <td>8.783301e+02</td>\n",
       "    </tr>\n",
       "    <tr>\n",
       "      <th>18</th>\n",
       "      <td>theta18</td>\n",
       "      <td>-558.7163</td>\n",
       "      <td>-0.7739</td>\n",
       "      <td>0.4393</td>\n",
       "      <td>-1.976720e+03</td>\n",
       "      <td>8.592871e+02</td>\n",
       "    </tr>\n",
       "    <tr>\n",
       "      <th>19</th>\n",
       "      <td>theta19</td>\n",
       "      <td>7894.4216</td>\n",
       "      <td>0.0000</td>\n",
       "      <td>1.0000</td>\n",
       "      <td>-2.724798e+10</td>\n",
       "      <td>2.724799e+10</td>\n",
       "    </tr>\n",
       "    <tr>\n",
       "      <th>20</th>\n",
       "      <td>theta20</td>\n",
       "      <td>-7011.0637</td>\n",
       "      <td>-0.0000</td>\n",
       "      <td>1.0000</td>\n",
       "      <td>-2.724799e+10</td>\n",
       "      <td>2.724798e+10</td>\n",
       "    </tr>\n",
       "    <tr>\n",
       "      <th>21</th>\n",
       "      <td>theta21</td>\n",
       "      <td>-4869.2565</td>\n",
       "      <td>-0.0000</td>\n",
       "      <td>1.0000</td>\n",
       "      <td>-2.724799e+10</td>\n",
       "      <td>2.724798e+10</td>\n",
       "    </tr>\n",
       "    <tr>\n",
       "      <th>22</th>\n",
       "      <td>theta22</td>\n",
       "      <td>-3702.0564</td>\n",
       "      <td>-0.0000</td>\n",
       "      <td>1.0000</td>\n",
       "      <td>-2.724799e+10</td>\n",
       "      <td>2.724798e+10</td>\n",
       "    </tr>\n",
       "    <tr>\n",
       "      <th>23</th>\n",
       "      <td>theta23</td>\n",
       "      <td>-3425.6659</td>\n",
       "      <td>-0.0000</td>\n",
       "      <td>1.0000</td>\n",
       "      <td>-2.724799e+10</td>\n",
       "      <td>2.724798e+10</td>\n",
       "    </tr>\n",
       "    <tr>\n",
       "      <th>24</th>\n",
       "      <td>theta24</td>\n",
       "      <td>-9581.7496</td>\n",
       "      <td>-0.0000</td>\n",
       "      <td>1.0000</td>\n",
       "      <td>-2.724799e+10</td>\n",
       "      <td>2.724797e+10</td>\n",
       "    </tr>\n",
       "    <tr>\n",
       "      <th>25</th>\n",
       "      <td>theta25</td>\n",
       "      <td>484.5786</td>\n",
       "      <td>1.2287</td>\n",
       "      <td>0.2197</td>\n",
       "      <td>-2.900746e+02</td>\n",
       "      <td>1.259232e+03</td>\n",
       "    </tr>\n",
       "    <tr>\n",
       "      <th>26</th>\n",
       "      <td>theta26</td>\n",
       "      <td>4559.8944</td>\n",
       "      <td>0.0000</td>\n",
       "      <td>1.0000</td>\n",
       "      <td>-2.724798e+10</td>\n",
       "      <td>2.724799e+10</td>\n",
       "    </tr>\n",
       "    <tr>\n",
       "      <th>27</th>\n",
       "      <td>theta27</td>\n",
       "      <td>-253.9687</td>\n",
       "      <td>-0.8724</td>\n",
       "      <td>0.3834</td>\n",
       "      <td>-8.257731e+02</td>\n",
       "      <td>3.178357e+02</td>\n",
       "    </tr>\n",
       "    <tr>\n",
       "      <th>28</th>\n",
       "      <td>theta28</td>\n",
       "      <td>-1842.7819</td>\n",
       "      <td>-2.5474</td>\n",
       "      <td>0.0111</td>\n",
       "      <td>-3.263722e+03</td>\n",
       "      <td>-4.218416e+02</td>\n",
       "    </tr>\n",
       "  </tbody>\n",
       "</table>\n",
       "</div>"
      ],
      "text/plain": [
       "      Feature       coef       t  P > |t|       [0.025]       [0.975]\n",
       "0   Intercept  4088.2638  6.8814   0.0000  2.921295e+03  5.255233e+03\n",
       "1      theta1  3986.6323  4.4282   0.0000  2.218237e+03  5.755027e+03\n",
       "2      theta2 -3389.8191 -4.0523   0.0001 -5.032966e+03 -1.746673e+03\n",
       "3      theta3  -214.0669 -1.3860   0.1663 -5.174392e+02  8.930540e+01\n",
       "4      theta4  -317.9329 -2.6133   0.0092 -5.569067e+02 -7.895900e+01\n",
       "5      theta5  1473.5716  1.9989   0.0461  2.552740e+01  2.921616e+03\n",
       "6      theta6   414.1882  0.4900   0.6243 -1.246071e+03  2.074448e+03\n",
       "7      theta7  1935.9123  2.6279   0.0088  4.888890e+02  3.382936e+03\n",
       "8      theta8   168.7543  0.3180   0.7506 -8.736663e+02  1.211175e+03\n",
       "9      theta9   314.5627  0.4764   0.6340 -9.825180e+02  1.611643e+03\n",
       "10    theta10  -836.5316 -0.8553   0.3928 -2.757662e+03  1.084599e+03\n",
       "11    theta11  -137.3415 -0.1314   0.8955 -2.190134e+03  1.915451e+03\n",
       "12    theta12  -380.8158 -0.3491   0.7271 -2.523320e+03  1.761688e+03\n",
       "13    theta13  -585.0379 -0.4853   0.6277 -2.953024e+03  1.782948e+03\n",
       "14    theta14  -495.4510 -0.4235   0.6721 -2.793258e+03  1.802356e+03\n",
       "15    theta15   348.9741  0.3389   0.7348 -1.673833e+03  2.371782e+03\n",
       "16    theta16    66.1520  0.0704   0.9439 -1.779626e+03  1.911930e+03\n",
       "17    theta17  -903.0555 -0.9958   0.3198 -2.684441e+03  8.783301e+02\n",
       "18    theta18  -558.7163 -0.7739   0.4393 -1.976720e+03  8.592871e+02\n",
       "19    theta19  7894.4216  0.0000   1.0000 -2.724798e+10  2.724799e+10\n",
       "20    theta20 -7011.0637 -0.0000   1.0000 -2.724799e+10  2.724798e+10\n",
       "21    theta21 -4869.2565 -0.0000   1.0000 -2.724799e+10  2.724798e+10\n",
       "22    theta22 -3702.0564 -0.0000   1.0000 -2.724799e+10  2.724798e+10\n",
       "23    theta23 -3425.6659 -0.0000   1.0000 -2.724799e+10  2.724798e+10\n",
       "24    theta24 -9581.7496 -0.0000   1.0000 -2.724799e+10  2.724797e+10\n",
       "25    theta25   484.5786  1.2287   0.2197 -2.900746e+02  1.259232e+03\n",
       "26    theta26  4559.8944  0.0000   1.0000 -2.724798e+10  2.724799e+10\n",
       "27    theta27  -253.9687 -0.8724   0.3834 -8.257731e+02  3.178357e+02\n",
       "28    theta28 -1842.7819 -2.5474   0.0111 -3.263722e+03 -4.218416e+02"
      ]
     },
     "metadata": {},
     "output_type": "display_data"
    }
   ],
   "source": [
    "first_lin_reg = LinearRegression(fit_intercept=True)\n",
    "first_lin_reg.fit(X_train, y_train)\n",
    "\n",
    "first_lin_reg.summary()"
   ]
  },
  {
   "cell_type": "code",
   "execution_count": 263,
   "id": "e4e7964d",
   "metadata": {},
   "outputs": [
    {
     "data": {
      "text/html": [
       "<div>\n",
       "<style scoped>\n",
       "    .dataframe tbody tr th:only-of-type {\n",
       "        vertical-align: middle;\n",
       "    }\n",
       "\n",
       "    .dataframe tbody tr th {\n",
       "        vertical-align: top;\n",
       "    }\n",
       "\n",
       "    .dataframe thead th {\n",
       "        text-align: right;\n",
       "    }\n",
       "</style>\n",
       "<table border=\"1\" class=\"dataframe\">\n",
       "  <thead>\n",
       "    <tr style=\"text-align: right;\">\n",
       "      <th></th>\n",
       "      <th>Точечное предсказание</th>\n",
       "      <th>Lower_Confidence</th>\n",
       "      <th>Upper_Confidence</th>\n",
       "      <th>Lower_Prediction</th>\n",
       "      <th>Upper_Prediction</th>\n",
       "    </tr>\n",
       "  </thead>\n",
       "  <tbody>\n",
       "    <tr>\n",
       "      <th>0</th>\n",
       "      <td>4733.759112</td>\n",
       "      <td>2617.902646</td>\n",
       "      <td>6849.615577</td>\n",
       "      <td>-852.863127</td>\n",
       "      <td>10320.381351</td>\n",
       "    </tr>\n",
       "    <tr>\n",
       "      <th>1</th>\n",
       "      <td>4750.702647</td>\n",
       "      <td>2443.659806</td>\n",
       "      <td>7057.745488</td>\n",
       "      <td>-921.183662</td>\n",
       "      <td>10422.588956</td>\n",
       "    </tr>\n",
       "    <tr>\n",
       "      <th>2</th>\n",
       "      <td>353.765557</td>\n",
       "      <td>-1801.601481</td>\n",
       "      <td>2509.132596</td>\n",
       "      <td>-5275.057984</td>\n",
       "      <td>5982.589099</td>\n",
       "    </tr>\n",
       "    <tr>\n",
       "      <th>3</th>\n",
       "      <td>4130.801301</td>\n",
       "      <td>1968.164651</td>\n",
       "      <td>6293.437950</td>\n",
       "      <td>-1480.468459</td>\n",
       "      <td>9742.071060</td>\n",
       "    </tr>\n",
       "    <tr>\n",
       "      <th>4</th>\n",
       "      <td>5686.021367</td>\n",
       "      <td>2868.594760</td>\n",
       "      <td>8503.447975</td>\n",
       "      <td>-214.321162</td>\n",
       "      <td>11586.363897</td>\n",
       "    </tr>\n",
       "  </tbody>\n",
       "</table>\n",
       "</div>"
      ],
      "text/plain": [
       "   Точечное предсказание  Lower_Confidence  Upper_Confidence  \\\n",
       "0            4733.759112       2617.902646       6849.615577   \n",
       "1            4750.702647       2443.659806       7057.745488   \n",
       "2             353.765557      -1801.601481       2509.132596   \n",
       "3            4130.801301       1968.164651       6293.437950   \n",
       "4            5686.021367       2868.594760       8503.447975   \n",
       "\n",
       "   Lower_Prediction  Upper_Prediction  \n",
       "0       -852.863127      10320.381351  \n",
       "1       -921.183662      10422.588956  \n",
       "2      -5275.057984       5982.589099  \n",
       "3      -1480.468459       9742.071060  \n",
       "4       -214.321162      11586.363897  "
      ]
     },
     "execution_count": 263,
     "metadata": {},
     "output_type": "execute_result"
    }
   ],
   "source": [
    "result_conf = first_lin_reg.predict(X_test, type_interval=\"confidence\")\n",
    "result_pred = first_lin_reg.predict(X_test, type_interval=\"prediction\")\n",
    "\n",
    "df = pd.DataFrame({\n",
    "    \"Точечное предсказание\": result_conf[:, 0],\n",
    "    \"Lower_Confidence\": result_conf[:, 1],\n",
    "    \"Upper_Confidence\": result_conf[:, 2],\n",
    "    \"Lower_Prediction\": result_pred[:, 1],\n",
    "    \"Upper_Prediction\": result_pred[:, 2],\n",
    "})\n",
    "\n",
    "df.head()"
   ]
  },
  {
   "cell_type": "markdown",
   "id": "54898ead",
   "metadata": {},
   "source": [
    "Подсчитаем долю попаданий"
   ]
  },
  {
   "cell_type": "code",
   "execution_count": 264,
   "id": "3760ae4b",
   "metadata": {},
   "outputs": [
    {
     "name": "stdout",
     "output_type": "stream",
     "text": [
      "Доля попаданий в доверительный интервал: 65.99%\n",
      "Доля попаданий в предсказательный интервал: 93.20%\n"
     ]
    }
   ],
   "source": [
    "df[\"y_true\"] = y_test\n",
    "\n",
    "df[\"In_Confidence_Interval\"] = (\n",
    "    (df[\"y_true\"] >= df[\"Lower_Confidence\"]) & \n",
    "    (df[\"y_true\"] <= df[\"Upper_Confidence\"])\n",
    ")\n",
    "\n",
    "df[\"In_Prediction_Interval\"] = (\n",
    "    (df[\"y_true\"] >= df[\"Lower_Prediction\"]) & \n",
    "    (df[\"y_true\"] <= df[\"Upper_Prediction\"])\n",
    ")\n",
    "\n",
    "confidence_coverage = df[\"In_Confidence_Interval\"].mean()\n",
    "prediction_coverage = df[\"In_Prediction_Interval\"].mean()\n",
    "\n",
    "print(f\"Доля попаданий в доверительный интервал: {confidence_coverage:.2%}\")\n",
    "print(f\"Доля попаданий в предсказательный интервал: {prediction_coverage:.2%}\")"
   ]
  },
  {
   "cell_type": "markdown",
   "id": "bbd2458b",
   "metadata": {},
   "source": [
    "Как видим, доля попаданий в доверительный интервал далека от желаемых 95%. Это может говорить о том, что линейная модель плохо применима для предложенных данных.\n",
    "\n",
    "Хорошо отработал предсказательный интервал, благодаря учету шума мы почти смогли добиться 95%."
   ]
  },
  {
   "cell_type": "markdown",
   "id": "ba0ceec3",
   "metadata": {
    "id": "ba0ceec3"
   },
   "source": [
    "Выберите один вещественный признак, для которого отвергается гипотеза о незначимости. Постройте еще раз модель, используя только этот признак, а также константный признак. Нарисуйте график, на котором отметьте\n",
    "* точки выборки,\n",
    "* точечные предсказания,\n",
    "* доверительный и предсказательный интервалы."
   ]
  },
  {
   "cell_type": "markdown",
   "id": "dac39ed0",
   "metadata": {},
   "source": [
    "В качестве признака, для которого отвергается гипотеза возьмем второй."
   ]
  },
  {
   "cell_type": "code",
   "execution_count": 265,
   "id": "e2e80201",
   "metadata": {},
   "outputs": [
    {
     "name": "stdout",
     "output_type": "stream",
     "text": [
      "Линейная регрессия на 2 признаках и 584 объектах\n",
      "Sigma: 2237709.305741\n"
     ]
    },
    {
     "data": {
      "text/html": [
       "<div>\n",
       "<style scoped>\n",
       "    .dataframe tbody tr th:only-of-type {\n",
       "        vertical-align: middle;\n",
       "    }\n",
       "\n",
       "    .dataframe tbody tr th {\n",
       "        vertical-align: top;\n",
       "    }\n",
       "\n",
       "    .dataframe thead th {\n",
       "        text-align: right;\n",
       "    }\n",
       "</style>\n",
       "<table border=\"1\" class=\"dataframe\">\n",
       "  <thead>\n",
       "    <tr style=\"text-align: right;\">\n",
       "      <th></th>\n",
       "      <th>F-statistic</th>\n",
       "      <th>f-pvalue</th>\n",
       "    </tr>\n",
       "  </thead>\n",
       "  <tbody>\n",
       "    <tr>\n",
       "      <th>0</th>\n",
       "      <td>2901.8723</td>\n",
       "      <td>0.0</td>\n",
       "    </tr>\n",
       "  </tbody>\n",
       "</table>\n",
       "</div>"
      ],
      "text/plain": [
       "   F-statistic  f-pvalue\n",
       "0    2901.8723       0.0"
      ]
     },
     "metadata": {},
     "output_type": "display_data"
    },
    {
     "data": {
      "text/html": [
       "<div>\n",
       "<style scoped>\n",
       "    .dataframe tbody tr th:only-of-type {\n",
       "        vertical-align: middle;\n",
       "    }\n",
       "\n",
       "    .dataframe tbody tr th {\n",
       "        vertical-align: top;\n",
       "    }\n",
       "\n",
       "    .dataframe thead th {\n",
       "        text-align: right;\n",
       "    }\n",
       "</style>\n",
       "<table border=\"1\" class=\"dataframe\">\n",
       "  <thead>\n",
       "    <tr style=\"text-align: right;\">\n",
       "      <th></th>\n",
       "      <th>Feature</th>\n",
       "      <th>coef</th>\n",
       "      <th>t</th>\n",
       "      <th>P &gt; |t|</th>\n",
       "      <th>[0.025]</th>\n",
       "      <th>[0.975]</th>\n",
       "    </tr>\n",
       "  </thead>\n",
       "  <tbody>\n",
       "    <tr>\n",
       "      <th>0</th>\n",
       "      <td>Intercept</td>\n",
       "      <td>4560.9777</td>\n",
       "      <td>73.6822</td>\n",
       "      <td>0.0</td>\n",
       "      <td>4439.4018</td>\n",
       "      <td>4682.5537</td>\n",
       "    </tr>\n",
       "    <tr>\n",
       "      <th>1</th>\n",
       "      <td>theta1</td>\n",
       "      <td>1198.1885</td>\n",
       "      <td>19.3566</td>\n",
       "      <td>0.0</td>\n",
       "      <td>1076.6126</td>\n",
       "      <td>1319.7644</td>\n",
       "    </tr>\n",
       "  </tbody>\n",
       "</table>\n",
       "</div>"
      ],
      "text/plain": [
       "     Feature       coef        t  P > |t|    [0.025]    [0.975]\n",
       "0  Intercept  4560.9777  73.6822      0.0  4439.4018  4682.5537\n",
       "1     theta1  1198.1885  19.3566      0.0  1076.6126  1319.7644"
      ]
     },
     "metadata": {},
     "output_type": "display_data"
    }
   ],
   "source": [
    "tmp_index = 1\n",
    "\n",
    "second_lin_reg = LinearRegression(fit_intercept=True)\n",
    "second_lin_reg.fit(X_train[:, tmp_index].reshape(-1, 1), y_train)\n",
    "\n",
    "second_lin_reg.summary()"
   ]
  },
  {
   "cell_type": "code",
   "execution_count": 266,
   "id": "8f849c04",
   "metadata": {
    "id": "8f849c04"
   },
   "outputs": [
    {
     "data": {
      "text/html": [
       "<div>\n",
       "<style scoped>\n",
       "    .dataframe tbody tr th:only-of-type {\n",
       "        vertical-align: middle;\n",
       "    }\n",
       "\n",
       "    .dataframe tbody tr th {\n",
       "        vertical-align: top;\n",
       "    }\n",
       "\n",
       "    .dataframe thead th {\n",
       "        text-align: right;\n",
       "    }\n",
       "</style>\n",
       "<table border=\"1\" class=\"dataframe\">\n",
       "  <thead>\n",
       "    <tr style=\"text-align: right;\">\n",
       "      <th></th>\n",
       "      <th>Точечное предсказание</th>\n",
       "      <th>Lower_Confidence</th>\n",
       "      <th>Upper_Confidence</th>\n",
       "      <th>Lower_Prediction</th>\n",
       "      <th>Upper_Prediction</th>\n",
       "    </tr>\n",
       "  </thead>\n",
       "  <tbody>\n",
       "    <tr>\n",
       "      <th>0</th>\n",
       "      <td>4490.610487</td>\n",
       "      <td>4246.194782</td>\n",
       "      <td>4735.026192</td>\n",
       "      <td>1523.944063</td>\n",
       "      <td>7457.276910</td>\n",
       "    </tr>\n",
       "    <tr>\n",
       "      <th>1</th>\n",
       "      <td>2330.744286</td>\n",
       "      <td>1854.788866</td>\n",
       "      <td>2806.699705</td>\n",
       "      <td>-663.901635</td>\n",
       "      <td>5325.390207</td>\n",
       "    </tr>\n",
       "    <tr>\n",
       "      <th>2</th>\n",
       "      <td>3376.155251</td>\n",
       "      <td>3058.932353</td>\n",
       "      <td>3693.378149</td>\n",
       "      <td>402.605016</td>\n",
       "      <td>6349.705486</td>\n",
       "    </tr>\n",
       "    <tr>\n",
       "      <th>3</th>\n",
       "      <td>4106.616636</td>\n",
       "      <td>3855.711915</td>\n",
       "      <td>4357.521356</td>\n",
       "      <td>1139.408552</td>\n",
       "      <td>7073.824719</td>\n",
       "    </tr>\n",
       "    <tr>\n",
       "      <th>4</th>\n",
       "      <td>5047.867776</td>\n",
       "      <td>4773.256601</td>\n",
       "      <td>5322.478951</td>\n",
       "      <td>2078.561135</td>\n",
       "      <td>8017.174417</td>\n",
       "    </tr>\n",
       "    <tr>\n",
       "      <th>5</th>\n",
       "      <td>5834.830043</td>\n",
       "      <td>5462.595228</td>\n",
       "      <td>6207.064858</td>\n",
       "      <td>2854.909005</td>\n",
       "      <td>8814.751080</td>\n",
       "    </tr>\n",
       "    <tr>\n",
       "      <th>6</th>\n",
       "      <td>2081.545502</td>\n",
       "      <td>1562.841296</td>\n",
       "      <td>2600.249708</td>\n",
       "      <td>-920.191443</td>\n",
       "      <td>5083.282447</td>\n",
       "    </tr>\n",
       "    <tr>\n",
       "      <th>7</th>\n",
       "      <td>3811.583672</td>\n",
       "      <td>3541.046987</td>\n",
       "      <td>4082.120356</td>\n",
       "      <td>842.651081</td>\n",
       "      <td>6780.516262</td>\n",
       "    </tr>\n",
       "    <tr>\n",
       "      <th>8</th>\n",
       "      <td>5965.842066</td>\n",
       "      <td>5573.752313</td>\n",
       "      <td>6357.931818</td>\n",
       "      <td>2983.375803</td>\n",
       "      <td>8948.308328</td>\n",
       "    </tr>\n",
       "    <tr>\n",
       "      <th>9</th>\n",
       "      <td>6003.368383</td>\n",
       "      <td>5605.465874</td>\n",
       "      <td>6401.270893</td>\n",
       "      <td>3020.132382</td>\n",
       "      <td>8986.604385</td>\n",
       "    </tr>\n",
       "  </tbody>\n",
       "</table>\n",
       "</div>"
      ],
      "text/plain": [
       "   Точечное предсказание  Lower_Confidence  Upper_Confidence  \\\n",
       "0            4490.610487       4246.194782       4735.026192   \n",
       "1            2330.744286       1854.788866       2806.699705   \n",
       "2            3376.155251       3058.932353       3693.378149   \n",
       "3            4106.616636       3855.711915       4357.521356   \n",
       "4            5047.867776       4773.256601       5322.478951   \n",
       "5            5834.830043       5462.595228       6207.064858   \n",
       "6            2081.545502       1562.841296       2600.249708   \n",
       "7            3811.583672       3541.046987       4082.120356   \n",
       "8            5965.842066       5573.752313       6357.931818   \n",
       "9            6003.368383       5605.465874       6401.270893   \n",
       "\n",
       "   Lower_Prediction  Upper_Prediction  \n",
       "0       1523.944063       7457.276910  \n",
       "1       -663.901635       5325.390207  \n",
       "2        402.605016       6349.705486  \n",
       "3       1139.408552       7073.824719  \n",
       "4       2078.561135       8017.174417  \n",
       "5       2854.909005       8814.751080  \n",
       "6       -920.191443       5083.282447  \n",
       "7        842.651081       6780.516262  \n",
       "8       2983.375803       8948.308328  \n",
       "9       3020.132382       8986.604385  "
      ]
     },
     "execution_count": 266,
     "metadata": {},
     "output_type": "execute_result"
    }
   ],
   "source": [
    "result_conf = second_lin_reg.predict(\n",
    "    X_test[:, tmp_index].reshape(-1, 1), type_interval=\"confidence\"\n",
    ")\n",
    "result_pred = second_lin_reg.predict(\n",
    "    X_test[:, tmp_index].reshape(-1, 1), type_interval=\"prediction\"\n",
    ")\n",
    "\n",
    "df_second = pd.DataFrame(\n",
    "    {\n",
    "        \"Точечное предсказание\": result_conf[:, 0],\n",
    "        \"Lower_Confidence\": result_conf[:, 1],\n",
    "        \"Upper_Confidence\": result_conf[:, 2],\n",
    "        \"Lower_Prediction\": result_pred[:, 1],\n",
    "        \"Upper_Prediction\": result_pred[:, 2],\n",
    "    }\n",
    ")\n",
    "\n",
    "df_second.head(10)"
   ]
  },
  {
   "cell_type": "code",
   "execution_count": 267,
   "id": "5b9d4ac3",
   "metadata": {},
   "outputs": [
    {
     "name": "stdout",
     "output_type": "stream",
     "text": [
      "Доля попаданий в доверительный интервал: 18.37%\n",
      "Доля попаданий в предсказательный интервал: 97.96%\n"
     ]
    }
   ],
   "source": [
    "df_second[\"y_true\"] = y_test\n",
    "\n",
    "df_second[\"In_Confidence_Interval\"] = (\n",
    "    (df_second[\"y_true\"] >= df_second[\"Lower_Confidence\"]) & \n",
    "    (df_second[\"y_true\"] <= df_second[\"Upper_Confidence\"])\n",
    ")\n",
    "\n",
    "df_second[\"In_Prediction_Interval\"] = (\n",
    "    (df_second[\"y_true\"] >= df_second[\"Lower_Prediction\"]) & \n",
    "    (df_second[\"y_true\"] <= df_second[\"Upper_Prediction\"])\n",
    ")\n",
    "\n",
    "confidence_coverage = df_second[\"In_Confidence_Interval\"].mean()\n",
    "prediction_coverage = df_second[\"In_Prediction_Interval\"].mean()\n",
    "\n",
    "print(f\"Доля попаданий в доверительный интервал: {confidence_coverage:.2%}\")\n",
    "print(f\"Доля попаданий в предсказательный интервал: {prediction_coverage:.2%}\")"
   ]
  },
  {
   "cell_type": "code",
   "execution_count": 268,
   "id": "b8bfc757",
   "metadata": {},
   "outputs": [
    {
     "data": {
      "image/png": "[encoded data removed]",
      "text/plain": [
       "<Figure size 1200x600 with 1 Axes>"
      ]
     },
     "metadata": {},
     "output_type": "display_data"
    }
   ],
   "source": [
    "df_second[\"x\"] = X_test[:, tmp_index]\n",
    "df_second[\"y_true\"] = y_test\n",
    "\n",
    "df_sorted = df_second.sort_values(by=\"x\").reset_index(drop=True)\n",
    "plt.figure(figsize=(12, 6))\n",
    "\n",
    "plt.plot(\n",
    "    df_sorted[\"x\"], df_sorted[\"Точечное предсказание\"],\n",
    "    label=\"Точечное предсказание\", color=\"blue\", linewidth=2\n",
    ")\n",
    "\n",
    "plt.fill_between(\n",
    "    df_sorted[\"x\"], df_sorted[\"Lower_Confidence\"], df_sorted[\"Upper_Confidence\"],\n",
    "    color=\"blue\", alpha=0.2, label=\"Доверительный интервал\"\n",
    ")\n",
    "\n",
    "plt.fill_between(\n",
    "    df_sorted[\"x\"], df_sorted[\"Lower_Prediction\"], df_sorted[\"Upper_Prediction\"],\n",
    "    color=\"orange\", alpha=0.2, label=\"Предсказательный интервал\"\n",
    ")\n",
    "\n",
    "plt.scatter(\n",
    "    df_sorted[\"x\"], df_sorted[\"y_true\"], color=\"black\", label=\"Истинные значения\", alpha=0.6, s=10\n",
    ")\n",
    "\n",
    "plt.xlabel(r\"$\\theta_1$\", fontsize=14)\n",
    "plt.ylabel(r\"$x_1$\", fontsize=14)\n",
    "plt.title(\"График с доверительным и предсказательным интервалами\", fontsize=16)\n",
    "plt.legend(fontsize=12)\n",
    "plt.grid(True, linestyle=\"--\", alpha=0.7)\n",
    "\n",
    "plt.show()\n"
   ]
  },
  {
   "cell_type": "markdown",
   "id": "b8b3790a",
   "metadata": {
    "id": "b8b3790a"
   },
   "source": [
    "**Выводы:**\n",
    "\n",
    "Мы написали класс реализующий гауссовскую линейную регрессию. Подсчитали основные ее харатеристики.\n",
    "\n",
    "Было получено, что при учете шума мы можем получить более корректную реализацию доверительныхт интервалов."
   ]
  },
  {
   "cell_type": "markdown",
   "id": "1e7b2f93",
   "metadata": {
    "id": "1e7b2f93"
   },
   "source": [
    "---\n",
    "### Задача P2.\n",
    "\n",
    "Рассмотрим два признака $x_1, x_2$ и целевую метку $y$.\n",
    "Будем предполагать зависимость $y(x) = \\theta_0 + \\theta_1 x_1 + \\theta_2 x_2$.\n",
    "Для проверки гипотезы о *не*значимости признака $x_2$, то есть $\\mathsf{H}_0\\colon \\theta_2=0$, на практике широко используется $T$-критерий (например, в AB-тестировании), который мы получили в предположениях гауссовской линейной модели. Проведем его исследования.\n",
    "\n",
    "**1.** Оцените вероятность ошибки I рода в предположениях гауссовской линейной модели, в частности, **при наличии гомоскедастичности**. Для этого повторите достаточное количество раз (не менее $10^4$) следующую процедуру и усредните результаты.\n",
    "1. Сгенерируйте некоторым образом выборку размера 200 из признаков $x_1$ и $x_2$.\n",
    "2. Сгенерируйте целевую метку в предположениях гауссовской линейной модели. В процедуре оценки вероятности ошибки I рода на данном этапе необходимо брать $\\theta_2 = 0$, то есть генерировать данные при справедливости $\\mathsf{H}_0$.\n",
    "3. Примените критерий.\n",
    "4. Проведя достаточное количество шагов 1-3, сделайте оценку вероятности ошибки I рода и постройте соответствующий доверительный интервал.\n",
    "\n",
    "*Примечание.* Подобную процедуру мы уже делали в предыдущих заданиях, включая построение доверительного интервала.\n",
    "\n",
    "*Важно:* распределение данных и шума должно быть одинаковым в каждом эксперименте!\n",
    "\n",
    "*Совет.* Используйте `tqdm` в циклах. Производите отладку кода на малом количестве итераций."
   ]
  },
  {
   "cell_type": "code",
   "execution_count": 269,
   "id": "7f900f3c",
   "metadata": {
    "id": "7f900f3c"
   },
   "outputs": [
    {
     "data": {
      "application/vnd.jupyter.widget-view+json": {
       "model_id": "3fb8f123171c49eabdc39c60559b8e0c",
       "version_major": 2,
       "version_minor": 0
      },
      "text/plain": [
       "  0%|          | 0/10000 [00:00<?, ?it/s]"
      ]
     },
     "metadata": {},
     "output_type": "display_data"
    },
    {
     "name": "stdout",
     "output_type": "stream",
     "text": [
      "Вероятность ошибки первого рода: 0.051\n"
     ]
    }
   ],
   "source": [
    "def simulate_linear_regression(distr, num_of_experiments, size_sample, alpha):\n",
    "    theta = np.array([1, 1, 0])\n",
    "    results = []\n",
    "    for _ in tqdm(range(num_of_experiments)):\n",
    "        lin_reg = LinearRegression(fit_intercept=False)\n",
    "        epsilon = sps.norm.rvs(size=size_sample)\n",
    "\n",
    "        sample = distr.rvs(size=(size_sample, 2))\n",
    "        sample = np.hstack((np.ones((size_sample, 1)), sample))\n",
    "\n",
    "        y = sample @ theta + epsilon\n",
    "        lin_reg.fit(sample, y)\n",
    "        t_pval = lin_reg.t_pvalue[2]\n",
    "        results.append(t_pval <= alpha)\n",
    "\n",
    "    return np.mean(results)\n",
    "\n",
    "\n",
    "num_of_experiments = 10000\n",
    "size_sample = 200\n",
    "alpha = 0.05\n",
    "\n",
    "probability_of_type_I_error = simulate_linear_regression(\n",
    "    sps.norm, num_of_experiments, size_sample, alpha\n",
    ")\n",
    "print(f\"Вероятность ошибки первого рода: {probability_of_type_I_error:.3f}\")"
   ]
  },
  {
   "cell_type": "markdown",
   "id": "5382f220",
   "metadata": {
    "id": "5382f220"
   },
   "source": [
    "Результаты могут сильно зависеть от того, как были сгенерированы данные для эксперимента. Для надежности повторите эксперимент, как-либо иначе сгенерировав признаки. Например, для генерации можно взять другое распределение признаков."
   ]
  },
  {
   "cell_type": "code",
   "execution_count": 270,
   "id": "3e8d73cb",
   "metadata": {
    "id": "3e8d73cb"
   },
   "outputs": [
    {
     "data": {
      "application/vnd.jupyter.widget-view+json": {
       "model_id": "839cd2a39a694a66b0afbd292319c5db",
       "version_major": 2,
       "version_minor": 0
      },
      "text/plain": [
       "  0%|          | 0/10000 [00:00<?, ?it/s]"
      ]
     },
     "metadata": {},
     "output_type": "display_data"
    },
    {
     "name": "stdout",
     "output_type": "stream",
     "text": [
      "Вероятность ошибки первого рода: 0.046\n"
     ]
    }
   ],
   "source": [
    "probability_of_type_I_error = simulate_linear_regression(\n",
    "    sps.uniform(1, 2), num_of_experiments, size_sample, alpha\n",
    ")\n",
    "print(f\"Вероятность ошибки первого рода: {probability_of_type_I_error:.3f}\")"
   ]
  },
  {
   "cell_type": "markdown",
   "id": "92922ad7",
   "metadata": {
    "id": "92922ad7"
   },
   "source": [
    "**2.** Повторите проведенные эксперименты **для случая гетероскедастичности**. Для этого сгенерируйте $\\varepsilon_i$ из нормального распределения с дисперсией, зависящей от признаков. Например, в случае неотрицательных признаков можно взять $\\mathsf{D} \\varepsilon_i = \\psi_0 + \\psi_1 x_{i1} + \\psi_2 x_{i2}$ для некоторых коэффициентов $\\psi_j$.\n",
    "\n",
    "В частности, исследуйте случаи\n",
    "* $\\psi_1\\not=0, \\psi_2=0$;\n",
    "* $\\psi_1=0, \\psi_2\\not=0$;\n",
    "* $\\psi_1\\not=0, \\psi_2\\not=0$;\n",
    "\n",
    "\n",
    "*Примечания.*\n",
    "* Первые две ситуации разные, поскольку мы проводим исследование критериев проверки гипотезы о незначимости признака $x_2$.\n",
    "* В данном случае мы применяем критерий при неверных предположениях модели, тем самым хотим исследовать поведение критерия при отклонениях от них."
   ]
  },
  {
   "cell_type": "markdown",
   "id": "432d3e8a",
   "metadata": {},
   "source": [
    "1. $\\psi_0 = 1, \\psi_1 = 1, \\psi_2 = 0$"
   ]
  },
  {
   "cell_type": "code",
   "execution_count": 271,
   "id": "d40b8d5a",
   "metadata": {
    "id": "d40b8d5a"
   },
   "outputs": [
    {
     "data": {
      "application/vnd.jupyter.widget-view+json": {
       "model_id": "eb21c15a0c8748d1a1d6b2bd86ce5a3d",
       "version_major": 2,
       "version_minor": 0
      },
      "text/plain": [
       "  0%|          | 0/10000 [00:00<?, ?it/s]"
      ]
     },
     "metadata": {},
     "output_type": "display_data"
    },
    {
     "name": "stdout",
     "output_type": "stream",
     "text": [
      "Вероятность ошибки первого рода: 0.052\n"
     ]
    }
   ],
   "source": [
    "def simulate_linear_regression_heteroscedasticity(\n",
    "    distr, psi_arr, num_of_experiments, size_sample, alpha\n",
    "):\n",
    "    theta = np.array([1, 1, 0])\n",
    "    results = []\n",
    "\n",
    "    for _ in tqdm(range(num_of_experiments)):\n",
    "        lin_reg = LinearRegression(fit_intercept=False)\n",
    "\n",
    "        sample = distr.rvs(size=(size_sample, 2))\n",
    "        sample = np.hstack((np.ones((size_sample, 1)), sample))\n",
    "\n",
    "        scale = sample @ psi_arr\n",
    "        epsilon = sps.norm(scale=scale).rvs(size=size_sample)\n",
    "\n",
    "        y = sample @ theta + epsilon\n",
    "\n",
    "        lin_reg.fit(sample, y)\n",
    "        lin_reg.t_pvalue\n",
    "        t_pval = lin_reg.t_pvalue[2]\n",
    "        results.append(t_pval <= alpha)\n",
    "\n",
    "    return np.mean(results)\n",
    "\n",
    "psi_arr = np.array([1, 1, 0])\n",
    "probability_of_type_I_error = simulate_linear_regression_heteroscedasticity(\n",
    "    sps.poisson(2), psi_arr, num_of_experiments, size_sample, alpha\n",
    ")\n",
    "print(f\"Вероятность ошибки первого рода: {probability_of_type_I_error:.3f}\")"
   ]
  },
  {
   "cell_type": "markdown",
   "id": "89721e83",
   "metadata": {},
   "source": [
    "2. $\\psi_0 = 1, \\psi_1 = 0, \\psi_2 = 1$"
   ]
  },
  {
   "cell_type": "code",
   "execution_count": 272,
   "id": "ee8072b6",
   "metadata": {},
   "outputs": [
    {
     "data": {
      "application/vnd.jupyter.widget-view+json": {
       "model_id": "ac26e62380144c4ab6d44db88535b011",
       "version_major": 2,
       "version_minor": 0
      },
      "text/plain": [
       "  0%|          | 0/10000 [00:00<?, ?it/s]"
      ]
     },
     "metadata": {},
     "output_type": "display_data"
    },
    {
     "name": "stdout",
     "output_type": "stream",
     "text": [
      "Вероятность ошибки первого рода: 0.161\n"
     ]
    }
   ],
   "source": [
    "psi_arr = np.array([1, 0, 1])\n",
    "probability_of_type_I_error = simulate_linear_regression_heteroscedasticity(\n",
    "    sps.poisson(2), psi_arr, num_of_experiments, size_sample, alpha\n",
    ")\n",
    "print(f\"Вероятность ошибки первого рода: {probability_of_type_I_error:.3f}\")"
   ]
  },
  {
   "cell_type": "markdown",
   "id": "d6887468",
   "metadata": {},
   "source": [
    "3. $\\psi_0 = 1, \\psi_1 = 1, \\psi_2 = 1$"
   ]
  },
  {
   "cell_type": "code",
   "execution_count": 273,
   "id": "790130dc",
   "metadata": {},
   "outputs": [
    {
     "data": {
      "application/vnd.jupyter.widget-view+json": {
       "model_id": "e26eee2e53664ec482fd7ef0c4774a01",
       "version_major": 2,
       "version_minor": 0
      },
      "text/plain": [
       "  0%|          | 0/10000 [00:00<?, ?it/s]"
      ]
     },
     "metadata": {},
     "output_type": "display_data"
    },
    {
     "name": "stdout",
     "output_type": "stream",
     "text": [
      "Вероятность ошибки первого рода: 0.108\n"
     ]
    }
   ],
   "source": [
    "psi_arr = np.array([1, 1, 1])\n",
    "probability_of_type_I_error = simulate_linear_regression_heteroscedasticity(\n",
    "    sps.poisson(2), psi_arr, num_of_experiments, size_sample, alpha\n",
    ")\n",
    "print(f\"Вероятность ошибки первого рода: {probability_of_type_I_error:.3f}\")"
   ]
  },
  {
   "cell_type": "markdown",
   "id": "c62658aa",
   "metadata": {
    "id": "c62658aa"
   },
   "source": [
    "**3.** Исследуйте, как меняется вероятность ошибки I рода при отклонении распределения шума от нормальности. В качестве распределения шума возьмите **распределение Стьюдента** с 1, 3, 5, 10 степенями свободы. Шум должен быть **гомоскедастичным**."
   ]
  },
  {
   "cell_type": "code",
   "execution_count": 274,
   "id": "da8bd610",
   "metadata": {
    "id": "da8bd610"
   },
   "outputs": [
    {
     "data": {
      "application/vnd.jupyter.widget-view+json": {
       "model_id": "a130dad665834b769e115f9dd33908c9",
       "version_major": 2,
       "version_minor": 0
      },
      "text/plain": [
       "  0%|          | 0/10000 [00:00<?, ?it/s]"
      ]
     },
     "metadata": {},
     "output_type": "display_data"
    },
    {
     "data": {
      "application/vnd.jupyter.widget-view+json": {
       "model_id": "3304eff819924741bb30f3de4d296855",
       "version_major": 2,
       "version_minor": 0
      },
      "text/plain": [
       "  0%|          | 0/10000 [00:00<?, ?it/s]"
      ]
     },
     "metadata": {},
     "output_type": "display_data"
    },
    {
     "data": {
      "application/vnd.jupyter.widget-view+json": {
       "model_id": "1355e0dc67a6426f8149c8f6cb5a22ca",
       "version_major": 2,
       "version_minor": 0
      },
      "text/plain": [
       "  0%|          | 0/10000 [00:00<?, ?it/s]"
      ]
     },
     "metadata": {},
     "output_type": "display_data"
    },
    {
     "data": {
      "application/vnd.jupyter.widget-view+json": {
       "model_id": "39f46478975040cc8a4480974eb73fd6",
       "version_major": 2,
       "version_minor": 0
      },
      "text/plain": [
       "  0%|          | 0/10000 [00:00<?, ?it/s]"
      ]
     },
     "metadata": {},
     "output_type": "display_data"
    },
    {
     "name": "stdout",
     "output_type": "stream",
     "text": [
      "Вероятность ошибки первого рода t(1): 0.054\n",
      "Вероятность ошибки первого рода t(3): 0.051\n",
      "Вероятность ошибки первого рода t(5): 0.049\n",
      "Вероятность ошибки первого рода t(10): 0.052\n"
     ]
    }
   ],
   "source": [
    "probability_of_type_I_error_t1_2 = simulate_linear_regression(\n",
    "    sps.t(1), num_of_experiments, size_sample, alpha\n",
    ")\n",
    "probability_of_type_I_error_t1_3 = simulate_linear_regression(\n",
    "    sps.t(3), num_of_experiments, size_sample, alpha\n",
    ")\n",
    "probability_of_type_I_error_t1_5 = simulate_linear_regression(\n",
    "    sps.t(5), num_of_experiments, size_sample, alpha\n",
    ")\n",
    "probability_of_type_I_error_t1_10 = simulate_linear_regression(\n",
    "    sps.t(10), num_of_experiments, size_sample, alpha\n",
    ")\n",
    "\n",
    "print(f\"Вероятность ошибки первого рода t(1): {probability_of_type_I_error_t1_2:.3f}\")\n",
    "print(f\"Вероятность ошибки первого рода t(3): {probability_of_type_I_error_t1_3:.3f}\")\n",
    "print(f\"Вероятность ошибки первого рода t(5): {probability_of_type_I_error_t1_5:.3f}\")\n",
    "print(f\"Вероятность ошибки первого рода t(10): {probability_of_type_I_error_t1_10:.3f}\")"
   ]
  },
  {
   "cell_type": "markdown",
   "id": "15ee56bd",
   "metadata": {
    "id": "15ee56bd"
   },
   "source": [
    "**4.** Оцените и визуализируйте мощность критерия в зависимости от истинного значения $\\theta_2$. Для сравнения используйте гомоскедастичный шум из нормального распределения и распределения Стьюдента с рассмотренными ранее значениями степени свободы."
   ]
  },
  {
   "cell_type": "code",
   "execution_count": 275,
   "id": "9ba90c75",
   "metadata": {},
   "outputs": [],
   "source": [
    "def T_stat(X, Y, true_theta, index_theta=2):\n",
    "    n, d = X.shape\n",
    "    theta = np.linalg.inv(X.T @ X) @ X.T @ Y\n",
    "    sigma_sq = 1 / (n - d) * (Y - X @ theta).T @ (Y - X @ theta)\n",
    "    return np.abs(theta[index_theta] - true_theta) / np.sqrt(\n",
    "        sigma_sq * (np.linalg.inv(X.T @ X)[index_theta, index_theta])\n",
    "    )\n",
    "\n",
    "\n",
    "def F_stat(X, Y, true_theta, index_theta=2):\n",
    "    return T_stat(X, Y, true_theta, index_theta) ** 2\n",
    "\n",
    "\n",
    "def power(X, Y, true_theta, index_theta=2):\n",
    "    f_stat = F_stat(X, Y, true_theta, index_theta)\n",
    "    return sps.f(1, X.shape[0] - X.shape[1]).cdf(f_stat)"
   ]
  },
  {
   "cell_type": "code",
   "execution_count": 276,
   "id": "1e5c6dad",
   "metadata": {},
   "outputs": [
    {
     "data": {
      "application/vnd.jupyter.widget-view+json": {
       "model_id": "bec21f4ce9a34f0bb3a68dc3db9fffc2",
       "version_major": 2,
       "version_minor": 0
      },
      "text/plain": [
       "Calculating power for df=1:   0%|          | 0/100 [00:00<?, ?it/s]"
      ]
     },
     "metadata": {},
     "output_type": "display_data"
    },
    {
     "data": {
      "application/vnd.jupyter.widget-view+json": {
       "model_id": "eb23e12f55f84e9186f331618bd20215",
       "version_major": 2,
       "version_minor": 0
      },
      "text/plain": [
       "Calculating power for df=3:   0%|          | 0/100 [00:00<?, ?it/s]"
      ]
     },
     "metadata": {},
     "output_type": "display_data"
    },
    {
     "data": {
      "application/vnd.jupyter.widget-view+json": {
       "model_id": "3a7ad0d3bf0d4899a3b8478a6e65fd23",
       "version_major": 2,
       "version_minor": 0
      },
      "text/plain": [
       "Calculating power for df=5:   0%|          | 0/100 [00:00<?, ?it/s]"
      ]
     },
     "metadata": {},
     "output_type": "display_data"
    },
    {
     "data": {
      "application/vnd.jupyter.widget-view+json": {
       "model_id": "aa30ae349df0499d9107d5d88950c854",
       "version_major": 2,
       "version_minor": 0
      },
      "text/plain": [
       "Calculating power for df=10:   0%|          | 0/100 [00:00<?, ?it/s]"
      ]
     },
     "metadata": {},
     "output_type": "display_data"
    },
    {
     "data": {
      "application/vnd.jupyter.widget-view+json": {
       "model_id": "2517021cdfa3453d8f4cbd910b041520",
       "version_major": 2,
       "version_minor": 0
      },
      "text/plain": [
       "Calculating power for normal distribution:   0%|          | 0/100 [00:00<?, ?it/s]"
      ]
     },
     "metadata": {},
     "output_type": "display_data"
    }
   ],
   "source": [
    "theta_true_arr = np.linspace(-1, 1, 100)\n",
    "degrees_of_freedom = [1, 3, 5, 10]  \n",
    "power_values = {df: [] for df in degrees_of_freedom}\n",
    "power_values[\"normal\"] = []  \n",
    "\n",
    "for df in degrees_of_freedom:\n",
    "    for theta_true in tqdm(theta_true_arr, desc=f\"Calculating power for df={df}\"):\n",
    "        tmp_power = []\n",
    "        for _ in range(100):\n",
    "            sample = sps.norm.rvs(size=(200, 3))  \n",
    "            epsilon = sps.t(df).rvs(size=200)  \n",
    "            theta = np.array([1, 1, 0])  \n",
    "            y = sample @ theta + epsilon  \n",
    "            tmp_power.append(power(sample, y, theta_true))\n",
    "        power_values[df].append(np.mean(tmp_power))\n",
    "\n",
    "for theta_true in tqdm(theta_true_arr, desc=\"Calculating power for normal distribution\"):\n",
    "    tmp_power = []\n",
    "    for _ in range(50):\n",
    "        sample = sps.norm().rvs(size=(200, 3)) \n",
    "        epsilon = sps.norm().rvs(size=200)  \n",
    "        theta = np.array([1, 1, 0])  \n",
    "        y = sample @ theta + epsilon  \n",
    "        tmp_power.append(power(sample, y, theta_true))\n",
    "    power_values[\"normal\"].append(np.mean(tmp_power))\n"
   ]
  },
  {
   "cell_type": "code",
   "execution_count": 277,
   "id": "997463c9",
   "metadata": {},
   "outputs": [
    {
     "data": {
      "image/png": "[encoded data removed]",
      "text/plain": [
       "<Figure size 1200x800 with 1 Axes>"
      ]
     },
     "metadata": {},
     "output_type": "display_data"
    }
   ],
   "source": [
    "plt.figure(figsize=(12, 8))\n",
    "for df, power_vals in power_values.items():\n",
    "    if df == \"normal\":\n",
    "        label = \"Normal\"\n",
    "    else:\n",
    "        label = f\"df={df}\"\n",
    "    plt.plot(\n",
    "        theta_true_arr, power_vals, label=label, linewidth=2\n",
    "    )\n",
    "\n",
    "plt.xlabel(r\"$\\theta_{true}$\", fontsize=14)\n",
    "plt.ylabel(\"Мощность\", fontsize=14)\n",
    "plt.title(r\"График мощности критерия от $\\theta_{true}$ для разных распределений\", fontsize=16)\n",
    "plt.grid(True, linestyle=\"--\", alpha=0.7)\n",
    "plt.legend(title=\"Распределение\", fontsize=12)\n",
    "plt.show()\n"
   ]
  },
  {
   "cell_type": "markdown",
   "id": "30a847bc",
   "metadata": {
    "id": "30a847bc"
   },
   "source": [
    "**Вывод:**\n",
    "\n",
    "Увидели, что при гетероскедастичности мы не всегда можем поддерживать требуемую ошибку первого рода, в отличии от случая гомскедастичности. \n",
    "\n",
    "При помощи визуализации в конце убедилсь, что мощность критерия Стьюдента, с увеличением степеней свободы стремится к критерию для нормального распределения, что согласует с теорией о том, что $T_n \\rightarrow N(0, 1)$"
   ]
  }
 ],
 "metadata": {
  "colab": {
   "provenance": []
  },
  "kernelspec": {
   "display_name": "usr",
   "language": "python",
   "name": "python3"
  },
  "language_info": {
   "codemirror_mode": {
    "name": "ipython",
    "version": 3
   },
   "file_extension": ".py",
   "mimetype": "text/x-python",
   "name": "python",
   "nbconvert_exporter": "python",
   "pygments_lexer": "ipython3",
   "version": "3.12.3"
  },
  "varInspector": {
   "cols": {
    "lenName": 16,
    "lenType": 16,
    "lenVar": 40
   },
   "kernels_config": {
    "python": {
     "delete_cmd_postfix": "",
     "delete_cmd_prefix": "del ",
     "library": "var_list.py",
     "varRefreshCmd": "print(var_dic_list())"
    },
    "r": {
     "delete_cmd_postfix": ") ",
     "delete_cmd_prefix": "rm(",
     "library": "var_list.r",
     "varRefreshCmd": "cat(var_dic_list()) "
    }
   },
   "types_to_exclude": [
    "module",
    "function",
    "builtin_function_or_method",
    "instance",
    "_Feature"
   ],
   "window_display": false
  }
 },
 "nbformat": 4,
 "nbformat_minor": 5
}
