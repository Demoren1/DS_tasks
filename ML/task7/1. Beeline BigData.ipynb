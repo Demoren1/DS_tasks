{
 "cells": [
  {
   "cell_type": "code",
   "execution_count": 1,
   "metadata": {
    "ExecuteTime": {
     "end_time": "2020-03-19T11:08:15.704814Z",
     "start_time": "2020-03-19T11:08:14.759454Z"
    },
    "id": "HIurWIaHNk0J"
   },
   "outputs": [],
   "source": [
    "import numpy as np\n",
    "import pandas as pd\n",
    "from scipy import sparse\n",
    "from collections import Counter\n",
    "import warnings\n",
    "\n",
    "import matplotlib.pyplot as plt\n",
    "import seaborn as sns\n",
    "\n",
    "from sklearn.ensemble import RandomForestClassifier\n",
    "from sklearn.ensemble import GradientBoostingClassifier\n",
    "from sklearn.model_selection import train_test_split\n",
    "from sklearn.metrics import accuracy_score\n",
    "from sklearn.preprocessing import OneHotEncoder\n",
    "from sklearn.impute import SimpleImputer\n",
    "from sklearn.model_selection import RandomizedSearchCV\n",
    "\n",
    "from xgboost import XGBClassifier\n",
    "from lightgbm import LGBMClassifier\n",
    "from catboost import CatBoostClassifier\n",
    "\n",
    "sns.set(font_scale=1.5, palette='Set2')\n",
    "warnings.filterwarnings(\"ignore\")\n",
    "%matplotlib inline"
   ]
  },
  {
   "cell_type": "markdown",
   "metadata": {
    "id": "_0egaUiUNk0K"
   },
   "source": [
    "\n",
    "## 1. Чтение и изучение данных\n",
    "\n",
    "Читаем данные с помощью `pandas` и делим их на признаки и целевую метку."
   ]
  },
  {
   "cell_type": "code",
   "execution_count": 3,
   "metadata": {
    "ExecuteTime": {
     "end_time": "2020-03-19T11:08:16.364762Z",
     "start_time": "2020-03-19T11:08:15.707479Z"
    },
    "id": "FLyu14-WNk0K"
   },
   "outputs": [],
   "source": [
    "data = pd.read_csv('train.csv')\n",
    "data = data.drop(\"client_id\", axis=1)\n",
    "label_encoder = LabelEncoder()\n",
    "\n",
    "data, labels = data.iloc[:, :-1], np.array(data['credit_rating'])"
   ]
  },
  {
   "cell_type": "markdown",
   "metadata": {
    "id": "12zmo5znNk0L"
   },
   "source": [
    "Читаем также тестовые данные и истинные ответы к ним. Их будем использовать только для финального сравнения"
   ]
  },
  {
   "cell_type": "code",
   "execution_count": 7,
   "metadata": {
    "ExecuteTime": {
     "end_time": "2020-03-19T11:08:16.954278Z",
     "start_time": "2020-03-19T11:08:16.366567Z"
    },
    "id": "sgrk39N5Nk0L"
   },
   "outputs": [],
   "source": [
    "x_test = pd.read_csv('test.csv')\n",
    "x_test = x_test.drop(\"client_id\", axis=1)"
   ]
  },
  {
   "cell_type": "code",
   "execution_count": 8,
   "metadata": {
    "ExecuteTime": {
     "end_time": "2020-03-19T11:08:17.028626Z",
     "start_time": "2020-03-19T11:08:16.956539Z"
    },
    "id": "lIvGticINk0L",
    "outputId": "3072475b-1c90-48fc-e57e-06d7e4fe2d8c",
    "scrolled": true
   },
   "outputs": [
    {
     "data": {
      "text/html": [
       "<div>\n",
       "<style scoped>\n",
       "    .dataframe tbody tr th:only-of-type {\n",
       "        vertical-align: middle;\n",
       "    }\n",
       "\n",
       "    .dataframe tbody tr th {\n",
       "        vertical-align: top;\n",
       "    }\n",
       "\n",
       "    .dataframe thead th {\n",
       "        text-align: right;\n",
       "    }\n",
       "</style>\n",
       "<table border=\"1\" class=\"dataframe\">\n",
       "  <thead>\n",
       "    <tr style=\"text-align: right;\">\n",
       "      <th></th>\n",
       "      <th>month</th>\n",
       "      <th>age</th>\n",
       "      <th>occupation</th>\n",
       "      <th>annual_income</th>\n",
       "      <th>monthly_salary</th>\n",
       "      <th>number_bank_accounts</th>\n",
       "      <th>number_credit_cards</th>\n",
       "      <th>interest_rate</th>\n",
       "      <th>number_loan</th>\n",
       "      <th>delay_from_due_date</th>\n",
       "      <th>number_delayed_payment</th>\n",
       "      <th>number_credit_inquiries</th>\n",
       "      <th>unpaid_debt</th>\n",
       "      <th>credit_utilization_ratio</th>\n",
       "      <th>credit_history_age</th>\n",
       "      <th>min_amount_payment</th>\n",
       "      <th>monthy_amount_invested</th>\n",
       "      <th>client_behaviour</th>\n",
       "      <th>monthly_balance</th>\n",
       "    </tr>\n",
       "  </thead>\n",
       "  <tbody>\n",
       "    <tr>\n",
       "      <th>0</th>\n",
       "      <td>Февраль</td>\n",
       "      <td>NaN</td>\n",
       "      <td>NaN</td>\n",
       "      <td>34811.50</td>\n",
       "      <td>2977.666667</td>\n",
       "      <td>2</td>\n",
       "      <td>4</td>\n",
       "      <td>6.0</td>\n",
       "      <td>1.0</td>\n",
       "      <td>3</td>\n",
       "      <td>4.0</td>\n",
       "      <td>2.0</td>\n",
       "      <td>605.03</td>\n",
       "      <td>24.464031</td>\n",
       "      <td>26 г. 7 м.</td>\n",
       "      <td>No</td>\n",
       "      <td>104.291825</td>\n",
       "      <td>Малые траты, малые платежи</td>\n",
       "      <td>463.220627</td>\n",
       "    </tr>\n",
       "    <tr>\n",
       "      <th>1</th>\n",
       "      <td>Март</td>\n",
       "      <td>28.0</td>\n",
       "      <td>Учитель</td>\n",
       "      <td>34231.28</td>\n",
       "      <td>2991.866667</td>\n",
       "      <td>2</td>\n",
       "      <td>4</td>\n",
       "      <td>6.0</td>\n",
       "      <td>1.0</td>\n",
       "      <td>7</td>\n",
       "      <td>1.0</td>\n",
       "      <td>2.0</td>\n",
       "      <td>605.03</td>\n",
       "      <td>38.550848</td>\n",
       "      <td>26 г. 8 м.</td>\n",
       "      <td>No</td>\n",
       "      <td>40.391238</td>\n",
       "      <td>Большие траты, большие платежи</td>\n",
       "      <td>478.941214</td>\n",
       "    </tr>\n",
       "    <tr>\n",
       "      <th>2</th>\n",
       "      <td>Апрель</td>\n",
       "      <td>28.0</td>\n",
       "      <td>Учитель</td>\n",
       "      <td>NaN</td>\n",
       "      <td>2979.906667</td>\n",
       "      <td>2</td>\n",
       "      <td>1385</td>\n",
       "      <td>6.0</td>\n",
       "      <td>1.0</td>\n",
       "      <td>3</td>\n",
       "      <td>NaN</td>\n",
       "      <td>2.0</td>\n",
       "      <td>605.03</td>\n",
       "      <td>33.224951</td>\n",
       "      <td>26 г. 9 м.</td>\n",
       "      <td>No</td>\n",
       "      <td>58.515976</td>\n",
       "      <td>Большие траты, большие платежи</td>\n",
       "      <td>464.256476</td>\n",
       "    </tr>\n",
       "    <tr>\n",
       "      <th>3</th>\n",
       "      <td>Май</td>\n",
       "      <td>28.0</td>\n",
       "      <td>Учитель</td>\n",
       "      <td>34376.73</td>\n",
       "      <td>NaN</td>\n",
       "      <td>2</td>\n",
       "      <td>4</td>\n",
       "      <td>6.0</td>\n",
       "      <td>1.0</td>\n",
       "      <td>3</td>\n",
       "      <td>NaN</td>\n",
       "      <td>2.0</td>\n",
       "      <td>605.03</td>\n",
       "      <td>39.182656</td>\n",
       "      <td>26 г. 10 м.</td>\n",
       "      <td>No</td>\n",
       "      <td>99.306228</td>\n",
       "      <td>Малые траты, средние платежи</td>\n",
       "      <td>457.656224</td>\n",
       "    </tr>\n",
       "    <tr>\n",
       "      <th>4</th>\n",
       "      <td>Июнь</td>\n",
       "      <td>28.0</td>\n",
       "      <td>Учитель</td>\n",
       "      <td>34415.88</td>\n",
       "      <td>2958.436667</td>\n",
       "      <td>2</td>\n",
       "      <td>4</td>\n",
       "      <td>6.0</td>\n",
       "      <td>1.0</td>\n",
       "      <td>3</td>\n",
       "      <td>1.0</td>\n",
       "      <td>2.0</td>\n",
       "      <td>605.03</td>\n",
       "      <td>34.977895</td>\n",
       "      <td>26 г. 11 м.</td>\n",
       "      <td>No</td>\n",
       "      <td>130.115420</td>\n",
       "      <td>Малые траты, малые платежи</td>\n",
       "      <td>443.497032</td>\n",
       "    </tr>\n",
       "  </tbody>\n",
       "</table>\n",
       "</div>"
      ],
      "text/plain": [
       "     month   age occupation  annual_income  monthly_salary  \\\n",
       "0  Февраль   NaN        NaN       34811.50     2977.666667   \n",
       "1     Март  28.0    Учитель       34231.28     2991.866667   \n",
       "2   Апрель  28.0    Учитель            NaN     2979.906667   \n",
       "3      Май  28.0    Учитель       34376.73             NaN   \n",
       "4     Июнь  28.0    Учитель       34415.88     2958.436667   \n",
       "\n",
       "   number_bank_accounts  number_credit_cards  interest_rate  number_loan  \\\n",
       "0                     2                    4            6.0          1.0   \n",
       "1                     2                    4            6.0          1.0   \n",
       "2                     2                 1385            6.0          1.0   \n",
       "3                     2                    4            6.0          1.0   \n",
       "4                     2                    4            6.0          1.0   \n",
       "\n",
       "   delay_from_due_date  number_delayed_payment  number_credit_inquiries  \\\n",
       "0                    3                     4.0                      2.0   \n",
       "1                    7                     1.0                      2.0   \n",
       "2                    3                     NaN                      2.0   \n",
       "3                    3                     NaN                      2.0   \n",
       "4                    3                     1.0                      2.0   \n",
       "\n",
       "   unpaid_debt  credit_utilization_ratio credit_history_age  \\\n",
       "0       605.03                 24.464031         26 г. 7 м.   \n",
       "1       605.03                 38.550848         26 г. 8 м.   \n",
       "2       605.03                 33.224951         26 г. 9 м.   \n",
       "3       605.03                 39.182656        26 г. 10 м.   \n",
       "4       605.03                 34.977895        26 г. 11 м.   \n",
       "\n",
       "  min_amount_payment  monthy_amount_invested                client_behaviour  \\\n",
       "0                 No              104.291825      Малые траты, малые платежи   \n",
       "1                 No               40.391238  Большие траты, большие платежи   \n",
       "2                 No               58.515976  Большие траты, большие платежи   \n",
       "3                 No               99.306228    Малые траты, средние платежи   \n",
       "4                 No              130.115420      Малые траты, малые платежи   \n",
       "\n",
       "   monthly_balance  \n",
       "0       463.220627  \n",
       "1       478.941214  \n",
       "2       464.256476  \n",
       "3       457.656224  \n",
       "4       443.497032  "
      ]
     },
     "execution_count": 8,
     "metadata": {},
     "output_type": "execute_result"
    }
   ],
   "source": [
    "data.head()"
   ]
  },
  {
   "cell_type": "code",
   "execution_count": 9,
   "metadata": {},
   "outputs": [
    {
     "data": {
      "text/html": [
       "<div>\n",
       "<style scoped>\n",
       "    .dataframe tbody tr th:only-of-type {\n",
       "        vertical-align: middle;\n",
       "    }\n",
       "\n",
       "    .dataframe tbody tr th {\n",
       "        vertical-align: top;\n",
       "    }\n",
       "\n",
       "    .dataframe thead th {\n",
       "        text-align: right;\n",
       "    }\n",
       "</style>\n",
       "<table border=\"1\" class=\"dataframe\">\n",
       "  <thead>\n",
       "    <tr style=\"text-align: right;\">\n",
       "      <th></th>\n",
       "      <th>month</th>\n",
       "      <th>age</th>\n",
       "      <th>occupation</th>\n",
       "      <th>annual_income</th>\n",
       "      <th>monthly_salary</th>\n",
       "      <th>number_bank_accounts</th>\n",
       "      <th>number_credit_cards</th>\n",
       "      <th>interest_rate</th>\n",
       "      <th>number_loan</th>\n",
       "      <th>delay_from_due_date</th>\n",
       "      <th>number_delayed_payment</th>\n",
       "      <th>number_credit_inquiries</th>\n",
       "      <th>unpaid_debt</th>\n",
       "      <th>credit_utilization_ratio</th>\n",
       "      <th>credit_history_age</th>\n",
       "      <th>min_amount_payment</th>\n",
       "      <th>monthy_amount_invested</th>\n",
       "      <th>client_behaviour</th>\n",
       "      <th>monthly_balance</th>\n",
       "    </tr>\n",
       "  </thead>\n",
       "  <tbody>\n",
       "    <tr>\n",
       "      <th>63995</th>\n",
       "      <td>Май</td>\n",
       "      <td>45.0</td>\n",
       "      <td>Медиаменеджер</td>\n",
       "      <td>15962.71</td>\n",
       "      <td>1510.639167</td>\n",
       "      <td>1</td>\n",
       "      <td>1</td>\n",
       "      <td>5.0</td>\n",
       "      <td>4.0</td>\n",
       "      <td>1</td>\n",
       "      <td>NaN</td>\n",
       "      <td>8.0</td>\n",
       "      <td>897.16</td>\n",
       "      <td>36.132095</td>\n",
       "      <td>21 г. 4 м.</td>\n",
       "      <td>No</td>\n",
       "      <td>199.988581</td>\n",
       "      <td>Малые траты, малые платежи</td>\n",
       "      <td>197.400775</td>\n",
       "    </tr>\n",
       "    <tr>\n",
       "      <th>63996</th>\n",
       "      <td>Июнь</td>\n",
       "      <td>NaN</td>\n",
       "      <td>Медиаменеджер</td>\n",
       "      <td>16518.23</td>\n",
       "      <td>1504.069167</td>\n",
       "      <td>1</td>\n",
       "      <td>1</td>\n",
       "      <td>5.0</td>\n",
       "      <td>4.0</td>\n",
       "      <td>1</td>\n",
       "      <td>0.0</td>\n",
       "      <td>8.0</td>\n",
       "      <td>897.16</td>\n",
       "      <td>37.788217</td>\n",
       "      <td>21 г. 5 м.</td>\n",
       "      <td>No</td>\n",
       "      <td>64.549748</td>\n",
       "      <td>Малые траты, большие платежи</td>\n",
       "      <td>310.219608</td>\n",
       "    </tr>\n",
       "    <tr>\n",
       "      <th>63997</th>\n",
       "      <td>Июль</td>\n",
       "      <td>45.0</td>\n",
       "      <td>Медиаменеджер</td>\n",
       "      <td>16081.07</td>\n",
       "      <td>1495.929167</td>\n",
       "      <td>1</td>\n",
       "      <td>1</td>\n",
       "      <td>5.0</td>\n",
       "      <td>4.0</td>\n",
       "      <td>1</td>\n",
       "      <td>NaN</td>\n",
       "      <td>8.0</td>\n",
       "      <td>897.16</td>\n",
       "      <td>24.972853</td>\n",
       "      <td>21 г. 6 м.</td>\n",
       "      <td>No</td>\n",
       "      <td>NaN</td>\n",
       "      <td>Малые траты, малые платежи</td>\n",
       "      <td>224.671539</td>\n",
       "    </tr>\n",
       "    <tr>\n",
       "      <th>63998</th>\n",
       "      <td>Август</td>\n",
       "      <td>45.0</td>\n",
       "      <td>Медиаменеджер</td>\n",
       "      <td>NaN</td>\n",
       "      <td>1455.459167</td>\n",
       "      <td>1</td>\n",
       "      <td>1</td>\n",
       "      <td>5.0</td>\n",
       "      <td>4.0</td>\n",
       "      <td>1</td>\n",
       "      <td>NaN</td>\n",
       "      <td>8.0</td>\n",
       "      <td>897.16</td>\n",
       "      <td>36.166925</td>\n",
       "      <td>21 г. 7 м.</td>\n",
       "      <td>No</td>\n",
       "      <td>NaN</td>\n",
       "      <td>Малые траты, малые платежи</td>\n",
       "      <td>339.924834</td>\n",
       "    </tr>\n",
       "    <tr>\n",
       "      <th>63999</th>\n",
       "      <td>Сентябрь</td>\n",
       "      <td>45.0</td>\n",
       "      <td>Медиаменеджер</td>\n",
       "      <td>16097.00</td>\n",
       "      <td>NaN</td>\n",
       "      <td>1</td>\n",
       "      <td>1</td>\n",
       "      <td>5.0</td>\n",
       "      <td>4.0</td>\n",
       "      <td>1</td>\n",
       "      <td>0.0</td>\n",
       "      <td>8.0</td>\n",
       "      <td>897.16</td>\n",
       "      <td>41.212367</td>\n",
       "      <td>NaN</td>\n",
       "      <td>No</td>\n",
       "      <td>70.805550</td>\n",
       "      <td>Малые траты, большие платежи</td>\n",
       "      <td>304.383806</td>\n",
       "    </tr>\n",
       "  </tbody>\n",
       "</table>\n",
       "</div>"
      ],
      "text/plain": [
       "          month   age     occupation  annual_income  monthly_salary  \\\n",
       "63995       Май  45.0  Медиаменеджер       15962.71     1510.639167   \n",
       "63996      Июнь   NaN  Медиаменеджер       16518.23     1504.069167   \n",
       "63997      Июль  45.0  Медиаменеджер       16081.07     1495.929167   \n",
       "63998    Август  45.0  Медиаменеджер            NaN     1455.459167   \n",
       "63999  Сентябрь  45.0  Медиаменеджер       16097.00             NaN   \n",
       "\n",
       "       number_bank_accounts  number_credit_cards  interest_rate  number_loan  \\\n",
       "63995                     1                    1            5.0          4.0   \n",
       "63996                     1                    1            5.0          4.0   \n",
       "63997                     1                    1            5.0          4.0   \n",
       "63998                     1                    1            5.0          4.0   \n",
       "63999                     1                    1            5.0          4.0   \n",
       "\n",
       "       delay_from_due_date  number_delayed_payment  number_credit_inquiries  \\\n",
       "63995                    1                     NaN                      8.0   \n",
       "63996                    1                     0.0                      8.0   \n",
       "63997                    1                     NaN                      8.0   \n",
       "63998                    1                     NaN                      8.0   \n",
       "63999                    1                     0.0                      8.0   \n",
       "\n",
       "       unpaid_debt  credit_utilization_ratio credit_history_age  \\\n",
       "63995       897.16                 36.132095         21 г. 4 м.   \n",
       "63996       897.16                 37.788217         21 г. 5 м.   \n",
       "63997       897.16                 24.972853         21 г. 6 м.   \n",
       "63998       897.16                 36.166925         21 г. 7 м.   \n",
       "63999       897.16                 41.212367                NaN   \n",
       "\n",
       "      min_amount_payment  monthy_amount_invested  \\\n",
       "63995                 No              199.988581   \n",
       "63996                 No               64.549748   \n",
       "63997                 No                     NaN   \n",
       "63998                 No                     NaN   \n",
       "63999                 No               70.805550   \n",
       "\n",
       "                   client_behaviour  monthly_balance  \n",
       "63995    Малые траты, малые платежи       197.400775  \n",
       "63996  Малые траты, большие платежи       310.219608  \n",
       "63997    Малые траты, малые платежи       224.671539  \n",
       "63998    Малые траты, малые платежи       339.924834  \n",
       "63999  Малые траты, большие платежи       304.383806  "
      ]
     },
     "execution_count": 9,
     "metadata": {},
     "output_type": "execute_result"
    }
   ],
   "source": [
    "data.tail()"
   ]
  },
  {
   "cell_type": "markdown",
   "metadata": {
    "id": "teIfXEdrNk0M"
   },
   "source": [
    "Таргет"
   ]
  },
  {
   "cell_type": "code",
   "execution_count": 10,
   "metadata": {
    "ExecuteTime": {
     "end_time": "2020-03-19T11:08:17.039382Z",
     "start_time": "2020-03-19T11:08:17.032025Z"
    },
    "id": "VOfKCFhNNk0M",
    "outputId": "5a25bad3-5268-49c6-a99f-74c291b0a83f"
   },
   "outputs": [
    {
     "data": {
      "text/plain": [
       "array(['Обычный', 'Хороший', 'Обычный', ..., 'Хороший', 'Хороший',\n",
       "       'Хороший'], dtype=object)"
      ]
     },
     "execution_count": 10,
     "metadata": {},
     "output_type": "execute_result"
    }
   ],
   "source": [
    "labels"
   ]
  },
  {
   "cell_type": "markdown",
   "metadata": {
    "id": "MNv8UWjRNk0N"
   },
   "source": [
    "Найдем номера категориальных признаков.\n",
    "Данная процедура, вообще говоря, не гарантирует правильный ответ, но никакой информации о признаках в соревновании не дается"
   ]
  },
  {
   "cell_type": "code",
   "execution_count": 11,
   "metadata": {
    "ExecuteTime": {
     "end_time": "2020-03-19T11:08:17.356398Z",
     "start_time": "2020-03-19T11:08:17.348775Z"
    },
    "id": "zyF394TrNk0N",
    "outputId": "334dfbe2-800c-4d1b-ebd2-4d1fe9d56904"
   },
   "outputs": [
    {
     "name": "stdout",
     "output_type": "stream",
     "text": [
      "['month', 'credit_history_age', 'min_amount_payment', 'client_behaviour']\n",
      "['age', 'occupation', 'annual_income', 'monthly_salary', 'number_bank_accounts', 'number_credit_cards', 'interest_rate', 'number_loan', 'delay_from_due_date', 'number_delayed_payment', 'number_credit_inquiries', 'unpaid_debt', 'credit_utilization_ratio', 'monthy_amount_invested', 'monthly_balance']\n"
     ]
    }
   ],
   "source": [
    "text_features = []\n",
    "real_features = []\n",
    "\n",
    "for name in data.columns:\n",
    "    value = data[name].iloc[0]\n",
    "    \n",
    "    if np.isreal(value):\n",
    "        real_features.append(name)\n",
    "    else:\n",
    "        text_features.append(name)\n",
    "        \n",
    "print(text_features)\n",
    "print(real_features)"
   ]
  },
  {
   "cell_type": "markdown",
   "metadata": {
    "id": "ccvSjLyQNk0N"
   },
   "source": [
    "Выданные данные разобьем на обучающие и валидационные"
   ]
  },
  {
   "cell_type": "code",
   "execution_count": 12,
   "metadata": {
    "ExecuteTime": {
     "end_time": "2020-03-19T11:08:17.664438Z",
     "start_time": "2020-03-19T11:08:17.636215Z"
    },
    "id": "HB4g65WKNk0N"
   },
   "outputs": [],
   "source": [
    "x_train, x_valid, y_train, y_valid = train_test_split(\n",
    "    data, labels, test_size=0.2, random_state=42,\n",
    ")"
   ]
  },
  {
   "cell_type": "markdown",
   "metadata": {
    "id": "OT_TXUnWNk0O"
   },
   "source": [
    "## 2. Преобразования данных\n",
    "\n",
    "Все категориальные признаки преобразуем к строковому типу. При такой процедуре все значения `np.nan` заменяются на строку `nan`, что эквивалентно введению еще одной категории."
   ]
  },
  {
   "cell_type": "code",
   "execution_count": 13,
   "metadata": {
    "ExecuteTime": {
     "end_time": "2020-03-19T11:08:18.544809Z",
     "start_time": "2020-03-19T11:08:18.348433Z"
    },
    "id": "_bsdWJJjNk0O"
   },
   "outputs": [],
   "source": [
    "x_train[text_features] = x_train[text_features].astype(str)\n",
    "x_valid[text_features] = x_valid[text_features].astype(str)\n",
    "x_test[text_features] = x_test[text_features].astype(str)"
   ]
  },
  {
   "cell_type": "markdown",
   "metadata": {
    "id": "MtGokRgVNk0O"
   },
   "source": [
    "В зависимости от требований модели к данным разные модели будем обучать на данных с различным препроцессингом. \n",
    "\n",
    "**Данные A** &mdash; оригинальные данные, в которых только заменены пропуски в категориальных признаках на строку `nan`. По сути в данных ничего не изменилось."
   ]
  },
  {
   "cell_type": "code",
   "execution_count": 14,
   "metadata": {
    "ExecuteTime": {
     "end_time": "2020-03-19T11:08:19.037068Z",
     "start_time": "2020-03-19T11:08:19.008974Z"
    },
    "id": "FTYaDKYeNk0O"
   },
   "outputs": [],
   "source": [
    "x_train_origin = x_train.copy()\n",
    "x_valid_origin = x_valid.copy()\n",
    "x_test_origin = x_test.copy()"
   ]
  },
  {
   "cell_type": "markdown",
   "metadata": {
    "id": "Q5MNhTnBNk0O"
   },
   "source": [
    "Модели из `sklearn` не умеют обрабатывать пропуски, а они в данных есть:"
   ]
  },
  {
   "cell_type": "code",
   "execution_count": 15,
   "metadata": {
    "ExecuteTime": {
     "end_time": "2020-03-19T11:08:19.362220Z",
     "start_time": "2020-03-19T11:08:19.322039Z"
    },
    "id": "8AyKB4-5Nk0O",
    "outputId": "6be96bbb-b6b0-4ff3-c4c5-4cfcb04d56b1"
   },
   "outputs": [
    {
     "name": "stdout",
     "output_type": "stream",
     "text": [
      "<class 'pandas.core.frame.DataFrame'>\n",
      "Index: 51200 entries, 43820 to 56422\n",
      "Data columns (total 19 columns):\n",
      " #   Column                    Non-Null Count  Dtype  \n",
      "---  ------                    --------------  -----  \n",
      " 0   month                     51200 non-null  object \n",
      " 1   age                       47285 non-null  float64\n",
      " 2   occupation                47600 non-null  object \n",
      " 3   annual_income             47648 non-null  float64\n",
      " 4   monthly_salary            43558 non-null  float64\n",
      " 5   number_bank_accounts      51200 non-null  int64  \n",
      " 6   number_credit_cards       51200 non-null  int64  \n",
      " 7   interest_rate             49350 non-null  float64\n",
      " 8   number_loan               46589 non-null  float64\n",
      " 9   delay_from_due_date       51200 non-null  int64  \n",
      " 10  number_delayed_payment    45496 non-null  float64\n",
      " 11  number_credit_inquiries   49160 non-null  float64\n",
      " 12  unpaid_debt               50696 non-null  float64\n",
      " 13  credit_utilization_ratio  51200 non-null  float64\n",
      " 14  credit_history_age        51200 non-null  object \n",
      " 15  min_amount_payment        51200 non-null  object \n",
      " 16  monthy_amount_invested    46723 non-null  float64\n",
      " 17  client_behaviour          51200 non-null  object \n",
      " 18  monthly_balance           50557 non-null  float64\n",
      "dtypes: float64(11), int64(3), object(5)\n",
      "memory usage: 7.8+ MB\n"
     ]
    }
   ],
   "source": [
    "x_train.info()"
   ]
  },
  {
   "cell_type": "markdown",
   "metadata": {
    "id": "tyMrzbmcNk0P"
   },
   "source": [
    "Для кодировки категориальных признаков будем использовать `MeanEncoder`, который заменяет значение категории на среднее значение таргета в этой категории. Если категория не встречалась в трейне, то на глобальное среднее таргета."
   ]
  },
  {
   "cell_type": "code",
   "execution_count": 16,
   "metadata": {
    "ExecuteTime": {
     "end_time": "2020-03-19T11:08:19.658116Z",
     "start_time": "2020-03-19T11:08:19.646321Z"
    },
    "code_folding": [],
    "id": "zK-ew0ipNk0P"
   },
   "outputs": [],
   "source": [
    "# https://github.com/AndreyKoceruba/mean-encoding/blob/master/mean_encoder.py\n",
    "\n",
    "from sklearn.base import BaseEstimator\n",
    "from sklearn.base import TransformerMixin\n",
    "\n",
    "class MeanEncoder(BaseEstimator, TransformerMixin):\n",
    "    \n",
    "    def __init__(self, target_type='binary', \n",
    "                 encoding='likelihood', func=None):\n",
    "        if target_type == 'continuous' and encoding in ['woe', 'diff']:\n",
    "            raise ValueError(\n",
    "                '{} target_type can\\'t be used with {} encoding'.format(\n",
    "                    target_type, encoding\n",
    "                )\n",
    "            )\n",
    "        self.target_type = target_type\n",
    "        self.encoding = encoding\n",
    "        self.func = func\n",
    "    \n",
    "    def goods(self, x):\n",
    "        return np.sum(x == 1)\n",
    "    \n",
    "    def bads(self, x):\n",
    "        return np.sum(x == 0)\n",
    "    \n",
    "    def encode(self, X, y, agg_func):\n",
    "        self.means = dict()\n",
    "        self.global_mean = np.nan\n",
    "        X['target'] = y\n",
    "        for col in X.columns:\n",
    "            if col != 'target':\n",
    "                col_means = X.groupby(col)['target'].agg(agg_func)\n",
    "                self.means[col] = col_means\n",
    "        X.drop(['target'], axis=1, inplace = True)\n",
    "        \n",
    "    def fit(self, X, y):\n",
    "        if self.encoding == 'woe':\n",
    "            self.encode(\n",
    "                X, y, \n",
    "                lambda x: np.log(self.goods(x) / self.bads(x)) * 100\n",
    "            )\n",
    "            self.global_mean = np.log(self.goods(y) / self.bads(y)) * 100\n",
    "        elif self.encoding == 'diff':\n",
    "            self.encode(X, y, lambda x: self.goods(x) - self.bads(x))\n",
    "            self.global_mean = self.goods(y) - self.bads(y)\n",
    "        elif self.encoding == 'likelihood':\n",
    "            self.encode(X, y, np.mean)\n",
    "            self.global_mean = np.mean(y)\n",
    "        elif self.encoding == 'count':\n",
    "            self.encode(X, y, np.sum)\n",
    "            self.global_mean = np.sum(y)\n",
    "        elif self.encoding == 'function':\n",
    "            self.encode(X, y, lambda x: self.func(x))\n",
    "            self.global_mean = self.func(y)\n",
    "        return self\n",
    "    \n",
    "    def transform(self, X):\n",
    "        X_new = pd.DataFrame()\n",
    "        for col in X.columns:\n",
    "            X_new[col] = X[col].map(self.means[col]).fillna(self.global_mean)\n",
    "        return X_new\n",
    "    \n",
    "    def fit_transform(self, X, y):\n",
    "        self.fit(X, y)\n",
    "        return self.transform(X)"
   ]
  },
  {
   "cell_type": "markdown",
   "metadata": {
    "id": "H_RirNZWNk0P"
   },
   "source": [
    "Применим его к нашим данным"
   ]
  },
  {
   "cell_type": "code",
   "execution_count": 18,
   "metadata": {
    "ExecuteTime": {
     "end_time": "2020-03-19T11:08:20.592327Z",
     "start_time": "2020-03-19T11:08:20.223429Z"
    },
    "id": "4nYdN2xcNk0Q"
   },
   "outputs": [
    {
     "ename": "TypeError",
     "evalue": "agg function failed [how->mean,dtype->object]",
     "output_type": "error",
     "traceback": [
      "\u001b[0;31m---------------------------------------------------------------------------\u001b[0m",
      "\u001b[0;31mTypeError\u001b[0m                                 Traceback (most recent call last)",
      "File \u001b[0;32m~/.local/lib/python3.12/site-packages/pandas/core/groupby/groupby.py:1942\u001b[0m, in \u001b[0;36mGroupBy._agg_py_fallback\u001b[0;34m(self, how, values, ndim, alt)\u001b[0m\n\u001b[1;32m   1941\u001b[0m \u001b[38;5;28;01mtry\u001b[39;00m:\n\u001b[0;32m-> 1942\u001b[0m     res_values \u001b[38;5;241m=\u001b[39m \u001b[38;5;28;43mself\u001b[39;49m\u001b[38;5;241;43m.\u001b[39;49m\u001b[43m_grouper\u001b[49m\u001b[38;5;241;43m.\u001b[39;49m\u001b[43magg_series\u001b[49m\u001b[43m(\u001b[49m\u001b[43mser\u001b[49m\u001b[43m,\u001b[49m\u001b[43m \u001b[49m\u001b[43malt\u001b[49m\u001b[43m,\u001b[49m\u001b[43m \u001b[49m\u001b[43mpreserve_dtype\u001b[49m\u001b[38;5;241;43m=\u001b[39;49m\u001b[38;5;28;43;01mTrue\u001b[39;49;00m\u001b[43m)\u001b[49m\n\u001b[1;32m   1943\u001b[0m \u001b[38;5;28;01mexcept\u001b[39;00m \u001b[38;5;167;01mException\u001b[39;00m \u001b[38;5;28;01mas\u001b[39;00m err:\n",
      "File \u001b[0;32m~/.local/lib/python3.12/site-packages/pandas/core/groupby/ops.py:864\u001b[0m, in \u001b[0;36mBaseGrouper.agg_series\u001b[0;34m(self, obj, func, preserve_dtype)\u001b[0m\n\u001b[1;32m    862\u001b[0m     preserve_dtype \u001b[38;5;241m=\u001b[39m \u001b[38;5;28;01mTrue\u001b[39;00m\n\u001b[0;32m--> 864\u001b[0m result \u001b[38;5;241m=\u001b[39m \u001b[38;5;28;43mself\u001b[39;49m\u001b[38;5;241;43m.\u001b[39;49m\u001b[43m_aggregate_series_pure_python\u001b[49m\u001b[43m(\u001b[49m\u001b[43mobj\u001b[49m\u001b[43m,\u001b[49m\u001b[43m \u001b[49m\u001b[43mfunc\u001b[49m\u001b[43m)\u001b[49m\n\u001b[1;32m    866\u001b[0m npvalues \u001b[38;5;241m=\u001b[39m lib\u001b[38;5;241m.\u001b[39mmaybe_convert_objects(result, try_float\u001b[38;5;241m=\u001b[39m\u001b[38;5;28;01mFalse\u001b[39;00m)\n",
      "File \u001b[0;32m~/.local/lib/python3.12/site-packages/pandas/core/groupby/ops.py:885\u001b[0m, in \u001b[0;36mBaseGrouper._aggregate_series_pure_python\u001b[0;34m(self, obj, func)\u001b[0m\n\u001b[1;32m    884\u001b[0m \u001b[38;5;28;01mfor\u001b[39;00m i, group \u001b[38;5;129;01min\u001b[39;00m \u001b[38;5;28menumerate\u001b[39m(splitter):\n\u001b[0;32m--> 885\u001b[0m     res \u001b[38;5;241m=\u001b[39m \u001b[43mfunc\u001b[49m\u001b[43m(\u001b[49m\u001b[43mgroup\u001b[49m\u001b[43m)\u001b[49m\n\u001b[1;32m    886\u001b[0m     res \u001b[38;5;241m=\u001b[39m extract_result(res)\n",
      "File \u001b[0;32m~/.local/lib/python3.12/site-packages/pandas/core/groupby/groupby.py:2454\u001b[0m, in \u001b[0;36mGroupBy.mean.<locals>.<lambda>\u001b[0;34m(x)\u001b[0m\n\u001b[1;32m   2451\u001b[0m \u001b[38;5;28;01melse\u001b[39;00m:\n\u001b[1;32m   2452\u001b[0m     result \u001b[38;5;241m=\u001b[39m \u001b[38;5;28mself\u001b[39m\u001b[38;5;241m.\u001b[39m_cython_agg_general(\n\u001b[1;32m   2453\u001b[0m         \u001b[38;5;124m\"\u001b[39m\u001b[38;5;124mmean\u001b[39m\u001b[38;5;124m\"\u001b[39m,\n\u001b[0;32m-> 2454\u001b[0m         alt\u001b[38;5;241m=\u001b[39m\u001b[38;5;28;01mlambda\u001b[39;00m x: \u001b[43mSeries\u001b[49m\u001b[43m(\u001b[49m\u001b[43mx\u001b[49m\u001b[43m,\u001b[49m\u001b[43m \u001b[49m\u001b[43mcopy\u001b[49m\u001b[38;5;241;43m=\u001b[39;49m\u001b[38;5;28;43;01mFalse\u001b[39;49;00m\u001b[43m)\u001b[49m\u001b[38;5;241;43m.\u001b[39;49m\u001b[43mmean\u001b[49m\u001b[43m(\u001b[49m\u001b[43mnumeric_only\u001b[49m\u001b[38;5;241;43m=\u001b[39;49m\u001b[43mnumeric_only\u001b[49m\u001b[43m)\u001b[49m,\n\u001b[1;32m   2455\u001b[0m         numeric_only\u001b[38;5;241m=\u001b[39mnumeric_only,\n\u001b[1;32m   2456\u001b[0m     )\n\u001b[1;32m   2457\u001b[0m     \u001b[38;5;28;01mreturn\u001b[39;00m result\u001b[38;5;241m.\u001b[39m__finalize__(\u001b[38;5;28mself\u001b[39m\u001b[38;5;241m.\u001b[39mobj, method\u001b[38;5;241m=\u001b[39m\u001b[38;5;124m\"\u001b[39m\u001b[38;5;124mgroupby\u001b[39m\u001b[38;5;124m\"\u001b[39m)\n",
      "File \u001b[0;32m~/.local/lib/python3.12/site-packages/pandas/core/series.py:6549\u001b[0m, in \u001b[0;36mSeries.mean\u001b[0;34m(self, axis, skipna, numeric_only, **kwargs)\u001b[0m\n\u001b[1;32m   6541\u001b[0m \u001b[38;5;129m@doc\u001b[39m(make_doc(\u001b[38;5;124m\"\u001b[39m\u001b[38;5;124mmean\u001b[39m\u001b[38;5;124m\"\u001b[39m, ndim\u001b[38;5;241m=\u001b[39m\u001b[38;5;241m1\u001b[39m))\n\u001b[1;32m   6542\u001b[0m \u001b[38;5;28;01mdef\u001b[39;00m \u001b[38;5;21mmean\u001b[39m(\n\u001b[1;32m   6543\u001b[0m     \u001b[38;5;28mself\u001b[39m,\n\u001b[0;32m   (...)\u001b[0m\n\u001b[1;32m   6547\u001b[0m     \u001b[38;5;241m*\u001b[39m\u001b[38;5;241m*\u001b[39mkwargs,\n\u001b[1;32m   6548\u001b[0m ):\n\u001b[0;32m-> 6549\u001b[0m     \u001b[38;5;28;01mreturn\u001b[39;00m \u001b[43mNDFrame\u001b[49m\u001b[38;5;241;43m.\u001b[39;49m\u001b[43mmean\u001b[49m\u001b[43m(\u001b[49m\u001b[38;5;28;43mself\u001b[39;49m\u001b[43m,\u001b[49m\u001b[43m \u001b[49m\u001b[43maxis\u001b[49m\u001b[43m,\u001b[49m\u001b[43m \u001b[49m\u001b[43mskipna\u001b[49m\u001b[43m,\u001b[49m\u001b[43m \u001b[49m\u001b[43mnumeric_only\u001b[49m\u001b[43m,\u001b[49m\u001b[43m \u001b[49m\u001b[38;5;241;43m*\u001b[39;49m\u001b[38;5;241;43m*\u001b[39;49m\u001b[43mkwargs\u001b[49m\u001b[43m)\u001b[49m\n",
      "File \u001b[0;32m~/.local/lib/python3.12/site-packages/pandas/core/generic.py:12420\u001b[0m, in \u001b[0;36mNDFrame.mean\u001b[0;34m(self, axis, skipna, numeric_only, **kwargs)\u001b[0m\n\u001b[1;32m  12413\u001b[0m \u001b[38;5;28;01mdef\u001b[39;00m \u001b[38;5;21mmean\u001b[39m(\n\u001b[1;32m  12414\u001b[0m     \u001b[38;5;28mself\u001b[39m,\n\u001b[1;32m  12415\u001b[0m     axis: Axis \u001b[38;5;241m|\u001b[39m \u001b[38;5;28;01mNone\u001b[39;00m \u001b[38;5;241m=\u001b[39m \u001b[38;5;241m0\u001b[39m,\n\u001b[0;32m   (...)\u001b[0m\n\u001b[1;32m  12418\u001b[0m     \u001b[38;5;241m*\u001b[39m\u001b[38;5;241m*\u001b[39mkwargs,\n\u001b[1;32m  12419\u001b[0m ) \u001b[38;5;241m-\u001b[39m\u001b[38;5;241m>\u001b[39m Series \u001b[38;5;241m|\u001b[39m \u001b[38;5;28mfloat\u001b[39m:\n\u001b[0;32m> 12420\u001b[0m     \u001b[38;5;28;01mreturn\u001b[39;00m \u001b[38;5;28;43mself\u001b[39;49m\u001b[38;5;241;43m.\u001b[39;49m\u001b[43m_stat_function\u001b[49m\u001b[43m(\u001b[49m\n\u001b[1;32m  12421\u001b[0m \u001b[43m        \u001b[49m\u001b[38;5;124;43m\"\u001b[39;49m\u001b[38;5;124;43mmean\u001b[39;49m\u001b[38;5;124;43m\"\u001b[39;49m\u001b[43m,\u001b[49m\u001b[43m \u001b[49m\u001b[43mnanops\u001b[49m\u001b[38;5;241;43m.\u001b[39;49m\u001b[43mnanmean\u001b[49m\u001b[43m,\u001b[49m\u001b[43m \u001b[49m\u001b[43maxis\u001b[49m\u001b[43m,\u001b[49m\u001b[43m \u001b[49m\u001b[43mskipna\u001b[49m\u001b[43m,\u001b[49m\u001b[43m \u001b[49m\u001b[43mnumeric_only\u001b[49m\u001b[43m,\u001b[49m\u001b[43m \u001b[49m\u001b[38;5;241;43m*\u001b[39;49m\u001b[38;5;241;43m*\u001b[39;49m\u001b[43mkwargs\u001b[49m\n\u001b[1;32m  12422\u001b[0m \u001b[43m    \u001b[49m\u001b[43m)\u001b[49m\n",
      "File \u001b[0;32m~/.local/lib/python3.12/site-packages/pandas/core/generic.py:12377\u001b[0m, in \u001b[0;36mNDFrame._stat_function\u001b[0;34m(self, name, func, axis, skipna, numeric_only, **kwargs)\u001b[0m\n\u001b[1;32m  12375\u001b[0m validate_bool_kwarg(skipna, \u001b[38;5;124m\"\u001b[39m\u001b[38;5;124mskipna\u001b[39m\u001b[38;5;124m\"\u001b[39m, none_allowed\u001b[38;5;241m=\u001b[39m\u001b[38;5;28;01mFalse\u001b[39;00m)\n\u001b[0;32m> 12377\u001b[0m \u001b[38;5;28;01mreturn\u001b[39;00m \u001b[38;5;28;43mself\u001b[39;49m\u001b[38;5;241;43m.\u001b[39;49m\u001b[43m_reduce\u001b[49m\u001b[43m(\u001b[49m\n\u001b[1;32m  12378\u001b[0m \u001b[43m    \u001b[49m\u001b[43mfunc\u001b[49m\u001b[43m,\u001b[49m\u001b[43m \u001b[49m\u001b[43mname\u001b[49m\u001b[38;5;241;43m=\u001b[39;49m\u001b[43mname\u001b[49m\u001b[43m,\u001b[49m\u001b[43m \u001b[49m\u001b[43maxis\u001b[49m\u001b[38;5;241;43m=\u001b[39;49m\u001b[43maxis\u001b[49m\u001b[43m,\u001b[49m\u001b[43m \u001b[49m\u001b[43mskipna\u001b[49m\u001b[38;5;241;43m=\u001b[39;49m\u001b[43mskipna\u001b[49m\u001b[43m,\u001b[49m\u001b[43m \u001b[49m\u001b[43mnumeric_only\u001b[49m\u001b[38;5;241;43m=\u001b[39;49m\u001b[43mnumeric_only\u001b[49m\n\u001b[1;32m  12379\u001b[0m \u001b[43m\u001b[49m\u001b[43m)\u001b[49m\n",
      "File \u001b[0;32m~/.local/lib/python3.12/site-packages/pandas/core/series.py:6457\u001b[0m, in \u001b[0;36mSeries._reduce\u001b[0;34m(self, op, name, axis, skipna, numeric_only, filter_type, **kwds)\u001b[0m\n\u001b[1;32m   6453\u001b[0m     \u001b[38;5;28;01mraise\u001b[39;00m \u001b[38;5;167;01mTypeError\u001b[39;00m(\n\u001b[1;32m   6454\u001b[0m         \u001b[38;5;124mf\u001b[39m\u001b[38;5;124m\"\u001b[39m\u001b[38;5;124mSeries.\u001b[39m\u001b[38;5;132;01m{\u001b[39;00mname\u001b[38;5;132;01m}\u001b[39;00m\u001b[38;5;124m does not allow \u001b[39m\u001b[38;5;132;01m{\u001b[39;00mkwd_name\u001b[38;5;132;01m}\u001b[39;00m\u001b[38;5;124m=\u001b[39m\u001b[38;5;132;01m{\u001b[39;00mnumeric_only\u001b[38;5;132;01m}\u001b[39;00m\u001b[38;5;124m \u001b[39m\u001b[38;5;124m\"\u001b[39m\n\u001b[1;32m   6455\u001b[0m         \u001b[38;5;124m\"\u001b[39m\u001b[38;5;124mwith non-numeric dtypes.\u001b[39m\u001b[38;5;124m\"\u001b[39m\n\u001b[1;32m   6456\u001b[0m     )\n\u001b[0;32m-> 6457\u001b[0m \u001b[38;5;28;01mreturn\u001b[39;00m \u001b[43mop\u001b[49m\u001b[43m(\u001b[49m\u001b[43mdelegate\u001b[49m\u001b[43m,\u001b[49m\u001b[43m \u001b[49m\u001b[43mskipna\u001b[49m\u001b[38;5;241;43m=\u001b[39;49m\u001b[43mskipna\u001b[49m\u001b[43m,\u001b[49m\u001b[43m \u001b[49m\u001b[38;5;241;43m*\u001b[39;49m\u001b[38;5;241;43m*\u001b[39;49m\u001b[43mkwds\u001b[49m\u001b[43m)\u001b[49m\n",
      "File \u001b[0;32m~/.local/lib/python3.12/site-packages/pandas/core/nanops.py:147\u001b[0m, in \u001b[0;36mbottleneck_switch.__call__.<locals>.f\u001b[0;34m(values, axis, skipna, **kwds)\u001b[0m\n\u001b[1;32m    146\u001b[0m \u001b[38;5;28;01melse\u001b[39;00m:\n\u001b[0;32m--> 147\u001b[0m     result \u001b[38;5;241m=\u001b[39m \u001b[43malt\u001b[49m\u001b[43m(\u001b[49m\u001b[43mvalues\u001b[49m\u001b[43m,\u001b[49m\u001b[43m \u001b[49m\u001b[43maxis\u001b[49m\u001b[38;5;241;43m=\u001b[39;49m\u001b[43maxis\u001b[49m\u001b[43m,\u001b[49m\u001b[43m \u001b[49m\u001b[43mskipna\u001b[49m\u001b[38;5;241;43m=\u001b[39;49m\u001b[43mskipna\u001b[49m\u001b[43m,\u001b[49m\u001b[43m \u001b[49m\u001b[38;5;241;43m*\u001b[39;49m\u001b[38;5;241;43m*\u001b[39;49m\u001b[43mkwds\u001b[49m\u001b[43m)\u001b[49m\n\u001b[1;32m    149\u001b[0m \u001b[38;5;28;01mreturn\u001b[39;00m result\n",
      "File \u001b[0;32m~/.local/lib/python3.12/site-packages/pandas/core/nanops.py:404\u001b[0m, in \u001b[0;36m_datetimelike_compat.<locals>.new_func\u001b[0;34m(values, axis, skipna, mask, **kwargs)\u001b[0m\n\u001b[1;32m    402\u001b[0m     mask \u001b[38;5;241m=\u001b[39m isna(values)\n\u001b[0;32m--> 404\u001b[0m result \u001b[38;5;241m=\u001b[39m \u001b[43mfunc\u001b[49m\u001b[43m(\u001b[49m\u001b[43mvalues\u001b[49m\u001b[43m,\u001b[49m\u001b[43m \u001b[49m\u001b[43maxis\u001b[49m\u001b[38;5;241;43m=\u001b[39;49m\u001b[43maxis\u001b[49m\u001b[43m,\u001b[49m\u001b[43m \u001b[49m\u001b[43mskipna\u001b[49m\u001b[38;5;241;43m=\u001b[39;49m\u001b[43mskipna\u001b[49m\u001b[43m,\u001b[49m\u001b[43m \u001b[49m\u001b[43mmask\u001b[49m\u001b[38;5;241;43m=\u001b[39;49m\u001b[43mmask\u001b[49m\u001b[43m,\u001b[49m\u001b[43m \u001b[49m\u001b[38;5;241;43m*\u001b[39;49m\u001b[38;5;241;43m*\u001b[39;49m\u001b[43mkwargs\u001b[49m\u001b[43m)\u001b[49m\n\u001b[1;32m    406\u001b[0m \u001b[38;5;28;01mif\u001b[39;00m datetimelike:\n",
      "File \u001b[0;32m~/.local/lib/python3.12/site-packages/pandas/core/nanops.py:720\u001b[0m, in \u001b[0;36mnanmean\u001b[0;34m(values, axis, skipna, mask)\u001b[0m\n\u001b[1;32m    719\u001b[0m the_sum \u001b[38;5;241m=\u001b[39m values\u001b[38;5;241m.\u001b[39msum(axis, dtype\u001b[38;5;241m=\u001b[39mdtype_sum)\n\u001b[0;32m--> 720\u001b[0m the_sum \u001b[38;5;241m=\u001b[39m \u001b[43m_ensure_numeric\u001b[49m\u001b[43m(\u001b[49m\u001b[43mthe_sum\u001b[49m\u001b[43m)\u001b[49m\n\u001b[1;32m    722\u001b[0m \u001b[38;5;28;01mif\u001b[39;00m axis \u001b[38;5;129;01mis\u001b[39;00m \u001b[38;5;129;01mnot\u001b[39;00m \u001b[38;5;28;01mNone\u001b[39;00m \u001b[38;5;129;01mand\u001b[39;00m \u001b[38;5;28mgetattr\u001b[39m(the_sum, \u001b[38;5;124m\"\u001b[39m\u001b[38;5;124mndim\u001b[39m\u001b[38;5;124m\"\u001b[39m, \u001b[38;5;28;01mFalse\u001b[39;00m):\n",
      "File \u001b[0;32m~/.local/lib/python3.12/site-packages/pandas/core/nanops.py:1701\u001b[0m, in \u001b[0;36m_ensure_numeric\u001b[0;34m(x)\u001b[0m\n\u001b[1;32m   1699\u001b[0m \u001b[38;5;28;01mif\u001b[39;00m \u001b[38;5;28misinstance\u001b[39m(x, \u001b[38;5;28mstr\u001b[39m):\n\u001b[1;32m   1700\u001b[0m     \u001b[38;5;66;03m# GH#44008, GH#36703 avoid casting e.g. strings to numeric\u001b[39;00m\n\u001b[0;32m-> 1701\u001b[0m     \u001b[38;5;28;01mraise\u001b[39;00m \u001b[38;5;167;01mTypeError\u001b[39;00m(\u001b[38;5;124mf\u001b[39m\u001b[38;5;124m\"\u001b[39m\u001b[38;5;124mCould not convert string \u001b[39m\u001b[38;5;124m'\u001b[39m\u001b[38;5;132;01m{\u001b[39;00mx\u001b[38;5;132;01m}\u001b[39;00m\u001b[38;5;124m'\u001b[39m\u001b[38;5;124m to numeric\u001b[39m\u001b[38;5;124m\"\u001b[39m)\n\u001b[1;32m   1702\u001b[0m \u001b[38;5;28;01mtry\u001b[39;00m:\n",
      "\u001b[0;31mTypeError\u001b[0m: Could not convert string 'ХорошийОбычныйОбычныйПлохойПлохойОбычныйОбычныйХорошийХорошийПлохойОбычныйХорошийХорошийОбычныйОбычныйОбычныйОбычныйОбычныйПлохойПлохойПлохойХорошийОбычныйОбычныйХорошийОбычныйОбычныйПлохойОбычныйХорошийОбычныйПлохойОбычныйПлохойХорошийОбычныйПлохойПлохойПлохойХорошийОбычныйОбычныйОбычныйОбычныйХорошийПлохойПлохойПлохойПлохойПлохойОбычныйХорошийПлохойОбычныйОбычныйПлохойОбычныйПлохойПлохойОбычныйОбычныйОбычныйОбычныйОбычныйОбычныйОбычныйОбычныйОбычныйОбычныйПлохойОбычныйПлохойХорошийОбычныйХорошийОбычныйОбычныйОбычныйОбычныйОбычныйОбычныйОбычныйХорошийОбычныйПлохойОбычныйПлохойПлохойОбычныйХорошийПлохойОбычныйПлохойПлохойОбычныйПлохойХорошийПлохойОбычныйОбычныйОбычныйОбычныйХорошийХорошийПлохойПлохойОбычныйОбычныйПлохойПлохойОбычныйОбычныйОбычныйОбычныйХорошийПлохойОбычныйОбычныйПлохойПлохойОбычныйОбычныйОбычныйПлохойПлохойХорошийПлохойХорошийОбычныйОбычныйОбычныйОбычныйХорошийПлохойПлохойОбычныйПлохойПлохойПлохойОбычныйПлохойПлохойПлохойОбычныйОбычныйПлохойОбычныйОбычныйХорошийПлохойПлохойОбычныйОбычныйПлохойОбычныйХорошийОбычныйХорошийХорошийПлохойОбычныйОбычныйХорошийХорошийОбычныйОбычныйПлохойХорошийОбычныйОбычныйОбычныйХорошийПлохойОбычныйПлохойХорошийПлохойОбычныйПлохойХорошийОбычныйПлохойПлохойОбычныйПлохойОбычныйПлохойОбычныйОбычныйХорошийПлохойПлохойОбычныйХорошийОбычныйПлохойОбычныйХорошийОбычныйХорошийПлохойОбычныйХорошийПлохойОбычныйОбычныйХорошийПлохойХорошийХорошийОбычныйОбычныйОбычныйОбычныйОбычныйХорошийПлохойПлохойХорошийОбычныйОбычныйОбычныйПлохойПлохойОбычныйОбычныйОбычныйОбычныйОбычныйХорошийОбычныйОбычныйПлохойОбычныйПлохойПлохойОбычныйХорошийХорошийПлохойПлохойХорошийПлохойПлохойОбычныйОбычныйХорошийПлохойОбычныйПлохойПлохойХорошийОбычныйОбычныйОбычныйОбычныйОбычныйПлохойОбычныйХорошийОбычныйОбычныйОбычныйПлохойПлохойОбычныйХорошийХорошийОбычныйОбычныйХорошийПлохойОбычныйОбычныйОбычныйОбычныйХорошийХорошийОбычныйОбычныйОбычныйПлохойОбычныйХорошийХорошийОбычныйХорошийПлохойОбычныйХорошийПлохойПлохойХорошийХорошийХорошийПлохойПлохойОбычныйХорошийПлохойХорошийОбычныйОбычныйХорошийОбычныйПлохойОбычныйХорошийПлохойОбычныйОбычныйПлохойПлохойОбычныйОбычныйОбычныйХорошийХорошийХорошийПлохойПлохойПлохойОбычныйОбычныйОбычныйХорошийХорошийОбычныйОбычныйОбычныйОбычныйОбычныйПлохойХорошийХорошийОбычныйХорошийХорошийПлохойОбычныйОбычныйХорошийОбычныйПлохойОбычныйОбычныйОбычныйОбычныйОбычныйОбычныйОбычныйХорошийХорошийХорошийОбычныйПлохойПлохойХорошийХорошийХорошийПлохойОбычныйПлохойОбычныйОбычныйПлохойХорошийОбычныйОбычныйОбычныйОбычныйОбычныйХорошийХорошийХорошийПлохойОбычныйПлохойОбычныйПлохойПлохойОбычныйОбычныйОбычныйПлохойОбычныйПлохойХорошийОбычныйХорошийОбычныйПлохойХорошийХорошийОбычныйОбычныйОбычныйОбычныйПлохойПлохойОбычныйОбычныйОбычныйПлохойОбычныйХорошийХорошийПлохойОбычныйОбычныйПлохойОбычныйОбычныйХорошийПлохойОбычныйОбычныйПлохойОбычныйОбычныйОбычныйХорошийОбычныйОбычныйОбычныйОбычныйПлохойОбычныйОбычныйПлохойХорошийХорошийХорошийОбычныйХорошийОбычныйПлохойОбычныйОбычныйОбычныйОбычныйОбычныйОбычныйХорошийОбычныйПлохойОбычныйПлохойПлохойОбычныйХорошийПлохойОбычныйПлохойХорошийПлохойОбычныйОбычныйОбычныйХорошийОбычныйПлохойОбычныйОбычныйПлохойОбычныйОбычныйОбычныйХорошийОбычныйОбычныйОбычныйОбычныйПлохойОбычныйОбычныйПлохойПлохойОбычныйХорошийПлохойХорошийХорошийОбычныйОбычныйХорошийХорошийОбычныйПлохойОбычныйОбычныйОбычныйОбычныйОбычныйХорошийПлохойОбычныйОбычныйОбычныйОбычныйХорошийОбычныйОбычныйПлохойПлохойОбычныйХорошийХорошийОбычныйОбычныйОбычныйОбычныйХорошийОбычныйОбычныйХорошийХорошийОбычныйХорошийОбычныйПлохойОбычныйОбычныйХорошийПлохойОбычныйОбычныйОбычныйПлохойОбычныйОбычныйОбычныйХорошийПлохойОбычныйПлохойОбычныйОбычныйПлохойПлохойХорошийПлохойОбычныйОбычныйПлохойХорошийХорошийОбычныйПлохойПлохойОбычныйОбычныйПлохойОбычныйОбычныйХорошийОбычныйОбычныйПлохойПлохойОбычныйПлохойПлохойПлохойОбычныйОбычныйПлохойОбычныйПлохойПлохойХорошийХорошийХорошийОбычныйПлохойПлохойХорошийОбычныйПлохойПлохойХорошийОбычныйОбычныйХорошийОбычныйПлохойОбычныйПлохойОбычныйХорошийПлохойХорошийОбычныйПлохойХорошийОбычныйОбычныйОбычныйОбычныйОбычныйОбычныйХорошийОбычныйОбычныйОбычныйОбычныйОбычныйХорошийПлохойПлохойПлохойОбычныйПлохойХорошийПлохойХорошийОбычныйХорошийОбычныйОбычныйОбычныйХорошийХорошийОбычныйОбычныйПлохойПлохойОбычныйХорошийОбычныйОбычныйОбычныйОбычныйОбычныйХорошийОбычныйХорошийПлохойОбычныйПлохойХорошийОбычныйОбычныйОбычныйОбычныйОбычныйОбычныйОбычныйХорошийОбычныйОбычныйПлохойПлохойОбычныйОбычныйПлохойПлохойОбычныйОбычныйОбычныйПлохойОбычныйХорошийПлохойПлохойОбычныйОбычныйПлохойОбычныйОбычныйОбычныйОбычныйОбычныйХорошийПлохойПлохойПлохойОбычныйПлохойПлохойПлохойОбычныйХорошийОбычныйОбычныйОбычныйПлохойПлохойХорошийОбычныйХорошийПлохойПлохойОбычныйПлохойПлохойПлохойОбычныйОбычныйОбычныйПлохойПлохойОбычныйОбычныйПлохойОбычныйПлохойХорошийОбычныйОбычныйОбычныйОбычныйОбычныйХорошийПлохойПлохойПлохойОбычныйПлохойОбычныйПлохойХорошийОбычныйОбычныйОбычныйПлохойОбычныйОбычныйПлохойПлохойОбычныйОбычныйОбычныйОбычныйОбычныйПлохойПлохойОбычныйПлохойОбычныйХорошийПлохойОбычныйОбычныйПлохойОбычныйПлохойПлохойОбычныйОбычныйОбычныйПлохойХорошийОбычныйПлохойОбычныйПлохойПлохойПлохойХорошийПлохойХорошийОбычныйОбычныйПлохойПлохойПлохойОбычныйХорошийХорошийОбычныйХорошийХорошийОбычныйОбычныйОбычныйОбычныйОбычныйОбычныйОбычныйОбычныйПлохойХорошийОбычныйОбычныйПлохойОбычныйОбычныйПлохойПлохойПлохойОбычныйПлохойПлохойОбычныйОбычныйХорошийХорошийХорошийОбычныйПлохойХорошийОбычныйОбычныйПлохойХорошийПлохойОбычныйОбычныйОбычныйПлохойОбычныйХорошийХорошийОбычныйПлохойОбычныйОбычныйОбычныйОбычныйОбычныйОбычныйОбычныйОбычныйХорошийПлохойПлохойПлохойОбычныйПлохойПлохойПлохойПлохойОбычныйОбычныйХорошийОбычныйОбычныйОбычныйПлохойХорошийОбычныйОбычныйОбычныйОбычныйПлохойОбычныйОбычныйОбычныйОбычныйПлохойПлохойОбычныйОбычныйОбычныйХорошийОбычныйОбычныйПлохойОбычныйПлохойПлохойОбычныйХорошийПлохойПлохойХорошийОбычныйОбычныйОбычныйОбычныйХорошийПлохойХорошийОбычныйОбычныйОбычныйОбычныйОбычныйОбычныйОбычныйОбычныйПлохойПлохойХорошийХорошийОбычныйОбычныйОбычныйОбычныйПлохойОбычныйХорошийОбычныйХорошийПлохойОбычныйПлохойОбычныйОбычныйХорошийОбычныйПлохойПлохойПлохойПлохойПлохойПлохойОбычныйХорошийОбычныйОбычныйОбычныйОбычныйПлохойПлохойОбычныйХорошийОбычныйОбычныйПлохойОбычныйПлохойПлохойПлохойПлохойОбычныйОбычныйОбычныйПлохойОбычныйОбычныйОбычныйПлохойХорошийПлохойХорошийПлохойПлохойПлохойОбычныйОбычныйХорошийОбычныйОбычныйОбычныйОбычныйОбычныйПлохойПлохойОбычныйПлохойОбычныйХорошийОбычныйОбычныйОбычныйОбычныйПлохойОбычныйОбычныйХорошийХорошийХорошийОбычныйОбычныйХорошийХорошийОбычныйОбычныйХорошийХорошийХорошийПлохойОбычныйХорошийОбычныйПлохойПлохойОбычныйОбычныйОбычныйОбычныйОбычныйХорошийПлохойОбычныйОбычныйОбычныйОбычныйПлохойПлохойПлохойОбычныйОбычныйОбычныйПлохойПлохойОбычныйХорошийОбычныйОбычныйОбычныйОбычныйОбычныйОбычныйПлохойПлохойОбычныйХорошийОбычныйОбычныйПлохойОбычныйПлохойОбычныйОбычныйОбычныйОбычныйПлохойПлохойОбычныйПлохойОбычныйОбычныйПлохойОбычныйХорошийПлохойОбычныйПлохойПлохойОбычныйОбычныйОбычныйОбычныйОбычныйОбычныйОбычныйПлохойПлохойПлохойПлохойОбычныйОбычныйОбычныйОбычныйХорошийХорошийПлохойОбычныйХорошийОбычныйПлохойОбычныйОбычныйОбычныйОбычныйПлохойОбычныйОбычныйОбычныйОбычныйОбычныйПлохойХорошийОбычныйОбычныйПлохойПлохойОбычныйХорошийОбычныйПлохойПлохойОбычныйОбычныйОбычныйХорошийОбычныйХорошийОбычныйПлохойПлохойПлохойХорошийОбычныйПлохойОбычныйПлохойОбычныйОбычныйПлохойПлохойХорошийХорошийХорошийОбычныйПлохойОбычныйОбычныйХорошийПлохойПлохойОбычныйПлохойПлохойОбычныйХорошийПлохойХорошийОбычныйОбычныйОбычныйОбычныйПлохойПлохойХорошийОбычныйОбычныйПлохойОбычныйХорошийХорошийПлохойПлохойОбычныйПлохойХорошийХорошийХорошийОбычныйОбычныйХорошийХорошийОбычныйОбычныйПлохойПлохойОбычныйОбычныйПлохойПлохойПлохойХорошийОбычныйОбычныйОбычныйПлохойОбычныйОбычныйПлохойОбычныйОбычныйОбычныйХорошийОбычныйОбычныйОбычныйПлохойПлохойОбычныйХорошийОбычныйОбычныйОбычныйОбычныйОбычныйПлохойОбычныйОбычныйПлохойХорошийХорошийХорошийПлохойОбычныйПлохойОбычныйПлохойПлохойОбычныйОбычныйХорошийПлохойПлохойОбычныйОбычныйОбычныйОбычныйХорошийОбычныйОбычныйОбычныйОбычныйОбычныйОбычныйОбычныйОбычныйОбычныйХорошийПлохойПлохойПлохойОбычныйОбычныйПлохойОбычныйОбычныйПлохойОбычныйПлохойОбычныйХорошийПлохойПлохойХорошийОбычныйХорошийХорошийОбычныйПлохойОбычныйПлохойОбычныйОбычныйОбычныйХорошийПлохойОбычныйОбычныйПлохойПлохойОбычныйОбычныйХорошийОбычныйОбычныйХорошийПлохойПлохойОбычныйПлохойОбычныйОбычныйПлохойОбычныйХорошийОбычныйОбычныйПлохойХорошийПлохойОбычныйОбычныйОбычныйОбычныйПлохойОбычныйХорошийОбычныйПлохойОбычныйПлохойОбычныйОбычныйХорошийОбычныйОбычныйОбычныйХорошийПлохойОбычныйОбычныйОбычныйОбычныйПлохойОбычныйОбычныйОбычныйПлохойОбычныйПлохойХорошийОбычныйХорошийОбычныйПлохойПлохойОбычныйОбычныйПлохойОбычныйХорошийОбычныйПлохойОбычныйОбычныйОбычныйОбычныйПлохойПлохойПлохойХорошийОбычныйОбычныйХорошийПлохойХорошийХорошийОбычныйОбычныйОбычныйОбычныйПлохойПлохойХорошийПлохойОбычныйОбычныйХорошийОбычныйПлохойПлохойОбычныйОбычныйПлохойОбычныйОбычныйПлохойОбычныйОбычныйПлохойПлохойХорошийОбычныйОбычныйПлохойОбычныйОбычныйХорошийХорошийХорошийОбычныйХорошийПлохойОбычныйОбычныйХорошийОбычныйОбычныйОбычныйОбычныйОбычныйХорошийОбычныйПлохойПлохойОбычныйОбычныйОбычныйПлохойОбычныйХорошийПлохойОбычныйОбычныйПлохойОбычныйОбычныйПлохойПлохойОбычныйОбычныйОбычныйОбычныйПлохойОбычныйОбычныйПлохойХорошийХорошийПлохойПлохойПлохойОбычныйПлохойОбычныйХорошийОбычныйОбычныйОбычныйОбычныйОбычныйХорошийОбычныйОбычныйОбычныйПлохойОбычныйПлохойПлохойХорошийПлохойХорошийПлохойОбычныйПлохойХорошийОбычныйПлохойОбычныйПлохойОбычныйОбычныйОбычныйОбычныйОбычныйПлохойПлохойОбычныйОбычныйХорошийОбычныйХорошийОбычныйОбычныйХорошийПлохойХорошийПлохойОбычныйОбычныйХорошийПлохойПлохойПлохойОбычныйОбычныйОбычныйПлохойОбычныйОбычныйОбычныйПлохойОбычныйХорошийОбычныйПлохойПлохойОбычныйОбычныйОбычныйОбычныйОбычныйОбычныйОбычныйПлохойОбычныйХорошийОбычныйПлохойОбычныйПлохойОбычныйОбычныйПлохойХорошийОбычныйПлохойХорошийОбычныйПлохойОбычныйОбычныйОбычныйОбычныйОбычныйОбычныйОбычныйПлохойОбычныйОбычныйОбычныйХорошийПлохойХорошийОбычныйОбычныйХорошийПлохойОбычныйОбычныйПлохойХорошийОбычныйОбычныйОбычныйПлохойПлохойХорошийОбычныйХорошийПлохойХорошийОбычныйОбычныйПлохойХорошийОбычныйОбычныйОбычныйОбычныйПлохойОбычныйОбычныйХорошийХорошийПлохойПлохойХорошийОбычныйПлохойПлохойХорошийОбычныйПлохойХорошийОбычныйПлохойОбычныйОбычныйПлохойПлохойПлохойХорошийПлохойОбычныйОбычныйОбычныйПлохойХорошийОбычныйПлохойОбычныйОбычныйОбычныйПлохойОбычныйПлохойОбычныйОбычныйОбычныйХорошийОбычныйХорошийХорошийОбычныйХорошийОбычныйОбычныйПлохойПлохойОбычныйПлохойОбычныйХорошийОбычныйПлохойПлохойОбычныйПлохойХорошийПлохойОбычныйОбычныйОбычныйОбычныйОбычныйПлохойОбычныйПлохойОбычныйОбычныйХорошийХорошийОбычныйПлохойОбычныйХорошийХорошийПлохойОбычныйОбычныйОбычныйПлохойХорошийОбычныйОбычныйОбычныйПлохойОбычныйОбычныйХорошийПлохойОбычныйПлохойОбычныйОбычныйОбычныйОбычныйОбычныйПлохойПлохойХорошийХорошийОбычныйПлохойОбычныйПлохойОбычныйОбычныйПлохойОбычныйХорошийХорошийОбычныйХорошийПлохойОбычныйОбычныйПлохойОбычныйХорошийОбычныйХорошийПлохойОбычныйПлохойОбычныйОбычныйХорошийПлохойПлохойОбычныйХорошийХорошийХорошийОбычныйОбычныйОбычныйХорошийОбычныйХорошийХорошийОбычныйПлохойПлохойОбычныйОбычныйОбычныйПлохойОбычныйПлохойХорошийПлохойОбычныйОбычныйОбычныйХорошийХорошийОбычныйОбычныйОбычныйОбычныйОбычныйОбычныйПлохойПлохойХорошийПлохойОбычныйХорошийОбычныйОбычныйОбычныйОбычныйХорошийПлохойОбычныйХорошийХорошийХорошийОбычныйОбычныйХорошийОбычныйОбычныйОбычныйПлохойХорошийПлохойПлохойОбычныйОбычныйПлохойОбычныйХорошийПлохойОбычныйОбычныйПлохойПлохойОбычныйОбычныйХорошийХорошийХорошийХорошийХорошийОбычныйПлохойХорошийОбычныйХорошийОбычныйХорошийПлохойПлохойХорошийОбычныйПлохойПлохойПлохойПлохойОбычныйОбычныйХорошийПлохойОбычныйПлохойХорошийОбычныйОбычныйОбычныйОбычныйОбычныйОбычныйХорошийХорошийОбычныйПлохойХорошийОбычныйХорошийОбычныйОбычныйХорошийОбычныйОбычныйПлохойОбычныйОбычныйХорошийОбычныйПлохойХорошийОбычныйОбычныйПлохойПлохойПлохойПлохойОбычныйПлохойХорошийОбычныйОбычныйПлохойОбычныйПлохойПлохойОбычныйХорошийПлохойПлохойПлохойОбычныйОбычныйОбычныйОбычныйОбычныйОбычныйОбычныйПлохойХорошийОбычныйПлохойОбычныйОбычныйОбычныйПлохойПлохойХорошийОбычныйОбычныйХорошийОбычныйОбычныйХорошийОбычныйХорошийОбычныйХорошийОбычныйПлохойОбычныйПлохойОбычныйПлохойОбычныйОбычныйОбычныйХорошийОбычныйОбычныйПлохойПлохойПлохойОбычныйХорошийОбычныйОбычныйОбычныйПлохойПлохойОбычныйОбычныйПлохойОбычныйПлохойПлохойХорошийОбычныйОбычныйОбычныйОбычныйХорошийОбычныйОбычныйПлохойПлохойОбычныйХорошийПлохойХорошийПлохойОбычныйХорошийХорошийХорошийОбычныйОбычныйОбычныйОбычныйПлохойОбычныйОбычныйХорошийХорошийОбычныйОбычныйОбычныйХорошийХорошийОбычныйОбычныйОбычныйОбычныйПлохойОбычныйПлохойОбычныйПлохойОбычныйОбычныйПлохойОбычныйОбычныйОбычныйОбычныйОбычныйОбычныйПлохойПлохойОбычныйХорошийОбычныйПлохойПлохойПлохойПлохойОбычныйОбычныйОбычныйПлохойОбычныйХорошийОбычныйОбычныйХорошийПлохойОбычныйОбычныйОбычныйХорошийОбычныйОбычныйОбычныйХорошийОбычныйПлохойХорошийПлохойХорошийОбычныйПлохойХорошийПлохойОбычныйОбычныйОбычныйОбычныйХорошийОбычныйПлохойОбычныйПлохойПлохойОбычныйОбычныйОбычныйОбычныйХорошийПлохойОбычныйПлохойПлохойОбычныйОбычныйОбычныйПлохойПлохойОбычныйОбычныйХорошийПлохойПлохойОбычныйОбычныйОбычныйПлохойПлохойОбычныйОбычныйПлохойОбычныйПлохойОбычныйХорошийОбычныйОбычныйПлохойПлохойОбычныйПлохойПлохойОбычныйПлохойПлохойХорошийХорошийХорошийОбычныйХорошийОбычныйПлохойОбычныйОбычныйОбычныйПлохойОбычныйОбычныйПлохойОбычныйОбычныйПлохойОбычныйОбычныйОбычныйОбычныйХорошийОбычныйХорошийОбычныйХорошийПлохойПлохойОбычныйОбычныйХорошийОбычныйОбычныйОбычныйОбычныйХорошийПлохойПлохойОбычныйПлохойПлохойОбычныйОбычныйОбычныйХорошийПлохойХорошийПлохойОбычныйОбычныйОбычныйПлохойХорошийПлохойПлохойОбычныйОбычныйПлохойПлохойОбычныйПлохойПлохойОбычныйПлохойХорошийПлохойОбычныйОбычныйПлохойПлохойПлохойПлохойОбычныйПлохойОбычныйПлохойОбычныйПлохойХорошийОбычныйОбычныйОбычныйОбычныйОбычныйОбычныйОбычныйОбычныйПлохойОбычныйХорошийПлохойОбычныйХорошийПлохойОбычныйОбычныйОбычныйОбычныйОбычныйПлохойПлохойОбычныйПлохойОбычныйПлохойОбычныйХорошийОбычныйОбычныйОбычныйПлохойОбычныйПлохойОбычныйОбычныйПлохойПлохойОбычныйОбычныйХорошийХорошийХорошийОбычныйОбычныйХорошийПлохойОбычныйОбычныйОбычныйОбычныйПлохойОбычныйХорошийОбычныйОбычныйОбычныйОбычныйПлохойПлохойОбычныйХорошийОбычныйХорошийОбычныйОбычныйОбычныйОбычныйОбычныйПлохойОбычныйОбычныйПлохойПлохойОбычныйПлохойХорошийПлохойПлохойОбычныйОбычныйХорошийОбычныйХорошийОбычныйОбычныйОбычныйОбычныйОбычныйОбычныйПлохойПлохойХорошийОбычныйХорошийОбычныйХорошийПлохойПлохойОбычныйХорошийОбычныйХорошийОбычныйПлохойХорошийОбычныйХорошийОбычныйОбычныйОбычныйПлохойХорошийОбычныйОбычныйПлохойОбычныйПлохойХорошийПлохойОбычныйОбычныйОбычныйХорошийОбычныйПлохойХорошийПлохойПлохойОбычныйПлохойОбычныйХорошийОбычныйПлохойОбычныйПлохойХорошийПлохойОбычныйОбычныйОбычныйОбычныйПлохойОбычныйОбычныйПлохойПлохойПлохойПлохойОбычныйХорошийОбычныйХорошийОбычныйОбычныйОбычныйОбычныйПлохойПлохойОбычныйОбычныйОбычныйПлохойХорошийПлохойОбычныйПлохойОбычныйХорошийОбычныйПлохойПлохойХорошийПлохойОбычныйОбычныйХорошийОбычныйОбычныйОбычныйХорошийХорошийПлохойХорошийХорошийПлохойОбычныйОбычныйПлохойХорошийОбычныйПлохойОбычныйОбычныйХорошийОбычныйПлохойОбычныйПлохойОбычныйПлохойХорошийОбычныйПлохойХорошийОбычныйОбычныйОбычныйОбычныйПлохойОбычныйПлохойОбычныйОбычныйПлохойОбычныйХорошийОбычныйОбычныйОбычныйПлохойХорошийОбычныйХорошийХорошийПлохойПлохойОбычныйПлохойОбычныйОбычныйОбычныйОбычныйПлохойОбычныйПлохойОбычныйХорошийПлохойОбычныйПлохойОбычныйОбычныйОбычныйОбычныйОбычныйОбычныйОбычныйПлохойХорошийОбычныйОбычныйОбычныйПлохойОбычныйОбычныйОбычныйОбычныйХорошийПлохойОбычныйОбычныйХорошийПлохойПлохойХорошийПлохойОбычныйПлохойОбычныйХорошийОбычныйХорошийОбычныйХорошийПлохойХорошийХорошийХорошийПлохойХорошийХорошийОбычныйОбычныйХорошийПлохойПлохойПлохойХорошийПлохойОбычныйОбычныйОбычныйПлохойХорошийПлохойОбычныйХорошийОбычныйОбычныйОбычныйПлохойПлохойОбычныйПлохойОбычныйПлохойХорошийХорошийОбычныйОбычныйПлохойОбычныйХорошийХорошийХорошийХорошийОбычныйОбычныйОбычныйПлохойПлохойОбычныйОбычныйОбычныйОбычныйОбычныйПлохойОбычныйОбычныйОбычныйПлохойОбычныйОбычныйПлохойХорошийОбычныйОбычныйПлохойОбычныйОбычныйХорошийОбычныйОбычныйХорошийПлохойОбычныйПлохойХорошийПлохойХорошийХорошийПлохойОбычныйОбычныйОбычныйПлохойПлохойОбычныйОбычныйПлохойПлохойПлохойПлохойОбычныйОбычныйОбычныйОбычныйОбычныйПлохойОбычныйХорошийХорошийПлохойОбычныйХорошийОбычныйОбычныйОбычныйОбычныйПлохойПлохойПлохойХорошийПлохойПлохойХорошийХорошийОбычныйХорошийПлохойПлохойОбычныйОбычныйОбычныйОбычныйОбычныйОбычныйОбычныйПлохойПлохойХорошийОбычныйХорошийПлохойОбычныйПлохойПлохойОбычныйОбычныйХорошийПлохойОбычныйОбычныйПлохойОбычныйХорошийОбычныйПлохойПлохойОбычныйОбычныйПлохойПлохойОбычныйОбычныйОбычныйХорошийОбычныйХорошийОбычныйОбычныйОбычныйОбычныйОбычныйПлохойОбычныйХорошийОбычныйОбычныйХорошийОбычныйОбычныйПлохойПлохойОбычныйПлохойПлохойОбычныйХорошийПлохойОбычныйПлохойОбычныйОбычныйХорошийОбычныйОбычныйОбычныйОбычныйОбычныйОбычныйОбычныйОбычныйОбычныйОбычныйОбычныйПлохойОбычныйПлохойХорошийПлохойПлохойОбычныйОбычныйОбычныйОбычныйОбычныйОбычныйПлохойОбычныйОбычныйОбычныйОбычныйОбычныйХорошийОбычныйХорошийПлохойОбычныйОбычныйОбычныйХорошийПлохойОбычныйХорошийОбычныйПлохойПлохойХорошийОбычныйОбычныйПлохойОбычныйХорошийОбычныйОбычныйОбычныйОбычныйОбычныйОбычныйОбычныйХорошийХорошийХорошийПлохойОбычныйОбычныйПлохойОбычныйОбычныйОбычныйПлохойОбычныйПлохойХорошийОбычныйХорошийХорошийПлохойПлохойПлохойОбычныйОбычныйПлохойОбычныйОбычныйХорошийПлохойХорошийПлохойПлохойХорошийОбычныйОбычныйХорошийХорошийОбычныйОбычныйПлохойОбычныйОбычныйОбычныйХорошийОбычныйПлохойОбычныйОбычныйОбычныйОбычныйОбычныйПлохойХорошийПлохойПлохойПлохойХорошийОбычныйХорошийПлохойОбычныйПлохойОбычныйПлохойПлохойПлохойПлохойОбычныйОбычныйПлохойОбычныйОбычныйХорошийХорошийОбычныйХорошийОбычныйОбычныйХорошийОбычныйХорошийПлохойОбычныйОбычныйХорошийОбычныйОбычныйОбычныйХорошийОбычныйОбычныйОбычныйПлохойОбычныйОбычныйОбычныйОбычныйПлохойОбычныйПлохойХорошийПлохойПлохойХорошийОбычныйОбычныйОбычныйПлохойХорошийПлохойОбычныйПлохойПлохойОбычныйХорошийПлохойПлохойПлохойПлохойПлохойХорошийХорошийОбычныйПлохойОбычныйОбычныйОбычныйОбычныйПлохойПлохойПлохойХорошийПлохойОбычныйХорошийОбычныйОбычныйОбычныйОбычныйПлохойОбычныйОбычныйОбычныйХорошийХорошийПлохойОбычныйОбычныйОбычныйПлохойХорошийПлохойОбычныйОбычныйОбычныйОбычныйОбычныйОбычныйХорошийОбычныйПлохойПлохойХорошийОбычныйХорошийХорошийОбычныйПлохойХорошийПлохойОбычныйПлохойПлохойОбычныйПлохойПлохойОбычныйХорошийПлохойОбычныйОбычныйОбычныйОбычныйПлохойПлохойХорошийОбычныйОбычныйХорошийОбычныйОбычныйХорошийОбычныйПлохойПлохойПлохойОбычныйПлохойХорошийХорошийОбычныйПлохойОбычныйХорошийПлохойХорошийХорошийОбычныйХорошийХорошийОбычныйОбычныйОбычныйОбычныйОбычныйОбычныйОбычныйХорошийОбычныйОбычныйПлохойХорошийПлохойОбычныйПлохойОбычныйОбычныйХорошийОбычныйХорошийОбычныйОбычныйОбычныйОбычныйОбычныйОбычныйОбычныйХорошийОбычныйПлохойПлохойХорошийПлохойОбычныйОбычныйПлохойХорошийОбычныйОбычныйПлохойОбычныйОбычныйПлохойХорошийПлохойПлохойОбычныйОбычныйОбычныйПлохойОбычныйОбычныйОбычныйОбычныйОбычныйПлохойХорошийПлохойОбычныйОбычныйОбычныйОбычныйПлохойОбычныйПлохойОбычныйПлохойОбычныйОбычныйПлохойОбычныйОбычныйПлохойХорошийПлохойПлохойХорошийХорошийХорошийОбычныйОбычныйХорошийОбычныйПлохойОбычныйХорошийПлохойОбычныйХорошийОбычныйХорошийОбычныйОбычныйХорошийХорошийОбычныйОбычныйОбычныйПлохойХорошийПлохойПлохойОбычныйОбычныйПлохойОбычныйОбычныйОбычныйОбычныйОбычныйОбычныйПлохойОбычныйОбычныйОбычныйПлохойОбычныйПлохойХорошийХорошийОбычныйПлохойПлохойХорошийОбычныйОбычныйХорошийОбычныйПлохойОбычныйОбычныйПлохойОбычныйПлохойПлохойПлохойПлохойОбычныйПлохойОбычныйОбычныйХорошийОбычныйОбычныйОбычныйОбычныйОбычныйПлохойОбычныйХорошийХорошийОбычныйОбычныйПлохойОбычныйХорошийОбычныйОбычныйХорошийОбычныйПлохойПлохойПлохойХорошийОбычныйОбычныйПлохойХорошийОбычныйОбычныйХорошийОбычныйОбычныйПлохойОбычныйОбычныйОбычныйПлохойПлохойПлохойПлохойПлохойХорошийХорошийОбычныйОбычныйОбычныйОбычныйХорошийОбычныйХорошийХорошийХорошийПлохойПлохойПлохойОбычныйПлохойХорошийОбычныйОбычныйОбычныйПлохойПлохойХорошийОбычныйПлохойПлохойПлохойОбычныйОбычныйОбычныйХорошийПлохойОбычныйПлохойХорошийХорошийОбычныйХорошийПлохойХорошийХорошийОбычныйПлохойПлохойХорошийПлохойОбычныйОбычныйХорошийОбычныйПлохойОбычныйПлохойОбычныйПлохойОбычныйОбычныйОбычныйПлохойПлохойПлохойОбычныйПлохойХорошийОбычныйПлохойОбычныйОбычныйОбычныйПлохойПлохойХорошийОбычныйОбычныйОбычныйОбычныйОбычныйХорошийОбычныйОбычныйПлохойХорошийОбычныйПлохойОбычныйПлохойОбычныйОбычныйОбычныйПлохойОбычныйОбычныйХорошийХорошийОбычныйОбычныйОбычныйОбычныйПлохойПлохойХорошийОбычныйХорошийПлохойОбычныйПлохойХорошийХорошийОбычныйОбычныйОбычныйОбычныйОбычныйХорошийПлохойОбычныйПлохойОбычныйПлохойОбычныйПлохойПлохойОбычныйОбычныйХорошийОбычныйОбычныйОбычныйХорошийОбычныйХорошийПлохойПлохойОбычныйХорошийОбычныйОбычныйОбычныйХорошийХорошийПлохойХорошийОбычныйПлохойХорошийОбычныйХорошийХорошийПлохойХорошийПлохойПлохойПлохойОбычныйХорошийОбычныйХорошийПлохойОбычныйХорошийПлохойОбычныйОбычныйОбычныйОбычныйОбычныйПлохойОбычныйОбычныйХорошийХорошийОбычныйОбычныйОбычныйХорошийПлохойПлохойХорошийХорошийОбычныйОбычныйПлохойОбычныйОбычныйХорошийХорошийОбычныйОбычныйХорошийОбычныйПлохойХорошийОбычныйПлохойОбычныйОбычныйОбычныйОбычныйХорошийПлохойПлохойПлохойОбычныйОбычныйОбычныйОбычныйПлохойОбычныйПлохойОбычныйХорошийПлохойПлохойОбычныйОбычныйПлохойОбычныйОбычныйОбычныйПлохойХорошийОбычныйХорошийОбычныйПлохойОбычныйОбычныйОбычныйОбычныйОбычныйОбычныйХорошийПлохойОбычныйПлохойОбычныйОбычныйОбычныйХорошийХорошийОбычныйОбычныйОбычныйПлохойПлохойОбычныйОбычныйОбычныйПлохойОбычныйПлохойХорошийОбычныйПлохойОбычныйПлохойХорошийОбычныйОбычныйОбычныйОбычныйХорошийПлохойХорошийХорошийОбычныйОбычныйХорошийОбычныйОбычныйХорошийОбычныйПлохойХорошийОбычныйПлохойПлохойПлохойПлохойОбычныйПлохойПлохойПлохойПлохойОбычныйОбычныйХорошийОбычныйПлохойОбычныйПлохойОбычныйОбычныйПлохойХорошийХорошийХорошийОбычныйХорошийОбычныйОбычныйПлохойПлохойХорошийПлохойОбычныйОбычныйПлохойОбычныйПлохойХорошийХорошийОбычныйОбычныйОбычныйОбычныйПлохойПлохойОбычныйОбычныйОбычныйОбычныйОбычныйОбычныйПлохойОбычныйОбычныйХорошийОбычныйПлохойОбычныйОбычныйОбычныйХорошийПлохойОбычныйПлохойХорошийХорошийОбычныйПлохойОбычныйХорошийОбычныйОбычныйОбычныйОбычныйХорошийОбычныйОбычныйОбычныйХорошийПлохойПлохойОбычныйОбычныйОбычныйПлохойОбычныйХорошийХорошийХорошийПлохойПлохойПлохойОбычныйХорошийПлохойПлохойПлохойОбычныйПлохойХорошийОбычныйПлохойХорошийПлохойОбычныйОбычныйПлохойОбычныйХорошийОбычныйОбычныйОбычныйПлохойХорошийОбычныйПлохойПлохойОбычныйОбычныйОбычныйОбычныйОбычныйОбычныйПлохойОбычныйОбычныйОбычныйОбычныйХорошийХорошийПлохойПлохойХорошийОбычныйХорошийОбычныйПлохойОбычныйПлохойОбычныйОбычныйПлохойОбычныйОбычныйХорошийОбычныйОбычныйОбычныйОбычныйХорошийХорошийОбычныйОбычныйПлохойХорошийОбычныйХорошийПлохойПлохойОбычныйПлохойОбычныйОбычныйПлохойОбычныйОбычныйОбычныйПлохойПлохойХорошийХорошийХорошийОбычныйХорошийХорошийПлохойПлохойПлохойПлохойОбычныйПлохойОбычныйПлохойХорошийОбычныйПлохойПлохойОбычныйПлохойОбычныйПлохойОбычныйПлохойОбычныйХорошийОбычныйПлохойПлохойОбычныйПлохойОбычныйПлохойОбычныйПлохойОбычныйОбычныйОбычныйОбычныйОбычныйХорошийХорошийПлохойОбычныйОбычныйОбычныйПлохойХорошийОбычныйОбычныйОбычныйОбычныйПлохойПлохойОбычныйОбычныйХорошийОбычныйХорошийПлохойПлохойХорошийПлохойПлохойОбычныйПлохойОбычныйХорошийХорошийПлохойОбычныйХорошийПлохойОбычныйХорошийХорошийХорошийПлохойХорошийХорошийОбычныйПлохойОбычныйОбычныйОбычныйОбычныйПлохойПлохойОбычныйОбычныйПлохойОбычныйОбычныйОбычныйОбычныйПлохойОбычныйОбычныйХорошийПлохойОбычныйОбычныйХорошийПлохойОбычныйХорошийПлохойПлохойОбычныйОбычныйХорошийОбычныйПлохойОбычныйПлохойОбычныйОбычныйХорошийОбычныйОбычныйОбычныйПлохойХорошийПлохойПлохойОбычныйХорошийОбычныйОбычныйОбычныйОбычныйПлохойПлохойПлохойПлохойОбычныйОбычныйОбычныйОбычныйОбычныйОбычныйОбычныйОбычныйОбычныйПлохойХорошийОбычныйОбычныйПлохойОбычныйХорошийОбычныйОбычныйХорошийОбычныйОбычныйПлохойОбычныйОбычныйОбычныйОбычныйОбычныйПлохойХорошийОбычныйОбычныйОбычныйПлохойОбычныйОбычныйПлохойОбычныйОбычныйХорошийХорошийПлохойПлохойХорошийХорошийХорошийПлохойПлохойОбычныйОбычныйОбычныйОбычныйОбычныйПлохойОбычныйПлохойПлохойОбычныйОбычныйОбычныйОбычныйПлохойОбычныйПлохойПлохойПлохойПлохойОбычныйПлохойОбычныйОбычныйХорошийПлохойПлохойОбычныйОбычныйОбычныйОбычныйПлохойОбычныйХорошийОбычныйХорошийОбычныйОбычныйОбычныйХорошийОбычныйХорошийОбычныйОбычныйОбычныйОбычныйПлохойОбычныйОбычныйОбычныйПлохойОбычныйОбычныйОбычныйХорошийОбычныйОбычныйОбычныйОбычныйХорошийХорошийХорошийОбычныйОбычныйОбычныйХорошийОбычныйОбычныйХорошийПлохойХорошийПлохойОбычныйПлохойОбычныйХорошийПлохойОбычныйОбычныйПлохойОбычныйПлохойПлохойОбычныйПлохойОбычныйХорошийОбычныйПлохойОбычныйПлохойПлохойОбычныйПлохойОбычныйОбычныйПлохойОбычныйПлохойОбычныйХорошийОбычныйОбычныйХорошийОбычныйОбычныйОбычныйХорошийХорошийПлохойПлохойОбычныйОбычныйОбычныйПлохойОбычныйПлохойОбычныйХорошийХорошийХорошийХорошийОбычныйПлохойХорошийОбычныйОбычныйПлохойОбычныйОбычныйОбычныйПлохойПлохойПлохойОбычныйОбычныйОбычныйПлохойПлохойХорошийПлохойПлохойПлохойОбычныйОбычныйХорошийХорошийХорошийПлохойОбычныйПлохойОбычныйПлохойПлохойПлохойОбычныйОбычныйХорошийОбычныйОбычныйОбычныйХорошийОбычныйПлохойХорошийХорошийХорошийОбычныйОбычныйПлохойПлохойОбычныйПлохойПлохойПлохойПлохойОбычныйПлохойПлохойХорошийПлохойХорошийПлохойПлохойОбычныйОбычныйПлохойОбычныйОбычныйОбычныйХорошийОбычныйПлохойХорошийОбычныйОбычныйОбычныйОбычныйПлохойОбычныйОбычныйОбычныйОбычныйОбычныйПлохойПлохойХорошийПлохойПлохойОбычныйХорошийХорошийПлохойХорошийОбычныйХорошийОбычныйОбычныйХорошийХорошийОбычныйОбычныйХорошийПлохойОбычныйОбычныйПлохойОбычныйОбычныйОбычныйОбычныйОбычныйХорошийОбычныйОбычныйПлохойОбычныйОбычныйОбычныйОбычныйОбычныйОбычныйХорошийОбычныйОбычныйОбычныйХорошийПлохойОбычныйОбычныйОбычныйПлохойХорошийОбычныйПлохойОбычныйХорошийПлохойОбычныйХорошийОбычныйПлохойХорошийХорошийОбычныйПлохойОбычныйПлохойПлохойПлохойПлохойОбычныйХорошийПлохойПлохойОбычныйОбычныйХорошийОбычныйПлохойОбычныйОбычныйПлохойОбычныйХорошийОбычныйОбычныйОбычныйПлохойХорошийХорошийПлохойХорошийОбычныйОбычныйОбычныйОбычныйОбычныйПлохойОбычныйОбычныйПлохойПлохойХорошийОбычныйПлохойХорошийХорошийПлохойПлохойХорошийХорошийОбычныйОбычныйПлохойПлохойОбычныйХорошийОбычныйОбычныйХорошийХорошийОбычныйОбычныйПлохойОбычныйХорошийОбычныйОбычныйПлохойОбычныйОбычныйПлохойПлохойПлохойОбычныйОбычныйОбычныйОбычныйПлохойОбычныйПлохойОбычныйОбычныйОбычныйОбычныйОбычныйПлохойОбычныйОбычныйХорошийОбычныйХорошийПлохойОбычныйПлохойОбычныйХорошийОбычныйПлохойХорошийХорошийПлохойОбычныйПлохойПлохойОбычныйОбычныйПлохойОбычныйХорошийХорошийОбычныйОбычныйОбычныйХорошийОбычныйОбычныйПлохойПлохойОбычныйОбычныйОбычныйПлохойОбычныйОбычныйХорошийОбычныйОбычныйОбычныйПлохойОбычныйОбычныйОбычныйОбычныйОбычныйОбычныйОбычныйОбычныйПлохойОбычныйПлохойОбычныйОбычныйХорошийПлохойОбычныйПлохойПлохойОбычныйПлохойХорошийОбычныйОбычныйХорошийПлохойХорошийОбычныйХорошийОбычныйОбычныйХорошийОбычныйОбычныйХорошийОбычныйХорошийПлохойХорошийОбычныйХорошийПлохойОбычныйОбычныйПлохойОбычныйОбычныйОбычныйОбычныйОбычныйПлохойОбычныйОбычныйХорошийПлохойХорошийХорошийОбычныйОбычныйОбычныйПлохойПлохойОбычныйПлохойОбычныйПлохойПлохойПлохойОбычныйХорошийОбычныйХорошийОбычныйОбычныйОбычныйОбычныйОбычныйОбычныйОбычныйОбычныйХорошийПлохойОбычныйПлохойОбычныйОбычныйПлохойОбычныйОбычныйХорошийПлохойОбычныйПлохойХорошийОбычныйПлохойОбычныйОбычныйХорошийОбычныйПлохойПлохойОбычныйОбычныйПлохойОбычныйПлохойОбычныйОбычныйОбычныйОбычныйПлохойОбычныйПлохойОбычныйОбычныйОбычныйОбычныйОбычныйХорошийОбычныйХорошийПлохойПлохойХорошийХорошийХорошийХорошийПлохойОбычныйПлохойХорошийОбычныйОбычныйПлохойПлохойОбычныйОбычныйОбычныйОбычныйХорошийОбычныйПлохойХорошийХорошийОбычныйОбычныйОбычныйХорошийОбычныйХорошийПлохойОбычныйХорошийОбычныйПлохойПлохойПлохойПлохойПлохойПлохойХорошийОбычныйОбычныйОбычныйОбычныйПлохойПлохойОбычныйОбычныйПлохойОбычныйОбычныйОбычныйПлохойОбычныйПлохойХорошийОбычныйОбычныйОбычныйХорошийХорошийПлохойХорошийХорошийОбычныйПлохойОбычныйПлохойХорошийОбычныйОбычныйОбычныйПлохойОбычныйХорошийОбычныйХорошийОбычныйПлохойПлохойХорошийОбычныйОбычныйПлохойОбычныйПлохойХорошийОбычныйХорошийОбычныйПлохойОбычныйОбычныйОбычныйХорошийХорошийХорошийХорошийПлохойОбычныйХорошийПлохойПлохойОбычныйОбычныйОбычныйОбычныйОбычныйПлохойОбычныйПлохойОбычныйОбычныйПлохойОбычныйОбычныйОбычныйПлохойОбычныйОбычныйОбычныйХорошийОбычныйПлохойОбычныйПлохойХорошийПлохойОбычныйПлохойОбычныйХорошийХорошийОбычныйОбычныйПлохойОбычныйХорошийОбычныйХорошийХорошийПлохойОбычныйОбычныйХорошийОбычныйОбычныйОбычныйОбычныйПлохойОбычныйОбычныйХорошийОбычныйХорошийПлохойПлохойОбычныйПлохойОбычныйПлохойХорошийОбычныйХорошийПлохойОбычныйХорошийОбычныйХорошийОбычныйПлохойХорошийХорошийХорошийОбычныйПлохойОбычныйХорошийОбычныйПлохойХорошийОбычныйОбычныйОбычныйХорошийОбычныйОбычныйОбычныйХорошийПлохойОбычныйХорошийПлохойОбычныйОбычныйОбычныйПлохойХорошийОбычныйХорошийОбычныйХорошийПлохойОбычныйХорошийХорошийОбычныйОбычныйХорошийОбычныйХорошийХорошийПлохойОбычныйОбычныйОбычныйОбычныйОбычныйПлохойПлохойПлохойХорошийОбычныйПлохойХорошийОбычныйОбычныйОбычныйОбычныйПлохойПлохойОбычныйОбычныйОбычныйХорошийОбычныйОбычныйОбычныйПлохойОбычныйПлохойПлохойХорошийПлохойХорошийОбычныйХорошийХорошийОбычныйХорошийОбычныйПлохойПлохойОбычныйОбычныйОбычныйПлохойХорошийОбычныйХорошийОбычныйОбычныйПлохойОбычныйХорошийОбычныйОбычныйОбычныйПлохойОбычныйОбычныйПлохойОбычныйОбычныйОбычныйПлохойОбычныйОбычныйПлохойПлохойПлохойПлохойХорошийПлохойПлохойОбычныйОбычныйПлохойПлохойОбычныйПлохойПлохойПлохойОбычныйПлохойОбычныйПлохойОбычныйПлохойОбычныйОбычныйОбычныйОбычныйПлохойОбычныйОбычныйХорошийПлохойХорошийОбычныйОбычныйХорошийПлохойОбычныйПлохойПлохойОбычныйХорошийОбычныйОбычныйОбычныйОбычныйОбычныйОбычныйОбычныйПлохойПлохойХорошийПлохойОбычныйОбычныйХорошийПлохойХорошийПлохойПлохойОбычныйОбычныйПлохойОбычныйХорошийОбычныйОбычныйПлохойХорошийХорошийХорошийОбычныйОбычныйПлохойОбычныйОбычныйОбычныйХорошийОбычныйХорошийПлохойОбычныйОбычныйПлохойХорошийОбычныйОбычныйОбычныйОбычныйОбычныйОбычныйПлохойПлохойОбычныйПлохойОбычныйПлохойОбычныйОбычныйПлохойХорошийПлохойХорошийОбычныйОбычныйПлохойПлохойПлохойХорошийОбычныйХорошийОбычныйХорошийХорошийХорошийПлохойХорошийПлохойОбычныйПлохойОбычныйПлохойОбычныйОбычныйХорошийОбычныйПлохойОбычныйПлохойОбычныйПлохойОбычныйОбычныйОбычныйХорошийХорошийОбычныйОбычныйПлохойХорошийОбычныйОбычныйОбычныйОбычныйОбычныйПлохойХорошийОбычныйХорошийОбычныйПлохойПлохойХорошийПлохойХорошийОбычныйПлохойОбычныйХорошийХорошийПлохойОбычныйПлохойХорошийОбычныйОбычныйОбычныйОбычныйОбычныйПлохойПлохойПлохойОбычныйОбычныйОбычныйОбычныйОбычныйХорошийПлохойПлохойПлохойОбычныйОбычныйПлохойОбычныйХорошийОбычныйОбычныйОбычныйХорошийПлохойПлохойОбычныйОбычныйХорошийОбычныйОбычныйХорошийОбычныйПлохойПлохойОбычныйОбычныйОбычныйХорошийПлохойОбычныйПлохойПлохойПлохойПлохойХорошийОбычныйОбычныйПлохойОбычныйХорошийПлохойОбычныйПлохойПлохойПлохойПлохойПлохойОбычныйПлохойОбычныйОбычныйОбычныйОбычныйХорошийОбычныйОбычныйХорошийОбычныйОбычныйОбычныйПлохойОбычныйХорошийОбычныйОбычныйХорошийХорошийПлохойОбычныйХорошийОбычныйПлохойОбычныйПлохойОбычныйОбычныйОбычныйХорошийОбычныйОбычныйОбычныйОбычныйОбычныйПлохойОбычныйОбычныйОбычныйПлохойПлохойПлохойОбычныйОбычныйОбычныйОбычныйХорошийПлохойОбычныйХорошийПлохойОбычныйОбычныйОбычныйХорошийОбычныйПлохойОбычныйХорошийПлохойПлохойОбычныйОбычныйПлохойОбычныйПлохойХорошийПлохойПлохойОбычныйОбычныйОбычныйПлохойХорошийОбычныйОбычныйОбычныйОбычныйОбычныйОбычныйПлохойОбычныйПлохойХорошийПлохойОбычныйОбычныйОбычныйХорошийХорошийОбычныйПлохойХорошийХорошийОбычныйХорошийПлохойХорошийОбычныйПлохойПлохойПлохойОбычныйОбычныйОбычныйОбычныйХорошийОбычныйПлохойПлохойОбычныйОбычныйОбычныйОбычныйОбычныйОбычныйХорошийХорошийПлохойПлохойОбычныйОбычныйОбычныйПлохойПлохойОбычныйОбычныйОбычныйХорошийОбычныйОбычныйОбычныйПлохойПлохойПлохойОбычныйХорошийПлохойОбычныйПлохойПлохойХорошийПлохойОбычныйОбычныйПлохойПлохойОбычныйОбычныйХорошийПлохойОбычныйОбычныйОбычныйХорошийОбычныйОбычныйПлохойОбычныйОбычныйОбычныйХорошийОбычныйПлохойХорошийХорошийОбычныйОбычныйХорошийОбычныйОбычныйОбычныйПлохойХорошийХорошийОбычныйПлохойХорошийПлохойОбычныйПлохойПлохойОбычныйХорошийОбычныйОбычныйОбычныйОбычныйХорошийПлохойПлохойОбычныйПлохойОбычныйПлохойХорошийХорошийОбычныйПлохойХорошийОбычныйПлохойХорошийОбычныйОбычныйПлохойОбычныйОбычныйПлохойОбычныйПлохойОбычныйПлохойОбычныйОбычныйОбычныйПлохойПлохойОбычныйОбычныйПлохойПлохойПлохойОбычныйПлохойОбычныйПлохойХорошийХорошийОбычныйХорошийОбычныйХорошийПлохойОбычныйПлохойХорошийПлохойОбычныйОбычныйПлохойОбычныйОбычныйОбычныйОбычныйПлохойПлохойПлохойОбычныйПлохойОбычныйОбычныйОбычныйПлохойПлохойХорошийХорошийПлохойПлохойХорошийОбычныйПлохойПлохойОбычныйОбычныйОбычныйОбычныйОбычныйПлохойПлохойОбычныйОбычныйОбычныйОбычныйПлохойОбычныйОбычныйОбычныйОбычныйПлохойОбычныйОбычныйОбычныйХорошийОбычныйХорошийПлохойПлохойОбычныйПлохойХорошийХорошийОбычныйОбычныйПлохойОбычныйОбычныйОбычныйПлохойПлохойОбычныйПлохойХорошийОбычныйПлохойХорошийОбычныйХорошийПлохойОбычныйОбычныйПлохойОбычныйОбычныйПлохойОбычныйПлохойОбычныйОбычныйХорошийХорошийОбычныйПлохойПлохойПлохойПлохойПлохойОбычныйОбычныйПлохойХорошийХорошийОбычныйПлохойПлохойОбычныйОбычныйОбычныйОбычныйОбычныйОбычныйОбычныйОбычныйОбычныйОбычныйОбычныйХорошийОбычныйОбычныйОбычныйОбычныйПлохойХорошийПлохойПлохойХорошийОбычныйОбычныйХорошийПлохойОбычныйОбычныйПлохойПлохойОбычныйПлохойПлохойПлохойОбычныйХорошийХорошийПлохойОбычныйХорошийОбычныйХорошийПлохойПлохойПлохойОбычныйОбычныйХорошийОбычныйПлохойХорошийХорошийОбычныйХорошийОбычныйОбычныйОбычныйХорошийОбычныйПлохойХорошийОбычныйОбычныйОбычныйХорошийОбычныйХорошийОбычныйОбычныйОбычныйОбычныйХорошийОбычныйХорошийПлохойХорошийПлохойОбычныйПлохойПлохойХорошийОбычныйПлохойОбычныйОбычныйОбычныйХорошийПлохойОбычныйХорошийОбычныйОбычныйОбычныйПлохойОбычныйПлохойПлохойОбычныйОбычныйОбычныйПлохойОбычныйХорошийПлохойОбычныйОбычныйОбычныйОбычныйХорошийПлохойОбычныйОбычныйХорошийПлохойОбычныйПлохойОбычныйОбычныйОбычныйХорошийПлохойОбычныйХорошийОбычныйОбычныйОбычныйПлохойОбычныйПлохойПлохойОбычныйОбычныйОбычныйОбычныйПлохойХорошийХорошийХорошийПлохойПлохойХорошийОбычныйПлохойХорошийПлохойОбычныйПлохойОбычныйОбычныйХорошийПлохойПлохойОбычныйОбычныйХорошийХорошийХорошийОбычныйОбычныйОбычныйПлохойОбычныйПлохойПлохойОбычныйОбычныйОбычныйОбычныйПлохойОбычныйОбычныйОбычныйПлохойПлохойХорошийПлохойПлохойПлохойХорошийОбычныйОбычныйХорошийОбычныйХорошийХорошийХорошийПлохойОбычныйХорошийОбычныйХорошийХорошийХорошийПлохойОбычныйОбычныйПлохойОбычныйХорошийОбычныйХорошийПлохойОбычныйОбычныйПлохойХорошийХорошийПлохойПлохойОбычныйПлохойОбычныйОбычныйПлохойХорошийПлохойПлохойПлохойОбычныйОбычныйХорошийОбычныйХорошийОбычныйПлохойПлохойОбычныйОбычныйХорошийОбычныйПлохойХорошийХорошийОбычныйПлохойОбычныйОбычныйПлохойОбычныйОбычныйПлохойОбычныйОбычныйОбычныйОбычныйХорошийОбычныйОбычныйПлохойПлохойОбычныйПлохойПлохойОбычныйПлохойОбычныйХорошийПлохойОбычныйОбычныйОбычныйХорошийПлохойПлохойПлохойОбычныйОбычныйОбычныйОбычныйОбычныйХорошийПлохойХорошийОбычныйХорошийХорошийПлохойОбычныйПлохойОбычныйХорошийОбычныйОбычныйПлохойОбычныйПлохойПлохойОбычныйПлохойОбычныйХорошийПлохойОбычныйОбычныйОбычныйХорошийОбычныйПлохойПлохойПлохойОбычныйОбычныйОбычныйПлохойПлохойОбычныйОбычныйОбычныйПлохойПлохойПлохойПлохойОбычныйОбычныйОбычныйХорошийОбычныйОбычныйПлохойПлохойХорошийПлохойОбычныйОбычныйОбычныйПлохойХорошийОбычныйОбычныйОбычныйПлохойОбычныйХорошийХорошийПлохойХорошийХорошийОбычныйОбычныйХорошийПлохойХорошийПлохойПлохойХорошийОбычныйХорошийПлохойОбычныйПлохойПлохойХорошийПлохойОбычныйОбычныйОбычныйОбычныйОбычныйОбычныйПлохойОбычныйПлохойХорошийОбычныйХорошийОбычныйОбычныйОбычныйПлохойОбычныйОбычныйОбычныйХорошийОбычныйОбычныйОбычныйПлохойПлохойОбычныйХорошийПлохойОбычныйОбычныйОбычныйОбычныйПлохойОбычныйОбычныйОбычныйОбычныйОбычныйОбычныйОбычныйОбычныйХорошийПлохойХорошийПлохойОбычныйПлохойПлохойОбычныйОбычныйХорошийХорошийХорошийОбычныйОбычныйПлохойОбычныйОбычныйОбычныйОбычныйХорошийХорошийПлохойПлохойХорошийОбычныйОбычныйОбычныйОбычныйОбычныйХорошийОбычныйХорошийОбычныйОбычныйПлохойПлохойОбычныйХорошийХорошийХорошийПлохойПлохойОбычныйПлохойПлохойОбычныйОбычныйХорошийОбычныйОбычныйОбычныйХорошийОбычныйОбычныйХорошийПлохойХорошийПлохойХорошийПлохойОбычныйОбычныйХорошийХорошийПлохойОбычныйПлохойХорошийОбычныйПлохойОбычныйПлохойПлохойХорошийОбычныйОбычныйОбычныйПлохойОбычныйОбычныйПлохойХорошийОбычныйОбычныйПлохойОбычныйХорошийОбычныйПлохойОбычныйОбычныйПлохойОбычныйПлохойОбычныйОбычныйОбычныйОбычныйПлохойОбычныйПлохойОбычныйОбычныйОбычныйОбычныйОбычныйОбычныйПлохойОбычныйОбычныйХорошийПлохойОбычныйОбычныйПлохойХорошийОбычныйОбычныйОбычныйПлохойПлохойОбычныйОбычныйХорошийПлохойОбычныйОбычныйПлохойОбычныйОбычныйОбычныйХорошийПлохойОбычныйПлохойХорошийОбычныйПлохойХорошийХорошийОбычныйОбычныйХорошийПлохойХорошийОбычныйХорошийОбычныйПлохойПлохойПлохойПлохойПлохойХорошийХорошийХорошийХорошийПлохойПлохойОбычныйОбычныйПлохойОбычныйХорошийОбычныйПлохойОбычныйОбычныйХорошийОбычныйОбычныйПлохойПлохойПлохойХорошийХорошийХорошийПлохойХорошийХорошийОбычныйОбычныйПлохойОбычныйОбычныйОбычныйПлохойОбычныйОбычныйОбычныйПлохойПлохойОбычныйПлохойОбычныйПлохойПлохойОбычныйХорошийОбычныйОбычныйОбычныйОбычныйОбычныйОбычныйХорошийОбычныйХорошийОбычныйОбычныйПлохойОбычныйОбычныйОбычныйОбычныйОбычныйХорошийХорошийОбычныйОбычныйПлохойОбычныйОбычныйОбычныйХорошийОбычныйПлохойХорошийОбычныйОбычныйОбычныйХорошийОбычныйХорошийХорошийОбычныйОбычныйПлохойОбычныйПлохойОбычныйПлохойПлохойПлохойОбычныйХорошийПлохойОбычныйОбычныйОбычныйОбычныйПлохойОбычныйОбычныйПлохойПлохойОбычныйОбычныйОбычныйОбычныйПлохойХорошийОбычныйОбычныйХорошийОбычныйПлохойОбычныйОбычныйПлохойПлохойПлохойОбычныйОбычныйОбычныйОбычныйПлохойПлохойХорошийОбычныйХорошийОбычныйОбычныйПлохойОбычныйПлохойОбычныйХорошийОбычныйОбычныйОбычныйОбычныйХорошийОбычныйПлохойХорошийПлохойПлохойПлохойОбычныйОбычныйОбычныйПлохойПлохойХорошийПлохойОбычныйОбычныйОбычныйПлохойОбычныйОбычныйОбычныйПлохойПлохойОбычныйПлохойОбычныйХорошийОбычныйХорошийПлохойХорошийОбычныйПлохойОбычныйОбычныйПлохойПлохойОбычныйОбычныйОбычныйОбычныйХорошийПлохойОбычныйПлохойОбычныйОбычныйХорошийПлохойПлохойХорошийХорошийПлохойОбычныйПлохойОбычныйХорошийПлохойПлохойПлохойПлохойОбычныйПлохойОбычныйПлохойХорошийХорошийПлохойПлохойПлохойХорошийОбычныйХорошийХорошийПлохойХорошийПлохойПлохойПлохойПлохойПлохойПлохойХорошийХорошийОбычныйПлохойОбычныйПлохойХорошийПлохойХорошийОбычныйОбычныйОбычныйПлохойХорошийОбычныйОбычныйПлохойОбычныйПлохойОбычныйОбычныйПлохойОбычныйПлохойОбычныйОбычныйОбычныйОбычныйОбычныйПлохойОбычныйПлохойОбычныйОбычныйОбычныйПлохойОбычныйОбычныйОбычныйПлохойОбычныйХорошийХорошийОбычныйПлохойХорошийОбычныйОбычныйОбычныйХорошийХорошийОбычныйОбычныйПлохойОбычныйПлохойОбычныйХорошийХорошийПлохойОбычныйОбычныйПлохойОбычныйПлохойОбычныйОбычныйХорошийОбычныйПлохойОбычныйПлохойОбычныйХорошийХорошийХорошийОбычныйОбычныйПлохойПлохойОбычныйХорошийХорошийХорошийОбычныйОбычныйОбычныйХорошийОбычныйХорошийОбычныйХорошийОбычныйОбычныйОбычныйОбычныйОбычныйПлохойОбычныйХорошийХорошийХорошийОбычныйПлохойХорошийОбычныйХорошийОбычныйОбычныйОбычныйПлохойХорошийОбычныйОбычныйПлохойПлохойПлохойОбычныйПлохойОбычныйОбычныйОбычныйОбычныйОбычныйОбычныйОбычныйХорошийОбычныйОбычныйОбычныйОбычныйХорошийХорошийОбычныйПлохойОбычныйОбычныйОбычныйОбычныйПлохойОбычныйОбычныйХорошийОбычныйПлохойОбычныйОбычныйПлохойОбычныйПлохойОбычныйОбычныйОбычныйОбычныйОбычныйПлохойХорошийОбычныйОбычныйХорошийОбычныйХорошийОбычныйОбычныйХорошийОбычныйОбычныйПлохойПлохойОбычныйОбычныйОбычныйОбычныйПлохойОбычныйХорошийОбычныйПлохойОбычныйОбычныйПлохойХорошийПлохойХорошийПлохойПлохойПлохойПлохойХорошийПлохойОбычныйПлохойОбычныйОбычныйПлохойПлохойОбычныйОбычныйХорошийПлохойХорошийХорошийОбычныйХорошийОбычныйПлохойОбычныйОбычныйОбычныйОбычныйОбычныйОбычныйПлохойХорошийОбычныйОбычныйПлохойХорошийОбычныйПлохойОбычныйОбычныйОбычныйОбычныйОбычныйОбычныйХорошийОбычныйХорошийОбычныйХорошийОбычныйПлохойОбычныйПлохойОбычныйПлохойОбычныйХорошийПлохойПлохойОбычныйПлохойХорошийОбычныйОбычныйХорошийОбычныйОбычныйПлохойХорошийОбычныйХорошийПлохойОбычныйПлохойОбычныйОбычныйОбычныйОбычныйПлохойХорошийПлохойХорошийОбычныйПлохойОбычныйПлохойОбычныйПлохойПлохойПлохойОбычныйХорошийХорошийОбычныйПлохойПлохойОбычныйОбычныйОбычныйОбычныйОбычныйОбычныйПлохойОбычныйПлохойОбычныйХорошийОбычныйПлохойОбычныйОбычныйПлохойОбычныйОбычныйПлохойОбычныйХорошийПлохойПлохойОбычныйОбычныйХорошийПлохойПлохойХорошийОбычныйОбычныйПлохойОбычныйПлохойПлохойХорошийОбычныйПлохойПлохойПлохойОбычныйПлохойХорошийОбычныйХорошийПлохойХорошийОбычныйОбычныйОбычныйПлохойХорошийОбычныйПлохойХорошийХорошийОбычныйХорошийПлохойХорошийХорошийОбычныйОбычныйПлохойОбычныйПлохойОбычныйОбычныйОбычныйОбычныйОбычныйПлохойОбычныйХорошийОбычныйОбычныйПлохойОбычныйОбычныйПлохойПлохойПлохойХорошийОбычныйОбычныйПлохойОбычныйОбычныйПлохойПлохойПлохойХорошийПлохойХорошийПлохойПлохойОбычныйПлохойПлохойОбычныйХорошийХорошийОбычныйОбычныйПлохойОбычныйХорошийПлохойОбычныйОбычныйПлохойОбычныйОбычныйОбычныйОбычныйПлохойПлохойХорошийХорошийХорошийОбычныйОбычныйОбычныйОбычныйОбычныйОбычныйОбычныйОбычныйХорошийПлохойОбычныйПлохойХорошийПлохойОбычныйХорошийХорошийПлохойПлохойПлохойОбычныйПлохойПлохойОбычныйХорошийОбычныйОбычныйОбычныйХорошийХорошийПлохойОбычныйОбычныйОбычныйХорошийОбычныйПлохойОбычныйПлохойПлохойОбычныйПлохойПлохойПлохойОбычныйОбычныйХорошийПлохойПлохойОбычныйХорошийХорошийХорошийОбычныйОбычныйПлохойОбычныйПлохойПлохойОбычныйПлохойОбычныйОбычныйХорошийПлохойХорошийПлохойОбычныйОбычныйОбычныйПлохойХорошийХорошийОбычныйОбычныйОбычныйХорошийОбычныйПлохойПлохойОбычныйОбычныйОбычныйОбычныйОбычныйОбычныйОбычныйПлохойОбычныйПлохойХорошийОбычныйХорошийОбычныйПлохойОбычныйОбычныйОбычныйОбычныйОбычныйОбычныйПлохойОбычныйПлохойПлохойОбычныйПлохойХорошийПлохойПлохойОбычныйПлохойОбычныйПлохойОбычныйОбычныйОбычныйОбычныйОбычныйОбычныйПлохойХорошийПлохойХорошийХорошийОбычныйПлохойОбычныйПлохойОбычныйОбычныйПлохойПлохойОбычныйПлохойОбычныйХорошийОбычныйПлохойОбычныйОбычныйПлохойОбычныйОбычныйХорошийОбычныйПлохойОбычныйОбычныйПлохойХорошийПлохойОбычныйПлохойОбычныйПлохойОбычныйОбычныйОбычныйПлохойОбычныйПлохойОбычныйПлохойОбычныйОбычныйПлохойПлохойПлохойХорошийОбычныйПлохойОбычныйОбычныйПлохойОбычныйОбычныйХорошийПлохойОбычныйОбычныйХорошийОбычныйОбычныйХорошийПлохойОбычныйПлохойОбычныйОбычныйХорошийОбычныйПлохойОбычныйОбычныйОбычныйОбычныйОбычныйОбычныйХорошийПлохойХорошийОбычныйОбычныйОбычныйХорошийОбычныйОбычныйОбычныйПлохойОбычныйХорошийОбычныйОбычныйХорошийПлохойХорошийХорошийОбычныйОбычныйХорошийХорошийХорошийОбычныйХорошийПлохойОбычныйОбычныйОбычныйОбычныйОбычныйОбычныйОбычныйПлохойПлохойПлохойОбычныйПлохойХорошийОбычныйОбычныйХорошийОбычныйПлохойОбычныйХорошийОбычныйОбычныйОбычныйОбычныйОбычныйОбычныйХорошийОбычныйХорошийОбычныйПлохойОбычныйОбычныйПлохойХорошийОбычныйОбычныйПлохойХорошийОбычныйХорошийХорошийПлохойОбычныйОбычныйОбычныйОбычныйОбычныйОбычныйОбычныйОбычныйОбычныйОбычныйПлохойОбычныйОбычныйОбычныйОбычныйОбычныйОбычныйОбычныйОбычныйПлохойХорошийОбычныйПлохойПлохойОбычныйОбычныйОбычныйОбычныйХорошийПлохойОбычныйХорошийПлохойПлохойОбычныйОбычныйПлохойПлохойОбычныйХорошийПлохойОбычныйОбычныйОбычныйОбычныйПлохойОбычный' to numeric",
      "\nThe above exception was the direct cause of the following exception:\n",
      "\u001b[0;31mTypeError\u001b[0m                                 Traceback (most recent call last)",
      "Cell \u001b[0;32mIn[18], line 2\u001b[0m\n\u001b[1;32m      1\u001b[0m encoder \u001b[38;5;241m=\u001b[39m MeanEncoder()\n\u001b[0;32m----> 2\u001b[0m x_train[text_features] \u001b[38;5;241m=\u001b[39m \u001b[43mencoder\u001b[49m\u001b[38;5;241;43m.\u001b[39;49m\u001b[43mfit_transform\u001b[49m\u001b[43m(\u001b[49m\u001b[43mx_train\u001b[49m\u001b[43m[\u001b[49m\u001b[43mtext_features\u001b[49m\u001b[43m]\u001b[49m\u001b[43m,\u001b[49m\u001b[43m \u001b[49m\n\u001b[1;32m      3\u001b[0m \u001b[43m                                               \u001b[49m\u001b[43my_train\u001b[49m\u001b[43m)\u001b[49m\n\u001b[1;32m      4\u001b[0m x_valid[text_features] \u001b[38;5;241m=\u001b[39m encoder\u001b[38;5;241m.\u001b[39mtransform(x_valid[text_features])\n\u001b[1;32m      5\u001b[0m x_test[text_features] \u001b[38;5;241m=\u001b[39m encoder\u001b[38;5;241m.\u001b[39mtransform(x_test[text_features])\n",
      "File \u001b[0;32m~/.local/lib/python3.12/site-packages/sklearn/utils/_set_output.py:313\u001b[0m, in \u001b[0;36m_wrap_method_output.<locals>.wrapped\u001b[0;34m(self, X, *args, **kwargs)\u001b[0m\n\u001b[1;32m    311\u001b[0m \u001b[38;5;129m@wraps\u001b[39m(f)\n\u001b[1;32m    312\u001b[0m \u001b[38;5;28;01mdef\u001b[39;00m \u001b[38;5;21mwrapped\u001b[39m(\u001b[38;5;28mself\u001b[39m, X, \u001b[38;5;241m*\u001b[39margs, \u001b[38;5;241m*\u001b[39m\u001b[38;5;241m*\u001b[39mkwargs):\n\u001b[0;32m--> 313\u001b[0m     data_to_wrap \u001b[38;5;241m=\u001b[39m \u001b[43mf\u001b[49m\u001b[43m(\u001b[49m\u001b[38;5;28;43mself\u001b[39;49m\u001b[43m,\u001b[49m\u001b[43m \u001b[49m\u001b[43mX\u001b[49m\u001b[43m,\u001b[49m\u001b[43m \u001b[49m\u001b[38;5;241;43m*\u001b[39;49m\u001b[43margs\u001b[49m\u001b[43m,\u001b[49m\u001b[43m \u001b[49m\u001b[38;5;241;43m*\u001b[39;49m\u001b[38;5;241;43m*\u001b[39;49m\u001b[43mkwargs\u001b[49m\u001b[43m)\u001b[49m\n\u001b[1;32m    314\u001b[0m     \u001b[38;5;28;01mif\u001b[39;00m \u001b[38;5;28misinstance\u001b[39m(data_to_wrap, \u001b[38;5;28mtuple\u001b[39m):\n\u001b[1;32m    315\u001b[0m         \u001b[38;5;66;03m# only wrap the first output for cross decomposition\u001b[39;00m\n\u001b[1;32m    316\u001b[0m         return_tuple \u001b[38;5;241m=\u001b[39m (\n\u001b[1;32m    317\u001b[0m             _wrap_data_with_container(method, data_to_wrap[\u001b[38;5;241m0\u001b[39m], X, \u001b[38;5;28mself\u001b[39m),\n\u001b[1;32m    318\u001b[0m             \u001b[38;5;241m*\u001b[39mdata_to_wrap[\u001b[38;5;241m1\u001b[39m:],\n\u001b[1;32m    319\u001b[0m         )\n",
      "Cell \u001b[0;32mIn[16], line 64\u001b[0m, in \u001b[0;36mMeanEncoder.fit_transform\u001b[0;34m(self, X, y)\u001b[0m\n\u001b[1;32m     63\u001b[0m \u001b[38;5;28;01mdef\u001b[39;00m \u001b[38;5;21mfit_transform\u001b[39m(\u001b[38;5;28mself\u001b[39m, X, y):\n\u001b[0;32m---> 64\u001b[0m     \u001b[38;5;28;43mself\u001b[39;49m\u001b[38;5;241;43m.\u001b[39;49m\u001b[43mfit\u001b[49m\u001b[43m(\u001b[49m\u001b[43mX\u001b[49m\u001b[43m,\u001b[49m\u001b[43m \u001b[49m\u001b[43my\u001b[49m\u001b[43m)\u001b[49m\n\u001b[1;32m     65\u001b[0m     \u001b[38;5;28;01mreturn\u001b[39;00m \u001b[38;5;28mself\u001b[39m\u001b[38;5;241m.\u001b[39mtransform(X)\n",
      "Cell \u001b[0;32mIn[16], line 47\u001b[0m, in \u001b[0;36mMeanEncoder.fit\u001b[0;34m(self, X, y)\u001b[0m\n\u001b[1;32m     45\u001b[0m     \u001b[38;5;28mself\u001b[39m\u001b[38;5;241m.\u001b[39mglobal_mean \u001b[38;5;241m=\u001b[39m \u001b[38;5;28mself\u001b[39m\u001b[38;5;241m.\u001b[39mgoods(y) \u001b[38;5;241m-\u001b[39m \u001b[38;5;28mself\u001b[39m\u001b[38;5;241m.\u001b[39mbads(y)\n\u001b[1;32m     46\u001b[0m \u001b[38;5;28;01melif\u001b[39;00m \u001b[38;5;28mself\u001b[39m\u001b[38;5;241m.\u001b[39mencoding \u001b[38;5;241m==\u001b[39m \u001b[38;5;124m'\u001b[39m\u001b[38;5;124mlikelihood\u001b[39m\u001b[38;5;124m'\u001b[39m:\n\u001b[0;32m---> 47\u001b[0m     \u001b[38;5;28;43mself\u001b[39;49m\u001b[38;5;241;43m.\u001b[39;49m\u001b[43mencode\u001b[49m\u001b[43m(\u001b[49m\u001b[43mX\u001b[49m\u001b[43m,\u001b[49m\u001b[43m \u001b[49m\u001b[43my\u001b[49m\u001b[43m,\u001b[49m\u001b[43m \u001b[49m\u001b[43mnp\u001b[49m\u001b[38;5;241;43m.\u001b[39;49m\u001b[43mmean\u001b[49m\u001b[43m)\u001b[49m\n\u001b[1;32m     48\u001b[0m     \u001b[38;5;28mself\u001b[39m\u001b[38;5;241m.\u001b[39mglobal_mean \u001b[38;5;241m=\u001b[39m np\u001b[38;5;241m.\u001b[39mmean(y)\n\u001b[1;32m     49\u001b[0m \u001b[38;5;28;01melif\u001b[39;00m \u001b[38;5;28mself\u001b[39m\u001b[38;5;241m.\u001b[39mencoding \u001b[38;5;241m==\u001b[39m \u001b[38;5;124m'\u001b[39m\u001b[38;5;124mcount\u001b[39m\u001b[38;5;124m'\u001b[39m:\n",
      "Cell \u001b[0;32mIn[16], line 32\u001b[0m, in \u001b[0;36mMeanEncoder.encode\u001b[0;34m(self, X, y, agg_func)\u001b[0m\n\u001b[1;32m     30\u001b[0m \u001b[38;5;28;01mfor\u001b[39;00m col \u001b[38;5;129;01min\u001b[39;00m X\u001b[38;5;241m.\u001b[39mcolumns:\n\u001b[1;32m     31\u001b[0m     \u001b[38;5;28;01mif\u001b[39;00m col \u001b[38;5;241m!=\u001b[39m \u001b[38;5;124m'\u001b[39m\u001b[38;5;124mtarget\u001b[39m\u001b[38;5;124m'\u001b[39m:\n\u001b[0;32m---> 32\u001b[0m         col_means \u001b[38;5;241m=\u001b[39m \u001b[43mX\u001b[49m\u001b[38;5;241;43m.\u001b[39;49m\u001b[43mgroupby\u001b[49m\u001b[43m(\u001b[49m\u001b[43mcol\u001b[49m\u001b[43m)\u001b[49m\u001b[43m[\u001b[49m\u001b[38;5;124;43m'\u001b[39;49m\u001b[38;5;124;43mtarget\u001b[39;49m\u001b[38;5;124;43m'\u001b[39;49m\u001b[43m]\u001b[49m\u001b[38;5;241;43m.\u001b[39;49m\u001b[43magg\u001b[49m\u001b[43m(\u001b[49m\u001b[43magg_func\u001b[49m\u001b[43m)\u001b[49m\n\u001b[1;32m     33\u001b[0m         \u001b[38;5;28mself\u001b[39m\u001b[38;5;241m.\u001b[39mmeans[col] \u001b[38;5;241m=\u001b[39m col_means\n\u001b[1;32m     34\u001b[0m X\u001b[38;5;241m.\u001b[39mdrop([\u001b[38;5;124m'\u001b[39m\u001b[38;5;124mtarget\u001b[39m\u001b[38;5;124m'\u001b[39m], axis\u001b[38;5;241m=\u001b[39m\u001b[38;5;241m1\u001b[39m, inplace \u001b[38;5;241m=\u001b[39m \u001b[38;5;28;01mTrue\u001b[39;00m)\n",
      "File \u001b[0;32m~/.local/lib/python3.12/site-packages/pandas/core/groupby/generic.py:270\u001b[0m, in \u001b[0;36mSeriesGroupBy.aggregate\u001b[0;34m(self, func, engine, engine_kwargs, *args, **kwargs)\u001b[0m\n\u001b[1;32m    268\u001b[0m \u001b[38;5;28;01mif\u001b[39;00m cyfunc \u001b[38;5;129;01mand\u001b[39;00m \u001b[38;5;129;01mnot\u001b[39;00m args \u001b[38;5;129;01mand\u001b[39;00m \u001b[38;5;129;01mnot\u001b[39;00m kwargs:\n\u001b[1;32m    269\u001b[0m     warn_alias_replacement(\u001b[38;5;28mself\u001b[39m, func, cyfunc)\n\u001b[0;32m--> 270\u001b[0m     \u001b[38;5;28;01mreturn\u001b[39;00m \u001b[38;5;28;43mgetattr\u001b[39;49m\u001b[43m(\u001b[49m\u001b[38;5;28;43mself\u001b[39;49m\u001b[43m,\u001b[49m\u001b[43m \u001b[49m\u001b[43mcyfunc\u001b[49m\u001b[43m)\u001b[49m\u001b[43m(\u001b[49m\u001b[43m)\u001b[49m\n\u001b[1;32m    272\u001b[0m \u001b[38;5;28;01mif\u001b[39;00m maybe_use_numba(engine):\n\u001b[1;32m    273\u001b[0m     \u001b[38;5;28;01mreturn\u001b[39;00m \u001b[38;5;28mself\u001b[39m\u001b[38;5;241m.\u001b[39m_aggregate_with_numba(\n\u001b[1;32m    274\u001b[0m         func, \u001b[38;5;241m*\u001b[39margs, engine_kwargs\u001b[38;5;241m=\u001b[39mengine_kwargs, \u001b[38;5;241m*\u001b[39m\u001b[38;5;241m*\u001b[39mkwargs\n\u001b[1;32m    275\u001b[0m     )\n",
      "File \u001b[0;32m~/.local/lib/python3.12/site-packages/pandas/core/groupby/groupby.py:2452\u001b[0m, in \u001b[0;36mGroupBy.mean\u001b[0;34m(self, numeric_only, engine, engine_kwargs)\u001b[0m\n\u001b[1;32m   2445\u001b[0m     \u001b[38;5;28;01mreturn\u001b[39;00m \u001b[38;5;28mself\u001b[39m\u001b[38;5;241m.\u001b[39m_numba_agg_general(\n\u001b[1;32m   2446\u001b[0m         grouped_mean,\n\u001b[1;32m   2447\u001b[0m         executor\u001b[38;5;241m.\u001b[39mfloat_dtype_mapping,\n\u001b[1;32m   2448\u001b[0m         engine_kwargs,\n\u001b[1;32m   2449\u001b[0m         min_periods\u001b[38;5;241m=\u001b[39m\u001b[38;5;241m0\u001b[39m,\n\u001b[1;32m   2450\u001b[0m     )\n\u001b[1;32m   2451\u001b[0m \u001b[38;5;28;01melse\u001b[39;00m:\n\u001b[0;32m-> 2452\u001b[0m     result \u001b[38;5;241m=\u001b[39m \u001b[38;5;28;43mself\u001b[39;49m\u001b[38;5;241;43m.\u001b[39;49m\u001b[43m_cython_agg_general\u001b[49m\u001b[43m(\u001b[49m\n\u001b[1;32m   2453\u001b[0m \u001b[43m        \u001b[49m\u001b[38;5;124;43m\"\u001b[39;49m\u001b[38;5;124;43mmean\u001b[39;49m\u001b[38;5;124;43m\"\u001b[39;49m\u001b[43m,\u001b[49m\n\u001b[1;32m   2454\u001b[0m \u001b[43m        \u001b[49m\u001b[43malt\u001b[49m\u001b[38;5;241;43m=\u001b[39;49m\u001b[38;5;28;43;01mlambda\u001b[39;49;00m\u001b[43m \u001b[49m\u001b[43mx\u001b[49m\u001b[43m:\u001b[49m\u001b[43m \u001b[49m\u001b[43mSeries\u001b[49m\u001b[43m(\u001b[49m\u001b[43mx\u001b[49m\u001b[43m,\u001b[49m\u001b[43m \u001b[49m\u001b[43mcopy\u001b[49m\u001b[38;5;241;43m=\u001b[39;49m\u001b[38;5;28;43;01mFalse\u001b[39;49;00m\u001b[43m)\u001b[49m\u001b[38;5;241;43m.\u001b[39;49m\u001b[43mmean\u001b[49m\u001b[43m(\u001b[49m\u001b[43mnumeric_only\u001b[49m\u001b[38;5;241;43m=\u001b[39;49m\u001b[43mnumeric_only\u001b[49m\u001b[43m)\u001b[49m\u001b[43m,\u001b[49m\n\u001b[1;32m   2455\u001b[0m \u001b[43m        \u001b[49m\u001b[43mnumeric_only\u001b[49m\u001b[38;5;241;43m=\u001b[39;49m\u001b[43mnumeric_only\u001b[49m\u001b[43m,\u001b[49m\n\u001b[1;32m   2456\u001b[0m \u001b[43m    \u001b[49m\u001b[43m)\u001b[49m\n\u001b[1;32m   2457\u001b[0m     \u001b[38;5;28;01mreturn\u001b[39;00m result\u001b[38;5;241m.\u001b[39m__finalize__(\u001b[38;5;28mself\u001b[39m\u001b[38;5;241m.\u001b[39mobj, method\u001b[38;5;241m=\u001b[39m\u001b[38;5;124m\"\u001b[39m\u001b[38;5;124mgroupby\u001b[39m\u001b[38;5;124m\"\u001b[39m)\n",
      "File \u001b[0;32m~/.local/lib/python3.12/site-packages/pandas/core/groupby/groupby.py:1998\u001b[0m, in \u001b[0;36mGroupBy._cython_agg_general\u001b[0;34m(self, how, alt, numeric_only, min_count, **kwargs)\u001b[0m\n\u001b[1;32m   1995\u001b[0m     result \u001b[38;5;241m=\u001b[39m \u001b[38;5;28mself\u001b[39m\u001b[38;5;241m.\u001b[39m_agg_py_fallback(how, values, ndim\u001b[38;5;241m=\u001b[39mdata\u001b[38;5;241m.\u001b[39mndim, alt\u001b[38;5;241m=\u001b[39malt)\n\u001b[1;32m   1996\u001b[0m     \u001b[38;5;28;01mreturn\u001b[39;00m result\n\u001b[0;32m-> 1998\u001b[0m new_mgr \u001b[38;5;241m=\u001b[39m \u001b[43mdata\u001b[49m\u001b[38;5;241;43m.\u001b[39;49m\u001b[43mgrouped_reduce\u001b[49m\u001b[43m(\u001b[49m\u001b[43marray_func\u001b[49m\u001b[43m)\u001b[49m\n\u001b[1;32m   1999\u001b[0m res \u001b[38;5;241m=\u001b[39m \u001b[38;5;28mself\u001b[39m\u001b[38;5;241m.\u001b[39m_wrap_agged_manager(new_mgr)\n\u001b[1;32m   2000\u001b[0m \u001b[38;5;28;01mif\u001b[39;00m how \u001b[38;5;129;01min\u001b[39;00m [\u001b[38;5;124m\"\u001b[39m\u001b[38;5;124midxmin\u001b[39m\u001b[38;5;124m\"\u001b[39m, \u001b[38;5;124m\"\u001b[39m\u001b[38;5;124midxmax\u001b[39m\u001b[38;5;124m\"\u001b[39m]:\n",
      "File \u001b[0;32m~/.local/lib/python3.12/site-packages/pandas/core/internals/base.py:367\u001b[0m, in \u001b[0;36mSingleDataManager.grouped_reduce\u001b[0;34m(self, func)\u001b[0m\n\u001b[1;32m    365\u001b[0m \u001b[38;5;28;01mdef\u001b[39;00m \u001b[38;5;21mgrouped_reduce\u001b[39m(\u001b[38;5;28mself\u001b[39m, func):\n\u001b[1;32m    366\u001b[0m     arr \u001b[38;5;241m=\u001b[39m \u001b[38;5;28mself\u001b[39m\u001b[38;5;241m.\u001b[39marray\n\u001b[0;32m--> 367\u001b[0m     res \u001b[38;5;241m=\u001b[39m \u001b[43mfunc\u001b[49m\u001b[43m(\u001b[49m\u001b[43marr\u001b[49m\u001b[43m)\u001b[49m\n\u001b[1;32m    368\u001b[0m     index \u001b[38;5;241m=\u001b[39m default_index(\u001b[38;5;28mlen\u001b[39m(res))\n\u001b[1;32m    370\u001b[0m     mgr \u001b[38;5;241m=\u001b[39m \u001b[38;5;28mtype\u001b[39m(\u001b[38;5;28mself\u001b[39m)\u001b[38;5;241m.\u001b[39mfrom_array(res, index)\n",
      "File \u001b[0;32m~/.local/lib/python3.12/site-packages/pandas/core/groupby/groupby.py:1995\u001b[0m, in \u001b[0;36mGroupBy._cython_agg_general.<locals>.array_func\u001b[0;34m(values)\u001b[0m\n\u001b[1;32m   1992\u001b[0m     \u001b[38;5;28;01mreturn\u001b[39;00m result\n\u001b[1;32m   1994\u001b[0m \u001b[38;5;28;01massert\u001b[39;00m alt \u001b[38;5;129;01mis\u001b[39;00m \u001b[38;5;129;01mnot\u001b[39;00m \u001b[38;5;28;01mNone\u001b[39;00m\n\u001b[0;32m-> 1995\u001b[0m result \u001b[38;5;241m=\u001b[39m \u001b[38;5;28;43mself\u001b[39;49m\u001b[38;5;241;43m.\u001b[39;49m\u001b[43m_agg_py_fallback\u001b[49m\u001b[43m(\u001b[49m\u001b[43mhow\u001b[49m\u001b[43m,\u001b[49m\u001b[43m \u001b[49m\u001b[43mvalues\u001b[49m\u001b[43m,\u001b[49m\u001b[43m \u001b[49m\u001b[43mndim\u001b[49m\u001b[38;5;241;43m=\u001b[39;49m\u001b[43mdata\u001b[49m\u001b[38;5;241;43m.\u001b[39;49m\u001b[43mndim\u001b[49m\u001b[43m,\u001b[49m\u001b[43m \u001b[49m\u001b[43malt\u001b[49m\u001b[38;5;241;43m=\u001b[39;49m\u001b[43malt\u001b[49m\u001b[43m)\u001b[49m\n\u001b[1;32m   1996\u001b[0m \u001b[38;5;28;01mreturn\u001b[39;00m result\n",
      "File \u001b[0;32m~/.local/lib/python3.12/site-packages/pandas/core/groupby/groupby.py:1946\u001b[0m, in \u001b[0;36mGroupBy._agg_py_fallback\u001b[0;34m(self, how, values, ndim, alt)\u001b[0m\n\u001b[1;32m   1944\u001b[0m     msg \u001b[38;5;241m=\u001b[39m \u001b[38;5;124mf\u001b[39m\u001b[38;5;124m\"\u001b[39m\u001b[38;5;124magg function failed [how->\u001b[39m\u001b[38;5;132;01m{\u001b[39;00mhow\u001b[38;5;132;01m}\u001b[39;00m\u001b[38;5;124m,dtype->\u001b[39m\u001b[38;5;132;01m{\u001b[39;00mser\u001b[38;5;241m.\u001b[39mdtype\u001b[38;5;132;01m}\u001b[39;00m\u001b[38;5;124m]\u001b[39m\u001b[38;5;124m\"\u001b[39m\n\u001b[1;32m   1945\u001b[0m     \u001b[38;5;66;03m# preserve the kind of exception that raised\u001b[39;00m\n\u001b[0;32m-> 1946\u001b[0m     \u001b[38;5;28;01mraise\u001b[39;00m \u001b[38;5;28mtype\u001b[39m(err)(msg) \u001b[38;5;28;01mfrom\u001b[39;00m \u001b[38;5;21;01merr\u001b[39;00m\n\u001b[1;32m   1948\u001b[0m \u001b[38;5;28;01mif\u001b[39;00m ser\u001b[38;5;241m.\u001b[39mdtype \u001b[38;5;241m==\u001b[39m \u001b[38;5;28mobject\u001b[39m:\n\u001b[1;32m   1949\u001b[0m     res_values \u001b[38;5;241m=\u001b[39m res_values\u001b[38;5;241m.\u001b[39mastype(\u001b[38;5;28mobject\u001b[39m, copy\u001b[38;5;241m=\u001b[39m\u001b[38;5;28;01mFalse\u001b[39;00m)\n",
      "\u001b[0;31mTypeError\u001b[0m: agg function failed [how->mean,dtype->object]"
     ]
    }
   ],
   "source": [
    "encoder = MeanEncoder()\n",
    "x_train[text_features] = encoder.fit_transform(x_train[text_features], \n",
    "                                               y_train)\n",
    "x_valid[text_features] = encoder.transform(x_valid[text_features])\n",
    "x_test[text_features] = encoder.transform(x_test[text_features])"
   ]
  },
  {
   "cell_type": "markdown",
   "metadata": {
    "id": "wodIdpXZNk0Q"
   },
   "source": [
    "**Данные B** &mdash; данные, полученные из **Данных A** с помощью `MeanEncoder`, то есть кодированием категориальных с помощью среднего отклика по категории."
   ]
  },
  {
   "cell_type": "code",
   "execution_count": 14,
   "metadata": {
    "ExecuteTime": {
     "end_time": "2020-03-19T11:08:21.158705Z",
     "start_time": "2020-03-19T11:08:21.079528Z"
    },
    "id": "ZQxqvYhmNk0Q"
   },
   "outputs": [],
   "source": [
    "x_train_encoder = x_train.copy()\n",
    "x_valid_encoder = x_valid.copy()\n",
    "x_test_encoder = x_test.copy()"
   ]
  },
  {
   "cell_type": "markdown",
   "metadata": {
    "id": "bFofkMt2Nk0Q"
   },
   "source": [
    "В вещественных признаках заполним пропуски средним по признаку.\n",
    "\n",
    "**Данные C** &mdash; данные, полученные из **Данных B** с помощью заполненяия пропусков в вещественных признаках средним значением"
   ]
  },
  {
   "cell_type": "code",
   "execution_count": 15,
   "metadata": {
    "ExecuteTime": {
     "end_time": "2020-03-19T11:08:22.364933Z",
     "start_time": "2020-03-19T11:08:21.811751Z"
    },
    "id": "1gpXQAklNk0Q"
   },
   "outputs": [],
   "source": [
    "imputer = SimpleImputer(missing_values=np.nan, strategy='mean')\n",
    "\n",
    "x_train[real_features] = imputer.fit_transform(\n",
    "    x_train[real_features].astype(float)\n",
    ")\n",
    "x_valid[real_features] = imputer.transform(\n",
    "    x_valid[real_features].astype(float)\n",
    ")\n",
    "x_test[real_features] = imputer.transform(\n",
    "    x_test[real_features].astype(float)\n",
    ")"
   ]
  },
  {
   "cell_type": "markdown",
   "metadata": {
    "id": "QkaXp8r7Nk0R"
   },
   "source": [
    "## 3. RandomForestClassifier\n",
    "\n",
    "Обучаем случайный лес на 200 деревьев на **Данных C**"
   ]
  },
  {
   "cell_type": "code",
   "execution_count": 16,
   "metadata": {
    "ExecuteTime": {
     "end_time": "2020-03-19T11:08:33.494568Z",
     "start_time": "2020-03-19T11:08:22.735170Z"
    },
    "id": "5yl5ZpdONk0R",
    "outputId": "8fc3d31f-cbba-4c51-ad74-439fdfe48438"
   },
   "outputs": [
    {
     "name": "stdout",
     "output_type": "stream",
     "text": [
      "CPU times: user 26.1 s, sys: 158 ms, total: 26.2 s\n",
      "Wall time: 6.68 s\n"
     ]
    }
   ],
   "source": [
    "%%time\n",
    "\n",
    "n_estimators = 200\n",
    "rf = RandomForestClassifier(\n",
    "    n_estimators=n_estimators, n_jobs=4, random_state=42\n",
    ").fit(x_train, y_train)"
   ]
  },
  {
   "cell_type": "markdown",
   "metadata": {
    "id": "e_OEa-6uNk0R"
   },
   "source": [
    "Качество на валидации"
   ]
  },
  {
   "cell_type": "code",
   "execution_count": 17,
   "metadata": {
    "ExecuteTime": {
     "end_time": "2020-03-19T11:08:34.014454Z",
     "start_time": "2020-03-19T11:08:33.498987Z"
    },
    "id": "3IY0A1BUNk0R",
    "outputId": "fc7cb1b5-e4dc-4397-c890-8cd7c621a677"
   },
   "outputs": [
    {
     "data": {
      "text/plain": [
       "0.7175"
      ]
     },
     "execution_count": 17,
     "metadata": {},
     "output_type": "execute_result"
    }
   ],
   "source": [
    "accuracy_score(y_valid, rf.predict(x_valid))"
   ]
  },
  {
   "cell_type": "markdown",
   "metadata": {
    "id": "zO_Lx3bqNk0R"
   },
   "source": [
    "Определим функцию, которая посчитает значение метрики в зависимости от количества деревьев"
   ]
  },
  {
   "cell_type": "code",
   "execution_count": 18,
   "metadata": {
    "ExecuteTime": {
     "end_time": "2020-03-19T11:08:34.020847Z",
     "start_time": "2020-03-19T11:08:34.016492Z"
    },
    "id": "Vz3WLDFSNk0S"
   },
   "outputs": [],
   "source": [
    "def accuracy_by_tree_count(model, test, target_test):\n",
    "    '''\n",
    "    Вычисляет точность модели в зависимости от кол-ва деревьев.\n",
    "    model --- модель, \n",
    "    test --- данные, на которых надо построить предсказания, \n",
    "    target_test --- соответствующая целевая метка\n",
    "    '''\n",
    "    \n",
    "    n_estimators = model.get_params()['n_estimators']\n",
    "    accuracy_values = np.zeros(n_estimators)\n",
    "    trees_labels = np.zeros((test.shape[0], n_estimators))\n",
    "    \n",
    "    for n in range(n_estimators):\n",
    "        trees_labels[:, n] = model.estimators_[n].predict(test)\n",
    "        \n",
    "        accuracy_values[n] = accuracy_score(\n",
    "            target_test,\n",
    "            [Counter(labels).most_common(1)[0][0] \n",
    "             for labels in trees_labels[:, :n + 1]]\n",
    "        )\n",
    "        \n",
    "    return accuracy_values"
   ]
  },
  {
   "cell_type": "markdown",
   "metadata": {
    "id": "2qtLzJZCNk0S"
   },
   "source": [
    "График зависимости точности предсказания от количества деревьев"
   ]
  },
  {
   "cell_type": "code",
   "execution_count": 19,
   "metadata": {},
   "outputs": [
    {
     "data": {
      "image/png": "[encoded data removed]",
      "text/plain": [
       "<Figure size 720x432 with 1 Axes>"
      ]
     },
     "metadata": {
      "needs_background": "light"
     },
     "output_type": "display_data"
    }
   ],
   "source": [
    "accuracy_train = accuracy_by_tree_count(rf, x_valid, y_valid)\n",
    "accuracy_valid = accuracy_by_tree_count(rf, x_train, y_train)\n",
    "\n",
    "plt.figure(figsize=(10, 6))\n",
    "plt.plot(np.arange(n_estimators) + 1, accuracy_train, \n",
    "         lw=5, label='train')\n",
    "plt.plot(np.arange(n_estimators) + 1, accuracy_valid, \n",
    "         lw=5, label='valid')\n",
    "plt.hlines(0.7639, 0, n_estimators, linestyles='--', \n",
    "           alpha=0.7, label='Победитель\\nсоревнования')\n",
    "plt.xlabel('Количество деревьев')\n",
    "plt.ylabel('Точность предсказания')\n",
    "plt.title('RandomForestClassifier из sklearn')\n",
    "plt.legend()\n",
    "plt.show()"
   ]
  },
  {
   "cell_type": "markdown",
   "metadata": {
    "id": "ANfvOgg9Nk0U"
   },
   "source": [
    "Точность на тесте"
   ]
  },
  {
   "cell_type": "code",
   "execution_count": 20,
   "metadata": {},
   "outputs": [
    {
     "data": {
      "text/plain": [
       "0.72158"
      ]
     },
     "execution_count": 20,
     "metadata": {},
     "output_type": "execute_result"
    }
   ],
   "source": [
    "accuracy_score(y_test, rf.predict(x_test))"
   ]
  },
  {
   "cell_type": "markdown",
   "metadata": {
    "ExecuteTime": {
     "end_time": "2020-03-19T07:48:16.779259Z",
     "start_time": "2020-03-19T07:48:02.309934Z"
    },
    "id": "qUtkVnF-Nk0V"
   },
   "source": [
    "**Leaderboard моделей**\n",
    "\n",
    "| Место | Имя модели  | Тип данных | Качество на валидации | Качество на тесте |\n",
    "|----------------|-------------|-------------|-----------------------|----------------|\n",
    "| 1     | Победитель  |  |      | 0.7639         |\n",
    "| 2     | RandomForestClassifier  | C | 0.7175                 | 0.72158         |\n",
    "\n",
    "Далее рассмотрим еще несколько моделей, в которых проделаем аналогичные операции."
   ]
  },
  {
   "cell_type": "markdown",
   "metadata": {
    "id": "2KKfWvxQNk0V"
   },
   "source": [
    "## 4. GradientBoostingClassifier\n",
    "\n",
    "Подберем гиперпараметры бустинга на **Данных C**"
   ]
  },
  {
   "cell_type": "code",
   "execution_count": 21,
   "metadata": {},
   "outputs": [
    {
     "name": "stdout",
     "output_type": "stream",
     "text": [
      "CPU times: user 3min 5s, sys: 2.94 ms, total: 3min 5s\n",
      "Wall time: 3min 5s\n"
     ]
    }
   ],
   "source": [
    "%%time\n",
    "\n",
    "n_estimators = 200\n",
    "test_model = GradientBoostingClassifier(\n",
    "    n_estimators=100, random_state=42\n",
    ").fit(x_train, y_train)"
   ]
  },
  {
   "cell_type": "code",
   "execution_count": 22,
   "metadata": {
    "ExecuteTime": {
     "end_time": "2020-03-19T12:47:20.044486Z",
     "start_time": "2020-03-19T11:12:33.872757Z"
    },
    "id": "NrCUmISpNk0V",
    "outputId": "00718c3f-2212-4e43-bb36-633e0368c7f4",
    "scrolled": true
   },
   "outputs": [
    {
     "name": "stdout",
     "output_type": "stream",
     "text": [
      "Fitting 5 folds for each of 30 candidates, totalling 150 fits\n"
     ]
    },
    {
     "data": {
      "text/plain": [
       "RandomizedSearchCV(cv=5, estimator=GradientBoostingClassifier(random_state=42),\n",
       "                   n_iter=30, n_jobs=-2,\n",
       "                   param_distributions={'learning_rate': array([0.05      , 0.05083612, 0.05167224, 0.05250836, 0.05334448,\n",
       "       0.0541806 , 0.05501672, 0.05585284, 0.05668896, 0.05752508,\n",
       "       0.0583612 , 0.05919732, 0.06003344, 0.06086957, 0.06170569,\n",
       "       0.06254181, 0.06337793, 0.06421405, 0.06505017, 0.06588...\n",
       "       114, 115, 116, 117, 118, 119, 120, 121, 122, 123, 124, 125, 126,\n",
       "       127, 128, 129, 130, 131, 132, 133, 134, 135, 136, 137, 138, 139,\n",
       "       140, 141, 142, 143, 144, 145, 146, 147, 148, 149, 150, 151, 152,\n",
       "       153, 154, 155, 156, 157, 158, 159, 160, 161, 162, 163, 164, 165,\n",
       "       166, 167, 168, 169, 170, 171, 172, 173, 174, 175, 176, 177, 178,\n",
       "       179, 180, 181, 182, 183, 184, 185, 186, 187, 188, 189, 190, 191,\n",
       "       192, 193, 194, 195, 196, 197, 198, 199])},\n",
       "                   random_state=42, verbose=1)"
      ]
     },
     "execution_count": 22,
     "metadata": {},
     "output_type": "execute_result"
    }
   ],
   "source": [
    "model = RandomizedSearchCV(\n",
    "    estimator=GradientBoostingClassifier(random_state=42), \n",
    "    param_distributions={\n",
    "        'max_depth': np.arange(3, 6), \n",
    "        'n_estimators': np.arange(10, 200),\n",
    "        'learning_rate': np.linspace(0.05, 0.3, 300)\n",
    "    },\n",
    "    cv=5, \n",
    "    verbose=1, \n",
    "    n_jobs=-2, \n",
    "    n_iter=30, \n",
    "    random_state=42\n",
    ")\n",
    "\n",
    "model.fit(x_train, y_train)"
   ]
  },
  {
   "cell_type": "code",
   "execution_count": 23,
   "metadata": {
    "ExecuteTime": {
     "end_time": "2020-03-19T12:47:20.365636Z",
     "start_time": "2020-03-19T12:47:20.046424Z"
    },
    "id": "GHKYGalxNk0W",
    "outputId": "6c6a4e78-d753-42ab-f5e4-41be9204d7bd"
   },
   "outputs": [
    {
     "data": {
      "text/plain": [
       "0.7378"
      ]
     },
     "execution_count": 23,
     "metadata": {},
     "output_type": "execute_result"
    }
   ],
   "source": [
    "accuracy_score(y_valid, model.predict(x_valid))"
   ]
  },
  {
   "cell_type": "markdown",
   "metadata": {
    "id": "pUxQTg4CNk0W"
   },
   "source": [
    "Делаем предсказания модели в зависимости от количества деревьев и считаем метрику"
   ]
  },
  {
   "cell_type": "code",
   "execution_count": 24,
   "metadata": {
    "ExecuteTime": {
     "end_time": "2020-03-19T12:47:25.869076Z",
     "start_time": "2020-03-19T12:47:20.368291Z"
    },
    "id": "663GmvvgNk0W"
   },
   "outputs": [],
   "source": [
    "predictions_train = model.best_estimator_.staged_predict(x_train)\n",
    "predictions_valid = model.best_estimator_.staged_predict(x_valid)\n",
    "accuracy_train = [accuracy_score(y_train, p) for p in predictions_train]\n",
    "accuracy_valid = [accuracy_score(y_valid, p) for p in predictions_valid]"
   ]
  },
  {
   "cell_type": "code",
   "execution_count": 25,
   "metadata": {
    "ExecuteTime": {
     "end_time": "2020-03-19T12:47:26.231309Z",
     "start_time": "2020-03-19T12:47:25.870851Z"
    },
    "id": "0GD8aoH6Nk0W",
    "outputId": "396eaa8b-8b3f-446d-c6be-9fbfedab183f"
   },
   "outputs": [
    {
     "data": {
      "image/png": "[encoded data removed]",
      "text/plain": [
       "<Figure size 720x432 with 1 Axes>"
      ]
     },
     "metadata": {
      "needs_background": "light"
     },
     "output_type": "display_data"
    }
   ],
   "source": [
    "n_estimators = model.best_params_['n_estimators']\n",
    "\n",
    "plt.figure(figsize=(10, 6))\n",
    "plt.plot(np.arange(n_estimators) + 1, accuracy_train, \n",
    "         lw=5, label='train')\n",
    "plt.plot(np.arange(n_estimators) + 1, accuracy_valid, \n",
    "         lw=5, label='valid')\n",
    "plt.hlines(0.7639, 0, n_estimators, linestyles='--', \n",
    "           alpha=0.7, label='Победитель\\nсоревнования')\n",
    "plt.xlabel('Количество деревьев')\n",
    "plt.ylabel('Точность предсказания')\n",
    "plt.title('GradientBoostingClassifier из sklearn')\n",
    "plt.legend()\n",
    "plt.show()"
   ]
  },
  {
   "cell_type": "code",
   "execution_count": 26,
   "metadata": {
    "ExecuteTime": {
     "end_time": "2020-03-19T12:47:28.117247Z",
     "start_time": "2020-03-19T12:47:26.233232Z"
    },
    "id": "39H9ygSMNk0X",
    "outputId": "aec17924-d332-4909-a2fb-a52e5302a13d"
   },
   "outputs": [
    {
     "data": {
      "text/plain": [
       "0.74456"
      ]
     },
     "execution_count": 26,
     "metadata": {},
     "output_type": "execute_result"
    }
   ],
   "source": [
    "accuracy_score(y_test, model.predict(x_test))"
   ]
  },
  {
   "cell_type": "markdown",
   "metadata": {
    "id": "Xc9Q5dY-Nk0X"
   },
   "source": [
    "**Leaderboard моделей**\n",
    "\n",
    "| Место | Имя модели  | Тип данных | Качество на валидации | Качество на тесте |\n",
    "|----------------|-------------|-------------|-----------------------|----------------|\n",
    "| 1     | Победитель  |  |      | 0.7639         |\n",
    "| 2     | GradientBoostingClassifier | C | 0.7378               | 0.74456         |\n",
    "| 3     | RandomForestClassifier  | C | 0.7175                 | 0.72158         |\n"
   ]
  },
  {
   "cell_type": "markdown",
   "metadata": {
    "id": "udoNu9u6Nk0X"
   },
   "source": [
    "## 5. RandomForestClassifier + OneHotEncoder\n",
    "\n",
    "Попробуем иначе кодировать категориальные признаки.\n",
    "\n",
    "**Данные D** &mdash; данные, полученные из **Данных A** с помощью заполненяия пропусков в вещественных признаках средним значением и с помощью OneHotEncoder на категориальных."
   ]
  },
  {
   "cell_type": "code",
   "execution_count": 27,
   "metadata": {
    "ExecuteTime": {
     "end_time": "2020-03-19T12:47:28.630588Z",
     "start_time": "2020-03-19T12:47:28.118785Z"
    },
    "id": "DTKk8YD-Nk0X"
   },
   "outputs": [],
   "source": [
    "oh_encoder = OneHotEncoder(handle_unknown='ignore')\n",
    "cat_train = oh_encoder.fit_transform(x_train_origin[text_features])\n",
    "cat_valid = oh_encoder.transform(x_valid_origin[text_features])\n",
    "cat_test = oh_encoder.transform(x_test_origin[text_features])"
   ]
  },
  {
   "cell_type": "code",
   "execution_count": 28,
   "metadata": {
    "ExecuteTime": {
     "end_time": "2020-03-19T12:47:28.639434Z",
     "start_time": "2020-03-19T12:47:28.632582Z"
    },
    "id": "wXZVR4DpNk0Y",
    "outputId": "fa413ada-11e9-4242-c630-e28489155b8f"
   },
   "outputs": [
    {
     "data": {
      "text/plain": [
       "<40000x9236 sparse matrix of type '<class 'numpy.float64'>'\n",
       "\twith 760000 stored elements in Compressed Sparse Row format>"
      ]
     },
     "execution_count": 28,
     "metadata": {},
     "output_type": "execute_result"
    }
   ],
   "source": [
    "cat_train"
   ]
  },
  {
   "cell_type": "markdown",
   "metadata": {
    "id": "2VBR0O1eNk0Y"
   },
   "source": [
    "Соединяем кодировку категориальных с вещественными признаким"
   ]
  },
  {
   "cell_type": "code",
   "execution_count": 29,
   "metadata": {
    "ExecuteTime": {
     "end_time": "2020-03-19T12:47:28.924326Z",
     "start_time": "2020-03-19T12:47:28.641155Z"
    },
    "id": "Ybrer6ySNk0Y"
   },
   "outputs": [],
   "source": [
    "x_train_sparse = sparse.hstack([\n",
    "    cat_train, sparse.coo_matrix(x_train[real_features])\n",
    "])\n",
    "x_valid_sparse = sparse.hstack([\n",
    "    cat_valid, sparse.coo_matrix(x_valid[real_features])\n",
    "])\n",
    "x_test_sparse = sparse.hstack([\n",
    "    cat_test, sparse.coo_matrix(x_test[real_features])\n",
    "])"
   ]
  },
  {
   "cell_type": "code",
   "execution_count": 30,
   "metadata": {
    "ExecuteTime": {
     "end_time": "2020-03-19T12:48:35.307174Z",
     "start_time": "2020-03-19T12:47:28.926252Z"
    },
    "id": "fjulOzZ5Nk0Y",
    "outputId": "471ec2f2-d14e-4dba-ab65-dfbba45e66c4"
   },
   "outputs": [
    {
     "name": "stdout",
     "output_type": "stream",
     "text": [
      "CPU times: user 2min 20s, sys: 200 ms, total: 2min 21s\n",
      "Wall time: 35.6 s\n"
     ]
    }
   ],
   "source": [
    "%%time\n",
    "\n",
    "n_estimators = 200\n",
    "rf = RandomForestClassifier(\n",
    "    n_estimators=n_estimators, random_state=42, n_jobs=4\n",
    ").fit(x_train_sparse, y_train)"
   ]
  },
  {
   "cell_type": "code",
   "execution_count": 31,
   "metadata": {
    "ExecuteTime": {
     "end_time": "2020-03-19T12:48:35.827028Z",
     "start_time": "2020-03-19T12:48:35.310522Z"
    },
    "id": "ZAKuPT6FNk0Y",
    "outputId": "ae4ee8ac-431f-43b3-eba5-c95f42e9a4bd"
   },
   "outputs": [
    {
     "data": {
      "text/plain": [
       "0.6084"
      ]
     },
     "execution_count": 31,
     "metadata": {},
     "output_type": "execute_result"
    }
   ],
   "source": [
    "accuracy_score(y_valid, rf.predict(x_valid_sparse))"
   ]
  },
  {
   "cell_type": "code",
   "execution_count": 32,
   "metadata": {
    "ExecuteTime": {
     "end_time": "2020-03-19T12:52:57.681363Z",
     "start_time": "2020-03-19T12:48:35.828583Z"
    },
    "id": "5WsVjn0DNk0Z",
    "outputId": "36348429-1814-4ab4-ed79-af9d4496c732"
   },
   "outputs": [
    {
     "data": {
      "image/png": "[encoded data removed]",
      "text/plain": [
       "<Figure size 720x432 with 1 Axes>"
      ]
     },
     "metadata": {
      "needs_background": "light"
     },
     "output_type": "display_data"
    }
   ],
   "source": [
    "accuracy_train = accuracy_by_tree_count(rf, x_valid_sparse, y_valid)\n",
    "accuracy_valid = accuracy_by_tree_count(rf, x_train_sparse, y_train)\n",
    "\n",
    "plt.figure(figsize=(10, 6))\n",
    "plt.plot(np.arange(n_estimators) + 1, accuracy_train, \n",
    "         lw=5, label='train')\n",
    "plt.plot(np.arange(n_estimators) + 1, accuracy_valid, \n",
    "         lw=5, label='valid')\n",
    "plt.hlines(0.7639, 0, n_estimators, linestyles='--', \n",
    "           alpha=0.7, label='Победитель\\nсоревнования')\n",
    "plt.xlabel('Количество деревьев')\n",
    "plt.ylabel('Точность предсказания')\n",
    "plt.title('sparse: RandomForestClassifier из sklearn')\n",
    "plt.legend()\n",
    "plt.show()"
   ]
  },
  {
   "cell_type": "code",
   "execution_count": 33,
   "metadata": {
    "ExecuteTime": {
     "end_time": "2020-03-19T12:52:59.855628Z",
     "start_time": "2020-03-19T12:52:57.683018Z"
    },
    "id": "vJDbeTGQNk0Z",
    "outputId": "ffb2c89d-5e57-43c8-90c3-6e3edf43852a"
   },
   "outputs": [
    {
     "data": {
      "text/plain": [
       "0.61658"
      ]
     },
     "execution_count": 33,
     "metadata": {},
     "output_type": "execute_result"
    }
   ],
   "source": [
    "accuracy_score(y_test, rf.predict(x_test_sparse))"
   ]
  },
  {
   "cell_type": "markdown",
   "metadata": {
    "ExecuteTime": {
     "end_time": "2020-03-19T10:47:33.550171Z",
     "start_time": "2020-03-19T10:47:33.541948Z"
    },
    "id": "0iHFwcjzNk0Z"
   },
   "source": [
    "**Leaderboard моделей**\n",
    "\n",
    "| Место | Имя модели  | Тип данных | Качество на валидации | Качество на тесте |\n",
    "|----------------|-------------|-------------|-----------------------|----------------|\n",
    "| 1     | Победитель  |  |      | 0.7639         |\n",
    "| 2     | GradientBoostingClassifier | C | 0.7378               | 0.74456         |\n",
    "| 3     | RandomForestClassifier  | C | 0.7175                 | 0.72158         |\n",
    "| 4     | RandomForestClassifier | D  | 0.6084             | 0.61658         |\n",
    "\n",
    "Ну тут совсем налажали..."
   ]
  },
  {
   "cell_type": "markdown",
   "metadata": {
    "id": "bqi6EwNVNk0Z"
   },
   "source": [
    "## 6. XGBoost\n",
    "\n",
    "Выкатываем тяжелую артиллерию. Она умеет работать с пропусками, поэтому берем **Данные B**"
   ]
  },
  {
   "cell_type": "code",
   "execution_count": 34,
   "metadata": {},
   "outputs": [
    {
     "name": "stdout",
     "output_type": "stream",
     "text": [
      "CPU times: user 8min 3s, sys: 3.68 s, total: 8min 7s\n",
      "Wall time: 40.9 s\n"
     ]
    }
   ],
   "source": [
    "%%time\n",
    "\n",
    "n_estimators = 200\n",
    "test_model = XGBClassifier(\n",
    "    n_estimators=n_estimators, random_state=42, eval_metric='merror'\n",
    ").fit(x_train_encoder, y_train)"
   ]
  },
  {
   "cell_type": "code",
   "execution_count": 35,
   "metadata": {
    "ExecuteTime": {
     "end_time": "2020-03-19T15:19:06.435425Z",
     "start_time": "2020-03-19T13:18:00.831826Z"
    },
    "id": "NNPoPN1yNk0Z",
    "outputId": "02f622bf-63ab-4306-9cd1-cf07b08c1939",
    "scrolled": true
   },
   "outputs": [
    {
     "name": "stdout",
     "output_type": "stream",
     "text": [
      "Fitting 5 folds for each of 30 candidates, totalling 150 fits\n"
     ]
    },
    {
     "data": {
      "text/plain": [
       "RandomizedSearchCV(cv=5,\n",
       "                   estimator=XGBClassifier(base_score=None, booster=None,\n",
       "                                           colsample_bylevel=None,\n",
       "                                           colsample_bynode=None,\n",
       "                                           colsample_bytree=None,\n",
       "                                           enable_categorical=False,\n",
       "                                           eval_metric='merror', gamma=None,\n",
       "                                           gpu_id=None, importance_type=None,\n",
       "                                           interaction_constraints=None,\n",
       "                                           learning_rate=None,\n",
       "                                           max_delta_step=None, max_depth=None,\n",
       "                                           min_child_weight=None, missing=nan...\n",
       "       114, 115, 116, 117, 118, 119, 120, 121, 122, 123, 124, 125, 126,\n",
       "       127, 128, 129, 130, 131, 132, 133, 134, 135, 136, 137, 138, 139,\n",
       "       140, 141, 142, 143, 144, 145, 146, 147, 148, 149, 150, 151, 152,\n",
       "       153, 154, 155, 156, 157, 158, 159, 160, 161, 162, 163, 164, 165,\n",
       "       166, 167, 168, 169, 170, 171, 172, 173, 174, 175, 176, 177, 178,\n",
       "       179, 180, 181, 182, 183, 184, 185, 186, 187, 188, 189, 190, 191,\n",
       "       192, 193, 194, 195, 196, 197, 198, 199])},\n",
       "                   random_state=42, verbose=1)"
      ]
     },
     "execution_count": 35,
     "metadata": {},
     "output_type": "execute_result"
    }
   ],
   "source": [
    "model = RandomizedSearchCV(\n",
    "    estimator=XGBClassifier(random_state=42, eval_metric='merror'), \n",
    "    param_distributions={\n",
    "        'max_depth': np.arange(3, 8), \n",
    "        'n_estimators': np.arange(10, 200),\n",
    "        'learning_rate': np.linspace(0.05, 0.3, 300)\n",
    "    },\n",
    "    cv=5, \n",
    "    verbose=1, \n",
    "    n_jobs=1, \n",
    "    n_iter=30, \n",
    "    random_state=42\n",
    ")\n",
    "\n",
    "model.fit(x_train_encoder, y_train)"
   ]
  },
  {
   "cell_type": "code",
   "execution_count": 36,
   "metadata": {
    "ExecuteTime": {
     "end_time": "2020-03-19T15:19:07.302844Z",
     "start_time": "2020-03-19T15:19:06.437823Z"
    },
    "id": "UOyo0nIKNk0a",
    "outputId": "b41fcf83-ee45-48c0-83c0-f547cc47f58e"
   },
   "outputs": [
    {
     "data": {
      "text/plain": [
       "0.7362"
      ]
     },
     "execution_count": 36,
     "metadata": {},
     "output_type": "execute_result"
    }
   ],
   "source": [
    "accuracy_score(y_valid, model.predict(x_valid_encoder))"
   ]
  },
  {
   "cell_type": "markdown",
   "metadata": {
    "id": "msaWJQGoNk0a"
   },
   "source": [
    "Делаем предсказания модели в зависимости от количества деревьев и считаем метрику"
   ]
  },
  {
   "cell_type": "code",
   "execution_count": 37,
   "metadata": {
    "ExecuteTime": {
     "end_time": "2020-03-19T15:24:12.968624Z",
     "start_time": "2020-03-19T15:19:07.306192Z"
    },
    "id": "LNuN_Mk3Nk0a"
   },
   "outputs": [],
   "source": [
    "n_estimators = model.best_params_['n_estimators']\n",
    "\n",
    "accuracy_train = [\n",
    "    accuracy_score(\n",
    "        y_train, model.best_estimator_.predict(x_train_encoder, \n",
    "                                               ntree_limit=i+1)\n",
    "    )\n",
    "    for i in range(n_estimators)\n",
    "]\n",
    "\n",
    "accuracy_valid = [\n",
    "    accuracy_score(\n",
    "        y_valid, model.best_estimator_.predict(x_valid_encoder, \n",
    "                                               ntree_limit=i+1)\n",
    "    )\n",
    "    for i in range(n_estimators)\n",
    "]"
   ]
  },
  {
   "cell_type": "code",
   "execution_count": 38,
   "metadata": {
    "ExecuteTime": {
     "end_time": "2020-03-19T15:24:13.327583Z",
     "start_time": "2020-03-19T15:24:12.971875Z"
    },
    "id": "3QiLoyx0Nk0a",
    "outputId": "3bfa8591-ebfa-496d-dad1-c9c86d0e88b7"
   },
   "outputs": [
    {
     "data": {
      "image/png": "[encoded data removed]",
      "text/plain": [
       "<Figure size 720x432 with 1 Axes>"
      ]
     },
     "metadata": {
      "needs_background": "light"
     },
     "output_type": "display_data"
    }
   ],
   "source": [
    "n_estimators = model.best_params_['n_estimators']\n",
    "\n",
    "plt.figure(figsize=(10, 6))\n",
    "plt.plot(np.arange(n_estimators) + 1, accuracy_train, \n",
    "         lw=5, label='train')\n",
    "plt.plot(np.arange(n_estimators) + 1, accuracy_valid, \n",
    "         lw=5, label='valid')\n",
    "plt.hlines(0.7639, 0, n_estimators, linestyles='--', \n",
    "           alpha=0.7, label='Победитель\\nсоревнования')\n",
    "plt.xlabel('Количество деревьев')\n",
    "plt.ylabel('Точность предсказания')\n",
    "plt.title('XGBClassifier')\n",
    "plt.legend()\n",
    "plt.show()"
   ]
  },
  {
   "cell_type": "code",
   "execution_count": 39,
   "metadata": {
    "ExecuteTime": {
     "end_time": "2020-03-19T15:24:17.359645Z",
     "start_time": "2020-03-19T15:24:13.331510Z"
    },
    "id": "PAapijfHNk0a",
    "outputId": "88b0e32d-e9e0-4085-e3f9-677508657921",
    "scrolled": true
   },
   "outputs": [
    {
     "data": {
      "text/plain": [
       "0.7444"
      ]
     },
     "execution_count": 39,
     "metadata": {},
     "output_type": "execute_result"
    }
   ],
   "source": [
    "accuracy_score(y_test, model.predict(x_test_encoder))"
   ]
  },
  {
   "cell_type": "markdown",
   "metadata": {
    "id": "xEFp_eEHNk0b"
   },
   "source": [
    "**Leaderboard моделей**\n",
    "\n",
    "| Место | Имя модели  | Тип данных | Качество на валидации | Качество на тесте |\n",
    "|----------------|-------------|-------------|-----------------------|----------------|\n",
    "| 1     | Победитель  |  |      | 0.7639         |\n",
    "| 2     | GradientBoostingClassifier | C | 0.7378               | 0.74456         |\n",
    "| 3     | XGBClassifier | B | 0.7362                | 0.7444         |\n",
    "| 4     | RandomForestClassifier  | C | 0.7175                 | 0.72158         |\n",
    "| 5     | RandomForestClassifier | D  | 0.6084             | 0.61658         |\n",
    "\n",
    "\n",
    "Лучше не стало."
   ]
  },
  {
   "cell_type": "markdown",
   "metadata": {
    "id": "33rYKq-RNk0b"
   },
   "source": [
    "## 7. LGBMClassifier\n",
    "\n",
    "Другая <s>тяжелая</s> легкая артиллерия с **Данными B**"
   ]
  },
  {
   "cell_type": "code",
   "execution_count": 40,
   "metadata": {
    "ExecuteTime": {
     "end_time": "2020-03-19T15:30:37.497768Z",
     "start_time": "2020-03-19T15:26:34.271120Z"
    },
    "id": "PlIaeb-CNk0b",
    "outputId": "94051135-ccb1-43ab-a8be-2ec1496f8126",
    "scrolled": true
   },
   "outputs": [
    {
     "name": "stdout",
     "output_type": "stream",
     "text": [
      "Fitting 5 folds for each of 30 candidates, totalling 150 fits\n"
     ]
    },
    {
     "data": {
      "text/plain": [
       "RandomizedSearchCV(cv=5, estimator=LGBMClassifier(random_state=42), n_iter=30,\n",
       "                   n_jobs=1,\n",
       "                   param_distributions={'learning_rate': array([0.05      , 0.05083612, 0.05167224, 0.05250836, 0.05334448,\n",
       "       0.0541806 , 0.05501672, 0.05585284, 0.05668896, 0.05752508,\n",
       "       0.0583612 , 0.05919732, 0.06003344, 0.06086957, 0.06170569,\n",
       "       0.06254181, 0.06337793, 0.06421405, 0.06505017, 0.06588629,\n",
       "       0.0667224...\n",
       "       0.29665552, 0.29749164, 0.29832776, 0.29916388, 0.3       ]),\n",
       "                                        'max_depth': array([3, 4, 5]),\n",
       "                                        'n_estimators': array([10, 11, 12, 13, 14, 15, 16, 17, 18, 19, 20, 21, 22, 23, 24, 25, 26,\n",
       "       27, 28, 29, 30, 31, 32, 33, 34, 35, 36, 37, 38, 39, 40, 41, 42, 43,\n",
       "       44, 45, 46, 47, 48, 49, 50, 51, 52, 53, 54, 55, 56, 57, 58, 59, 60,\n",
       "       61, 62, 63, 64, 65, 66, 67, 68, 69, 70, 71, 72, 73, 74, 75, 76, 77,\n",
       "       78, 79, 80, 81, 82, 83, 84, 85, 86, 87, 88, 89, 90, 91, 92, 93, 94,\n",
       "       95, 96, 97, 98, 99])},\n",
       "                   random_state=42, verbose=1)"
      ]
     },
     "execution_count": 40,
     "metadata": {},
     "output_type": "execute_result"
    }
   ],
   "source": [
    "model = RandomizedSearchCV(\n",
    "    estimator=LGBMClassifier(random_state=42), \n",
    "    param_distributions={\n",
    "        'max_depth': np.arange(3, 6), \n",
    "        'n_estimators': np.arange(10, 100),\n",
    "        'learning_rate': np.linspace(0.05, 0.3, 300)\n",
    "    },\n",
    "    cv=5, \n",
    "    verbose=1, \n",
    "    n_jobs=1, \n",
    "    n_iter=30, \n",
    "    random_state=42\n",
    ")\n",
    "\n",
    "model.fit(x_train_encoder, y_train)"
   ]
  },
  {
   "cell_type": "code",
   "execution_count": 41,
   "metadata": {
    "ExecuteTime": {
     "end_time": "2020-03-19T15:30:37.853753Z",
     "start_time": "2020-03-19T15:30:37.499671Z"
    },
    "id": "dKSjEa_XNk0b",
    "outputId": "76fe0cc7-9694-4abc-b57f-e74e5e622fd7"
   },
   "outputs": [
    {
     "data": {
      "text/plain": [
       "0.7418"
      ]
     },
     "execution_count": 41,
     "metadata": {},
     "output_type": "execute_result"
    }
   ],
   "source": [
    "accuracy_score(y_valid, model.predict(x_valid_encoder))"
   ]
  },
  {
   "cell_type": "code",
   "execution_count": 42,
   "metadata": {
    "ExecuteTime": {
     "end_time": "2020-03-19T15:31:52.425346Z",
     "start_time": "2020-03-19T15:30:37.855847Z"
    },
    "id": "dNsO_2UeNk0c"
   },
   "outputs": [],
   "source": [
    "n_estimators = model.best_params_['n_estimators']\n",
    "\n",
    "accuracy_train = [\n",
    "    accuracy_score(\n",
    "        y_train, model.best_estimator_.predict(x_train_encoder, \n",
    "                                               num_iteration=i+1)\n",
    "    )\n",
    "    for i in range(n_estimators)\n",
    "]\n",
    "\n",
    "accuracy_valid = [\n",
    "    accuracy_score(\n",
    "        y_valid, model.best_estimator_.predict(x_valid_encoder, \n",
    "                                               num_iteration=i+1)\n",
    "    )\n",
    "    for i in range(n_estimators)\n",
    "]"
   ]
  },
  {
   "cell_type": "code",
   "execution_count": 43,
   "metadata": {
    "ExecuteTime": {
     "end_time": "2020-03-19T15:31:52.749339Z",
     "start_time": "2020-03-19T15:31:52.427277Z"
    },
    "id": "7LufKpNhNk0c",
    "outputId": "4aad8776-4ecf-40e6-9645-0be006007468"
   },
   "outputs": [
    {
     "data": {
      "image/png": "[encoded data removed]",
      "text/plain": [
       "<Figure size 720x432 with 1 Axes>"
      ]
     },
     "metadata": {
      "needs_background": "light"
     },
     "output_type": "display_data"
    }
   ],
   "source": [
    "n_estimators = model.best_params_['n_estimators']\n",
    "\n",
    "plt.figure(figsize=(10, 6))\n",
    "plt.plot(np.arange(n_estimators) + 1, accuracy_train, \n",
    "         lw=5, label='train')\n",
    "plt.plot(np.arange(n_estimators) + 1, accuracy_valid, \n",
    "         lw=5, label='valid')\n",
    "plt.hlines(0.7639, 0, n_estimators, linestyles='--', \n",
    "           alpha=0.7, label='Победитель\\nсоревнования')\n",
    "plt.xlabel('Количество деревьев')\n",
    "plt.ylabel('Точность предсказания')\n",
    "plt.title('LGBMClassifier')\n",
    "plt.legend()\n",
    "plt.show()"
   ]
  },
  {
   "cell_type": "code",
   "execution_count": 44,
   "metadata": {
    "ExecuteTime": {
     "end_time": "2020-03-19T15:31:54.282032Z",
     "start_time": "2020-03-19T15:31:52.751110Z"
    },
    "id": "GLtV8BpENk0c",
    "outputId": "2c8a1a01-01c1-4508-9045-191943b22176"
   },
   "outputs": [
    {
     "data": {
      "text/plain": [
       "0.7458"
      ]
     },
     "execution_count": 44,
     "metadata": {},
     "output_type": "execute_result"
    }
   ],
   "source": [
    "accuracy_score(y_test, model.predict(x_test_encoder))"
   ]
  },
  {
   "cell_type": "markdown",
   "metadata": {
    "id": "CFcEsxpRNk0c"
   },
   "source": [
    "**Leaderboard моделей**\n",
    "\n",
    "| Место | Имя модели  | Тип данных | Качество на валидации | Качество на тесте |\n",
    "|----------------|-------------|-------------|-----------------------|----------------|\n",
    "| 1     | Победитель  |  |      | 0.7639         |\n",
    "| 2     | LGBMClassifier | B | 0.7418                | 0.7458         |\n",
    "| 3     | GradientBoostingClassifier | C | 0.7378               | 0.74456         |\n",
    "| 4     | XGBClassifier | B | 0.7362                | 0.7444         |\n",
    "| 5     | RandomForestClassifier  | C | 0.7175                 | 0.72158         |\n",
    "| 6     | RandomForestClassifier | D  | 0.6084             | 0.61658         |\n",
    "\n",
    "Качество примерно такое же. Плюс в том, что обучение прошло очень быстро. Так и не подумаешь, что эта модель -- разработка Microsoft..."
   ]
  },
  {
   "cell_type": "markdown",
   "metadata": {
    "id": "3fhE3CMmNk0c"
   },
   "source": [
    "## 8. CatBoostClassifier\n",
    "\n",
    "Приятно то, что катбуст сам обрабатывает категориальные признаки, нужно только подать ему их индексы. Поэтому используем **Данные A**, которые почти не отличаются от исходных."
   ]
  },
  {
   "cell_type": "code",
   "execution_count": 45,
   "metadata": {
    "ExecuteTime": {
     "end_time": "2020-03-19T15:34:03.916910Z",
     "start_time": "2020-03-19T15:34:03.907610Z"
    },
    "id": "C8bm1mpVNk0c"
   },
   "outputs": [],
   "source": [
    "# задаем пространство поиска\n",
    "param_distributions = {\n",
    "    'n_estimators' : np.arange(1, 200),\n",
    "    'max_depth' : list(range(3, 8)),\n",
    "    'learning_rate' : np.linspace(0.01, 0.3, 10000),\n",
    "    'min_data_in_leaf' : np.arange(1, 7),\n",
    "    'l2_leaf_reg' : np.linspace(0, 10, 101),\n",
    "    'rsm' : np.linspace(0.5, 1, 100)\n",
    "}\n",
    "\n",
    "\n",
    "# определяем поиск по сетке \n",
    "model = RandomizedSearchCV(\n",
    "    estimator=CatBoostClassifier(cat_features=text_features, \n",
    "                                 silent=True),\n",
    "    param_distributions=param_distributions,\n",
    "    scoring='accuracy',\n",
    "    n_iter=30,\n",
    "    n_jobs=1,\n",
    "    cv=5,\n",
    "    verbose=1,\n",
    "    error_score='raise',\n",
    "    random_state=42\n",
    ")"
   ]
  },
  {
   "cell_type": "code",
   "execution_count": 46,
   "metadata": {
    "ExecuteTime": {
     "end_time": "2020-03-19T16:22:17.778045Z",
     "start_time": "2020-03-19T15:34:05.491668Z"
    },
    "id": "OVEcluOWNk0d",
    "outputId": "aba3f633-58b5-4bf6-a3eb-e8689a6beb12",
    "scrolled": true
   },
   "outputs": [
    {
     "name": "stdout",
     "output_type": "stream",
     "text": [
      "Fitting 5 folds for each of 30 candidates, totalling 150 fits\n"
     ]
    },
    {
     "data": {
      "text/plain": [
       "RandomizedSearchCV(cv=5, error_score='raise',\n",
       "                   estimator=<catboost.core.CatBoostClassifier object at 0x7f6fbeaaed30>,\n",
       "                   n_iter=30, n_jobs=1,\n",
       "                   param_distributions={'l2_leaf_reg': array([ 0. ,  0.1,  0.2,  0.3,  0.4,  0.5,  0.6,  0.7,  0.8,  0.9,  1. ,\n",
       "        1.1,  1.2,  1.3,  1.4,  1.5,  1.6,  1.7,  1.8,  1.9,  2. ,  2.1,\n",
       "        2.2,  2.3,  2.4,  2.5,  2.6,  2.7,  2.8,  2.9,  3. ,  3.1,  3.2,\n",
       "        3.3,  3.4,  3.5,  3.6,  3.7,  3.8,  3.9,  4. ,  4.1,  4.2,  4.3,\n",
       "        4.4,  4.5...\n",
       "       0.85353535, 0.85858586, 0.86363636, 0.86868687, 0.87373737,\n",
       "       0.87878788, 0.88383838, 0.88888889, 0.89393939, 0.8989899 ,\n",
       "       0.9040404 , 0.90909091, 0.91414141, 0.91919192, 0.92424242,\n",
       "       0.92929293, 0.93434343, 0.93939394, 0.94444444, 0.94949495,\n",
       "       0.95454545, 0.95959596, 0.96464646, 0.96969697, 0.97474747,\n",
       "       0.97979798, 0.98484848, 0.98989899, 0.99494949, 1.        ])},\n",
       "                   random_state=42, scoring='accuracy', verbose=1)"
      ]
     },
     "execution_count": 46,
     "metadata": {},
     "output_type": "execute_result"
    }
   ],
   "source": [
    "model.fit(x_train_origin, y_train)"
   ]
  },
  {
   "cell_type": "code",
   "execution_count": 47,
   "metadata": {
    "ExecuteTime": {
     "end_time": "2020-03-19T16:22:18.185843Z",
     "start_time": "2020-03-19T16:22:17.790320Z"
    },
    "id": "lszBrXghNk0d",
    "outputId": "8cbfa003-f4f9-40ef-d01d-16da381c44e8"
   },
   "outputs": [
    {
     "data": {
      "text/plain": [
       "0.7535"
      ]
     },
     "execution_count": 47,
     "metadata": {},
     "output_type": "execute_result"
    }
   ],
   "source": [
    "accuracy_score(y_valid, model.predict(x_valid_origin))"
   ]
  },
  {
   "cell_type": "code",
   "execution_count": 48,
   "metadata": {
    "ExecuteTime": {
     "end_time": "2020-03-19T16:23:02.883837Z",
     "start_time": "2020-03-19T16:22:18.190584Z"
    },
    "id": "HbcsmD5XNk0d"
   },
   "outputs": [],
   "source": [
    "n_estimators = model.best_params_['n_estimators']\n",
    "\n",
    "accuracy_train = [\n",
    "    accuracy_score(\n",
    "        y_train, model.best_estimator_.predict(x_train_origin, \n",
    "                                               ntree_end=i+1)\n",
    "    )\n",
    "    for i in range(n_estimators)\n",
    "]\n",
    "\n",
    "accuracy_valid = [\n",
    "    accuracy_score(\n",
    "        y_valid, model.best_estimator_.predict(x_valid_origin, \n",
    "                                               ntree_end=i+1)\n",
    "    )\n",
    "    for i in range(n_estimators)\n",
    "]"
   ]
  },
  {
   "cell_type": "code",
   "execution_count": 49,
   "metadata": {
    "ExecuteTime": {
     "end_time": "2020-03-19T16:23:03.332567Z",
     "start_time": "2020-03-19T16:23:02.885622Z"
    },
    "id": "3M0HakpBNk0d",
    "outputId": "c8052153-47a3-4daf-881d-8c0131515da0"
   },
   "outputs": [
    {
     "data": {
      "image/png": "[encoded data removed]",
      "text/plain": [
       "<Figure size 720x432 with 1 Axes>"
      ]
     },
     "metadata": {
      "needs_background": "light"
     },
     "output_type": "display_data"
    }
   ],
   "source": [
    "n_estimators = model.best_params_['n_estimators']\n",
    "\n",
    "plt.figure(figsize=(10, 6))\n",
    "plt.plot(np.arange(n_estimators) + 1, accuracy_train, lw=5, label='train')\n",
    "plt.plot(np.arange(n_estimators) + 1, accuracy_valid, lw=5, label='valid')\n",
    "plt.hlines(0.7639, 0, n_estimators, linestyles='--', \n",
    "           alpha=0.7, label='Победитель\\nсоревнования')\n",
    "plt.xlabel('Количество деревьев')\n",
    "plt.ylabel('Точность предсказания')\n",
    "plt.title('CatBoostClassifier')\n",
    "plt.legend()\n",
    "plt.show()"
   ]
  },
  {
   "cell_type": "code",
   "execution_count": 50,
   "metadata": {
    "ExecuteTime": {
     "end_time": "2020-03-19T16:23:04.140320Z",
     "start_time": "2020-03-19T16:23:03.334247Z"
    },
    "id": "rsG5LYI2Nk0d",
    "outputId": "7f77223e-b1f7-4991-e8f8-0a6efc94d998"
   },
   "outputs": [
    {
     "data": {
      "text/plain": [
       "0.75898"
      ]
     },
     "execution_count": 50,
     "metadata": {},
     "output_type": "execute_result"
    }
   ],
   "source": [
    "accuracy_score(y_test, model.predict(x_test_origin))"
   ]
  },
  {
   "cell_type": "markdown",
   "metadata": {
    "id": "EB4IFmH_Nk0e"
   },
   "source": [
    "**Leaderboard моделей**\n",
    "\n",
    "| Место | Имя модели  | Тип данных | Качество на валидации | Качество на тесте |\n",
    "|----------------|-------------|-------------|-----------------------|----------------|\n",
    "| 1     | Победитель  |  |      | 0.7639         |\n",
    "| 2     | CatBoostClassifier | A | 0.7535              | 0.75898         |\n",
    "| 3     | LGBMClassifier | B | 0.7418                | 0.7458         |\n",
    "| 4     | GradientBoostingClassifier | C | 0.7378               | 0.74456         |\n",
    "| 5     | XGBClassifier | B | 0.7362                | 0.7444         |\n",
    "| 6     | RandomForestClassifier  | C | 0.7175                 | 0.72158         |\n",
    "| 7     | RandomForestClassifier | D  | 0.6084             | 0.61658         |\n",
    "\n",
    "\n",
    "Теперь от победителя нас отделяют менее 0.5% качества."
   ]
  }
 ],
 "metadata": {
  "colab": {
   "collapsed_sections": [
    "bqi6EwNVNk0Z",
    "33rYKq-RNk0b"
   ],
   "name": "Beeline BigData.ipynb",
   "provenance": []
  },
  "kernelspec": {
   "display_name": "Python 3",
   "language": "python",
   "name": "python3"
  },
  "language_info": {
   "codemirror_mode": {
    "name": "ipython",
    "version": 3
   },
   "file_extension": ".py",
   "mimetype": "text/x-python",
   "name": "python",
   "nbconvert_exporter": "python",
   "pygments_lexer": "ipython3",
   "version": "3.12.3"
  },
  "widgets": {
   "application/vnd.jupyter.widget-state+json": {
    "state": {},
    "version_major": 2,
    "version_minor": 0
   }
  }
 },
 "nbformat": 4,
 "nbformat_minor": 4
}
