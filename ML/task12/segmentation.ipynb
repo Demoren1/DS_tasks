{
 "cells": [
  {
   "cell_type": "markdown",
   "id": "rBHD9CdemA-D",
   "metadata": {
    "id": "rBHD9CdemA-D"
   },
   "source": [
    "# Машинное обучение, DS-поток, осень 2024\n",
    "## Задание ML.12\n",
    "\n",
    "\n",
    "**Правила:**\n",
    "\n",
    "* Дедлайны см. в боте. После дедлайна работы не принимаются кроме случаев наличия уважительной причины.\n",
    "* Прислать нужно **ноутбук в формате `ipynb`**.\n",
    "* Следите за размером файлов. **Бот не может принимать файлы весом более 20 Мб.** Если файл получается больше, заранее разделите его на несколько.\n",
    "* Выполнять задание необходимо полностью самостоятельно. **При обнаружении списывания все участники списывания будут сдавать устный зачет.**\n",
    "* Решения, размещенные на каких-либо интернет-ресурсах, не принимаются. Кроме того, публикация решения в открытом доступе может быть приравнена к предоставлении возможности списать.\n",
    "* Для выполнения задания используйте этот ноутбук в качестве основы, ничего не удаляя из него. Можно добавлять необходимое количество ячеек.\n",
    "* Комментарии к решению пишите в markdown-ячейках.\n",
    "* Выполнение задания (ход решения, выводы и пр.) должно быть осуществлено на русском языке.\n",
    "* Если код будет не понятен проверяющему, оценка может быть снижена.\n",
    "* Никакой код из данного задания при проверке запускаться не будет. *Если код студента не выполнен, недописан и т.д., то он не оценивается.*\n",
    "* В каждой задаче не забывайте делать **пояснения и выводы**.\n",
    "\n",
    "**Баллы за задание**  \n",
    "Задача 1 &mdash; **100 баллов**  \n",
    "Задача 2 &mdash; **80 баллов**  \n",
    "\n",
    "Всего &mdash; **180 баллов**  "
   ]
  },
  {
   "cell_type": "code",
   "execution_count": null,
   "id": "pursuant-expression",
   "metadata": {
    "id": "pursuant-expression"
   },
   "outputs": [],
   "source": [
    "# Утилиты стандартной библиотеки\n",
    "from functools import lru_cache\n",
    "import os\n",
    "\n",
    "# Библиотеки для анализа данных\n",
    "import numpy as np\n",
    "\n",
    "# Библиотеки для обработки изображений\n",
    "from PIL import Image\n",
    "import torch\n",
    "from torch import nn\n",
    "from torch.utils.data import Dataset, DataLoader\n",
    "\n",
    "# Библиотеки для визуализации\n",
    "import matplotlib.pyplot as plt\n",
    "import seaborn as sns\n",
    "sns.set()\n",
    "\n",
    "# Библиотеки для обучения\n",
    "import pytorch_lightning as pl\n",
    "import albumentations as A\n",
    "\n",
    "import torch\n",
    "from torch import nn\n",
    "from torch.utils.data import Dataset, DataLoader\n",
    "\n",
    "from torchvision import models\n",
    "from sklearn.model_selection import train_test_split"
   ]
  },
  {
   "cell_type": "code",
   "execution_count": null,
   "id": "3dUw6KaVozzY",
   "metadata": {
    "id": "3dUw6KaVozzY"
   },
   "outputs": [],
   "source": [
    "# Bot check\n",
    "\n",
    "# HW_ID: ds_ml12\n",
    "# Бот проверит этот ID и предупредит, если случайно сдать что-то не то.\n",
    "\n",
    "# Status: not final\n",
    "# Перед отправкой в финальном решении удали \"not\" в строчке выше.\n",
    "# Так бот проверит, что ты отправляешь финальную версию, а не промежуточную.\n",
    "# Никакие значения в этой ячейке не влияют на факт сдачи работы."
   ]
  },
  {
   "cell_type": "markdown",
   "id": "homeless-nickname",
   "metadata": {
    "id": "homeless-nickname"
   },
   "source": [
    "### Данные\n",
    "\n",
    "Мы предлагаем вам поработать с подмножеством датасета [Carvana](https://www.kaggle.com/c/carvana-image-masking-challenge) с Kaggle. Carvana &mdash; это онлайн магазин подержаннных aвтомобилей. Компания организовала соревнование для того, чтобы получить модель, с помощью которой получилось бы автоматически сегментировать авто на фотографии. Затем, используя маску для автомобиля, его можно было использовать для получения более интересных фотографий с автомобилем.\n",
    "\n",
    "\n",
    "Мы не будем использовать использовать датасет целиком, так как он очень большой, а для наших целей хватит небольшой его части.\n",
    "\n",
    "Скачайте архив с даными [здесь](https://drive.google.com/file/d/1UbXOTP6GIp1pp-LwwpfX1p8m6iaWXzM1/view?usp=drive_link). Как работать со внешними данными на Google Colab или Kaggle описано в предыдущем домашнем задании."
   ]
  },
  {
   "cell_type": "code",
   "execution_count": null,
   "id": "otherwise-baghdad",
   "metadata": {
    "id": "otherwise-baghdad"
   },
   "outputs": [],
   "source": [
    "zip_path = ...\n",
    "data_path = ...\n",
    "zip_path_bash = str(zip_path).replace(' ', '\\ ')"
   ]
  },
  {
   "cell_type": "code",
   "execution_count": null,
   "id": "portuguese-laptop",
   "metadata": {
    "id": "portuguese-laptop"
   },
   "outputs": [],
   "source": [
    "!unzip $zip_path_bash -d $data_path"
   ]
  },
  {
   "cell_type": "markdown",
   "id": "integral-broadcasting",
   "metadata": {
    "id": "integral-broadcasting"
   },
   "source": [
    "Данные уже разделены на трейн и тест. В папках `train` и `train_masks` лежат изображения автомобилей и их маски соответственно. Аналогично для папок `test` и `test_masks`."
   ]
  },
  {
   "cell_type": "code",
   "execution_count": null,
   "id": "distinguished-fifth",
   "metadata": {
    "id": "distinguished-fifth"
   },
   "outputs": [],
   "source": [
    "!ls $data_path"
   ]
  },
  {
   "cell_type": "markdown",
   "id": "spoken-discrimination",
   "metadata": {
    "id": "spoken-discrimination"
   },
   "source": [
    "Изображения и маски имеют одинаковое начало названия. Название файла маски отличается тем, что есть окончание `_mask`, а также сам файл имеет другой формат &mdash; gif вместо jpg. Так можно получить изображение и его маску из трейна.\n"
   ]
  },
  {
   "cell_type": "code",
   "execution_count": null,
   "id": "surprising-adrian",
   "metadata": {
    "id": "surprising-adrian"
   },
   "outputs": [],
   "source": [
    "img_name = \"0cdf5b5d0ce1_01.jpg\"\n",
    "splitted = img_name.split('.')\n",
    "mask_name = splitted[0] + \"_mask\" + \".gif\"\n",
    "\n",
    "img_path = os.path.join(DATA_PATH, \"train\", img_name)\n",
    "mask_path = os.path.join(DATA_PATH, \"train_masks\", mask_name)"
   ]
  },
  {
   "cell_type": "markdown",
   "id": "amateur-museum",
   "metadata": {
    "id": "amateur-museum"
   },
   "source": [
    "Визуализируем изображение и маску."
   ]
  },
  {
   "cell_type": "code",
   "execution_count": null,
   "id": "proper-sixth",
   "metadata": {
    "id": "proper-sixth"
   },
   "outputs": [],
   "source": [
    "plt.figure(figsize=(20, 10))\n",
    "\n",
    "plt.subplot(1, 2, 1)\n",
    "plt.title(\"Изображение\")\n",
    "plt.imshow(Image.open(img_path))\n",
    "plt.axis(\"off\")\n",
    "\n",
    "plt.subplot(1, 2, 2)\n",
    "plt.title(\"Маска\")\n",
    "plt.imshow(Image.open(mask_path))\n",
    "plt.axis(\"off\");"
   ]
  },
  {
   "cell_type": "markdown",
   "id": "asian-ministry",
   "metadata": {
    "id": "asian-ministry"
   },
   "source": [
    "Исходные изображения довольно большие. Предлагаем вам работать с изображениями меньшего размера, а именно (160, 240) для уменьшения вычислительных затрат. Не забудьте сделать соответствующее преобразование."
   ]
  },
  {
   "cell_type": "code",
   "execution_count": null,
   "id": "bright-martial",
   "metadata": {
    "id": "bright-martial"
   },
   "outputs": [],
   "source": [
    "Image.open(img_path).size"
   ]
  },
  {
   "cell_type": "markdown",
   "id": "immediate-seattle",
   "metadata": {
    "id": "immediate-seattle"
   },
   "source": [
    "### Задача 1. Простая сегментация\n",
    "Вы построите свою собственную модель сегментации и проведете анализ ее работы."
   ]
  },
  {
   "cell_type": "markdown",
   "id": "brown-seminar",
   "metadata": {
    "id": "brown-seminar"
   },
   "source": [
    "#### 1. Обучение сегментации"
   ]
  },
  {
   "cell_type": "markdown",
   "id": "amino-advancement",
   "metadata": {
    "id": "amino-advancement"
   },
   "source": [
    "Постройте модель типа U-Net. Вы можете использовать непосредственно первоначальную версию U-Net (рассматривали на лекции), либо ее модификацию, либо любую другую модель типа кодировщик-декодировщик с skip-connection конструкцией."
   ]
  },
  {
   "cell_type": "code",
   "execution_count": null,
   "id": "russian-international",
   "metadata": {
    "id": "russian-international"
   },
   "outputs": [],
   "source": []
  },
  {
   "cell_type": "markdown",
   "id": "specialized-hollywood",
   "metadata": {
    "id": "specialized-hollywood"
   },
   "source": [
    "Обучите модель на тренировочной части данных. В качестве метрики качества используйте IoU. Визуализируйте изменение ошибки (loss) и метрики (IoU) на тренировочной и тестовой части данных."
   ]
  },
  {
   "cell_type": "code",
   "execution_count": null,
   "id": "injured-andrews",
   "metadata": {
    "id": "injured-andrews"
   },
   "outputs": [],
   "source": []
  },
  {
   "cell_type": "markdown",
   "id": "creative-reach",
   "metadata": {
    "id": "creative-reach"
   },
   "source": [
    "Как быстро обучается модель? Как вы думаете, с чем это связано?\n",
    "\n",
    "**Ответ:** ..."
   ]
  },
  {
   "cell_type": "markdown",
   "id": "neutral-wedding",
   "metadata": {
    "id": "neutral-wedding"
   },
   "source": [
    "#### 2. Анализ модели\n",
    "Выберите 10 изображений из тестовой части данных и посчитайте качество модели на них. Теперь поменяйте фон для изображений. Можно, например, поменять его цвет. Проверьте качество модели на новых изображениях."
   ]
  },
  {
   "cell_type": "code",
   "execution_count": null,
   "id": "exempt-mirror",
   "metadata": {
    "id": "exempt-mirror"
   },
   "outputs": [],
   "source": []
  },
  {
   "cell_type": "markdown",
   "id": "bibliographic-hybrid",
   "metadata": {
    "id": "bibliographic-hybrid"
   },
   "source": [
    "Ответьте на вопрос, модель научилась сегментировать машины или фон?\n",
    "\n",
    "**Ответ:** ..."
   ]
  },
  {
   "cell_type": "markdown",
   "id": "gif57ug6oKUv",
   "metadata": {
    "id": "gif57ug6oKUv"
   },
   "source": [
    "**Вывод:**"
   ]
  },
  {
   "cell_type": "markdown",
   "id": "loaded-indonesian",
   "metadata": {
    "id": "loaded-indonesian"
   },
   "source": [
    "### Задача 2. Сравнение лоссов сегментации\n",
    "Будем работать с датасетом [CityScapes](https://www.cityscapes-dataset.com/). Этот датасет состоит из кадров съемки автомобиля, движущегося по улицам  Германии. Проверим, насколько хорошо с ним справляются предобученные модели со структурой, отличной от U-Net. Скачайте [архив](https://disk.yandex.ru/d/J8gPv_bEiK-_QQ) с данными с диска. В папках `images` и `masks` лежат изображения и маски автомобилей соответственно.\n",
    "\n"
   ]
  },
  {
   "cell_type": "code",
   "execution_count": null,
   "id": "EGsGl5gcsjIq",
   "metadata": {
    "id": "EGsGl5gcsjIq"
   },
   "outputs": [],
   "source": []
  },
  {
   "cell_type": "markdown",
   "id": "r2RhwEd26hOA",
   "metadata": {
    "id": "r2RhwEd26hOA"
   },
   "source": [
    "Определите датасет для CityScapes и даталоадеры."
   ]
  },
  {
   "cell_type": "code",
   "execution_count": null,
   "id": "7q38ET406hmh",
   "metadata": {
    "id": "7q38ET406hmh"
   },
   "outputs": [],
   "source": []
  },
  {
   "cell_type": "markdown",
   "id": "aCXx4loisbq0",
   "metadata": {
    "id": "aCXx4loisbq0"
   },
   "source": [
    "Определите класс модуля lightning для обучения модели сегментации машин. В качестве модели используйте предобученную `fcn_resnet50` или `deeplabv3_resnet50` из `torchvision.models.segmentation` на ваш выбор. Особенностью их использования является то, что модели дают на выходе маски для 21 класса (как в COCO) в поле `out` (см. примеры в семинаре). В остальном модели не отличаются от тех, что мы использовали ранее.\n",
    "\n",
    "Наша цель - сравнить работу 3 лоссов - Binary Cross Entropy, Dice Loss, Tversky Loss. Реализацию двух последних можно взять из библиотеки [monai](https://docs.monai.io/en/stable/losses.html).\n",
    "\n",
    "В качестве метрики используйте IoU."
   ]
  },
  {
   "cell_type": "code",
   "execution_count": null,
   "id": "oquv1R2Tpe00",
   "metadata": {
    "id": "oquv1R2Tpe00"
   },
   "outputs": [],
   "source": []
  },
  {
   "cell_type": "markdown",
   "id": "E7Mj3f1y90--",
   "metadata": {
    "id": "E7Mj3f1y90--"
   },
   "source": [
    "#### Визуализация до обучения"
   ]
  },
  {
   "cell_type": "markdown",
   "id": "rNJq11N8wq5S",
   "metadata": {
    "id": "rNJq11N8wq5S"
   },
   "source": [
    "До обучения визуализируйте несколько предсказаний модели на тестовой части CityScapes. Покажите исходную картинку, предсказание модели и истинную маску. Не забудьте брать предсказания только по каналу машин."
   ]
  },
  {
   "cell_type": "code",
   "execution_count": null,
   "id": "iraqi-classics",
   "metadata": {
    "id": "iraqi-classics"
   },
   "outputs": [],
   "source": []
  },
  {
   "cell_type": "markdown",
   "id": "2r12rgcn9xHE",
   "metadata": {
    "id": "2r12rgcn9xHE"
   },
   "source": [
    "#### Binary Cross Entropy"
   ]
  },
  {
   "cell_type": "markdown",
   "id": "KgU9f4RhxaZs",
   "metadata": {
    "id": "KgU9f4RhxaZs"
   },
   "source": [
    "Обучите предобученную модель, используя BCE Loss. Сравните несколько предсказаний с истинными масками на тестовой выборке. Также после обучения (до завершения wandb run) выведите IoU на тесте с помощью `trainer.validate`."
   ]
  },
  {
   "cell_type": "code",
   "execution_count": null,
   "id": "cn65VKmtp0bf",
   "metadata": {
    "id": "cn65VKmtp0bf"
   },
   "outputs": [],
   "source": []
  },
  {
   "cell_type": "markdown",
   "id": "AxuwfZxjy4KY",
   "metadata": {
    "id": "AxuwfZxjy4KY"
   },
   "source": [
    "#### Dice Loss"
   ]
  },
  {
   "cell_type": "markdown",
   "id": "tdv5sEiLy6Zr",
   "metadata": {
    "id": "tdv5sEiLy6Zr"
   },
   "source": [
    "Сделайте то же самое для Dice Loss."
   ]
  },
  {
   "cell_type": "code",
   "execution_count": null,
   "id": "nNUBv7dfzRj7",
   "metadata": {
    "id": "nNUBv7dfzRj7"
   },
   "outputs": [],
   "source": []
  },
  {
   "cell_type": "markdown",
   "id": "yYEXWsJUzSyl",
   "metadata": {
    "id": "yYEXWsJUzSyl"
   },
   "source": [
    "Судя по визуализации, чего больше у модели - False Negative или False Positive предсказаний?"
   ]
  },
  {
   "cell_type": "markdown",
   "id": "emxeKxh_zih2",
   "metadata": {
    "id": "emxeKxh_zih2"
   },
   "source": [
    "#### Tversky Loss"
   ]
  },
  {
   "cell_type": "markdown",
   "id": "3qVwgSEFz3X9",
   "metadata": {
    "id": "3qVwgSEFz3X9"
   },
   "source": [
    "Tversky Index является обобщением Dice Index для произвольных весов при FP и FN:\n",
    "\n",
    "$$T_{\\alpha, \\beta} (y, \\hat{y}) = \\frac{\\text{TP}}{\\text{TP} + \\alpha \\ \\text{FP} + \\beta \\ \\text{FN}}$$\n",
    "\n",
    "При этом $T_{\\frac{1}{2}, \\frac{1}{2}}$ соответсвует Dice Index; а $T_{1, 1} - $ Jaccard index (IoU).\n",
    "\n",
    "Исходя из выводов про FN и FP подберите параметры $\\alpha, \\beta$ у Tversky Loss для модели. Обучите ее с таким лоссом. Улучшилась ли метрика? Как изменились предсказания визуально?"
   ]
  },
  {
   "cell_type": "code",
   "execution_count": null,
   "id": "english-lodging",
   "metadata": {
    "id": "english-lodging"
   },
   "outputs": [],
   "source": []
  },
  {
   "cell_type": "markdown",
   "id": "ZPpsu9Ha2P7-",
   "metadata": {
    "id": "ZPpsu9Ha2P7-"
   },
   "source": [
    "#### Визуализация логов обучения"
   ]
  },
  {
   "cell_type": "markdown",
   "id": "Cn3D9ZE42bI2",
   "metadata": {
    "id": "Cn3D9ZE42bI2"
   },
   "source": [
    "Визуализируйте лосс и метрику на обучении и валидации на предыдущих запусках. Сравните и сделайте выводы, а также выводы по всей задаче."
   ]
  },
  {
   "cell_type": "code",
   "execution_count": null,
   "id": "GDkyLoLb2SIV",
   "metadata": {
    "id": "GDkyLoLb2SIV"
   },
   "outputs": [],
   "source": []
  },
  {
   "cell_type": "markdown",
   "id": "JrGZgpdt2pu8",
   "metadata": {
    "id": "JrGZgpdt2pu8"
   },
   "source": [
    "**Выводы:**\n",
    "\n"
   ]
  },
  {
   "cell_type": "code",
   "execution_count": null,
   "id": "jJFebm0V2q__",
   "metadata": {
    "id": "jJFebm0V2q__"
   },
   "outputs": [],
   "source": []
  }
 ],
 "metadata": {
  "colab": {
   "provenance": []
  },
  "kernelspec": {
   "display_name": "Python 3 (ipykernel)",
   "language": "python",
   "name": "python3"
  },
  "language_info": {
   "codemirror_mode": {
    "name": "ipython",
    "version": 3
   },
   "file_extension": ".py",
   "mimetype": "text/x-python",
   "name": "python",
   "nbconvert_exporter": "python",
   "pygments_lexer": "ipython3",
   "version": "3.10.9"
  }
 },
 "nbformat": 4,
 "nbformat_minor": 5
}
