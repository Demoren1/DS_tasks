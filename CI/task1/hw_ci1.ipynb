{
  "cells": [
    {
      "cell_type": "markdown",
      "metadata": {},
      "source": [
        "# Causal Inference\n",
        "## Задание CI.1\n",
        "\n",
        "\n",
        "**Правила:**\n",
        "\n",
        "* Дедлайны см. в боте. После дедлайна работы не принимаются кроме случаев наличия уважительной причины.\n",
        "* Выполненную работу нужно отправить телеграм-боту `@miptstats_ds24_bot`. Для начала работы с ботом каждый раз отправляйте `/start`. **Работы, присланные иным способом, не принимаются.**\n",
        "* Дедлайны см. в боте. После дедлайна работы не принимаются кроме случаев наличия уважительной причины.\n",
        "* Прислать нужно **ноутбук в формате `ipynb`**.\n",
        "* Следите за размером файлов. **Бот не может принимать файлы весом более 20 Мб.** Если файл получается больше, заранее разделите его на несколько.\n",
        "* Выполнять задание необходимо полностью самостоятельно. **При обнаружении списывания все участники списывания будут сдавать устный зачет.**\n",
        "* Решения, размещенные на каких-либо интернет-ресурсах, не принимаются. Кроме того, публикация решения в открытом доступе может быть приравнена к предоставлении возможности списать.\n",
        "* Для выполнения задания используйте этот ноутбук в качестве основы, ничего не удаляя из него. Можно добавлять необходимое количество ячеек.\n",
        "* Комментарии к решению пишите в markdown-ячейках.\n",
        "* Выполнение задания (ход решения, выводы и пр.) должно быть осуществлено на русском языке.\n",
        "* Если код будет не понятен проверяющему, оценка может быть снижена.\n",
        "* Никакой код из данного задания при проверке запускаться не будет. *Если код студента не выполнен, недописан и т.д., то он не оценивается.*\n",
        "* В каждой задаче не забывайте делать **пояснения и выводы**.\n",
        "\n",
        "**Правила оформления теоретических задач:**\n",
        "\n",
        "* Решения необходимо прислать одним из следующих способов:\n",
        "  * фотографией в правильной ориентации, где все четко видно, а почерк разборчив,\n",
        "    * отправив ее как файл боту вместе с ноутбуком *или*\n",
        "    * вставив ее в ноутбук посредством `Edit -> Insert Image` (<font color=\"red\">фото, вставленные ссылкой, не принимаются</font>);\n",
        "  * в виде $LaTeX$ в markdown-ячейках.\n",
        "* Решения не проверяются, если какое-то требование не выполнено. Особенно внимательно все проверьте в случае выбора второго пункта (вставки фото в ноутбук). <font color=\"red\"><b>Неправильно вставленные фотографии могут не передаться при отправке.</b></font> Для проверки попробуйте переместить `ipynb` в другую папку и открыть его там.\n",
        "* В решениях поясняйте, чем вы пользуетесь, хотя бы кратко. Например, если пользуетесь независимостью, то достаточно подписи вида \"*X и Y незав.*\"\n",
        "* Решение, в котором есть только ответ, и отсутствуют вычисления, оценивается в 0 баллов.\n",
        "\n",
        "---\n",
        "\n",
        "\n",
        "**Баллы за задание:**\n",
        "\n",
        "* Задача 1 — 70 баллов\n",
        "* Задача 2 — 70 баллов\n",
        "* Задача 3 — 30 баллов\n",
        "* Задача 4 — 40 баллов"
      ]
    },
    {
      "cell_type": "code",
      "execution_count": 34,
      "metadata": {},
      "outputs": [],
      "source": [
        "# Bot check\n",
        "\n",
        "# HW_ID: ds_ci1\n",
        "# Бот проверит этот ID и предупредит, если случайно сдать что-то не то.\n",
        "\n",
        "# Status: not final\n",
        "# Перед отправкой в финальном решении удали \"not\" в строчке выше.\n",
        "# Так бот проверит, что ты отправляешь финальную версию, а не промежуточную.\n",
        "# Никакие значения в этой ячейке не влияют на факт сдачи работы."
      ]
    },
    {
      "cell_type": "code",
      "execution_count": 35,
      "metadata": {},
      "outputs": [],
      "source": [
        "import numpy as np\n",
        "import pandas as pd\n",
        "import seaborn as sns\n",
        "import matplotlib.pyplot as plt\n",
        "import statsmodels.api as sm\n",
        "import scipy.stats as sps\n",
        "\n",
        "import graphviz as gr\n",
        "\n",
        "import networkx as nx\n",
        "from dowhy import gcm \n",
        "\n",
        "from tqdm.notebook import tqdm"
      ]
    },
    {
      "cell_type": "markdown",
      "metadata": {},
      "source": [
        "---\n",
        "\n",
        "### Задача 1.\n",
        "\n",
        "*Задача простая, расписана подробно, помогает разобраться в разных деталях.*\n",
        "\n",
        "При проведении испытания лекарства получены следующие данные. В каждом случае указано количество успешных случаев.\n",
        "\n",
        "\n",
        "| Количество успешных        | Принимали плацебо | Принимали лекарство  |\n",
        "| :------------- |-------------:| -----:|\n",
        "| Низкое давление      | 81 из 87 | 234 из 270 |\n",
        "| Высокое давление     | 192 из 263      |   55 из 80 |\n",
        "\n",
        "\n",
        "Требуется оценить эффект влияния лекарства на успех в двух следующих случаях.\n",
        "\n",
        "* Кровяное давление пациентов измерялось до начала испытания, после чего принималось решение о приеме лекарства.\n",
        "\n",
        "* Кровяное давление пациентов измерялось в конце испытания. При этом известно, что лекарство может оказывать эффект на кровяное давление, которое в свою очередь может оказывать эффект на выздоровление. \n",
        "\n",
        "Часть этой задачи мы уже разобрали на занятии. Сейчас давайте на ее примере разберемся досконально в разных тонкостях."
      ]
    },
    {
      "cell_type": "markdown",
      "metadata": {},
      "source": [
        "**1.** Выполните следующие действия для каждого случая.\n",
        "\n",
        "\n",
        "- Нарисуйте граф причинно-следственных связей для каждого случая. \n",
        "- Выпишите плотность марковского распределения на графе.\n",
        "- Определите численно оценку каждой компоненты плотности. Все распределения дискретны, поэтому надо указать оценки всех необходимых условных вероятностей."
      ]
    },
    {
      "cell_type": "markdown",
      "metadata": {},
      "source": [
        "$\\square$\n",
        "\n",
        "**см. пдф**\n",
        "\n",
        "$\\blacksquare$\n"
      ]
    },
    {
      "cell_type": "markdown",
      "metadata": {},
      "source": [
        "**2.** Сначала все посчитаем ручками. \n",
        "\n",
        "* Посчитайте обычную оценку эффекта (ассоциация) между исследуемыми группами (лекарство/плацебо). Сравните с эффектом по группам относительно низкого и высокого давления.\n",
        "\n",
        "\n",
        "* Посчитайте оценку причинно-следственного эффекта (ATE) с помощью интервенции, поясняя, что означает каждая величина в выражении. \n",
        "\n",
        "\n",
        "* Посчитайте оценку причинно-следственного эффекта на экспериментальной группе (ATT) с помощью интервенции, поясняя, что означает каждая величина в выражении. \n",
        "\n",
        "\n",
        "* Посчитайте оценку смещения между группами. *См. утверждение с лекции.*\n",
        "\n",
        "Сделайте выводы."
      ]
    },
    {
      "cell_type": "markdown",
      "metadata": {},
      "source": [
        "$\\square$\n",
        "\n",
        "**см. пдф**\n",
        "\n",
        "$\\blacksquare$\n"
      ]
    },
    {
      "cell_type": "markdown",
      "metadata": {},
      "source": [
        "**Выводы** \n",
        "\n",
        "Как видим, не смотря на то что ассоциация в среднем положительно, отдельно по группам она отрицательна.\n",
        "\n",
        "Заметим ATE>0, а значит эффект от лекарства есть, оно улучшает выздоровление\n",
        "\n",
        "Так как ATT<0, то лекарство ухудшает выздоровление, для тех кто его принял.\n",
        "\n",
        "bias>0, значит, если бы контрольная группа лечилась, то выздоровело бы больше людей."
      ]
    },
    {
      "cell_type": "markdown",
      "metadata": {},
      "source": [
        "**3.** Поэкспериментируем с библиотекой DoWhy. Зададим датасет с данными, которые соответствуют нашей задаче"
      ]
    },
    {
      "cell_type": "code",
      "execution_count": 36,
      "metadata": {},
      "outputs": [
        {
          "data": {
            "text/html": [
              "<div>\n",
              "<style scoped>\n",
              "    .dataframe tbody tr th:only-of-type {\n",
              "        vertical-align: middle;\n",
              "    }\n",
              "\n",
              "    .dataframe tbody tr th {\n",
              "        vertical-align: top;\n",
              "    }\n",
              "\n",
              "    .dataframe thead th {\n",
              "        text-align: right;\n",
              "    }\n",
              "</style>\n",
              "<table border=\"1\" class=\"dataframe\">\n",
              "  <thead>\n",
              "    <tr style=\"text-align: right;\">\n",
              "      <th></th>\n",
              "      <th>treatment</th>\n",
              "      <th>blood_pressure</th>\n",
              "      <th>result</th>\n",
              "    </tr>\n",
              "    <tr>\n",
              "      <th>patient</th>\n",
              "      <th></th>\n",
              "      <th></th>\n",
              "      <th></th>\n",
              "    </tr>\n",
              "  </thead>\n",
              "  <tbody>\n",
              "    <tr>\n",
              "      <th>0</th>\n",
              "      <td>0</td>\n",
              "      <td>0</td>\n",
              "      <td>1</td>\n",
              "    </tr>\n",
              "    <tr>\n",
              "      <th>1</th>\n",
              "      <td>0</td>\n",
              "      <td>0</td>\n",
              "      <td>1</td>\n",
              "    </tr>\n",
              "    <tr>\n",
              "      <th>2</th>\n",
              "      <td>0</td>\n",
              "      <td>0</td>\n",
              "      <td>1</td>\n",
              "    </tr>\n",
              "    <tr>\n",
              "      <th>3</th>\n",
              "      <td>0</td>\n",
              "      <td>0</td>\n",
              "      <td>1</td>\n",
              "    </tr>\n",
              "    <tr>\n",
              "      <th>4</th>\n",
              "      <td>0</td>\n",
              "      <td>0</td>\n",
              "      <td>1</td>\n",
              "    </tr>\n",
              "    <tr>\n",
              "      <th>...</th>\n",
              "      <td>...</td>\n",
              "      <td>...</td>\n",
              "      <td>...</td>\n",
              "    </tr>\n",
              "    <tr>\n",
              "      <th>695</th>\n",
              "      <td>1</td>\n",
              "      <td>1</td>\n",
              "      <td>0</td>\n",
              "    </tr>\n",
              "    <tr>\n",
              "      <th>696</th>\n",
              "      <td>1</td>\n",
              "      <td>1</td>\n",
              "      <td>0</td>\n",
              "    </tr>\n",
              "    <tr>\n",
              "      <th>697</th>\n",
              "      <td>1</td>\n",
              "      <td>1</td>\n",
              "      <td>0</td>\n",
              "    </tr>\n",
              "    <tr>\n",
              "      <th>698</th>\n",
              "      <td>1</td>\n",
              "      <td>1</td>\n",
              "      <td>0</td>\n",
              "    </tr>\n",
              "    <tr>\n",
              "      <th>699</th>\n",
              "      <td>1</td>\n",
              "      <td>1</td>\n",
              "      <td>0</td>\n",
              "    </tr>\n",
              "  </tbody>\n",
              "</table>\n",
              "<p>700 rows × 3 columns</p>\n",
              "</div>"
            ],
            "text/plain": [
              "         treatment  blood_pressure  result\n",
              "patient                                   \n",
              "0                0               0       1\n",
              "1                0               0       1\n",
              "2                0               0       1\n",
              "3                0               0       1\n",
              "4                0               0       1\n",
              "...            ...             ...     ...\n",
              "695              1               1       0\n",
              "696              1               1       0\n",
              "697              1               1       0\n",
              "698              1               1       0\n",
              "699              1               1       0\n",
              "\n",
              "[700 rows x 3 columns]"
            ]
          },
          "execution_count": 36,
          "metadata": {},
          "output_type": "execute_result"
        }
      ],
      "source": [
        "data = pd.DataFrame()\n",
        "data['treatment'] = [0]*(87+263) + [1]*(270+80)\n",
        "data['blood_pressure'] = [0]*87 + [1]*263 + [0]*270 + [1]*80\n",
        "data['result'] = [1]*81 + [0]*(87-81) + [1]*192 + [0]*(263-192) \\\n",
        "                + [1]*234 + [0]*(270-234) + [1]*55 + [0]*(80-55)\n",
        "data.index.name = 'patient'\n",
        "\n",
        "data"
      ]
    },
    {
      "cell_type": "markdown",
      "metadata": {},
      "source": [
        "Я в данной задача буду рассматривать второй случай."
      ]
    },
    {
      "cell_type": "markdown",
      "metadata": {},
      "source": [
        "Задайте граф причинно-следственных связей и постройте по нему модель `StructuralCausalModel` с автоматическим определением механизма причинно-следственных связей. Обучите полученную модель"
      ]
    },
    {
      "cell_type": "code",
      "execution_count": 37,
      "metadata": {},
      "outputs": [
        {
          "data": {
            "image/png": "[encoded data removed]",
            "text/plain": [
              "<Figure size 1000x800 with 1 Axes>"
            ]
          },
          "metadata": {},
          "output_type": "display_data"
        }
      ],
      "source": [
        "causal_graph = nx.DiGraph(\n",
        "    [\n",
        "        (\"blood_pressure\", \"result\"),\n",
        "        (\"treatment\", \"blood_pressure\"),\n",
        "        (\"treatment\", \"result\"),\n",
        "    ]\n",
        ")\n",
        "\n",
        "options = {\n",
        "    \"font_size\": 14, \n",
        "    \"node_size\": 13000,  \n",
        "    \"node_color\": \"white\",\n",
        "    \"edgecolors\": \"black\",\n",
        "    \"linewidths\": 3,\n",
        "    \"width\": 3,\n",
        "}\n",
        "\n",
        "plt.figure(figsize=(10, 8))\n",
        "nx.draw_networkx(causal_graph, **options)\n",
        "ax = plt.gca()\n",
        "ax.margins(0.20)\n",
        "plt.axis(\"off\")\n",
        "plt.show()\n"
      ]
    },
    {
      "cell_type": "code",
      "execution_count": 38,
      "metadata": {},
      "outputs": [
        {
          "data": {
            "text/plain": [
              "<dowhy.gcm.auto.AutoAssignmentSummary at 0x7b31e7c0d580>"
            ]
          },
          "execution_count": 38,
          "metadata": {},
          "output_type": "execute_result"
        }
      ],
      "source": [
        "causal_model = gcm.StructuralCausalModel(causal_graph)\n",
        "\n",
        "gcm.auto.assign_causal_mechanisms(causal_model, data)"
      ]
    },
    {
      "cell_type": "code",
      "execution_count": 39,
      "metadata": {},
      "outputs": [
        {
          "name": "stderr",
          "output_type": "stream",
          "text": [
            "Fitting causal mechanism of node treatment: 100%|██████████| 3/3 [00:00<00:00, 123.27it/s]\n"
          ]
        }
      ],
      "source": [
        "gcm.fit(causal_model, data)"
      ]
    },
    {
      "cell_type": "markdown",
      "metadata": {},
      "source": [
        "Выясните, какие зависимости подобрались и напечатайте параметры этих моделей"
      ]
    },
    {
      "cell_type": "code",
      "execution_count": 40,
      "metadata": {},
      "outputs": [
        {
          "name": "stdout",
          "output_type": "stream",
          "text": [
            "Модель для 'blood_pressure':\n",
            "Discrete AdditiveNoiseModel using LinearRegression\n",
            "Подлежащая модель sklearn (HistGradientBoostingRegressor) с параметрами:\n",
            "{'copy_X': True, 'fit_intercept': True, 'n_jobs': None, 'positive': False}\n",
            "\n",
            "Модель для 'result':\n",
            "Discrete AdditiveNoiseModel using LinearRegression\n",
            "Подлежащая модель sklearn (LinearRegression) с параметрами:\n",
            "Коэффициенты: [-0.1903959  -0.05383557]\n",
            "Свободный член (intercept): 0.9230689186715358\n"
          ]
        }
      ],
      "source": [
        "model_X = causal_model.causal_mechanism(\"blood_pressure\")\n",
        "model_X_sklearn = model_X.prediction_model.sklearn_model\n",
        "\n",
        "model_Y = causal_model.causal_mechanism(\"result\")\n",
        "model_Y_sklearn = model_Y.prediction_model.sklearn_model\n",
        "\n",
        "print(\"Модель для 'blood_pressure':\")\n",
        "print(model_X)\n",
        "print(\"Подлежащая модель sklearn (HistGradientBoostingRegressor) с параметрами:\")\n",
        "print(model_X_sklearn.get_params())\n",
        "\n",
        "print(\"\\nМодель для 'result':\")\n",
        "print(model_Y)\n",
        "print(\"Подлежащая модель sklearn (LinearRegression) с параметрами:\")\n",
        "print(\"Коэффициенты:\", model_Y_sklearn.coef_)\n",
        "print(\"Свободный член (intercept):\", model_Y_sklearn.intercept_)"
      ]
    },
    {
      "cell_type": "markdown",
      "metadata": {},
      "source": [
        "Как видим, были использованы модели с аддитивным шумом, в то время как наши данные дискретны.\n",
        "\n",
        "Поменяем тип данных на строковые"
      ]
    },
    {
      "cell_type": "code",
      "execution_count": 41,
      "metadata": {},
      "outputs": [],
      "source": [
        "data = data.astype(str)"
      ]
    },
    {
      "cell_type": "markdown",
      "metadata": {},
      "source": [
        "Задайте модели наследования вручную. Если у вершины нет предков, то используйте эмпирическое распределение, иначе &mdash; классификатор `gcm.ClassifierFCM()`. Обучите полученную causal модель"
      ]
    },
    {
      "cell_type": "code",
      "execution_count": 42,
      "metadata": {},
      "outputs": [],
      "source": [
        "causal_model = gcm.StructuralCausalModel(causal_graph)"
      ]
    },
    {
      "cell_type": "code",
      "execution_count": 43,
      "metadata": {},
      "outputs": [],
      "source": [
        "causal_model.set_causal_mechanism(\"blood_pressure\", gcm.ClassifierFCM())\n",
        "\n",
        "causal_model.set_causal_mechanism(\n",
        "    \"result\", gcm.ClassifierFCM())\n",
        "\n",
        "causal_model.set_causal_mechanism(\n",
        "    \"treatment\",  gcm.EmpiricalDistribution())"
      ]
    },
    {
      "cell_type": "code",
      "execution_count": 44,
      "metadata": {},
      "outputs": [
        {
          "name": "stderr",
          "output_type": "stream",
          "text": [
            "Fitting causal mechanism of node treatment: 100%|██████████| 3/3 [00:02<00:00,  1.16it/s]     \n"
          ]
        }
      ],
      "source": [
        "gcm.fit(causal_model, data)"
      ]
    },
    {
      "cell_type": "markdown",
      "metadata": {},
      "source": [
        "Наконец, посчитайте оценку ATE с помощью интервенции в построенной модели. Не забудьте, что в качестве значения интервенции нужно указать строку, а полученные семплы перевести обратно в числа перед усреднением."
      ]
    },
    {
      "cell_type": "code",
      "execution_count": 45,
      "metadata": {},
      "outputs": [],
      "source": [
        "samples_1 = gcm.interventional_samples(\n",
        "    causal_model, interventions={\"treatment\": lambda t: \"1\"}, num_samples_to_draw=100_000\n",
        ")\n",
        "\n",
        "samples_0 = gcm.interventional_samples(\n",
        "    causal_model,  interventions={\"treatment\": lambda t: \"0\"}, num_samples_to_draw=100_000\n",
        ")"
      ]
    },
    {
      "cell_type": "code",
      "execution_count": 46,
      "metadata": {},
      "outputs": [
        {
          "name": "stdout",
          "output_type": "stream",
          "text": [
            "ATE: 0.0468\n"
          ]
        }
      ],
      "source": [
        "ATE = np.mean(samples_1[\"result\"].astype(int)) - np.mean(samples_0[\"result\"].astype(int))\n",
        "print(f\"ATE: {ATE:.4f}\")"
      ]
    },
    {
      "cell_type": "markdown",
      "metadata": {},
      "source": [
        "Сравните результаты с теми, которые посчитали ручками"
      ]
    },
    {
      "cell_type": "markdown",
      "metadata": {},
      "source": [
        "**Выводы:** Результаты совпали! Таким образом можем убедится, что теоретические выкладки верны."
      ]
    },
    {
      "cell_type": "markdown",
      "metadata": {},
      "source": [
        "---\n",
        "\n",
        "### Задача 2."
      ]
    },
    {
      "cell_type": "markdown",
      "metadata": {},
      "source": [
        "**1.** Рассмотрим данные по заболеваемости и смертности от COVID-19 в марте 2020 года когда пандемия только начиналась. В данных представлена информация по нескольким странам по разным возрастным категориям. \n",
        "\n",
        "Считайте данные и посчитайте Case Fatality Rate (CFR) &mdash; процент смертности при условии подтвержденного коронавируса"
      ]
    },
    {
      "cell_type": "code",
      "execution_count": 47,
      "metadata": {},
      "outputs": [
        {
          "data": {
            "text/html": [
              "<div>\n",
              "<style scoped>\n",
              "    .dataframe tbody tr th:only-of-type {\n",
              "        vertical-align: middle;\n",
              "    }\n",
              "\n",
              "    .dataframe tbody tr th {\n",
              "        vertical-align: top;\n",
              "    }\n",
              "\n",
              "    .dataframe thead th {\n",
              "        text-align: right;\n",
              "    }\n",
              "</style>\n",
              "<table border=\"1\" class=\"dataframe\">\n",
              "  <thead>\n",
              "    <tr style=\"text-align: right;\">\n",
              "      <th></th>\n",
              "      <th>Country</th>\n",
              "      <th>Age group</th>\n",
              "      <th>Confirmed cases</th>\n",
              "      <th>Confirmed fatalities</th>\n",
              "      <th>CFR</th>\n",
              "    </tr>\n",
              "  </thead>\n",
              "  <tbody>\n",
              "    <tr>\n",
              "      <th>0</th>\n",
              "      <td>Italy</td>\n",
              "      <td>0-9</td>\n",
              "      <td>43</td>\n",
              "      <td>0</td>\n",
              "      <td>0.000000</td>\n",
              "    </tr>\n",
              "    <tr>\n",
              "      <th>1</th>\n",
              "      <td>Italy</td>\n",
              "      <td>10-19</td>\n",
              "      <td>85</td>\n",
              "      <td>0</td>\n",
              "      <td>0.000000</td>\n",
              "    </tr>\n",
              "    <tr>\n",
              "      <th>2</th>\n",
              "      <td>Italy</td>\n",
              "      <td>20-29</td>\n",
              "      <td>296</td>\n",
              "      <td>0</td>\n",
              "      <td>0.000000</td>\n",
              "    </tr>\n",
              "    <tr>\n",
              "      <th>3</th>\n",
              "      <td>Italy</td>\n",
              "      <td>30-39</td>\n",
              "      <td>470</td>\n",
              "      <td>0</td>\n",
              "      <td>0.000000</td>\n",
              "    </tr>\n",
              "    <tr>\n",
              "      <th>4</th>\n",
              "      <td>Italy</td>\n",
              "      <td>40-49</td>\n",
              "      <td>891</td>\n",
              "      <td>1</td>\n",
              "      <td>0.001122</td>\n",
              "    </tr>\n",
              "    <tr>\n",
              "      <th>...</th>\n",
              "      <td>...</td>\n",
              "      <td>...</td>\n",
              "      <td>...</td>\n",
              "      <td>...</td>\n",
              "      <td>...</td>\n",
              "    </tr>\n",
              "    <tr>\n",
              "      <th>103</th>\n",
              "      <td>South Korea</td>\n",
              "      <td>40-49</td>\n",
              "      <td>1481</td>\n",
              "      <td>3</td>\n",
              "      <td>0.002026</td>\n",
              "    </tr>\n",
              "    <tr>\n",
              "      <th>104</th>\n",
              "      <td>South Korea</td>\n",
              "      <td>50-59</td>\n",
              "      <td>1987</td>\n",
              "      <td>15</td>\n",
              "      <td>0.007549</td>\n",
              "    </tr>\n",
              "    <tr>\n",
              "      <th>105</th>\n",
              "      <td>South Korea</td>\n",
              "      <td>60-69</td>\n",
              "      <td>1375</td>\n",
              "      <td>39</td>\n",
              "      <td>0.028364</td>\n",
              "    </tr>\n",
              "    <tr>\n",
              "      <th>106</th>\n",
              "      <td>South Korea</td>\n",
              "      <td>70-79</td>\n",
              "      <td>719</td>\n",
              "      <td>78</td>\n",
              "      <td>0.108484</td>\n",
              "    </tr>\n",
              "    <tr>\n",
              "      <th>107</th>\n",
              "      <td>South Korea</td>\n",
              "      <td>80+</td>\n",
              "      <td>491</td>\n",
              "      <td>129</td>\n",
              "      <td>0.262729</td>\n",
              "    </tr>\n",
              "  </tbody>\n",
              "</table>\n",
              "<p>108 rows × 5 columns</p>\n",
              "</div>"
            ],
            "text/plain": [
              "         Country Age group  Confirmed cases  Confirmed fatalities       CFR\n",
              "0          Italy       0-9               43                     0  0.000000\n",
              "1          Italy     10-19               85                     0  0.000000\n",
              "2          Italy     20-29              296                     0  0.000000\n",
              "3          Italy     30-39              470                     0  0.000000\n",
              "4          Italy     40-49              891                     1  0.001122\n",
              "..           ...       ...              ...                   ...       ...\n",
              "103  South Korea     40-49             1481                     3  0.002026\n",
              "104  South Korea     50-59             1987                    15  0.007549\n",
              "105  South Korea     60-69             1375                    39  0.028364\n",
              "106  South Korea     70-79              719                    78  0.108484\n",
              "107  South Korea       80+              491                   129  0.262729\n",
              "\n",
              "[108 rows x 5 columns]"
            ]
          },
          "execution_count": 47,
          "metadata": {},
          "output_type": "execute_result"
        }
      ],
      "source": [
        "covid_df = pd.read_csv(\"covid_data.csv\").drop(columns=[\"Unnamed: 0\"])\n",
        "covid_df[\"CFR\"] = covid_df[\"Confirmed fatalities\"] / covid_df[\"Confirmed cases\"]\n",
        "covid_df"
      ]
    },
    {
      "cell_type": "markdown",
      "metadata": {},
      "source": [
        "Будем рассматривать Китай и Италию как довольно разные страны, в которых коронавирус в начале 2020 развивался наиболее стремительно.\n",
        "\n",
        "Постройте гистограмму для сравнения CFR двух стран по возрастным категориям. Используйте для этого один вызов `seaborn.barplot` с некоторыми параметрами."
      ]
    },
    {
      "cell_type": "code",
      "execution_count": 48,
      "metadata": {},
      "outputs": [
        {
          "data": {
            "text/html": [
              "<div>\n",
              "<style scoped>\n",
              "    .dataframe tbody tr th:only-of-type {\n",
              "        vertical-align: middle;\n",
              "    }\n",
              "\n",
              "    .dataframe tbody tr th {\n",
              "        vertical-align: top;\n",
              "    }\n",
              "\n",
              "    .dataframe thead th {\n",
              "        text-align: right;\n",
              "    }\n",
              "</style>\n",
              "<table border=\"1\" class=\"dataframe\">\n",
              "  <thead>\n",
              "    <tr style=\"text-align: right;\">\n",
              "      <th></th>\n",
              "      <th>Country</th>\n",
              "      <th>Age group</th>\n",
              "      <th>Confirmed cases</th>\n",
              "      <th>Confirmed fatalities</th>\n",
              "      <th>CFR</th>\n",
              "    </tr>\n",
              "  </thead>\n",
              "  <tbody>\n",
              "    <tr>\n",
              "      <th>0</th>\n",
              "      <td>Italy</td>\n",
              "      <td>0-9</td>\n",
              "      <td>43</td>\n",
              "      <td>0</td>\n",
              "      <td>0.000000</td>\n",
              "    </tr>\n",
              "    <tr>\n",
              "      <th>1</th>\n",
              "      <td>Italy</td>\n",
              "      <td>10-19</td>\n",
              "      <td>85</td>\n",
              "      <td>0</td>\n",
              "      <td>0.000000</td>\n",
              "    </tr>\n",
              "    <tr>\n",
              "      <th>2</th>\n",
              "      <td>Italy</td>\n",
              "      <td>20-29</td>\n",
              "      <td>296</td>\n",
              "      <td>0</td>\n",
              "      <td>0.000000</td>\n",
              "    </tr>\n",
              "    <tr>\n",
              "      <th>3</th>\n",
              "      <td>Italy</td>\n",
              "      <td>30-39</td>\n",
              "      <td>470</td>\n",
              "      <td>0</td>\n",
              "      <td>0.000000</td>\n",
              "    </tr>\n",
              "    <tr>\n",
              "      <th>4</th>\n",
              "      <td>Italy</td>\n",
              "      <td>40-49</td>\n",
              "      <td>891</td>\n",
              "      <td>1</td>\n",
              "      <td>0.001122</td>\n",
              "    </tr>\n",
              "    <tr>\n",
              "      <th>5</th>\n",
              "      <td>Italy</td>\n",
              "      <td>50-59</td>\n",
              "      <td>1453</td>\n",
              "      <td>3</td>\n",
              "      <td>0.002065</td>\n",
              "    </tr>\n",
              "    <tr>\n",
              "      <th>6</th>\n",
              "      <td>Italy</td>\n",
              "      <td>60-69</td>\n",
              "      <td>1471</td>\n",
              "      <td>37</td>\n",
              "      <td>0.025153</td>\n",
              "    </tr>\n",
              "    <tr>\n",
              "      <th>7</th>\n",
              "      <td>Italy</td>\n",
              "      <td>70-79</td>\n",
              "      <td>1785</td>\n",
              "      <td>114</td>\n",
              "      <td>0.063866</td>\n",
              "    </tr>\n",
              "    <tr>\n",
              "      <th>8</th>\n",
              "      <td>Italy</td>\n",
              "      <td>80+</td>\n",
              "      <td>1532</td>\n",
              "      <td>202</td>\n",
              "      <td>0.131854</td>\n",
              "    </tr>\n",
              "    <tr>\n",
              "      <th>18</th>\n",
              "      <td>China</td>\n",
              "      <td>0-9</td>\n",
              "      <td>416</td>\n",
              "      <td>0</td>\n",
              "      <td>0.000000</td>\n",
              "    </tr>\n",
              "    <tr>\n",
              "      <th>19</th>\n",
              "      <td>China</td>\n",
              "      <td>10-19</td>\n",
              "      <td>549</td>\n",
              "      <td>1</td>\n",
              "      <td>0.001821</td>\n",
              "    </tr>\n",
              "    <tr>\n",
              "      <th>20</th>\n",
              "      <td>China</td>\n",
              "      <td>20-29</td>\n",
              "      <td>3619</td>\n",
              "      <td>7</td>\n",
              "      <td>0.001934</td>\n",
              "    </tr>\n",
              "    <tr>\n",
              "      <th>21</th>\n",
              "      <td>China</td>\n",
              "      <td>30-39</td>\n",
              "      <td>7600</td>\n",
              "      <td>18</td>\n",
              "      <td>0.002368</td>\n",
              "    </tr>\n",
              "    <tr>\n",
              "      <th>22</th>\n",
              "      <td>China</td>\n",
              "      <td>40-49</td>\n",
              "      <td>8571</td>\n",
              "      <td>38</td>\n",
              "      <td>0.004434</td>\n",
              "    </tr>\n",
              "    <tr>\n",
              "      <th>23</th>\n",
              "      <td>China</td>\n",
              "      <td>50-59</td>\n",
              "      <td>10008</td>\n",
              "      <td>130</td>\n",
              "      <td>0.012990</td>\n",
              "    </tr>\n",
              "    <tr>\n",
              "      <th>24</th>\n",
              "      <td>China</td>\n",
              "      <td>60-69</td>\n",
              "      <td>8583</td>\n",
              "      <td>309</td>\n",
              "      <td>0.036001</td>\n",
              "    </tr>\n",
              "    <tr>\n",
              "      <th>25</th>\n",
              "      <td>China</td>\n",
              "      <td>70-79</td>\n",
              "      <td>3918</td>\n",
              "      <td>312</td>\n",
              "      <td>0.079632</td>\n",
              "    </tr>\n",
              "    <tr>\n",
              "      <th>26</th>\n",
              "      <td>China</td>\n",
              "      <td>80+</td>\n",
              "      <td>1408</td>\n",
              "      <td>208</td>\n",
              "      <td>0.147727</td>\n",
              "    </tr>\n",
              "  </tbody>\n",
              "</table>\n",
              "</div>"
            ],
            "text/plain": [
              "   Country Age group  Confirmed cases  Confirmed fatalities       CFR\n",
              "0    Italy       0-9               43                     0  0.000000\n",
              "1    Italy     10-19               85                     0  0.000000\n",
              "2    Italy     20-29              296                     0  0.000000\n",
              "3    Italy     30-39              470                     0  0.000000\n",
              "4    Italy     40-49              891                     1  0.001122\n",
              "5    Italy     50-59             1453                     3  0.002065\n",
              "6    Italy     60-69             1471                    37  0.025153\n",
              "7    Italy     70-79             1785                   114  0.063866\n",
              "8    Italy       80+             1532                   202  0.131854\n",
              "18   China       0-9              416                     0  0.000000\n",
              "19   China     10-19              549                     1  0.001821\n",
              "20   China     20-29             3619                     7  0.001934\n",
              "21   China     30-39             7600                    18  0.002368\n",
              "22   China     40-49             8571                    38  0.004434\n",
              "23   China     50-59            10008                   130  0.012990\n",
              "24   China     60-69             8583                   309  0.036001\n",
              "25   China     70-79             3918                   312  0.079632\n",
              "26   China       80+             1408                   208  0.147727"
            ]
          },
          "execution_count": 48,
          "metadata": {},
          "output_type": "execute_result"
        }
      ],
      "source": [
        "covid_df = covid_df.loc[covid_df[\"Country\"].isin([\"China\", \"Italy\"])]\n",
        "covid_df"
      ]
    },
    {
      "cell_type": "code",
      "execution_count": 49,
      "metadata": {},
      "outputs": [
        {
          "name": "stderr",
          "output_type": "stream",
          "text": [
            "/tmp/ipykernel_17892/859061404.py:1: SettingWithCopyWarning: \n",
            "A value is trying to be set on a copy of a slice from a DataFrame.\n",
            "Try using .loc[row_indexer,col_indexer] = value instead\n",
            "\n",
            "See the caveats in the documentation: https://pandas.pydata.org/pandas-docs/stable/user_guide/indexing.html#returning-a-view-versus-a-copy\n",
            "  covid_df[\"CFR\"] = covid_df[\"Confirmed fatalities\"] / covid_df[\"Confirmed cases\"] * 100\n"
          ]
        },
        {
          "data": {
            "image/png": "[encoded data removed]",
            "text/plain": [
              "<Figure size 1200x600 with 1 Axes>"
            ]
          },
          "metadata": {},
          "output_type": "display_data"
        }
      ],
      "source": [
        "covid_df[\"CFR\"] = covid_df[\"Confirmed fatalities\"] / covid_df[\"Confirmed cases\"] * 100\n",
        "\n",
        "plt.figure(figsize=(12, 6))\n",
        "sns.barplot(\n",
        "    x=\"Age group\",\n",
        "    y=\"CFR\",\n",
        "    hue=\"Country\",\n",
        "    data=covid_df,\n",
        "    errorbar=None,\n",
        "    palette=[\n",
        "        \"blue\",\n",
        "        \"orange\",\n",
        "    ],\n",
        ")\n",
        "\n",
        "plt.title(\"CFR по возрастным группам для Китая и Италии\")\n",
        "plt.xlabel(\"Возрастная группа\")\n",
        "plt.ylabel(\"CFR (%)\")\n",
        "plt.xticks(rotation=45)\n",
        "plt.tight_layout()\n",
        "plt.show()"
      ]
    },
    {
      "cell_type": "markdown",
      "metadata": {},
      "source": [
        "Теперь посчитайте общую CFR на основе суммарного количества случаев по всем категориями и сравните их для этих двух стран."
      ]
    },
    {
      "cell_type": "code",
      "execution_count": 50,
      "metadata": {},
      "outputs": [
        {
          "data": {
            "image/png": "[encoded data removed]",
            "text/plain": [
              "<Figure size 800x600 with 1 Axes>"
            ]
          },
          "metadata": {},
          "output_type": "display_data"
        }
      ],
      "source": [
        "total_stats = covid_df.groupby(\"Country\")[\n",
        "    [\"Confirmed cases\", \"Confirmed fatalities\"]\n",
        "].sum()\n",
        "total_stats[\"CFR\"] = (\n",
        "    total_stats[\"Confirmed fatalities\"] / total_stats[\"Confirmed cases\"]\n",
        ") * 100\n",
        "\n",
        "plt.figure(figsize=(8, 6))\n",
        "\n",
        "sns.barplot(\n",
        "    x=total_stats.index,\n",
        "    y=total_stats[\"CFR\"],\n",
        "    hue=total_stats.index,\n",
        "    palette=[\n",
        "        \"orange\",\n",
        "        \"blue\",\n",
        "    ],\n",
        "    legend=False,\n",
        ")\n",
        "\n",
        "plt.title(\"Общая CFR для Китая и Италии\")\n",
        "plt.xlabel(\"Страна\")\n",
        "plt.ylabel(\"CFR (%)\")\n",
        "plt.tight_layout()\n",
        "plt.show()"
      ]
    },
    {
      "cell_type": "markdown",
      "metadata": {},
      "source": [
        "Что можно наблюдать?"
      ]
    },
    {
      "cell_type": "markdown",
      "metadata": {},
      "source": [
        "Не смотря на то, что по группам смертность выше в Китае, по все категориям смертность выше в Италии. Мы наблюдаем парадокс Симпсона."
      ]
    },
    {
      "cell_type": "markdown",
      "metadata": {},
      "source": [
        "**2.** Итак, мы исследуем три признака: страна, возрастная категория, CFR. Определите на них граф причинно-следственных связей на основе логических соображений и визуализируйте его."
      ]
    },
    {
      "cell_type": "code",
      "execution_count": 51,
      "metadata": {},
      "outputs": [
        {
          "data": {
            "image/png": "[encoded data removed]",
            "text/plain": [
              "<Figure size 1000x800 with 1 Axes>"
            ]
          },
          "metadata": {},
          "output_type": "display_data"
        }
      ],
      "source": [
        "causal_graph = nx.DiGraph(\n",
        "    [\n",
        "        (\"Age group\", \"CFR\"),\n",
        "        (\"Country\", \"CFR\"),\n",
        "    ]\n",
        ")\n",
        "\n",
        "plt.figure(figsize=(10, 8))\n",
        "nx.draw_networkx(causal_graph, **options)\n",
        "ax = plt.gca()\n",
        "ax.margins(0.20)\n",
        "plt.axis(\"off\")\n",
        "plt.show()"
      ]
    },
    {
      "cell_type": "markdown",
      "metadata": {},
      "source": [
        "Для каждой вершины опишите характер причинно-следственной связи. Например, если это линейная регрессия, то надо выписать ее формулу."
      ]
    },
    {
      "cell_type": "code",
      "execution_count": 52,
      "metadata": {},
      "outputs": [],
      "source": [
        "causal_model = gcm.StructuralCausalModel(causal_graph)\n",
        "\n",
        "causal_model.set_causal_mechanism(\"Age group\", gcm.EmpiricalDistribution())\n",
        "causal_model.set_causal_mechanism(\"Country\", gcm.EmpiricalDistribution())\n",
        "causal_model.set_causal_mechanism(\"CFR\", gcm.AdditiveNoiseModel(gcm.ml.create_linear_regressor()))"
      ]
    },
    {
      "cell_type": "markdown",
      "metadata": {},
      "source": [
        "$CFR = \\beta_1 + \\beta_2 \\cdot \\textit{Age group} + \\beta_3 \\cdot \\textit{Country} + \\varepsilon$"
      ]
    },
    {
      "cell_type": "markdown",
      "metadata": {},
      "source": [
        "**3.** Сделаем две копии признака \"страна\":\n",
        "* `demography` ($D$) &mdash; демографическая ситуация, определяемая страной;\n",
        "* `treatment methods` ($T$) &mdash; методы лечения, свойственные стране.\n",
        "\n",
        "Мы делаем такое разделение потому как, например, одна страна может взять методы лечения другой страны, но демографическую ситуацию поменять при этом не получится.\n",
        "\n",
        "Получается следующий причинно-следственный граф. Визуализируйте его"
      ]
    },
    {
      "cell_type": "code",
      "execution_count": 53,
      "metadata": {},
      "outputs": [],
      "source": [
        "covid_df = covid_df.copy()  # Создание копии, чтобы избежать предупреждений\n",
        "covid_df.loc[:, \"demography\"] = covid_df[\"Country\"].values\n",
        "covid_df.loc[:, \"treatment methods\"] = covid_df[\"Country\"].values"
      ]
    },
    {
      "cell_type": "code",
      "execution_count": 54,
      "metadata": {},
      "outputs": [
        {
          "data": {
            "text/html": [
              "<div>\n",
              "<style scoped>\n",
              "    .dataframe tbody tr th:only-of-type {\n",
              "        vertical-align: middle;\n",
              "    }\n",
              "\n",
              "    .dataframe tbody tr th {\n",
              "        vertical-align: top;\n",
              "    }\n",
              "\n",
              "    .dataframe thead th {\n",
              "        text-align: right;\n",
              "    }\n",
              "</style>\n",
              "<table border=\"1\" class=\"dataframe\">\n",
              "  <thead>\n",
              "    <tr style=\"text-align: right;\">\n",
              "      <th></th>\n",
              "      <th>Country</th>\n",
              "      <th>Age group</th>\n",
              "      <th>Confirmed cases</th>\n",
              "      <th>Confirmed fatalities</th>\n",
              "      <th>CFR</th>\n",
              "      <th>demography</th>\n",
              "      <th>treatment methods</th>\n",
              "    </tr>\n",
              "  </thead>\n",
              "  <tbody>\n",
              "    <tr>\n",
              "      <th>0</th>\n",
              "      <td>Italy</td>\n",
              "      <td>0-9</td>\n",
              "      <td>43</td>\n",
              "      <td>0</td>\n",
              "      <td>0.000000</td>\n",
              "      <td>Italy</td>\n",
              "      <td>Italy</td>\n",
              "    </tr>\n",
              "    <tr>\n",
              "      <th>1</th>\n",
              "      <td>Italy</td>\n",
              "      <td>10-19</td>\n",
              "      <td>85</td>\n",
              "      <td>0</td>\n",
              "      <td>0.000000</td>\n",
              "      <td>Italy</td>\n",
              "      <td>Italy</td>\n",
              "    </tr>\n",
              "    <tr>\n",
              "      <th>2</th>\n",
              "      <td>Italy</td>\n",
              "      <td>20-29</td>\n",
              "      <td>296</td>\n",
              "      <td>0</td>\n",
              "      <td>0.000000</td>\n",
              "      <td>Italy</td>\n",
              "      <td>Italy</td>\n",
              "    </tr>\n",
              "    <tr>\n",
              "      <th>3</th>\n",
              "      <td>Italy</td>\n",
              "      <td>30-39</td>\n",
              "      <td>470</td>\n",
              "      <td>0</td>\n",
              "      <td>0.000000</td>\n",
              "      <td>Italy</td>\n",
              "      <td>Italy</td>\n",
              "    </tr>\n",
              "    <tr>\n",
              "      <th>4</th>\n",
              "      <td>Italy</td>\n",
              "      <td>40-49</td>\n",
              "      <td>891</td>\n",
              "      <td>1</td>\n",
              "      <td>0.112233</td>\n",
              "      <td>Italy</td>\n",
              "      <td>Italy</td>\n",
              "    </tr>\n",
              "    <tr>\n",
              "      <th>5</th>\n",
              "      <td>Italy</td>\n",
              "      <td>50-59</td>\n",
              "      <td>1453</td>\n",
              "      <td>3</td>\n",
              "      <td>0.206469</td>\n",
              "      <td>Italy</td>\n",
              "      <td>Italy</td>\n",
              "    </tr>\n",
              "    <tr>\n",
              "      <th>6</th>\n",
              "      <td>Italy</td>\n",
              "      <td>60-69</td>\n",
              "      <td>1471</td>\n",
              "      <td>37</td>\n",
              "      <td>2.515296</td>\n",
              "      <td>Italy</td>\n",
              "      <td>Italy</td>\n",
              "    </tr>\n",
              "    <tr>\n",
              "      <th>7</th>\n",
              "      <td>Italy</td>\n",
              "      <td>70-79</td>\n",
              "      <td>1785</td>\n",
              "      <td>114</td>\n",
              "      <td>6.386555</td>\n",
              "      <td>Italy</td>\n",
              "      <td>Italy</td>\n",
              "    </tr>\n",
              "    <tr>\n",
              "      <th>8</th>\n",
              "      <td>Italy</td>\n",
              "      <td>80+</td>\n",
              "      <td>1532</td>\n",
              "      <td>202</td>\n",
              "      <td>13.185379</td>\n",
              "      <td>Italy</td>\n",
              "      <td>Italy</td>\n",
              "    </tr>\n",
              "    <tr>\n",
              "      <th>18</th>\n",
              "      <td>China</td>\n",
              "      <td>0-9</td>\n",
              "      <td>416</td>\n",
              "      <td>0</td>\n",
              "      <td>0.000000</td>\n",
              "      <td>China</td>\n",
              "      <td>China</td>\n",
              "    </tr>\n",
              "    <tr>\n",
              "      <th>19</th>\n",
              "      <td>China</td>\n",
              "      <td>10-19</td>\n",
              "      <td>549</td>\n",
              "      <td>1</td>\n",
              "      <td>0.182149</td>\n",
              "      <td>China</td>\n",
              "      <td>China</td>\n",
              "    </tr>\n",
              "    <tr>\n",
              "      <th>20</th>\n",
              "      <td>China</td>\n",
              "      <td>20-29</td>\n",
              "      <td>3619</td>\n",
              "      <td>7</td>\n",
              "      <td>0.193424</td>\n",
              "      <td>China</td>\n",
              "      <td>China</td>\n",
              "    </tr>\n",
              "    <tr>\n",
              "      <th>21</th>\n",
              "      <td>China</td>\n",
              "      <td>30-39</td>\n",
              "      <td>7600</td>\n",
              "      <td>18</td>\n",
              "      <td>0.236842</td>\n",
              "      <td>China</td>\n",
              "      <td>China</td>\n",
              "    </tr>\n",
              "    <tr>\n",
              "      <th>22</th>\n",
              "      <td>China</td>\n",
              "      <td>40-49</td>\n",
              "      <td>8571</td>\n",
              "      <td>38</td>\n",
              "      <td>0.443356</td>\n",
              "      <td>China</td>\n",
              "      <td>China</td>\n",
              "    </tr>\n",
              "    <tr>\n",
              "      <th>23</th>\n",
              "      <td>China</td>\n",
              "      <td>50-59</td>\n",
              "      <td>10008</td>\n",
              "      <td>130</td>\n",
              "      <td>1.298961</td>\n",
              "      <td>China</td>\n",
              "      <td>China</td>\n",
              "    </tr>\n",
              "    <tr>\n",
              "      <th>24</th>\n",
              "      <td>China</td>\n",
              "      <td>60-69</td>\n",
              "      <td>8583</td>\n",
              "      <td>309</td>\n",
              "      <td>3.600140</td>\n",
              "      <td>China</td>\n",
              "      <td>China</td>\n",
              "    </tr>\n",
              "    <tr>\n",
              "      <th>25</th>\n",
              "      <td>China</td>\n",
              "      <td>70-79</td>\n",
              "      <td>3918</td>\n",
              "      <td>312</td>\n",
              "      <td>7.963247</td>\n",
              "      <td>China</td>\n",
              "      <td>China</td>\n",
              "    </tr>\n",
              "    <tr>\n",
              "      <th>26</th>\n",
              "      <td>China</td>\n",
              "      <td>80+</td>\n",
              "      <td>1408</td>\n",
              "      <td>208</td>\n",
              "      <td>14.772727</td>\n",
              "      <td>China</td>\n",
              "      <td>China</td>\n",
              "    </tr>\n",
              "  </tbody>\n",
              "</table>\n",
              "</div>"
            ],
            "text/plain": [
              "   Country Age group  Confirmed cases  Confirmed fatalities        CFR  \\\n",
              "0    Italy       0-9               43                     0   0.000000   \n",
              "1    Italy     10-19               85                     0   0.000000   \n",
              "2    Italy     20-29              296                     0   0.000000   \n",
              "3    Italy     30-39              470                     0   0.000000   \n",
              "4    Italy     40-49              891                     1   0.112233   \n",
              "5    Italy     50-59             1453                     3   0.206469   \n",
              "6    Italy     60-69             1471                    37   2.515296   \n",
              "7    Italy     70-79             1785                   114   6.386555   \n",
              "8    Italy       80+             1532                   202  13.185379   \n",
              "18   China       0-9              416                     0   0.000000   \n",
              "19   China     10-19              549                     1   0.182149   \n",
              "20   China     20-29             3619                     7   0.193424   \n",
              "21   China     30-39             7600                    18   0.236842   \n",
              "22   China     40-49             8571                    38   0.443356   \n",
              "23   China     50-59            10008                   130   1.298961   \n",
              "24   China     60-69             8583                   309   3.600140   \n",
              "25   China     70-79             3918                   312   7.963247   \n",
              "26   China       80+             1408                   208  14.772727   \n",
              "\n",
              "   demography treatment methods  \n",
              "0       Italy             Italy  \n",
              "1       Italy             Italy  \n",
              "2       Italy             Italy  \n",
              "3       Italy             Italy  \n",
              "4       Italy             Italy  \n",
              "5       Italy             Italy  \n",
              "6       Italy             Italy  \n",
              "7       Italy             Italy  \n",
              "8       Italy             Italy  \n",
              "18      China             China  \n",
              "19      China             China  \n",
              "20      China             China  \n",
              "21      China             China  \n",
              "22      China             China  \n",
              "23      China             China  \n",
              "24      China             China  \n",
              "25      China             China  \n",
              "26      China             China  "
            ]
          },
          "execution_count": 54,
          "metadata": {},
          "output_type": "execute_result"
        }
      ],
      "source": [
        "covid_df"
      ]
    },
    {
      "cell_type": "code",
      "execution_count": 55,
      "metadata": {
        "ExecuteTime": {
          "end_time": "2023-04-11T21:25:00.706454Z",
          "start_time": "2023-04-11T21:25:00.703241Z"
        }
      },
      "outputs": [
        {
          "data": {
            "image/png": "[encoded data removed]",
            "text/plain": [
              "<Figure size 2000x1000 with 1 Axes>"
            ]
          },
          "metadata": {},
          "output_type": "display_data"
        }
      ],
      "source": [
        "causal_graph = nx.DiGraph([\n",
        "    ('demography', 'Age group'), \n",
        "    ('treatment methods', 'CFR'), \n",
        "    ('Age group', 'CFR')\n",
        "])\n",
        "\n",
        "\n",
        "options[\"node_size\"] = 20000\n",
        "plt.figure(figsize=(20, 10))\n",
        "nx.draw_networkx(causal_graph, **options)\n",
        "ax = plt.gca()\n",
        "ax.margins(0.20)\n",
        "plt.axis(\"off\")\n",
        "plt.show()"
      ]
    },
    {
      "cell_type": "markdown",
      "metadata": {},
      "source": [
        "Определите по графу causal модель и обучите ее"
      ]
    },
    {
      "cell_type": "code",
      "execution_count": 56,
      "metadata": {},
      "outputs": [
        {
          "name": "stderr",
          "output_type": "stream",
          "text": [
            "Fitting causal mechanism of node CFR: 100%|██████████| 4/4 [00:02<00:00,  1.54it/s]              \n"
          ]
        }
      ],
      "source": [
        "causal_model = gcm.StructuralCausalModel(causal_graph)\n",
        "\n",
        "causal_model.set_causal_mechanism(\"demography\", gcm.EmpiricalDistribution())\n",
        "causal_model.set_causal_mechanism(\"treatment methods\", gcm.EmpiricalDistribution())\n",
        "causal_model.set_causal_mechanism(\"Age group\", gcm.ClassifierFCM())\n",
        "causal_model.set_causal_mechanism(\"CFR\", gcm.AdditiveNoiseModel(gcm.ml.create_linear_regressor()))\n",
        "\n",
        "gcm.fit(causal_model, covid_df)"
      ]
    },
    {
      "cell_type": "markdown",
      "metadata": {},
      "source": [
        "С помощью интервенции оцените, было бы эффективнее применять в Китае с его демографической ситуацией итальянские методы лечения. Для этого нужно оценить величину\n",
        "$$NDE = \\mathsf{E}(CFR\\ |\\ D:=China, T:=Italy) - \\mathsf{E}(CFR\\ |\\ D:=China, T:=China),$$\n",
        "где NDE &mdash; Natural Direct Effect. Используйте достаточно большое количество семплирований."
      ]
    },
    {
      "cell_type": "code",
      "execution_count": 57,
      "metadata": {},
      "outputs": [],
      "source": [
        "samples_dc_ti = gcm.interventional_samples(\n",
        "    causal_model,\n",
        "    interventions={\n",
        "        \"demography\": lambda t: \"China\",\n",
        "        \"treatment methods\": lambda t: \"Italy\",\n",
        "    },\n",
        "    num_samples_to_draw=100_000,\n",
        ")\n",
        "\n",
        "samples_dc_tc = gcm.interventional_samples(\n",
        "    causal_model,\n",
        "    interventions={\n",
        "        \"demography\": lambda t: \"China\",\n",
        "        \"treatment methods\": lambda t: \"China\",\n",
        "    },\n",
        "    num_samples_to_draw=100_000,\n",
        ")"
      ]
    },
    {
      "cell_type": "code",
      "execution_count": 58,
      "metadata": {},
      "outputs": [
        {
          "data": {
            "text/html": [
              "<div>\n",
              "<style scoped>\n",
              "    .dataframe tbody tr th:only-of-type {\n",
              "        vertical-align: middle;\n",
              "    }\n",
              "\n",
              "    .dataframe tbody tr th {\n",
              "        vertical-align: top;\n",
              "    }\n",
              "\n",
              "    .dataframe thead th {\n",
              "        text-align: right;\n",
              "    }\n",
              "</style>\n",
              "<table border=\"1\" class=\"dataframe\">\n",
              "  <thead>\n",
              "    <tr style=\"text-align: right;\">\n",
              "      <th></th>\n",
              "      <th>Age group</th>\n",
              "      <th>NDE</th>\n",
              "    </tr>\n",
              "  </thead>\n",
              "  <tbody>\n",
              "    <tr>\n",
              "      <th>0</th>\n",
              "      <td>0-9</td>\n",
              "      <td>-0.698538</td>\n",
              "    </tr>\n",
              "    <tr>\n",
              "      <th>1</th>\n",
              "      <td>10-19</td>\n",
              "      <td>-0.693887</td>\n",
              "    </tr>\n",
              "    <tr>\n",
              "      <th>2</th>\n",
              "      <td>20-29</td>\n",
              "      <td>-0.694543</td>\n",
              "    </tr>\n",
              "    <tr>\n",
              "      <th>3</th>\n",
              "      <td>30-39</td>\n",
              "      <td>-0.699080</td>\n",
              "    </tr>\n",
              "    <tr>\n",
              "      <th>4</th>\n",
              "      <td>40-49</td>\n",
              "      <td>-0.699877</td>\n",
              "    </tr>\n",
              "    <tr>\n",
              "      <th>5</th>\n",
              "      <td>50-59</td>\n",
              "      <td>-0.701424</td>\n",
              "    </tr>\n",
              "    <tr>\n",
              "      <th>6</th>\n",
              "      <td>60-69</td>\n",
              "      <td>-0.697167</td>\n",
              "    </tr>\n",
              "    <tr>\n",
              "      <th>7</th>\n",
              "      <td>70-79</td>\n",
              "      <td>-0.693812</td>\n",
              "    </tr>\n",
              "    <tr>\n",
              "      <th>8</th>\n",
              "      <td>80+</td>\n",
              "      <td>-0.697330</td>\n",
              "    </tr>\n",
              "  </tbody>\n",
              "</table>\n",
              "</div>"
            ],
            "text/plain": [
              "  Age group       NDE\n",
              "0       0-9 -0.698538\n",
              "1     10-19 -0.693887\n",
              "2     20-29 -0.694543\n",
              "3     30-39 -0.699080\n",
              "4     40-49 -0.699877\n",
              "5     50-59 -0.701424\n",
              "6     60-69 -0.697167\n",
              "7     70-79 -0.693812\n",
              "8       80+ -0.697330"
            ]
          },
          "execution_count": 58,
          "metadata": {},
          "output_type": "execute_result"
        }
      ],
      "source": [
        "NDE = (\n",
        "    samples_dc_ti.groupby(\"Age group\")[\"CFR\"].mean()\n",
        "    - samples_dc_tc.groupby(\"Age group\")[\"CFR\"].mean()\n",
        ").reset_index(name=\"NDE\")\n",
        "NDE"
      ]
    },
    {
      "cell_type": "markdown",
      "metadata": {},
      "source": [
        "Как видим, в Китае разумено было бы применять итальянские методы лечения, так как CFR упал."
      ]
    },
    {
      "cell_type": "markdown",
      "metadata": {},
      "source": [
        "Теперь, наоборот, оцените, было бы эффективнее применять в Италии с его демографической ситуацией китайские методы лечения."
      ]
    },
    {
      "cell_type": "code",
      "execution_count": 59,
      "metadata": {},
      "outputs": [
        {
          "data": {
            "text/html": [
              "<div>\n",
              "<style scoped>\n",
              "    .dataframe tbody tr th:only-of-type {\n",
              "        vertical-align: middle;\n",
              "    }\n",
              "\n",
              "    .dataframe tbody tr th {\n",
              "        vertical-align: top;\n",
              "    }\n",
              "\n",
              "    .dataframe thead th {\n",
              "        text-align: right;\n",
              "    }\n",
              "</style>\n",
              "<table border=\"1\" class=\"dataframe\">\n",
              "  <thead>\n",
              "    <tr style=\"text-align: right;\">\n",
              "      <th></th>\n",
              "      <th>Age group</th>\n",
              "      <th>NDE_opposite</th>\n",
              "    </tr>\n",
              "  </thead>\n",
              "  <tbody>\n",
              "    <tr>\n",
              "      <th>0</th>\n",
              "      <td>0-9</td>\n",
              "      <td>0.702885</td>\n",
              "    </tr>\n",
              "    <tr>\n",
              "      <th>1</th>\n",
              "      <td>10-19</td>\n",
              "      <td>0.695573</td>\n",
              "    </tr>\n",
              "    <tr>\n",
              "      <th>2</th>\n",
              "      <td>20-29</td>\n",
              "      <td>0.694819</td>\n",
              "    </tr>\n",
              "    <tr>\n",
              "      <th>3</th>\n",
              "      <td>30-39</td>\n",
              "      <td>0.694903</td>\n",
              "    </tr>\n",
              "    <tr>\n",
              "      <th>4</th>\n",
              "      <td>40-49</td>\n",
              "      <td>0.699894</td>\n",
              "    </tr>\n",
              "    <tr>\n",
              "      <th>5</th>\n",
              "      <td>50-59</td>\n",
              "      <td>0.694227</td>\n",
              "    </tr>\n",
              "    <tr>\n",
              "      <th>6</th>\n",
              "      <td>60-69</td>\n",
              "      <td>0.693269</td>\n",
              "    </tr>\n",
              "    <tr>\n",
              "      <th>7</th>\n",
              "      <td>70-79</td>\n",
              "      <td>0.702510</td>\n",
              "    </tr>\n",
              "    <tr>\n",
              "      <th>8</th>\n",
              "      <td>80+</td>\n",
              "      <td>0.702467</td>\n",
              "    </tr>\n",
              "  </tbody>\n",
              "</table>\n",
              "</div>"
            ],
            "text/plain": [
              "  Age group  NDE_opposite\n",
              "0       0-9      0.702885\n",
              "1     10-19      0.695573\n",
              "2     20-29      0.694819\n",
              "3     30-39      0.694903\n",
              "4     40-49      0.699894\n",
              "5     50-59      0.694227\n",
              "6     60-69      0.693269\n",
              "7     70-79      0.702510\n",
              "8       80+      0.702467"
            ]
          },
          "execution_count": 59,
          "metadata": {},
          "output_type": "execute_result"
        }
      ],
      "source": [
        "samples_di_tc = gcm.interventional_samples(\n",
        "    causal_model,\n",
        "    interventions={\n",
        "        \"demography\": lambda t: \"Italy\",\n",
        "        \"treatment methods\": lambda t: \"China\",\n",
        "    },\n",
        "    num_samples_to_draw=100_000,\n",
        ")\n",
        "\n",
        "samples_di_ti = gcm.interventional_samples(\n",
        "    causal_model,\n",
        "    interventions={\n",
        "        \"demography\": lambda t: \"Italy\",\n",
        "        \"treatment methods\": lambda t: \"Italy\",\n",
        "    },\n",
        "    num_samples_to_draw=100_000,\n",
        ")\n",
        "\n",
        "NDE_opposite = (\n",
        "    samples_di_tc.groupby(\"Age group\")[\"CFR\"].mean()\n",
        "    - samples_di_ti.groupby(\"Age group\")[\"CFR\"].mean()\n",
        ").reset_index(name=\"NDE_opposite\")\n",
        "NDE_opposite"
      ]
    },
    {
      "cell_type": "markdown",
      "metadata": {},
      "source": [
        "Как видим нет, китайские методы повысили бы смертность."
      ]
    },
    {
      "cell_type": "markdown",
      "metadata": {},
      "source": [
        "Наконец, оценим, что было бы если в Китае с его методами лечения демографическая ситуация была бы такой же, как в Италии (Natural Indirect Effect). Какую величину при этом надо посчитать? Посчитайте ее."
      ]
    },
    {
      "cell_type": "code",
      "execution_count": 60,
      "metadata": {},
      "outputs": [
        {
          "data": {
            "text/html": [
              "<div>\n",
              "<style scoped>\n",
              "    .dataframe tbody tr th:only-of-type {\n",
              "        vertical-align: middle;\n",
              "    }\n",
              "\n",
              "    .dataframe tbody tr th {\n",
              "        vertical-align: top;\n",
              "    }\n",
              "\n",
              "    .dataframe thead th {\n",
              "        text-align: right;\n",
              "    }\n",
              "</style>\n",
              "<table border=\"1\" class=\"dataframe\">\n",
              "  <thead>\n",
              "    <tr style=\"text-align: right;\">\n",
              "      <th></th>\n",
              "      <th>Age group</th>\n",
              "      <th>NIE</th>\n",
              "    </tr>\n",
              "  </thead>\n",
              "  <tbody>\n",
              "    <tr>\n",
              "      <th>0</th>\n",
              "      <td>0-9</td>\n",
              "      <td>-0.001258</td>\n",
              "    </tr>\n",
              "    <tr>\n",
              "      <th>1</th>\n",
              "      <td>10-19</td>\n",
              "      <td>0.002783</td>\n",
              "    </tr>\n",
              "    <tr>\n",
              "      <th>2</th>\n",
              "      <td>20-29</td>\n",
              "      <td>0.002371</td>\n",
              "    </tr>\n",
              "    <tr>\n",
              "      <th>3</th>\n",
              "      <td>30-39</td>\n",
              "      <td>0.005844</td>\n",
              "    </tr>\n",
              "    <tr>\n",
              "      <th>4</th>\n",
              "      <td>40-49</td>\n",
              "      <td>0.002315</td>\n",
              "    </tr>\n",
              "    <tr>\n",
              "      <th>5</th>\n",
              "      <td>50-59</td>\n",
              "      <td>0.003672</td>\n",
              "    </tr>\n",
              "    <tr>\n",
              "      <th>6</th>\n",
              "      <td>60-69</td>\n",
              "      <td>-0.001671</td>\n",
              "    </tr>\n",
              "    <tr>\n",
              "      <th>7</th>\n",
              "      <td>70-79</td>\n",
              "      <td>0.007680</td>\n",
              "    </tr>\n",
              "    <tr>\n",
              "      <th>8</th>\n",
              "      <td>80+</td>\n",
              "      <td>-0.000943</td>\n",
              "    </tr>\n",
              "  </tbody>\n",
              "</table>\n",
              "</div>"
            ],
            "text/plain": [
              "  Age group       NIE\n",
              "0       0-9 -0.001258\n",
              "1     10-19  0.002783\n",
              "2     20-29  0.002371\n",
              "3     30-39  0.005844\n",
              "4     40-49  0.002315\n",
              "5     50-59  0.003672\n",
              "6     60-69 -0.001671\n",
              "7     70-79  0.007680\n",
              "8       80+ -0.000943"
            ]
          },
          "execution_count": 60,
          "metadata": {},
          "output_type": "execute_result"
        }
      ],
      "source": [
        "samples_di_tc = gcm.interventional_samples(\n",
        "    causal_model,\n",
        "    interventions={\n",
        "        \"demography\": lambda t: \"Italy\",\n",
        "        \"treatment methods\": lambda t: \"China\",\n",
        "    },\n",
        "    num_samples_to_draw=100_000,\n",
        ")\n",
        "\n",
        "samples_dc_ti = gcm.interventional_samples(\n",
        "    causal_model,\n",
        "    interventions={\n",
        "        \"demography\": lambda t: \"China\",\n",
        "        \"treatment methods\": lambda t: \"China\",\n",
        "    },\n",
        "    num_samples_to_draw=100_000,\n",
        ")\n",
        "\n",
        "NIE = (\n",
        "    samples_di_tc.groupby(\"Age group\")[\"CFR\"].mean()\n",
        "    - samples_dc_ti.groupby(\"Age group\")[\"CFR\"].mean()\n",
        ").reset_index(name=\"NIE\")\n",
        "NIE"
      ]
    },
    {
      "cell_type": "markdown",
      "metadata": {},
      "source": [
        "Как видим, в случае демографического положения в Китае, как в Италии, китайские методы показали бы меньшую эффективность(то есть CFR был бы больше)."
      ]
    },
    {
      "cell_type": "markdown",
      "metadata": {},
      "source": [
        "Сделайте выводы."
      ]
    },
    {
      "cell_type": "markdown",
      "metadata": {},
      "source": [
        "* Китай применял неэффективные методы лечения.\n",
        "\n",
        "* Китайские методы лечения не эффективно перекладывать на Италию\n",
        "\n",
        "* Китайские методы лечения лучше работают на китайцах, чем на итальянцах."
      ]
    },
    {
      "cell_type": "markdown",
      "metadata": {},
      "source": [
        "**4.** Наконец, сравните между собой некоторые другие страны. Каким странам вы рекомендовали бы поменять методы лечения на начальном этапе?"
      ]
    },
    {
      "cell_type": "code",
      "execution_count": 61,
      "metadata": {},
      "outputs": [],
      "source": [
        "def calculate_cfr_effects(df, country_1, country_2):\n",
        "    df = df.copy()  # Создание копии, чтобы избежать предупреждений\n",
        "    df.loc[:, \"demography\"] = covid_df[\"Country\"].values\n",
        "    df.loc[:, \"treatment methods\"] = covid_df[\"Country\"].values\n",
        "    df[\"CFR\"] = df[\"Confirmed fatalities\"] / df[\"Confirmed cases\"] * 100\n",
        "\n",
        "    \n",
        "    causal_model = gcm.StructuralCausalModel(causal_graph)\n",
        "\n",
        "    causal_model.set_causal_mechanism(\"demography\", gcm.EmpiricalDistribution())\n",
        "    causal_model.set_causal_mechanism(\"treatment methods\", gcm.EmpiricalDistribution())\n",
        "    causal_model.set_causal_mechanism(\"Age group\", gcm.ClassifierFCM())\n",
        "    causal_model.set_causal_mechanism(\n",
        "        \"CFR\", gcm.AdditiveNoiseModel(gcm.ml.create_linear_regressor())\n",
        "    )\n",
        "\n",
        "    gcm.fit(causal_model, df)\n",
        "\n",
        "    # NDE (Natural Direct Effect)\n",
        "    samples_dc_ti = gcm.interventional_samples(\n",
        "        causal_model,\n",
        "        interventions={\n",
        "            \"demography\": lambda t: country_1,\n",
        "            \"treatment methods\": lambda t: country_2,\n",
        "        },\n",
        "        num_samples_to_draw=100_000,\n",
        "    )\n",
        "\n",
        "    samples_dc_tc = gcm.interventional_samples(\n",
        "        causal_model,\n",
        "        interventions={\n",
        "            \"demography\": lambda t: country_1,\n",
        "            \"treatment methods\": lambda t: country_1,\n",
        "        },\n",
        "        num_samples_to_draw=100_000,\n",
        "    )\n",
        "\n",
        "    NDE = (\n",
        "        samples_dc_ti.groupby(\"Age group\")[\"CFR\"].mean()\n",
        "        - samples_dc_tc.groupby(\"Age group\")[\"CFR\"].mean()\n",
        "    ).reset_index(name=\"NDE\")\n",
        "    print(f\"NDE for {country_1} and {country_2}:\")\n",
        "    display(NDE)\n",
        "\n",
        "    # NDE (opposite effect)\n",
        "    samples_di_tc = gcm.interventional_samples(\n",
        "        causal_model,\n",
        "        interventions={\n",
        "            \"demography\": lambda t: country_2,\n",
        "            \"treatment methods\": lambda t: country_1,\n",
        "        },\n",
        "        num_samples_to_draw=100_000,\n",
        "    )\n",
        "\n",
        "    samples_di_ti = gcm.interventional_samples(\n",
        "        causal_model,\n",
        "        interventions={\n",
        "            \"demography\": lambda t: country_2,\n",
        "            \"treatment methods\": lambda t: country_2,\n",
        "        },\n",
        "        num_samples_to_draw=100_000,\n",
        "    )\n",
        "\n",
        "    NDE_opposite = (\n",
        "        samples_di_tc.groupby(\"Age group\")[\"CFR\"].mean()\n",
        "        - samples_di_ti.groupby(\"Age group\")[\"CFR\"].mean()\n",
        "    ).reset_index(name=\"NDE_opposite\")\n",
        "    print(f\"NDE (opposite effect) for {country_2} and {country_1}:\")\n",
        "    display(NDE_opposite)\n",
        "\n",
        "    # NIE (Natural Indirect Effect)\n",
        "    samples_di_tc = gcm.interventional_samples(\n",
        "        causal_model,\n",
        "        interventions={\n",
        "            \"demography\": lambda t: country_2,\n",
        "            \"treatment methods\": lambda t: country_1,\n",
        "        },\n",
        "        num_samples_to_draw=100_000,\n",
        "    )\n",
        "\n",
        "    samples_dc_ti = gcm.interventional_samples(\n",
        "        causal_model,\n",
        "        interventions={\n",
        "            \"demography\": lambda t: country_1,\n",
        "            \"treatment methods\": lambda t: country_1,\n",
        "        },\n",
        "        num_samples_to_draw=100_000,\n",
        "    )\n",
        "\n",
        "    NIE = (\n",
        "        samples_di_tc.groupby(\"Age group\")[\"CFR\"].mean()\n",
        "        - samples_dc_ti.groupby(\"Age group\")[\"CFR\"].mean()\n",
        "    ).reset_index(name=\"NIE\")\n",
        "    print(f\"NIE for {country_2} with {country_1}'s treatment:\")\n",
        "    display(NIE)"
      ]
    },
    {
      "cell_type": "code",
      "execution_count": 62,
      "metadata": {},
      "outputs": [],
      "source": [
        "covid_df = pd.read_csv(\"covid_data.csv\").drop(columns=[\"Unnamed: 0\"])"
      ]
    },
    {
      "cell_type": "code",
      "execution_count": 63,
      "metadata": {},
      "outputs": [
        {
          "name": "stderr",
          "output_type": "stream",
          "text": [
            "Fitting causal mechanism of node CFR: 100%|██████████| 4/4 [00:04<00:00,  1.05s/it]              \n"
          ]
        },
        {
          "name": "stdout",
          "output_type": "stream",
          "text": [
            "NDE for Sweden and South Korea:\n"
          ]
        },
        {
          "data": {
            "text/html": [
              "<div>\n",
              "<style scoped>\n",
              "    .dataframe tbody tr th:only-of-type {\n",
              "        vertical-align: middle;\n",
              "    }\n",
              "\n",
              "    .dataframe tbody tr th {\n",
              "        vertical-align: top;\n",
              "    }\n",
              "\n",
              "    .dataframe thead th {\n",
              "        text-align: right;\n",
              "    }\n",
              "</style>\n",
              "<table border=\"1\" class=\"dataframe\">\n",
              "  <thead>\n",
              "    <tr style=\"text-align: right;\">\n",
              "      <th></th>\n",
              "      <th>Age group</th>\n",
              "      <th>NDE</th>\n",
              "    </tr>\n",
              "  </thead>\n",
              "  <tbody>\n",
              "    <tr>\n",
              "      <th>0</th>\n",
              "      <td>0-9</td>\n",
              "      <td>-3.290741</td>\n",
              "    </tr>\n",
              "    <tr>\n",
              "      <th>1</th>\n",
              "      <td>10-19</td>\n",
              "      <td>-3.320330</td>\n",
              "    </tr>\n",
              "    <tr>\n",
              "      <th>2</th>\n",
              "      <td>20-29</td>\n",
              "      <td>-3.355638</td>\n",
              "    </tr>\n",
              "    <tr>\n",
              "      <th>3</th>\n",
              "      <td>30-39</td>\n",
              "      <td>-3.237807</td>\n",
              "    </tr>\n",
              "    <tr>\n",
              "      <th>4</th>\n",
              "      <td>40-49</td>\n",
              "      <td>-3.287748</td>\n",
              "    </tr>\n",
              "    <tr>\n",
              "      <th>5</th>\n",
              "      <td>50-59</td>\n",
              "      <td>-3.325525</td>\n",
              "    </tr>\n",
              "    <tr>\n",
              "      <th>6</th>\n",
              "      <td>60-69</td>\n",
              "      <td>-3.406964</td>\n",
              "    </tr>\n",
              "    <tr>\n",
              "      <th>7</th>\n",
              "      <td>70-79</td>\n",
              "      <td>-3.381594</td>\n",
              "    </tr>\n",
              "    <tr>\n",
              "      <th>8</th>\n",
              "      <td>80+</td>\n",
              "      <td>-3.295947</td>\n",
              "    </tr>\n",
              "  </tbody>\n",
              "</table>\n",
              "</div>"
            ],
            "text/plain": [
              "  Age group       NDE\n",
              "0       0-9 -3.290741\n",
              "1     10-19 -3.320330\n",
              "2     20-29 -3.355638\n",
              "3     30-39 -3.237807\n",
              "4     40-49 -3.287748\n",
              "5     50-59 -3.325525\n",
              "6     60-69 -3.406964\n",
              "7     70-79 -3.381594\n",
              "8       80+ -3.295947"
            ]
          },
          "metadata": {},
          "output_type": "display_data"
        },
        {
          "name": "stdout",
          "output_type": "stream",
          "text": [
            "NDE (opposite effect) for South Korea and Sweden:\n"
          ]
        },
        {
          "data": {
            "text/html": [
              "<div>\n",
              "<style scoped>\n",
              "    .dataframe tbody tr th:only-of-type {\n",
              "        vertical-align: middle;\n",
              "    }\n",
              "\n",
              "    .dataframe tbody tr th {\n",
              "        vertical-align: top;\n",
              "    }\n",
              "\n",
              "    .dataframe thead th {\n",
              "        text-align: right;\n",
              "    }\n",
              "</style>\n",
              "<table border=\"1\" class=\"dataframe\">\n",
              "  <thead>\n",
              "    <tr style=\"text-align: right;\">\n",
              "      <th></th>\n",
              "      <th>Age group</th>\n",
              "      <th>NDE_opposite</th>\n",
              "    </tr>\n",
              "  </thead>\n",
              "  <tbody>\n",
              "    <tr>\n",
              "      <th>0</th>\n",
              "      <td>0-9</td>\n",
              "      <td>3.330309</td>\n",
              "    </tr>\n",
              "    <tr>\n",
              "      <th>1</th>\n",
              "      <td>10-19</td>\n",
              "      <td>3.311366</td>\n",
              "    </tr>\n",
              "    <tr>\n",
              "      <th>2</th>\n",
              "      <td>20-29</td>\n",
              "      <td>3.312627</td>\n",
              "    </tr>\n",
              "    <tr>\n",
              "      <th>3</th>\n",
              "      <td>30-39</td>\n",
              "      <td>3.296344</td>\n",
              "    </tr>\n",
              "    <tr>\n",
              "      <th>4</th>\n",
              "      <td>40-49</td>\n",
              "      <td>3.343474</td>\n",
              "    </tr>\n",
              "    <tr>\n",
              "      <th>5</th>\n",
              "      <td>50-59</td>\n",
              "      <td>3.274090</td>\n",
              "    </tr>\n",
              "    <tr>\n",
              "      <th>6</th>\n",
              "      <td>60-69</td>\n",
              "      <td>3.377182</td>\n",
              "    </tr>\n",
              "    <tr>\n",
              "      <th>7</th>\n",
              "      <td>70-79</td>\n",
              "      <td>3.268914</td>\n",
              "    </tr>\n",
              "    <tr>\n",
              "      <th>8</th>\n",
              "      <td>80+</td>\n",
              "      <td>3.300024</td>\n",
              "    </tr>\n",
              "  </tbody>\n",
              "</table>\n",
              "</div>"
            ],
            "text/plain": [
              "  Age group  NDE_opposite\n",
              "0       0-9      3.330309\n",
              "1     10-19      3.311366\n",
              "2     20-29      3.312627\n",
              "3     30-39      3.296344\n",
              "4     40-49      3.343474\n",
              "5     50-59      3.274090\n",
              "6     60-69      3.377182\n",
              "7     70-79      3.268914\n",
              "8       80+      3.300024"
            ]
          },
          "metadata": {},
          "output_type": "display_data"
        },
        {
          "name": "stdout",
          "output_type": "stream",
          "text": [
            "NIE for South Korea with Sweden's treatment:\n"
          ]
        },
        {
          "data": {
            "text/html": [
              "<div>\n",
              "<style scoped>\n",
              "    .dataframe tbody tr th:only-of-type {\n",
              "        vertical-align: middle;\n",
              "    }\n",
              "\n",
              "    .dataframe tbody tr th {\n",
              "        vertical-align: top;\n",
              "    }\n",
              "\n",
              "    .dataframe thead th {\n",
              "        text-align: right;\n",
              "    }\n",
              "</style>\n",
              "<table border=\"1\" class=\"dataframe\">\n",
              "  <thead>\n",
              "    <tr style=\"text-align: right;\">\n",
              "      <th></th>\n",
              "      <th>Age group</th>\n",
              "      <th>NIE</th>\n",
              "    </tr>\n",
              "  </thead>\n",
              "  <tbody>\n",
              "    <tr>\n",
              "      <th>0</th>\n",
              "      <td>0-9</td>\n",
              "      <td>-0.095541</td>\n",
              "    </tr>\n",
              "    <tr>\n",
              "      <th>1</th>\n",
              "      <td>10-19</td>\n",
              "      <td>0.014478</td>\n",
              "    </tr>\n",
              "    <tr>\n",
              "      <th>2</th>\n",
              "      <td>20-29</td>\n",
              "      <td>-0.130360</td>\n",
              "    </tr>\n",
              "    <tr>\n",
              "      <th>3</th>\n",
              "      <td>30-39</td>\n",
              "      <td>0.036026</td>\n",
              "    </tr>\n",
              "    <tr>\n",
              "      <th>4</th>\n",
              "      <td>40-49</td>\n",
              "      <td>0.078882</td>\n",
              "    </tr>\n",
              "    <tr>\n",
              "      <th>5</th>\n",
              "      <td>50-59</td>\n",
              "      <td>-0.023455</td>\n",
              "    </tr>\n",
              "    <tr>\n",
              "      <th>6</th>\n",
              "      <td>60-69</td>\n",
              "      <td>-0.060267</td>\n",
              "    </tr>\n",
              "    <tr>\n",
              "      <th>7</th>\n",
              "      <td>70-79</td>\n",
              "      <td>-0.015391</td>\n",
              "    </tr>\n",
              "    <tr>\n",
              "      <th>8</th>\n",
              "      <td>80+</td>\n",
              "      <td>-0.062718</td>\n",
              "    </tr>\n",
              "  </tbody>\n",
              "</table>\n",
              "</div>"
            ],
            "text/plain": [
              "  Age group       NIE\n",
              "0       0-9 -0.095541\n",
              "1     10-19  0.014478\n",
              "2     20-29 -0.130360\n",
              "3     30-39  0.036026\n",
              "4     40-49  0.078882\n",
              "5     50-59 -0.023455\n",
              "6     60-69 -0.060267\n",
              "7     70-79 -0.015391\n",
              "8       80+ -0.062718"
            ]
          },
          "metadata": {},
          "output_type": "display_data"
        }
      ],
      "source": [
        "calculate_cfr_effects(covid_df, \"Sweden\", \"South Korea\")"
      ]
    },
    {
      "cell_type": "markdown",
      "metadata": {},
      "source": [
        "Возможно Южной Корее стоило применять методы лечения Швеции."
      ]
    },
    {
      "cell_type": "markdown",
      "metadata": {},
      "source": [
        "---\n",
        "\n",
        "### Задача 3.\n",
        "\n",
        "Случайный вектор $V = (X, Y, Z)$ определяется следующим образом\n",
        "\t$$X = \\varepsilon_1,$$\n",
        "\t$$Y = \\alpha X + \\varepsilon_2,$$\n",
        "\t$$Z = \\beta Y + \\gamma X + \\varepsilon_3,$$\n",
        "\tгде $(\\varepsilon_1, \\varepsilon_2, \\varepsilon_3) \\sim \\mathcal{N}(0, I_3)$."
      ]
    },
    {
      "cell_type": "markdown",
      "metadata": {},
      "source": [
        "Нарисуйте граф причинно-следственных связей, соответствующий данной модели. Выпишите плотность вектора $V$."
      ]
    },
    {
      "cell_type": "code",
      "execution_count": 64,
      "metadata": {},
      "outputs": [
        {
          "data": {
            "image/png": "[encoded data removed]",
            "text/plain": [
              "<Figure size 1000x800 with 1 Axes>"
            ]
          },
          "metadata": {},
          "output_type": "display_data"
        }
      ],
      "source": [
        "causal_graph = nx.DiGraph([\n",
        "    (\"X\", \"Y\"),\n",
        "    (\"X\", \"Z\"),\n",
        "    (\"Y\", \"Z\"),\n",
        "])\n",
        "\n",
        "plt.figure(figsize=(10, 8))\n",
        "nx.draw_networkx(causal_graph, **options)\n",
        "ax = plt.gca()\n",
        "ax.margins(0.20)\n",
        "plt.axis(\"off\")\n",
        "plt.show()"
      ]
    },
    {
      "cell_type": "markdown",
      "metadata": {},
      "source": [
        "\n",
        "$p(V) = p(X) \\cdot p(Y|X) \\cdot p(Z| X, Y)$"
      ]
    },
    {
      "cell_type": "markdown",
      "metadata": {},
      "source": [
        "Посчитайте $\\rho$ &mdash; корреляцию между $Y$ и $Z$. \n",
        "\n",
        "*Указание*: воспользуйтесь аддитивностью параметра сдвига."
      ]
    },
    {
      "cell_type": "markdown",
      "metadata": {},
      "source": [
        "$cov(Y, Z) = cov(\\alpha X + \\varepsilon_2, \\beta (\\alpha X + \\varepsilon_2) + \\gamma X + \\varepsilon_3) =\\\n",
        "\\alpha^2 \\beta DX + \\alpha\\gamma DX + \\beta D\\varepsilon_2 = \\alpha^2 \\beta  + \\alpha\\gamma  + \\beta \n",
        "$\n",
        "\n",
        "$DY = \\alpha^2 + 1$\n",
        "\n",
        "$DZ = \\beta^2 (\\alpha^2 + 1) + \\gamma^2 + 1 + 2 \\alpha \\beta \\gamma$\n",
        "\n",
        "$\\rho = \\frac{cov(Y, Z)}{\\sqrt{DY \\cdot DZ}} = \\frac{\\alpha^2 \\beta  + \\alpha\\gamma  + \\beta }{\\sqrt{(\\alpha^2 + 1)\\cdot(\\beta^2 (\\alpha^2 + 1) + \\gamma^2 + 1 + 2 \\alpha \\beta \\gamma)}}$"
      ]
    },
    {
      "cell_type": "code",
      "execution_count": 65,
      "metadata": {},
      "outputs": [
        {
          "data": {
            "text/html": [
              "<div>\n",
              "<style scoped>\n",
              "    .dataframe tbody tr th:only-of-type {\n",
              "        vertical-align: middle;\n",
              "    }\n",
              "\n",
              "    .dataframe tbody tr th {\n",
              "        vertical-align: top;\n",
              "    }\n",
              "\n",
              "    .dataframe thead th {\n",
              "        text-align: right;\n",
              "    }\n",
              "</style>\n",
              "<table border=\"1\" class=\"dataframe\">\n",
              "  <thead>\n",
              "    <tr style=\"text-align: right;\">\n",
              "      <th></th>\n",
              "      <th>X</th>\n",
              "      <th>Y</th>\n",
              "      <th>Z</th>\n",
              "    </tr>\n",
              "  </thead>\n",
              "  <tbody>\n",
              "    <tr>\n",
              "      <th>0</th>\n",
              "      <td>-0.697654</td>\n",
              "      <td>-0.459186</td>\n",
              "      <td>-7.864527</td>\n",
              "    </tr>\n",
              "    <tr>\n",
              "      <th>1</th>\n",
              "      <td>2.082703</td>\n",
              "      <td>4.810933</td>\n",
              "      <td>35.790322</td>\n",
              "    </tr>\n",
              "    <tr>\n",
              "      <th>2</th>\n",
              "      <td>0.144337</td>\n",
              "      <td>-1.671658</td>\n",
              "      <td>-3.778520</td>\n",
              "    </tr>\n",
              "    <tr>\n",
              "      <th>3</th>\n",
              "      <td>1.022824</td>\n",
              "      <td>1.609395</td>\n",
              "      <td>15.554473</td>\n",
              "    </tr>\n",
              "    <tr>\n",
              "      <th>4</th>\n",
              "      <td>-2.206845</td>\n",
              "      <td>-1.622861</td>\n",
              "      <td>-26.926764</td>\n",
              "    </tr>\n",
              "  </tbody>\n",
              "</table>\n",
              "</div>"
            ],
            "text/plain": [
              "          X         Y          Z\n",
              "0 -0.697654 -0.459186  -7.864527\n",
              "1  2.082703  4.810933  35.790322\n",
              "2  0.144337 -1.671658  -3.778520\n",
              "3  1.022824  1.609395  15.554473\n",
              "4 -2.206845 -1.622861 -26.926764"
            ]
          },
          "execution_count": 65,
          "metadata": {},
          "output_type": "execute_result"
        }
      ],
      "source": [
        "alpha = 2\n",
        "beta = 3\n",
        "gamma = 10\n",
        "\n",
        "X = np.random.normal(loc=0, scale=1, size=10000)\n",
        "Y = alpha * X + np.random.normal(loc=0, scale=1, size=10000)\n",
        "Z = beta * Y +gamma * X + np.random.normal(loc=0, scale=1, size=10000)\n",
        "\n",
        "data = pd.DataFrame(data=dict(X=X, Y=Y, Z=Z))\n",
        "data.head()"
      ]
    },
    {
      "cell_type": "markdown",
      "metadata": {},
      "source": [
        "Теоретический коэффициент корреляции\n"
      ]
    },
    {
      "cell_type": "code",
      "execution_count": 66,
      "metadata": {},
      "outputs": [
        {
          "name": "stdout",
          "output_type": "stream",
          "text": [
            "Теоретический коэффициент корреляции ρ = 0.9597\n"
          ]
        }
      ],
      "source": [
        "import numpy as np\n",
        "\n",
        "def calculate_rho(alpha, beta, gamma):\n",
        "    numerator = (alpha**2) * beta + alpha * gamma + beta\n",
        "    \n",
        "    DY = alpha**2 + 1  # Дисперсия Y\n",
        "    DZ = (beta**2) * (alpha**2 + 1) + gamma**2 + 1 + 2 * alpha * beta * gamma\n",
        "    denominator = np.sqrt(DY * DZ)\n",
        "    \n",
        "    rho = numerator / denominator\n",
        "    \n",
        "    return rho\n",
        "\n",
        "rho = calculate_rho(alpha, beta, gamma)\n",
        "print(f\"Теоретический коэффициент корреляции ρ = {rho:.4f}\")"
      ]
    },
    {
      "cell_type": "markdown",
      "metadata": {},
      "source": [
        "Оценка"
      ]
    },
    {
      "cell_type": "code",
      "execution_count": 67,
      "metadata": {},
      "outputs": [
        {
          "name": "stdout",
          "output_type": "stream",
          "text": [
            "Корреляция между Y и Z: 0.960\n"
          ]
        }
      ],
      "source": [
        "correlation = data['Y'].corr(data['Z'])\n",
        "\n",
        "print(f\"Корреляция между Y и Z: {correlation:.3f}\")"
      ]
    },
    {
      "cell_type": "markdown",
      "metadata": {},
      "source": [
        "Как видим, мы все нашли верно"
      ]
    },
    {
      "cell_type": "markdown",
      "metadata": {},
      "source": [
        "Ожидаемо величины почти линейно зависимы."
      ]
    },
    {
      "cell_type": "markdown",
      "metadata": {},
      "source": [
        "Предположим, что величина $X$ не наблюдаема. Можно ли утверждать, что $Y$ влечет $Z$, если $\\rho\\not=0$?"
      ]
    },
    {
      "cell_type": "markdown",
      "metadata": {},
      "source": [
        "Нет, так как вносить зависимость может X, при условии $\\alpha \\not= 0$\n"
      ]
    },
    {
      "cell_type": "markdown",
      "metadata": {},
      "source": [
        "Ответьте на предыдущий вопрос, если известно, что $\\alpha=0$."
      ]
    },
    {
      "cell_type": "markdown",
      "metadata": {},
      "source": [
        "Да, так как Y наблюдаем, а не наблюдаемый X не влияет, то можно утверждать, что Y влечет Z"
      ]
    },
    {
      "cell_type": "markdown",
      "metadata": {},
      "source": [
        "---\n",
        "\n",
        "### Задача 4.\n",
        "\n",
        "В условиях предыдущей задачи посчитайте $\\mathsf{E} (Z | Y=y)$ и $\\mathsf{E} (Z | Y:=y)$. Сравните результаты между собой, построив несколько графиков для разных значений $y$ и параметров $\\alpha, \\beta, \\gamma$.\n",
        "\n",
        "*Указания.*\n",
        "Теоретические вычисления могут быть довольно затруднительными, хотя довести их до конца вполне реально. В таком случае воспользуйтесь численными методами. Перебрав несколько вариантов численными методам можно получить полный балл за задачу.\n",
        "1. Для $\\mathsf{E} (Z | Y=y)$ можно свести ответ к интегралу, который посчитать методом Монте-Карло.\n",
        "2. Для $\\mathsf{E} (Z | Y:=y)$ можно сразу выполнить простое семплирование при интервенции."
      ]
    },
    {
      "cell_type": "code",
      "execution_count": 68,
      "metadata": {},
      "outputs": [],
      "source": [
        "def plot_conditional_expectation(x_values, y_values_list, labels, title=None):\n",
        "\n",
        "    plt.figure(figsize=(10, 6))\n",
        "    for y_values, label in zip(y_values_list, labels):\n",
        "        plt.plot(x_values, y_values, label=label)\n",
        "    plt.xlabel(\"y\")\n",
        "    plt.ylabel(\"Expectation\")\n",
        "    plt.title(title)\n",
        "    plt.legend()\n",
        "    plt.grid(True)\n",
        "    plt.tight_layout()\n",
        "    plt.show()"
      ]
    },
    {
      "cell_type": "code",
      "execution_count": 69,
      "metadata": {},
      "outputs": [],
      "source": [
        "num_iter = 100\n",
        "sample_size = 100_000"
      ]
    },
    {
      "cell_type": "markdown",
      "metadata": {},
      "source": [
        "1)\n",
        "\n",
        "$$\n",
        "E(Z|Y=y) = E(\\beta Y + \\gamma X |Y=y) = \\beta y + \\gamma E(X|Y=y) = \\beta y + \\gamma \\int\\limits_{\\mathbb{R}} x \\cdot p_{X|Y}(x|y) dx = \\beta y + \\frac{\\gamma}{p_Y(y)} \\int\\limits_{\\mathbb{R}} x \\cdot p_{X, Y}(x,y) dx\n",
        "$$"
      ]
    },
    {
      "cell_type": "code",
      "execution_count": 70,
      "metadata": {},
      "outputs": [],
      "source": [
        "def conditional_expectation(alpha, beta, gamma, y, sample_size=10000):\n",
        "    X = sps.norm(loc=0, scale=1).rvs(size=sample_size)\n",
        "    density_Yy = sps.norm(loc=0, scale=np.sqrt(1 + alpha ** 2)).pdf(y)\n",
        "    \n",
        "    mean = [0, 0]\n",
        "    cov = [[1, alpha], [alpha, alpha**2 + 1]]\n",
        "    mvn = sps.multivariate_normal(mean=mean, cov=cov)\n",
        "    \n",
        "    points = np.column_stack([X, np.full_like(X, y)])\n",
        "    joint_density = mvn.pdf(points)\n",
        "    \n",
        "    expectation = beta * y + gamma * np.mean(X * joint_density) / density_Yy  \n",
        "    return expectation\n"
      ]
    },
    {
      "cell_type": "markdown",
      "metadata": {},
      "source": [
        "2) \n"
      ]
    },
    {
      "cell_type": "code",
      "execution_count": 71,
      "metadata": {},
      "outputs": [],
      "source": [
        "def compare_conditional_and_interventional_expectation(\n",
        "    alpha, beta, gamma, num_dots=1000, sample_size=10000\n",
        "):\n",
        "    np.random.seed(0)\n",
        "    eps1 = np.random.normal(0, 1, sample_size)\n",
        "    eps2 = np.random.normal(0, 1, sample_size)\n",
        "    eps3 = np.random.normal(0, 1, sample_size)\n",
        "\n",
        "    X = eps1\n",
        "    Y = alpha * X + eps2\n",
        "    Z = beta * Y + gamma * X + eps3\n",
        "\n",
        "    data = pd.DataFrame({\"X\": X, \"Y\": Y, \"Z\": Z})\n",
        "\n",
        "    # 2. Граф причинности\n",
        "    causal_graph = nx.DiGraph([(\"X\", \"Y\"), (\"X\", \"Z\"), (\"Y\", \"Z\")])\n",
        "\n",
        "    # 3. Ожидания по y\n",
        "    y_values = np.linspace(-10, 10, num_dots)\n",
        "\n",
        "    expectations_conditional = [\n",
        "        conditional_expectation(alpha, beta, gamma, y, sample_size)\n",
        "        for y in tqdm(y_values, desc=\"E[Z | Y = y]\")\n",
        "    ]\n",
        "\n",
        "    # 4. Интервенционное ожидание\n",
        "    causal_model = gcm.StructuralCausalModel(causal_graph)\n",
        "\n",
        "    causal_model.set_causal_mechanism(\"X\", gcm.EmpiricalDistribution())\n",
        "    causal_model.set_causal_mechanism(\n",
        "        \"Y\", gcm.AdditiveNoiseModel(gcm.ml.create_linear_regressor())\n",
        "    )\n",
        "    causal_model.set_causal_mechanism(\n",
        "        \"Z\", gcm.AdditiveNoiseModel(gcm.ml.create_linear_regressor())\n",
        "    )\n",
        "\n",
        "    gcm.fit(causal_model, data)\n",
        "\n",
        "    expectations_interventional = np.array(\n",
        "        [\n",
        "            np.mean(\n",
        "                gcm.interventional_samples(\n",
        "                    causal_model, {\"Y\": lambda t: y}, num_samples_to_draw=sample_size\n",
        "                )[\"Z\"]\n",
        "            )\n",
        "            for y in tqdm(y_values, desc=\"E[Z | Y := y]\")\n",
        "        ]\n",
        "    )\n",
        "\n",
        "    # 5. График\n",
        "    plot_conditional_expectation(\n",
        "        y_values,\n",
        "        [expectations_conditional, expectations_interventional],\n",
        "        [\"E(Z | Y=y)\", \"E(Z | Y:=y)\"],\n",
        "        title=rf\"$\\alpha={alpha}, \\beta={beta}, \\gamma={gamma}$\",\n",
        "    )"
      ]
    },
    {
      "cell_type": "code",
      "execution_count": 72,
      "metadata": {},
      "outputs": [
        {
          "data": {
            "application/vnd.jupyter.widget-view+json": {
              "model_id": "298cf0a7d30c4072a3da3090a7ecafee",
              "version_major": 2,
              "version_minor": 0
            },
            "text/plain": [
              "E[Z | Y = y]:   0%|          | 0/100 [00:00<?, ?it/s]"
            ]
          },
          "metadata": {},
          "output_type": "display_data"
        },
        {
          "name": "stderr",
          "output_type": "stream",
          "text": [
            "Fitting causal mechanism of node Z: 100%|██████████| 3/3 [00:00<00:00, 18.71it/s]\n"
          ]
        },
        {
          "data": {
            "application/vnd.jupyter.widget-view+json": {
              "model_id": "88758ea12e25419fad9f7c0f760ee72b",
              "version_major": 2,
              "version_minor": 0
            },
            "text/plain": [
              "E[Z | Y := y]:   0%|          | 0/100 [00:00<?, ?it/s]"
            ]
          },
          "metadata": {},
          "output_type": "display_data"
        },
        {
          "data": {
            "image/png": "[encoded data removed]",
            "text/plain": [
              "<Figure size 1000x600 with 1 Axes>"
            ]
          },
          "metadata": {},
          "output_type": "display_data"
        }
      ],
      "source": [
        "compare_conditional_and_interventional_expectation(5, 5, 1, num_iter, sample_size)"
      ]
    },
    {
      "cell_type": "code",
      "execution_count": 73,
      "metadata": {},
      "outputs": [
        {
          "data": {
            "application/vnd.jupyter.widget-view+json": {
              "model_id": "380f1d09c34b4eb7ab007e145704ab9b",
              "version_major": 2,
              "version_minor": 0
            },
            "text/plain": [
              "E[Z | Y = y]:   0%|          | 0/100 [00:00<?, ?it/s]"
            ]
          },
          "metadata": {},
          "output_type": "display_data"
        },
        {
          "name": "stderr",
          "output_type": "stream",
          "text": [
            "Fitting causal mechanism of node Z: 100%|██████████| 3/3 [00:00<00:00, 77.11it/s]\n"
          ]
        },
        {
          "data": {
            "application/vnd.jupyter.widget-view+json": {
              "model_id": "17812ee5f0234fdb8a7e4a1e7e1afc30",
              "version_major": 2,
              "version_minor": 0
            },
            "text/plain": [
              "E[Z | Y := y]:   0%|          | 0/100 [00:00<?, ?it/s]"
            ]
          },
          "metadata": {},
          "output_type": "display_data"
        },
        {
          "data": {
            "image/png": "[encoded data removed]",
            "text/plain": [
              "<Figure size 1000x600 with 1 Axes>"
            ]
          },
          "metadata": {},
          "output_type": "display_data"
        }
      ],
      "source": [
        "compare_conditional_and_interventional_expectation(20, 1, 100, num_iter, sample_size)"
      ]
    },
    {
      "cell_type": "code",
      "execution_count": 74,
      "metadata": {},
      "outputs": [
        {
          "data": {
            "application/vnd.jupyter.widget-view+json": {
              "model_id": "8815d959a8f943a08e332dd20dce1989",
              "version_major": 2,
              "version_minor": 0
            },
            "text/plain": [
              "E[Z | Y = y]:   0%|          | 0/100 [00:00<?, ?it/s]"
            ]
          },
          "metadata": {},
          "output_type": "display_data"
        },
        {
          "name": "stderr",
          "output_type": "stream",
          "text": [
            "Fitting causal mechanism of node Z: 100%|██████████| 3/3 [00:00<00:00, 52.12it/s]\n"
          ]
        },
        {
          "data": {
            "application/vnd.jupyter.widget-view+json": {
              "model_id": "eb13edce881542fd995f3a4f7796cc7a",
              "version_major": 2,
              "version_minor": 0
            },
            "text/plain": [
              "E[Z | Y := y]:   0%|          | 0/100 [00:00<?, ?it/s]"
            ]
          },
          "metadata": {},
          "output_type": "display_data"
        },
        {
          "data": {
            "image/png": "[encoded data removed]",
            "text/plain": [
              "<Figure size 1000x600 with 1 Axes>"
            ]
          },
          "metadata": {},
          "output_type": "display_data"
        }
      ],
      "source": [
        "compare_conditional_and_interventional_expectation(20, 1, 1000, num_iter, sample_size)"
      ]
    },
    {
      "cell_type": "code",
      "execution_count": 75,
      "metadata": {},
      "outputs": [
        {
          "data": {
            "application/vnd.jupyter.widget-view+json": {
              "model_id": "1e5e214cda474916b7669a81eee7db4b",
              "version_major": 2,
              "version_minor": 0
            },
            "text/plain": [
              "E[Z | Y = y]:   0%|          | 0/100 [00:00<?, ?it/s]"
            ]
          },
          "metadata": {},
          "output_type": "display_data"
        },
        {
          "name": "stderr",
          "output_type": "stream",
          "text": [
            "Fitting causal mechanism of node Z: 100%|██████████| 3/3 [00:00<00:00, 46.03it/s]\n"
          ]
        },
        {
          "data": {
            "application/vnd.jupyter.widget-view+json": {
              "model_id": "ab9624c61f3e4cf0ad4605fc21a554d5",
              "version_major": 2,
              "version_minor": 0
            },
            "text/plain": [
              "E[Z | Y := y]:   0%|          | 0/100 [00:00<?, ?it/s]"
            ]
          },
          "metadata": {},
          "output_type": "display_data"
        },
        {
          "data": {
            "image/png": "[encoded data removed]",
            "text/plain": [
              "<Figure size 1000x600 with 1 Axes>"
            ]
          },
          "metadata": {},
          "output_type": "display_data"
        }
      ],
      "source": [
        "compare_conditional_and_interventional_expectation(5, 5, 30, num_iter, sample_size)"
      ]
    },
    {
      "cell_type": "markdown",
      "metadata": {},
      "source": [
        "**Выводы:** Как видим условное мат ожидание не всегда совпадает с интервенцией."
      ]
    }
  ],
  "metadata": {
    "hide_input": false,
    "kernelspec": {
      "display_name": "Python 3",
      "language": "python",
      "name": "python3"
    },
    "language_info": {
      "codemirror_mode": {
        "name": "ipython",
        "version": 3
      },
      "file_extension": ".py",
      "mimetype": "text/x-python",
      "name": "python",
      "nbconvert_exporter": "python",
      "pygments_lexer": "ipython3",
      "version": "3.12.3"
    }
  },
  "nbformat": 4,
  "nbformat_minor": 2
}
